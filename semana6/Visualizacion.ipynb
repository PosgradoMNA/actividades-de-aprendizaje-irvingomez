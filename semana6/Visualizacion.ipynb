{
  "cells": [
    {
      "cell_type": "markdown",
      "metadata": {
        "id": "Zff_LxvmhyVT"
      },
      "source": [
        "# **MNA**\n",
        "## **Ciencia y Analítica de Datos**\n",
        "### Actividad Semana 6 - Visualizacion\n",
        "\n",
        "### Maria de la Paz Rico Fernandez\n",
        "### Irvin Gomez Esquivel - A00361034 \n",
        "### 30 de Octubre de 2022\n"
      ]
    },
    {
      "cell_type": "markdown",
      "metadata": {
        "id": "oDTyxyxei71Y"
      },
      "source": [
        "## 1. Descarga los datosEnlaces a un sitio externo. y carga el dataset en tu libreta\n"
      ]
    },
    {
      "cell_type": "code",
      "execution_count": 40,
      "metadata": {
        "colab": {
          "base_uri": "https://localhost:8080/",
          "height": 299
        },
        "id": "N15nyQMSkVOt",
        "outputId": "b344b54e-3a2b-42f9-bd9a-25e2638503ff"
      },
      "outputs": [],
      "source": [
        "import pandas as pd\n",
        "df = pd.read_csv('https://raw.githubusercontent.com/PosgradoMNA/Actividades_Aprendizaje-/main/default%20of%20credit%20card%20clients.csv')\n"
      ]
    },
    {
      "cell_type": "markdown",
      "metadata": {},
      "source": [
        "## 2. Obten la información del DataFrame con los métodos y propiedades: shape, columns, head(), dtypes, info(), isna()"
      ]
    },
    {
      "cell_type": "code",
      "execution_count": 41,
      "metadata": {},
      "outputs": [
        {
          "data": {
            "text/html": [
              "<div>\n",
              "<style scoped>\n",
              "    .dataframe tbody tr th:only-of-type {\n",
              "        vertical-align: middle;\n",
              "    }\n",
              "\n",
              "    .dataframe tbody tr th {\n",
              "        vertical-align: top;\n",
              "    }\n",
              "\n",
              "    .dataframe thead th {\n",
              "        text-align: right;\n",
              "    }\n",
              "</style>\n",
              "<table border=\"1\" class=\"dataframe\">\n",
              "  <thead>\n",
              "    <tr style=\"text-align: right;\">\n",
              "      <th></th>\n",
              "      <th>ID</th>\n",
              "      <th>X1</th>\n",
              "      <th>X2</th>\n",
              "      <th>X3</th>\n",
              "      <th>X4</th>\n",
              "      <th>X5</th>\n",
              "      <th>X6</th>\n",
              "      <th>X7</th>\n",
              "      <th>X8</th>\n",
              "      <th>X9</th>\n",
              "      <th>...</th>\n",
              "      <th>X15</th>\n",
              "      <th>X16</th>\n",
              "      <th>X17</th>\n",
              "      <th>X18</th>\n",
              "      <th>X19</th>\n",
              "      <th>X20</th>\n",
              "      <th>X21</th>\n",
              "      <th>X22</th>\n",
              "      <th>X23</th>\n",
              "      <th>Y</th>\n",
              "    </tr>\n",
              "  </thead>\n",
              "  <tbody>\n",
              "    <tr>\n",
              "      <th>0</th>\n",
              "      <td>1</td>\n",
              "      <td>20000</td>\n",
              "      <td>2.0</td>\n",
              "      <td>2.0</td>\n",
              "      <td>1.0</td>\n",
              "      <td>24.0</td>\n",
              "      <td>2.0</td>\n",
              "      <td>2.0</td>\n",
              "      <td>-1.0</td>\n",
              "      <td>-1.0</td>\n",
              "      <td>...</td>\n",
              "      <td>0.0</td>\n",
              "      <td>0.0</td>\n",
              "      <td>0.0</td>\n",
              "      <td>0.0</td>\n",
              "      <td>689.0</td>\n",
              "      <td>0.0</td>\n",
              "      <td>0.0</td>\n",
              "      <td>0.0</td>\n",
              "      <td>0.0</td>\n",
              "      <td>1.0</td>\n",
              "    </tr>\n",
              "    <tr>\n",
              "      <th>1</th>\n",
              "      <td>2</td>\n",
              "      <td>120000</td>\n",
              "      <td>2.0</td>\n",
              "      <td>2.0</td>\n",
              "      <td>2.0</td>\n",
              "      <td>26.0</td>\n",
              "      <td>-1.0</td>\n",
              "      <td>2.0</td>\n",
              "      <td>0.0</td>\n",
              "      <td>0.0</td>\n",
              "      <td>...</td>\n",
              "      <td>3272.0</td>\n",
              "      <td>3455.0</td>\n",
              "      <td>3261.0</td>\n",
              "      <td>0.0</td>\n",
              "      <td>1000.0</td>\n",
              "      <td>1000.0</td>\n",
              "      <td>1000.0</td>\n",
              "      <td>0.0</td>\n",
              "      <td>2000.0</td>\n",
              "      <td>1.0</td>\n",
              "    </tr>\n",
              "    <tr>\n",
              "      <th>2</th>\n",
              "      <td>3</td>\n",
              "      <td>90000</td>\n",
              "      <td>2.0</td>\n",
              "      <td>2.0</td>\n",
              "      <td>2.0</td>\n",
              "      <td>34.0</td>\n",
              "      <td>0.0</td>\n",
              "      <td>0.0</td>\n",
              "      <td>0.0</td>\n",
              "      <td>0.0</td>\n",
              "      <td>...</td>\n",
              "      <td>14331.0</td>\n",
              "      <td>14948.0</td>\n",
              "      <td>15549.0</td>\n",
              "      <td>1518.0</td>\n",
              "      <td>1500.0</td>\n",
              "      <td>1000.0</td>\n",
              "      <td>1000.0</td>\n",
              "      <td>1000.0</td>\n",
              "      <td>5000.0</td>\n",
              "      <td>0.0</td>\n",
              "    </tr>\n",
              "    <tr>\n",
              "      <th>3</th>\n",
              "      <td>4</td>\n",
              "      <td>50000</td>\n",
              "      <td>2.0</td>\n",
              "      <td>2.0</td>\n",
              "      <td>1.0</td>\n",
              "      <td>37.0</td>\n",
              "      <td>0.0</td>\n",
              "      <td>0.0</td>\n",
              "      <td>0.0</td>\n",
              "      <td>0.0</td>\n",
              "      <td>...</td>\n",
              "      <td>28314.0</td>\n",
              "      <td>28959.0</td>\n",
              "      <td>29547.0</td>\n",
              "      <td>2000.0</td>\n",
              "      <td>2019.0</td>\n",
              "      <td>1200.0</td>\n",
              "      <td>1100.0</td>\n",
              "      <td>1069.0</td>\n",
              "      <td>1000.0</td>\n",
              "      <td>0.0</td>\n",
              "    </tr>\n",
              "    <tr>\n",
              "      <th>4</th>\n",
              "      <td>5</td>\n",
              "      <td>50000</td>\n",
              "      <td>1.0</td>\n",
              "      <td>2.0</td>\n",
              "      <td>1.0</td>\n",
              "      <td>57.0</td>\n",
              "      <td>-1.0</td>\n",
              "      <td>0.0</td>\n",
              "      <td>-1.0</td>\n",
              "      <td>0.0</td>\n",
              "      <td>...</td>\n",
              "      <td>20940.0</td>\n",
              "      <td>19146.0</td>\n",
              "      <td>19131.0</td>\n",
              "      <td>2000.0</td>\n",
              "      <td>36681.0</td>\n",
              "      <td>10000.0</td>\n",
              "      <td>9000.0</td>\n",
              "      <td>689.0</td>\n",
              "      <td>679.0</td>\n",
              "      <td>0.0</td>\n",
              "    </tr>\n",
              "  </tbody>\n",
              "</table>\n",
              "<p>5 rows × 25 columns</p>\n",
              "</div>"
            ],
            "text/plain": [
              "   ID      X1   X2   X3   X4    X5   X6   X7   X8   X9  ...      X15      X16  \\\n",
              "0   1   20000  2.0  2.0  1.0  24.0  2.0  2.0 -1.0 -1.0  ...      0.0      0.0   \n",
              "1   2  120000  2.0  2.0  2.0  26.0 -1.0  2.0  0.0  0.0  ...   3272.0   3455.0   \n",
              "2   3   90000  2.0  2.0  2.0  34.0  0.0  0.0  0.0  0.0  ...  14331.0  14948.0   \n",
              "3   4   50000  2.0  2.0  1.0  37.0  0.0  0.0  0.0  0.0  ...  28314.0  28959.0   \n",
              "4   5   50000  1.0  2.0  1.0  57.0 -1.0  0.0 -1.0  0.0  ...  20940.0  19146.0   \n",
              "\n",
              "       X17     X18      X19      X20     X21     X22     X23    Y  \n",
              "0      0.0     0.0    689.0      0.0     0.0     0.0     0.0  1.0  \n",
              "1   3261.0     0.0   1000.0   1000.0  1000.0     0.0  2000.0  1.0  \n",
              "2  15549.0  1518.0   1500.0   1000.0  1000.0  1000.0  5000.0  0.0  \n",
              "3  29547.0  2000.0   2019.0   1200.0  1100.0  1069.0  1000.0  0.0  \n",
              "4  19131.0  2000.0  36681.0  10000.0  9000.0   689.0   679.0  0.0  \n",
              "\n",
              "[5 rows x 25 columns]"
            ]
          },
          "execution_count": 41,
          "metadata": {},
          "output_type": "execute_result"
        }
      ],
      "source": [
        "df.head()"
      ]
    },
    {
      "cell_type": "code",
      "execution_count": 42,
      "metadata": {},
      "outputs": [
        {
          "data": {
            "text/plain": [
              "(30000, 25)"
            ]
          },
          "execution_count": 42,
          "metadata": {},
          "output_type": "execute_result"
        }
      ],
      "source": [
        "df.shape"
      ]
    },
    {
      "cell_type": "code",
      "execution_count": 43,
      "metadata": {},
      "outputs": [
        {
          "data": {
            "text/plain": [
              "Index(['ID', 'X1', 'X2', 'X3', 'X4', 'X5', 'X6', 'X7', 'X8', 'X9', 'X10',\n",
              "       'X11', 'X12', 'X13', 'X14', 'X15', 'X16', 'X17', 'X18', 'X19', 'X20',\n",
              "       'X21', 'X22', 'X23', 'Y'],\n",
              "      dtype='object')"
            ]
          },
          "execution_count": 43,
          "metadata": {},
          "output_type": "execute_result"
        }
      ],
      "source": [
        "df.columns"
      ]
    },
    {
      "cell_type": "code",
      "execution_count": 44,
      "metadata": {},
      "outputs": [
        {
          "data": {
            "text/plain": [
              "ID       int64\n",
              "X1       int64\n",
              "X2     float64\n",
              "X3     float64\n",
              "X4     float64\n",
              "X5     float64\n",
              "X6     float64\n",
              "X7     float64\n",
              "X8     float64\n",
              "X9     float64\n",
              "X10    float64\n",
              "X11    float64\n",
              "X12    float64\n",
              "X13    float64\n",
              "X14    float64\n",
              "X15    float64\n",
              "X16    float64\n",
              "X17    float64\n",
              "X18    float64\n",
              "X19    float64\n",
              "X20    float64\n",
              "X21    float64\n",
              "X22    float64\n",
              "X23    float64\n",
              "Y      float64\n",
              "dtype: object"
            ]
          },
          "execution_count": 44,
          "metadata": {},
          "output_type": "execute_result"
        }
      ],
      "source": [
        "df.dtypes"
      ]
    },
    {
      "cell_type": "code",
      "execution_count": 45,
      "metadata": {},
      "outputs": [
        {
          "name": "stdout",
          "output_type": "stream",
          "text": [
            "<class 'pandas.core.frame.DataFrame'>\n",
            "RangeIndex: 30000 entries, 0 to 29999\n",
            "Data columns (total 25 columns):\n",
            " #   Column  Non-Null Count  Dtype  \n",
            "---  ------  --------------  -----  \n",
            " 0   ID      30000 non-null  int64  \n",
            " 1   X1      30000 non-null  int64  \n",
            " 2   X2      29999 non-null  float64\n",
            " 3   X3      29998 non-null  float64\n",
            " 4   X4      29998 non-null  float64\n",
            " 5   X5      29995 non-null  float64\n",
            " 6   X6      29997 non-null  float64\n",
            " 7   X7      29995 non-null  float64\n",
            " 8   X8      29993 non-null  float64\n",
            " 9   X9      29991 non-null  float64\n",
            " 10  X10     29984 non-null  float64\n",
            " 11  X11     29986 non-null  float64\n",
            " 12  X12     29989 non-null  float64\n",
            " 13  X13     29989 non-null  float64\n",
            " 14  X14     29987 non-null  float64\n",
            " 15  X15     29985 non-null  float64\n",
            " 16  X16     29983 non-null  float64\n",
            " 17  X17     29990 non-null  float64\n",
            " 18  X18     29992 non-null  float64\n",
            " 19  X19     29991 non-null  float64\n",
            " 20  X20     29992 non-null  float64\n",
            " 21  X21     29989 non-null  float64\n",
            " 22  X22     29989 non-null  float64\n",
            " 23  X23     29995 non-null  float64\n",
            " 24  Y       29997 non-null  float64\n",
            "dtypes: float64(23), int64(2)\n",
            "memory usage: 5.7 MB\n"
          ]
        }
      ],
      "source": [
        "df.info()"
      ]
    },
    {
      "cell_type": "code",
      "execution_count": 46,
      "metadata": {},
      "outputs": [
        {
          "data": {
            "text/html": [
              "<div>\n",
              "<style scoped>\n",
              "    .dataframe tbody tr th:only-of-type {\n",
              "        vertical-align: middle;\n",
              "    }\n",
              "\n",
              "    .dataframe tbody tr th {\n",
              "        vertical-align: top;\n",
              "    }\n",
              "\n",
              "    .dataframe thead th {\n",
              "        text-align: right;\n",
              "    }\n",
              "</style>\n",
              "<table border=\"1\" class=\"dataframe\">\n",
              "  <thead>\n",
              "    <tr style=\"text-align: right;\">\n",
              "      <th></th>\n",
              "      <th>ID</th>\n",
              "      <th>X1</th>\n",
              "      <th>X2</th>\n",
              "      <th>X3</th>\n",
              "      <th>X4</th>\n",
              "      <th>X5</th>\n",
              "      <th>X6</th>\n",
              "      <th>X7</th>\n",
              "      <th>X8</th>\n",
              "      <th>X9</th>\n",
              "      <th>...</th>\n",
              "      <th>X15</th>\n",
              "      <th>X16</th>\n",
              "      <th>X17</th>\n",
              "      <th>X18</th>\n",
              "      <th>X19</th>\n",
              "      <th>X20</th>\n",
              "      <th>X21</th>\n",
              "      <th>X22</th>\n",
              "      <th>X23</th>\n",
              "      <th>Y</th>\n",
              "    </tr>\n",
              "  </thead>\n",
              "  <tbody>\n",
              "    <tr>\n",
              "      <th>0</th>\n",
              "      <td>False</td>\n",
              "      <td>False</td>\n",
              "      <td>False</td>\n",
              "      <td>False</td>\n",
              "      <td>False</td>\n",
              "      <td>False</td>\n",
              "      <td>False</td>\n",
              "      <td>False</td>\n",
              "      <td>False</td>\n",
              "      <td>False</td>\n",
              "      <td>...</td>\n",
              "      <td>False</td>\n",
              "      <td>False</td>\n",
              "      <td>False</td>\n",
              "      <td>False</td>\n",
              "      <td>False</td>\n",
              "      <td>False</td>\n",
              "      <td>False</td>\n",
              "      <td>False</td>\n",
              "      <td>False</td>\n",
              "      <td>False</td>\n",
              "    </tr>\n",
              "    <tr>\n",
              "      <th>1</th>\n",
              "      <td>False</td>\n",
              "      <td>False</td>\n",
              "      <td>False</td>\n",
              "      <td>False</td>\n",
              "      <td>False</td>\n",
              "      <td>False</td>\n",
              "      <td>False</td>\n",
              "      <td>False</td>\n",
              "      <td>False</td>\n",
              "      <td>False</td>\n",
              "      <td>...</td>\n",
              "      <td>False</td>\n",
              "      <td>False</td>\n",
              "      <td>False</td>\n",
              "      <td>False</td>\n",
              "      <td>False</td>\n",
              "      <td>False</td>\n",
              "      <td>False</td>\n",
              "      <td>False</td>\n",
              "      <td>False</td>\n",
              "      <td>False</td>\n",
              "    </tr>\n",
              "    <tr>\n",
              "      <th>2</th>\n",
              "      <td>False</td>\n",
              "      <td>False</td>\n",
              "      <td>False</td>\n",
              "      <td>False</td>\n",
              "      <td>False</td>\n",
              "      <td>False</td>\n",
              "      <td>False</td>\n",
              "      <td>False</td>\n",
              "      <td>False</td>\n",
              "      <td>False</td>\n",
              "      <td>...</td>\n",
              "      <td>False</td>\n",
              "      <td>False</td>\n",
              "      <td>False</td>\n",
              "      <td>False</td>\n",
              "      <td>False</td>\n",
              "      <td>False</td>\n",
              "      <td>False</td>\n",
              "      <td>False</td>\n",
              "      <td>False</td>\n",
              "      <td>False</td>\n",
              "    </tr>\n",
              "    <tr>\n",
              "      <th>3</th>\n",
              "      <td>False</td>\n",
              "      <td>False</td>\n",
              "      <td>False</td>\n",
              "      <td>False</td>\n",
              "      <td>False</td>\n",
              "      <td>False</td>\n",
              "      <td>False</td>\n",
              "      <td>False</td>\n",
              "      <td>False</td>\n",
              "      <td>False</td>\n",
              "      <td>...</td>\n",
              "      <td>False</td>\n",
              "      <td>False</td>\n",
              "      <td>False</td>\n",
              "      <td>False</td>\n",
              "      <td>False</td>\n",
              "      <td>False</td>\n",
              "      <td>False</td>\n",
              "      <td>False</td>\n",
              "      <td>False</td>\n",
              "      <td>False</td>\n",
              "    </tr>\n",
              "    <tr>\n",
              "      <th>4</th>\n",
              "      <td>False</td>\n",
              "      <td>False</td>\n",
              "      <td>False</td>\n",
              "      <td>False</td>\n",
              "      <td>False</td>\n",
              "      <td>False</td>\n",
              "      <td>False</td>\n",
              "      <td>False</td>\n",
              "      <td>False</td>\n",
              "      <td>False</td>\n",
              "      <td>...</td>\n",
              "      <td>False</td>\n",
              "      <td>False</td>\n",
              "      <td>False</td>\n",
              "      <td>False</td>\n",
              "      <td>False</td>\n",
              "      <td>False</td>\n",
              "      <td>False</td>\n",
              "      <td>False</td>\n",
              "      <td>False</td>\n",
              "      <td>False</td>\n",
              "    </tr>\n",
              "    <tr>\n",
              "      <th>...</th>\n",
              "      <td>...</td>\n",
              "      <td>...</td>\n",
              "      <td>...</td>\n",
              "      <td>...</td>\n",
              "      <td>...</td>\n",
              "      <td>...</td>\n",
              "      <td>...</td>\n",
              "      <td>...</td>\n",
              "      <td>...</td>\n",
              "      <td>...</td>\n",
              "      <td>...</td>\n",
              "      <td>...</td>\n",
              "      <td>...</td>\n",
              "      <td>...</td>\n",
              "      <td>...</td>\n",
              "      <td>...</td>\n",
              "      <td>...</td>\n",
              "      <td>...</td>\n",
              "      <td>...</td>\n",
              "      <td>...</td>\n",
              "      <td>...</td>\n",
              "    </tr>\n",
              "    <tr>\n",
              "      <th>29995</th>\n",
              "      <td>False</td>\n",
              "      <td>False</td>\n",
              "      <td>False</td>\n",
              "      <td>False</td>\n",
              "      <td>False</td>\n",
              "      <td>False</td>\n",
              "      <td>False</td>\n",
              "      <td>False</td>\n",
              "      <td>False</td>\n",
              "      <td>False</td>\n",
              "      <td>...</td>\n",
              "      <td>False</td>\n",
              "      <td>False</td>\n",
              "      <td>False</td>\n",
              "      <td>False</td>\n",
              "      <td>False</td>\n",
              "      <td>False</td>\n",
              "      <td>False</td>\n",
              "      <td>False</td>\n",
              "      <td>False</td>\n",
              "      <td>False</td>\n",
              "    </tr>\n",
              "    <tr>\n",
              "      <th>29996</th>\n",
              "      <td>False</td>\n",
              "      <td>False</td>\n",
              "      <td>False</td>\n",
              "      <td>False</td>\n",
              "      <td>False</td>\n",
              "      <td>False</td>\n",
              "      <td>False</td>\n",
              "      <td>False</td>\n",
              "      <td>False</td>\n",
              "      <td>False</td>\n",
              "      <td>...</td>\n",
              "      <td>False</td>\n",
              "      <td>False</td>\n",
              "      <td>False</td>\n",
              "      <td>False</td>\n",
              "      <td>False</td>\n",
              "      <td>False</td>\n",
              "      <td>False</td>\n",
              "      <td>False</td>\n",
              "      <td>False</td>\n",
              "      <td>False</td>\n",
              "    </tr>\n",
              "    <tr>\n",
              "      <th>29997</th>\n",
              "      <td>False</td>\n",
              "      <td>False</td>\n",
              "      <td>False</td>\n",
              "      <td>False</td>\n",
              "      <td>False</td>\n",
              "      <td>False</td>\n",
              "      <td>False</td>\n",
              "      <td>False</td>\n",
              "      <td>False</td>\n",
              "      <td>False</td>\n",
              "      <td>...</td>\n",
              "      <td>False</td>\n",
              "      <td>False</td>\n",
              "      <td>False</td>\n",
              "      <td>False</td>\n",
              "      <td>False</td>\n",
              "      <td>False</td>\n",
              "      <td>False</td>\n",
              "      <td>False</td>\n",
              "      <td>False</td>\n",
              "      <td>False</td>\n",
              "    </tr>\n",
              "    <tr>\n",
              "      <th>29998</th>\n",
              "      <td>False</td>\n",
              "      <td>False</td>\n",
              "      <td>False</td>\n",
              "      <td>False</td>\n",
              "      <td>False</td>\n",
              "      <td>False</td>\n",
              "      <td>False</td>\n",
              "      <td>False</td>\n",
              "      <td>False</td>\n",
              "      <td>False</td>\n",
              "      <td>...</td>\n",
              "      <td>False</td>\n",
              "      <td>False</td>\n",
              "      <td>False</td>\n",
              "      <td>False</td>\n",
              "      <td>False</td>\n",
              "      <td>False</td>\n",
              "      <td>False</td>\n",
              "      <td>False</td>\n",
              "      <td>False</td>\n",
              "      <td>False</td>\n",
              "    </tr>\n",
              "    <tr>\n",
              "      <th>29999</th>\n",
              "      <td>False</td>\n",
              "      <td>False</td>\n",
              "      <td>False</td>\n",
              "      <td>False</td>\n",
              "      <td>False</td>\n",
              "      <td>False</td>\n",
              "      <td>False</td>\n",
              "      <td>False</td>\n",
              "      <td>False</td>\n",
              "      <td>False</td>\n",
              "      <td>...</td>\n",
              "      <td>False</td>\n",
              "      <td>False</td>\n",
              "      <td>False</td>\n",
              "      <td>False</td>\n",
              "      <td>False</td>\n",
              "      <td>False</td>\n",
              "      <td>False</td>\n",
              "      <td>False</td>\n",
              "      <td>False</td>\n",
              "      <td>False</td>\n",
              "    </tr>\n",
              "  </tbody>\n",
              "</table>\n",
              "<p>30000 rows × 25 columns</p>\n",
              "</div>"
            ],
            "text/plain": [
              "          ID     X1     X2     X3     X4     X5     X6     X7     X8     X9  \\\n",
              "0      False  False  False  False  False  False  False  False  False  False   \n",
              "1      False  False  False  False  False  False  False  False  False  False   \n",
              "2      False  False  False  False  False  False  False  False  False  False   \n",
              "3      False  False  False  False  False  False  False  False  False  False   \n",
              "4      False  False  False  False  False  False  False  False  False  False   \n",
              "...      ...    ...    ...    ...    ...    ...    ...    ...    ...    ...   \n",
              "29995  False  False  False  False  False  False  False  False  False  False   \n",
              "29996  False  False  False  False  False  False  False  False  False  False   \n",
              "29997  False  False  False  False  False  False  False  False  False  False   \n",
              "29998  False  False  False  False  False  False  False  False  False  False   \n",
              "29999  False  False  False  False  False  False  False  False  False  False   \n",
              "\n",
              "       ...    X15    X16    X17    X18    X19    X20    X21    X22    X23  \\\n",
              "0      ...  False  False  False  False  False  False  False  False  False   \n",
              "1      ...  False  False  False  False  False  False  False  False  False   \n",
              "2      ...  False  False  False  False  False  False  False  False  False   \n",
              "3      ...  False  False  False  False  False  False  False  False  False   \n",
              "4      ...  False  False  False  False  False  False  False  False  False   \n",
              "...    ...    ...    ...    ...    ...    ...    ...    ...    ...    ...   \n",
              "29995  ...  False  False  False  False  False  False  False  False  False   \n",
              "29996  ...  False  False  False  False  False  False  False  False  False   \n",
              "29997  ...  False  False  False  False  False  False  False  False  False   \n",
              "29998  ...  False  False  False  False  False  False  False  False  False   \n",
              "29999  ...  False  False  False  False  False  False  False  False  False   \n",
              "\n",
              "           Y  \n",
              "0      False  \n",
              "1      False  \n",
              "2      False  \n",
              "3      False  \n",
              "4      False  \n",
              "...      ...  \n",
              "29995  False  \n",
              "29996  False  \n",
              "29997  False  \n",
              "29998  False  \n",
              "29999  False  \n",
              "\n",
              "[30000 rows x 25 columns]"
            ]
          },
          "execution_count": 46,
          "metadata": {},
          "output_type": "execute_result"
        }
      ],
      "source": [
        "df.isna()"
      ]
    },
    {
      "cell_type": "markdown",
      "metadata": {},
      "source": [
        "## 3.Limpia los datos eliminando los registros nulos o rellena con la media de la columna"
      ]
    },
    {
      "cell_type": "code",
      "execution_count": 47,
      "metadata": {},
      "outputs": [
        {
          "data": {
            "text/plain": [
              "ID     False\n",
              "X1     False\n",
              "X2      True\n",
              "X3      True\n",
              "X4      True\n",
              "X5      True\n",
              "X6      True\n",
              "X7      True\n",
              "X8      True\n",
              "X9      True\n",
              "X10     True\n",
              "X11     True\n",
              "X12     True\n",
              "X13     True\n",
              "X14     True\n",
              "X15     True\n",
              "X16     True\n",
              "X17     True\n",
              "X18     True\n",
              "X19     True\n",
              "X20     True\n",
              "X21     True\n",
              "X22     True\n",
              "X23     True\n",
              "Y       True\n",
              "dtype: bool"
            ]
          },
          "execution_count": 47,
          "metadata": {},
          "output_type": "execute_result"
        }
      ],
      "source": [
        "df.isnull().any()"
      ]
    },
    {
      "cell_type": "markdown",
      "metadata": {
        "id": "IAAo9KPBJ1-q"
      },
      "source": [
        "Verificamos si faltan datos:"
      ]
    },
    {
      "cell_type": "code",
      "execution_count": 48,
      "metadata": {
        "colab": {
          "base_uri": "https://localhost:8080/"
        },
        "id": "KUpSvyJTku5j",
        "outputId": "05bb0336-f729-4ae8-f509-b86875e80d47"
      },
      "outputs": [
        {
          "data": {
            "text/plain": [
              "ID     False\n",
              "X1     False\n",
              "X2      True\n",
              "X3      True\n",
              "X4      True\n",
              "X5      True\n",
              "X6      True\n",
              "X7      True\n",
              "X8      True\n",
              "X9      True\n",
              "X10     True\n",
              "X11     True\n",
              "X12     True\n",
              "X13     True\n",
              "X14     True\n",
              "X15     True\n",
              "X16     True\n",
              "X17     True\n",
              "X18     True\n",
              "X19     True\n",
              "X20     True\n",
              "X21     True\n",
              "X22     True\n",
              "X23     True\n",
              "Y       True\n",
              "dtype: bool"
            ]
          },
          "execution_count": 48,
          "metadata": {},
          "output_type": "execute_result"
        }
      ],
      "source": [
        "df.isnull().any()"
      ]
    },
    {
      "cell_type": "markdown",
      "metadata": {
        "id": "sU-_jg1qJ1-r"
      },
      "source": [
        "Como en X2 (Gender) faltan datos, vamos a eliminar todos los rows que no tengan Gender:"
      ]
    },
    {
      "cell_type": "code",
      "execution_count": 49,
      "metadata": {
        "id": "ilhsZnF6J1-r",
        "outputId": "3ba7f2b4-32d6-4271-e242-7ee25a923dd8"
      },
      "outputs": [
        {
          "data": {
            "text/plain": [
              "(29999, 25)"
            ]
          },
          "execution_count": 49,
          "metadata": {},
          "output_type": "execute_result"
        }
      ],
      "source": [
        "df.dropna(subset=[\"X2\"], inplace=True)\n",
        "df.shape"
      ]
    },
    {
      "cell_type": "markdown",
      "metadata": {
        "id": "ZQ37jkIrJ1-s"
      },
      "source": [
        "Ahora los registros son 29999, es decir eliminamos un registro que no tiene gender.\n",
        "\n",
        "A continuación, para X3 (Education) vamos a llenar los vacíos con valor 4=others\n",
        "Haremos lo mismo para X4 (Martial Status) dond el valor 3 es others"
      ]
    },
    {
      "cell_type": "code",
      "execution_count": 50,
      "metadata": {
        "id": "e0Q-6iV9J1-s",
        "outputId": "6f98a888-aca7-465d-fab8-4a78d50ca370"
      },
      "outputs": [
        {
          "data": {
            "text/plain": [
              "ID     False\n",
              "X1     False\n",
              "X2     False\n",
              "X3     False\n",
              "X4     False\n",
              "X5      True\n",
              "X6      True\n",
              "X7      True\n",
              "X8      True\n",
              "X9      True\n",
              "X10     True\n",
              "X11     True\n",
              "X12     True\n",
              "X13     True\n",
              "X14     True\n",
              "X15     True\n",
              "X16     True\n",
              "X17     True\n",
              "X18     True\n",
              "X19     True\n",
              "X20     True\n",
              "X21     True\n",
              "X22     True\n",
              "X23     True\n",
              "Y       True\n",
              "dtype: bool"
            ]
          },
          "execution_count": 50,
          "metadata": {},
          "output_type": "execute_result"
        }
      ],
      "source": [
        "df[\"X3\"].fillna(value=4, inplace=True)\n",
        "df[\"X4\"].fillna(value=3, inplace=True)\n",
        "df.isnull().any()"
      ]
    },
    {
      "cell_type": "markdown",
      "metadata": {
        "id": "yoShLluWJ1-s"
      },
      "source": [
        "Hasta este punto ya no tenemos nulos en X2 (Gender), X3 (Education)) ni X4 (Martal Status)\n",
        "\n",
        "Para X5 (Age) lo que vamos a hacer es llenar con la media"
      ]
    },
    {
      "cell_type": "code",
      "execution_count": 51,
      "metadata": {
        "id": "5MWgKWGhJ1-s",
        "outputId": "03e1303b-d79a-4c22-e3cb-6de7138d8ac2"
      },
      "outputs": [
        {
          "data": {
            "text/plain": [
              "ID     False\n",
              "X1     False\n",
              "X2     False\n",
              "X3     False\n",
              "X4     False\n",
              "X5     False\n",
              "X6      True\n",
              "X7      True\n",
              "X8      True\n",
              "X9      True\n",
              "X10     True\n",
              "X11     True\n",
              "X12     True\n",
              "X13     True\n",
              "X14     True\n",
              "X15     True\n",
              "X16     True\n",
              "X17     True\n",
              "X18     True\n",
              "X19     True\n",
              "X20     True\n",
              "X21     True\n",
              "X22     True\n",
              "X23     True\n",
              "Y       True\n",
              "dtype: bool"
            ]
          },
          "execution_count": 51,
          "metadata": {},
          "output_type": "execute_result"
        }
      ],
      "source": [
        "df['X5'].fillna(value = df.X5.mean(), inplace = True)\n",
        "df.isnull().any()"
      ]
    },
    {
      "cell_type": "markdown",
      "metadata": {
        "id": "jUvxwQdJJ1-t"
      },
      "source": [
        "Para X6 a X11 lo que vamos a hacer es llenar los nulos con 0, porque el 0 es un valor que no está en la descripción de los datos y pareciera que es el valor default que se debe utilizar para los nulos."
      ]
    },
    {
      "cell_type": "code",
      "execution_count": 52,
      "metadata": {
        "id": "_4LritkuJ1-t",
        "outputId": "dc35b9c2-ac2f-4a1c-e2a0-1c14cd62ff50"
      },
      "outputs": [
        {
          "data": {
            "text/plain": [
              "ID     False\n",
              "X1     False\n",
              "X2     False\n",
              "X3     False\n",
              "X4     False\n",
              "X5     False\n",
              "X6     False\n",
              "X7     False\n",
              "X8     False\n",
              "X9     False\n",
              "X10    False\n",
              "X11    False\n",
              "X12     True\n",
              "X13     True\n",
              "X14     True\n",
              "X15     True\n",
              "X16     True\n",
              "X17     True\n",
              "X18     True\n",
              "X19     True\n",
              "X20     True\n",
              "X21     True\n",
              "X22     True\n",
              "X23     True\n",
              "Y       True\n",
              "dtype: bool"
            ]
          },
          "execution_count": 52,
          "metadata": {},
          "output_type": "execute_result"
        }
      ],
      "source": [
        "df[\"X6\"].fillna(value=0, inplace=True)\n",
        "df[\"X7\"].fillna(value=0, inplace=True)\n",
        "df[\"X8\"].fillna(value=0, inplace=True)\n",
        "df[\"X9\"].fillna(value=0, inplace=True)\n",
        "df[\"X10\"].fillna(value=0, inplace=True)\n",
        "df[\"X11\"].fillna(value=0, inplace=True)\n",
        "df.isnull().any()"
      ]
    },
    {
      "cell_type": "markdown",
      "metadata": {
        "id": "ZehA8xYSJ1-t"
      },
      "source": [
        "Para las columnas X12 a X17 Amout of bill statement de los meses pasados\n",
        "así como para las columnas X18 a X23 Monto del pago pasado de los meses pasados también podemos definir que los nulos los podemos remplazar con 0, pues estamos hablando del monto del balance o de los pagos realizados."
      ]
    },
    {
      "cell_type": "code",
      "execution_count": 53,
      "metadata": {
        "id": "IUNZZoJRJ1-t",
        "outputId": "91ad7e30-c56f-44d2-88ac-6fc49fff9eb4"
      },
      "outputs": [
        {
          "data": {
            "text/plain": [
              "ID     False\n",
              "X1     False\n",
              "X2     False\n",
              "X3     False\n",
              "X4     False\n",
              "X5     False\n",
              "X6     False\n",
              "X7     False\n",
              "X8     False\n",
              "X9     False\n",
              "X10    False\n",
              "X11    False\n",
              "X12    False\n",
              "X13    False\n",
              "X14    False\n",
              "X15    False\n",
              "X16    False\n",
              "X17    False\n",
              "X18    False\n",
              "X19    False\n",
              "X20    False\n",
              "X21    False\n",
              "X22    False\n",
              "X23    False\n",
              "Y       True\n",
              "dtype: bool"
            ]
          },
          "execution_count": 53,
          "metadata": {},
          "output_type": "execute_result"
        }
      ],
      "source": [
        "for ix in range(12,24):\n",
        "    df[\"X\"+str(ix)].fillna(value=0, inplace=True)\n",
        "df.isnull().any()"
      ]
    },
    {
      "cell_type": "markdown",
      "metadata": {
        "id": "L7pq_2eSJ1-u"
      },
      "source": [
        "Hasta este punto, la última columna que nos queda con nulos es la de la predicción del modelo Y, en este caso y considerando que son pocos renglones, lo mejor es eliminar esos registros del data frame"
      ]
    },
    {
      "cell_type": "code",
      "execution_count": 54,
      "metadata": {
        "id": "bIhtA-9xJ1-u",
        "outputId": "6d83a126-f908-4c5e-d11e-87d231459a60"
      },
      "outputs": [
        {
          "data": {
            "text/plain": [
              "ID     False\n",
              "X1     False\n",
              "X2     False\n",
              "X3     False\n",
              "X4     False\n",
              "X5     False\n",
              "X6     False\n",
              "X7     False\n",
              "X8     False\n",
              "X9     False\n",
              "X10    False\n",
              "X11    False\n",
              "X12    False\n",
              "X13    False\n",
              "X14    False\n",
              "X15    False\n",
              "X16    False\n",
              "X17    False\n",
              "X18    False\n",
              "X19    False\n",
              "X20    False\n",
              "X21    False\n",
              "X22    False\n",
              "X23    False\n",
              "Y      False\n",
              "dtype: bool"
            ]
          },
          "execution_count": 54,
          "metadata": {},
          "output_type": "execute_result"
        }
      ],
      "source": [
        "df.dropna(subset=[\"Y\"], inplace=True)\n",
        "df.isnull().any()"
      ]
    },
    {
      "cell_type": "markdown",
      "metadata": {
        "id": "5o5p_l9BJ1-u"
      },
      "source": [
        "Ahora sí ya no tenemos valores nulos en nuestro dataset y podemos dar por concluida la etapa de limpieza."
      ]
    },
    {
      "cell_type": "markdown",
      "metadata": {},
      "source": [
        "## 4. Calcula la estadística descriptiva con describe() y explica las medidas de tendencia central y dispersión"
      ]
    },
    {
      "cell_type": "code",
      "execution_count": 55,
      "metadata": {
        "colab": {
          "base_uri": "https://localhost:8080/",
          "height": 393
        },
        "id": "YhnuB4ftk60s",
        "outputId": "060d9c1d-a735-45fe-aa55-0ef05e1cf171"
      },
      "outputs": [
        {
          "data": {
            "text/html": [
              "<div>\n",
              "<style scoped>\n",
              "    .dataframe tbody tr th:only-of-type {\n",
              "        vertical-align: middle;\n",
              "    }\n",
              "\n",
              "    .dataframe tbody tr th {\n",
              "        vertical-align: top;\n",
              "    }\n",
              "\n",
              "    .dataframe thead th {\n",
              "        text-align: right;\n",
              "    }\n",
              "</style>\n",
              "<table border=\"1\" class=\"dataframe\">\n",
              "  <thead>\n",
              "    <tr style=\"text-align: right;\">\n",
              "      <th></th>\n",
              "      <th>ID</th>\n",
              "      <th>X1</th>\n",
              "      <th>X2</th>\n",
              "      <th>X3</th>\n",
              "      <th>X4</th>\n",
              "      <th>X5</th>\n",
              "      <th>X6</th>\n",
              "      <th>X7</th>\n",
              "      <th>X8</th>\n",
              "      <th>X9</th>\n",
              "      <th>...</th>\n",
              "      <th>X15</th>\n",
              "      <th>X16</th>\n",
              "      <th>X17</th>\n",
              "      <th>X18</th>\n",
              "      <th>X19</th>\n",
              "      <th>X20</th>\n",
              "      <th>X21</th>\n",
              "      <th>X22</th>\n",
              "      <th>X23</th>\n",
              "      <th>Y</th>\n",
              "    </tr>\n",
              "  </thead>\n",
              "  <tbody>\n",
              "    <tr>\n",
              "      <th>count</th>\n",
              "      <td>29996.000000</td>\n",
              "      <td>29996.000000</td>\n",
              "      <td>29996.000000</td>\n",
              "      <td>29996.000000</td>\n",
              "      <td>29996.000000</td>\n",
              "      <td>29996.000000</td>\n",
              "      <td>29996.000000</td>\n",
              "      <td>29996.000000</td>\n",
              "      <td>29996.000000</td>\n",
              "      <td>29996.000000</td>\n",
              "      <td>...</td>\n",
              "      <td>29996.000000</td>\n",
              "      <td>29996.000000</td>\n",
              "      <td>29996.000000</td>\n",
              "      <td>29996.000000</td>\n",
              "      <td>2.999600e+04</td>\n",
              "      <td>29996.000000</td>\n",
              "      <td>29996.000000</td>\n",
              "      <td>29996.000000</td>\n",
              "      <td>29996.000000</td>\n",
              "      <td>29996.000000</td>\n",
              "    </tr>\n",
              "    <tr>\n",
              "      <th>mean</th>\n",
              "      <td>14999.491599</td>\n",
              "      <td>167497.322310</td>\n",
              "      <td>1.603781</td>\n",
              "      <td>1.853147</td>\n",
              "      <td>1.551974</td>\n",
              "      <td>35.483862</td>\n",
              "      <td>-0.016769</td>\n",
              "      <td>-0.133818</td>\n",
              "      <td>-0.166522</td>\n",
              "      <td>-0.220829</td>\n",
              "      <td>...</td>\n",
              "      <td>43259.782471</td>\n",
              "      <td>40307.017702</td>\n",
              "      <td>38873.358481</td>\n",
              "      <td>5662.190725</td>\n",
              "      <td>5.921502e+03</td>\n",
              "      <td>5224.926557</td>\n",
              "      <td>4826.126017</td>\n",
              "      <td>4799.176990</td>\n",
              "      <td>5216.073076</td>\n",
              "      <td>0.221196</td>\n",
              "    </tr>\n",
              "    <tr>\n",
              "      <th>std</th>\n",
              "      <td>8659.812904</td>\n",
              "      <td>129750.786061</td>\n",
              "      <td>0.489119</td>\n",
              "      <td>0.790427</td>\n",
              "      <td>0.522026</td>\n",
              "      <td>9.217500</td>\n",
              "      <td>1.123727</td>\n",
              "      <td>1.197108</td>\n",
              "      <td>1.195859</td>\n",
              "      <td>1.168989</td>\n",
              "      <td>...</td>\n",
              "      <td>64339.035974</td>\n",
              "      <td>60802.598983</td>\n",
              "      <td>59557.893788</td>\n",
              "      <td>16563.189672</td>\n",
              "      <td>2.304238e+04</td>\n",
              "      <td>17607.351892</td>\n",
              "      <td>15667.097055</td>\n",
              "      <td>15279.234839</td>\n",
              "      <td>17778.581176</td>\n",
              "      <td>0.415059</td>\n",
              "    </tr>\n",
              "    <tr>\n",
              "      <th>min</th>\n",
              "      <td>1.000000</td>\n",
              "      <td>10000.000000</td>\n",
              "      <td>1.000000</td>\n",
              "      <td>0.000000</td>\n",
              "      <td>0.000000</td>\n",
              "      <td>21.000000</td>\n",
              "      <td>-2.000000</td>\n",
              "      <td>-2.000000</td>\n",
              "      <td>-2.000000</td>\n",
              "      <td>-2.000000</td>\n",
              "      <td>...</td>\n",
              "      <td>-170000.000000</td>\n",
              "      <td>-81334.000000</td>\n",
              "      <td>-339603.000000</td>\n",
              "      <td>0.000000</td>\n",
              "      <td>0.000000e+00</td>\n",
              "      <td>0.000000</td>\n",
              "      <td>0.000000</td>\n",
              "      <td>0.000000</td>\n",
              "      <td>0.000000</td>\n",
              "      <td>0.000000</td>\n",
              "    </tr>\n",
              "    <tr>\n",
              "      <th>25%</th>\n",
              "      <td>7500.750000</td>\n",
              "      <td>50000.000000</td>\n",
              "      <td>1.000000</td>\n",
              "      <td>1.000000</td>\n",
              "      <td>1.000000</td>\n",
              "      <td>28.000000</td>\n",
              "      <td>-1.000000</td>\n",
              "      <td>-1.000000</td>\n",
              "      <td>-1.000000</td>\n",
              "      <td>-1.000000</td>\n",
              "      <td>...</td>\n",
              "      <td>2317.500000</td>\n",
              "      <td>1759.000000</td>\n",
              "      <td>1255.000000</td>\n",
              "      <td>1000.000000</td>\n",
              "      <td>8.327500e+02</td>\n",
              "      <td>390.000000</td>\n",
              "      <td>294.750000</td>\n",
              "      <td>250.000000</td>\n",
              "      <td>116.750000</td>\n",
              "      <td>0.000000</td>\n",
              "    </tr>\n",
              "    <tr>\n",
              "      <th>50%</th>\n",
              "      <td>14999.500000</td>\n",
              "      <td>140000.000000</td>\n",
              "      <td>2.000000</td>\n",
              "      <td>2.000000</td>\n",
              "      <td>2.000000</td>\n",
              "      <td>34.000000</td>\n",
              "      <td>0.000000</td>\n",
              "      <td>0.000000</td>\n",
              "      <td>0.000000</td>\n",
              "      <td>0.000000</td>\n",
              "      <td>...</td>\n",
              "      <td>19037.500000</td>\n",
              "      <td>18097.000000</td>\n",
              "      <td>17071.000000</td>\n",
              "      <td>2100.000000</td>\n",
              "      <td>2.009000e+03</td>\n",
              "      <td>1800.000000</td>\n",
              "      <td>1500.000000</td>\n",
              "      <td>1500.000000</td>\n",
              "      <td>1500.000000</td>\n",
              "      <td>0.000000</td>\n",
              "    </tr>\n",
              "    <tr>\n",
              "      <th>75%</th>\n",
              "      <td>22498.250000</td>\n",
              "      <td>240000.000000</td>\n",
              "      <td>2.000000</td>\n",
              "      <td>2.000000</td>\n",
              "      <td>2.000000</td>\n",
              "      <td>41.000000</td>\n",
              "      <td>0.000000</td>\n",
              "      <td>0.000000</td>\n",
              "      <td>0.000000</td>\n",
              "      <td>0.000000</td>\n",
              "      <td>...</td>\n",
              "      <td>54519.000000</td>\n",
              "      <td>50181.250000</td>\n",
              "      <td>49205.250000</td>\n",
              "      <td>5006.000000</td>\n",
              "      <td>5.000000e+03</td>\n",
              "      <td>4505.000000</td>\n",
              "      <td>4013.250000</td>\n",
              "      <td>4031.000000</td>\n",
              "      <td>4000.000000</td>\n",
              "      <td>0.000000</td>\n",
              "    </tr>\n",
              "    <tr>\n",
              "      <th>max</th>\n",
              "      <td>30000.000000</td>\n",
              "      <td>1000000.000000</td>\n",
              "      <td>2.000000</td>\n",
              "      <td>6.000000</td>\n",
              "      <td>3.000000</td>\n",
              "      <td>79.000000</td>\n",
              "      <td>8.000000</td>\n",
              "      <td>8.000000</td>\n",
              "      <td>8.000000</td>\n",
              "      <td>8.000000</td>\n",
              "      <td>...</td>\n",
              "      <td>891586.000000</td>\n",
              "      <td>927171.000000</td>\n",
              "      <td>961664.000000</td>\n",
              "      <td>873552.000000</td>\n",
              "      <td>1.684259e+06</td>\n",
              "      <td>896040.000000</td>\n",
              "      <td>621000.000000</td>\n",
              "      <td>426529.000000</td>\n",
              "      <td>528666.000000</td>\n",
              "      <td>1.000000</td>\n",
              "    </tr>\n",
              "  </tbody>\n",
              "</table>\n",
              "<p>8 rows × 25 columns</p>\n",
              "</div>"
            ],
            "text/plain": [
              "                 ID              X1            X2            X3            X4  \\\n",
              "count  29996.000000    29996.000000  29996.000000  29996.000000  29996.000000   \n",
              "mean   14999.491599   167497.322310      1.603781      1.853147      1.551974   \n",
              "std     8659.812904   129750.786061      0.489119      0.790427      0.522026   \n",
              "min        1.000000    10000.000000      1.000000      0.000000      0.000000   \n",
              "25%     7500.750000    50000.000000      1.000000      1.000000      1.000000   \n",
              "50%    14999.500000   140000.000000      2.000000      2.000000      2.000000   \n",
              "75%    22498.250000   240000.000000      2.000000      2.000000      2.000000   \n",
              "max    30000.000000  1000000.000000      2.000000      6.000000      3.000000   \n",
              "\n",
              "                 X5            X6            X7            X8            X9  \\\n",
              "count  29996.000000  29996.000000  29996.000000  29996.000000  29996.000000   \n",
              "mean      35.483862     -0.016769     -0.133818     -0.166522     -0.220829   \n",
              "std        9.217500      1.123727      1.197108      1.195859      1.168989   \n",
              "min       21.000000     -2.000000     -2.000000     -2.000000     -2.000000   \n",
              "25%       28.000000     -1.000000     -1.000000     -1.000000     -1.000000   \n",
              "50%       34.000000      0.000000      0.000000      0.000000      0.000000   \n",
              "75%       41.000000      0.000000      0.000000      0.000000      0.000000   \n",
              "max       79.000000      8.000000      8.000000      8.000000      8.000000   \n",
              "\n",
              "       ...            X15            X16            X17            X18  \\\n",
              "count  ...   29996.000000   29996.000000   29996.000000   29996.000000   \n",
              "mean   ...   43259.782471   40307.017702   38873.358481    5662.190725   \n",
              "std    ...   64339.035974   60802.598983   59557.893788   16563.189672   \n",
              "min    ... -170000.000000  -81334.000000 -339603.000000       0.000000   \n",
              "25%    ...    2317.500000    1759.000000    1255.000000    1000.000000   \n",
              "50%    ...   19037.500000   18097.000000   17071.000000    2100.000000   \n",
              "75%    ...   54519.000000   50181.250000   49205.250000    5006.000000   \n",
              "max    ...  891586.000000  927171.000000  961664.000000  873552.000000   \n",
              "\n",
              "                X19            X20            X21            X22  \\\n",
              "count  2.999600e+04   29996.000000   29996.000000   29996.000000   \n",
              "mean   5.921502e+03    5224.926557    4826.126017    4799.176990   \n",
              "std    2.304238e+04   17607.351892   15667.097055   15279.234839   \n",
              "min    0.000000e+00       0.000000       0.000000       0.000000   \n",
              "25%    8.327500e+02     390.000000     294.750000     250.000000   \n",
              "50%    2.009000e+03    1800.000000    1500.000000    1500.000000   \n",
              "75%    5.000000e+03    4505.000000    4013.250000    4031.000000   \n",
              "max    1.684259e+06  896040.000000  621000.000000  426529.000000   \n",
              "\n",
              "                 X23             Y  \n",
              "count   29996.000000  29996.000000  \n",
              "mean     5216.073076      0.221196  \n",
              "std     17778.581176      0.415059  \n",
              "min         0.000000      0.000000  \n",
              "25%       116.750000      0.000000  \n",
              "50%      1500.000000      0.000000  \n",
              "75%      4000.000000      0.000000  \n",
              "max    528666.000000      1.000000  \n",
              "\n",
              "[8 rows x 25 columns]"
            ]
          },
          "execution_count": 55,
          "metadata": {},
          "output_type": "execute_result"
        }
      ],
      "source": [
        "df.describe()"
      ]
    },
    {
      "cell_type": "markdown",
      "metadata": {},
      "source": [
        "El método describe arroja un resumen de los datos que hay en cada una de las variables del dataset.\n",
        "Para tendencia central tenemos tanto mean, que es la media como el valor 50% que sería la mediana.\n",
        "En cuanto a la dispersión tenemos el valor min y max para definir los valores mínimos y máximos de la variable. 25% y 75% representan los cuadriles que nos ayudan a entender los valores que están a 1/4 y 3/4."
      ]
    },
    {
      "cell_type": "markdown",
      "metadata": {},
      "source": [
        "## 5. Realiza el conteo de las variables categóricas"
      ]
    },
    {
      "cell_type": "markdown",
      "metadata": {},
      "source": [
        "ID\n",
        "\n",
        "X2 - Gender\n",
        "\n",
        "X3 - Education\n",
        "\n",
        "X4 - Martial Status\n",
        "\n",
        "X6-x11 - History of past payment\n"
      ]
    },
    {
      "cell_type": "markdown",
      "metadata": {},
      "source": [
        "## 6. Escala los datos, si consideras necesario"
      ]
    },
    {
      "cell_type": "code",
      "execution_count": 56,
      "metadata": {},
      "outputs": [
        {
          "data": {
            "text/html": [
              "<div>\n",
              "<style scoped>\n",
              "    .dataframe tbody tr th:only-of-type {\n",
              "        vertical-align: middle;\n",
              "    }\n",
              "\n",
              "    .dataframe tbody tr th {\n",
              "        vertical-align: top;\n",
              "    }\n",
              "\n",
              "    .dataframe thead th {\n",
              "        text-align: right;\n",
              "    }\n",
              "</style>\n",
              "<table border=\"1\" class=\"dataframe\">\n",
              "  <thead>\n",
              "    <tr style=\"text-align: right;\">\n",
              "      <th></th>\n",
              "      <th>ID</th>\n",
              "      <th>X1</th>\n",
              "      <th>X2</th>\n",
              "      <th>X3</th>\n",
              "      <th>X4</th>\n",
              "      <th>X5</th>\n",
              "      <th>X6</th>\n",
              "      <th>X7</th>\n",
              "      <th>X8</th>\n",
              "      <th>X9</th>\n",
              "      <th>...</th>\n",
              "      <th>X15</th>\n",
              "      <th>X16</th>\n",
              "      <th>X17</th>\n",
              "      <th>X18</th>\n",
              "      <th>X19</th>\n",
              "      <th>X20</th>\n",
              "      <th>X21</th>\n",
              "      <th>X22</th>\n",
              "      <th>X23</th>\n",
              "      <th>Y</th>\n",
              "    </tr>\n",
              "  </thead>\n",
              "  <tbody>\n",
              "    <tr>\n",
              "      <th>0</th>\n",
              "      <td>-1.731994</td>\n",
              "      <td>-1.136793</td>\n",
              "      <td>0.810081</td>\n",
              "      <td>0.185792</td>\n",
              "      <td>-1.057386</td>\n",
              "      <td>-1.245897</td>\n",
              "      <td>1.794744</td>\n",
              "      <td>1.782507</td>\n",
              "      <td>-0.696981</td>\n",
              "      <td>-0.666545</td>\n",
              "      <td>...</td>\n",
              "      <td>-0.672383</td>\n",
              "      <td>-0.662927</td>\n",
              "      <td>-0.652710</td>\n",
              "      <td>-0.341860</td>\n",
              "      <td>-0.227085</td>\n",
              "      <td>-0.296752</td>\n",
              "      <td>-0.308047</td>\n",
              "      <td>-0.314103</td>\n",
              "      <td>-0.293396</td>\n",
              "      <td>1.876399</td>\n",
              "    </tr>\n",
              "    <tr>\n",
              "      <th>1</th>\n",
              "      <td>-1.731878</td>\n",
              "      <td>-0.366072</td>\n",
              "      <td>0.810081</td>\n",
              "      <td>0.185792</td>\n",
              "      <td>0.858260</td>\n",
              "      <td>-1.028915</td>\n",
              "      <td>-0.874988</td>\n",
              "      <td>1.782507</td>\n",
              "      <td>0.139251</td>\n",
              "      <td>0.188909</td>\n",
              "      <td>...</td>\n",
              "      <td>-0.621527</td>\n",
              "      <td>-0.606103</td>\n",
              "      <td>-0.597955</td>\n",
              "      <td>-0.341860</td>\n",
              "      <td>-0.213588</td>\n",
              "      <td>-0.239956</td>\n",
              "      <td>-0.244218</td>\n",
              "      <td>-0.314103</td>\n",
              "      <td>-0.180899</td>\n",
              "      <td>1.876399</td>\n",
              "    </tr>\n",
              "    <tr>\n",
              "      <th>2</th>\n",
              "      <td>-1.731763</td>\n",
              "      <td>-0.597288</td>\n",
              "      <td>0.810081</td>\n",
              "      <td>0.185792</td>\n",
              "      <td>0.858260</td>\n",
              "      <td>-0.160986</td>\n",
              "      <td>0.014923</td>\n",
              "      <td>0.111786</td>\n",
              "      <td>0.139251</td>\n",
              "      <td>0.188909</td>\n",
              "      <td>...</td>\n",
              "      <td>-0.449638</td>\n",
              "      <td>-0.417078</td>\n",
              "      <td>-0.391632</td>\n",
              "      <td>-0.250209</td>\n",
              "      <td>-0.191889</td>\n",
              "      <td>-0.239956</td>\n",
              "      <td>-0.244218</td>\n",
              "      <td>-0.248654</td>\n",
              "      <td>-0.012154</td>\n",
              "      <td>-0.532936</td>\n",
              "    </tr>\n",
              "    <tr>\n",
              "      <th>3</th>\n",
              "      <td>-1.731647</td>\n",
              "      <td>-0.905577</td>\n",
              "      <td>0.810081</td>\n",
              "      <td>0.185792</td>\n",
              "      <td>-1.057386</td>\n",
              "      <td>0.164487</td>\n",
              "      <td>0.014923</td>\n",
              "      <td>0.111786</td>\n",
              "      <td>0.139251</td>\n",
              "      <td>0.188909</td>\n",
              "      <td>...</td>\n",
              "      <td>-0.232301</td>\n",
              "      <td>-0.186640</td>\n",
              "      <td>-0.156596</td>\n",
              "      <td>-0.221108</td>\n",
              "      <td>-0.169365</td>\n",
              "      <td>-0.228597</td>\n",
              "      <td>-0.237835</td>\n",
              "      <td>-0.244138</td>\n",
              "      <td>-0.237147</td>\n",
              "      <td>-0.532936</td>\n",
              "    </tr>\n",
              "    <tr>\n",
              "      <th>4</th>\n",
              "      <td>-1.731532</td>\n",
              "      <td>-0.905577</td>\n",
              "      <td>-1.234445</td>\n",
              "      <td>0.185792</td>\n",
              "      <td>-1.057386</td>\n",
              "      <td>2.334309</td>\n",
              "      <td>-0.874988</td>\n",
              "      <td>0.111786</td>\n",
              "      <td>-0.696981</td>\n",
              "      <td>0.188909</td>\n",
              "      <td>...</td>\n",
              "      <td>-0.346915</td>\n",
              "      <td>-0.348034</td>\n",
              "      <td>-0.331487</td>\n",
              "      <td>-0.221108</td>\n",
              "      <td>1.334932</td>\n",
              "      <td>0.271202</td>\n",
              "      <td>0.266415</td>\n",
              "      <td>-0.269009</td>\n",
              "      <td>-0.255203</td>\n",
              "      <td>-0.532936</td>\n",
              "    </tr>\n",
              "  </tbody>\n",
              "</table>\n",
              "<p>5 rows × 25 columns</p>\n",
              "</div>"
            ],
            "text/plain": [
              "         ID        X1        X2        X3        X4        X5        X6  \\\n",
              "0 -1.731994 -1.136793  0.810081  0.185792 -1.057386 -1.245897  1.794744   \n",
              "1 -1.731878 -0.366072  0.810081  0.185792  0.858260 -1.028915 -0.874988   \n",
              "2 -1.731763 -0.597288  0.810081  0.185792  0.858260 -0.160986  0.014923   \n",
              "3 -1.731647 -0.905577  0.810081  0.185792 -1.057386  0.164487  0.014923   \n",
              "4 -1.731532 -0.905577 -1.234445  0.185792 -1.057386  2.334309 -0.874988   \n",
              "\n",
              "         X7        X8        X9  ...       X15       X16       X17       X18  \\\n",
              "0  1.782507 -0.696981 -0.666545  ... -0.672383 -0.662927 -0.652710 -0.341860   \n",
              "1  1.782507  0.139251  0.188909  ... -0.621527 -0.606103 -0.597955 -0.341860   \n",
              "2  0.111786  0.139251  0.188909  ... -0.449638 -0.417078 -0.391632 -0.250209   \n",
              "3  0.111786  0.139251  0.188909  ... -0.232301 -0.186640 -0.156596 -0.221108   \n",
              "4  0.111786 -0.696981  0.188909  ... -0.346915 -0.348034 -0.331487 -0.221108   \n",
              "\n",
              "        X19       X20       X21       X22       X23         Y  \n",
              "0 -0.227085 -0.296752 -0.308047 -0.314103 -0.293396  1.876399  \n",
              "1 -0.213588 -0.239956 -0.244218 -0.314103 -0.180899  1.876399  \n",
              "2 -0.191889 -0.239956 -0.244218 -0.248654 -0.012154 -0.532936  \n",
              "3 -0.169365 -0.228597 -0.237835 -0.244138 -0.237147 -0.532936  \n",
              "4  1.334932  0.271202  0.266415 -0.269009 -0.255203 -0.532936  \n",
              "\n",
              "[5 rows x 25 columns]"
            ]
          },
          "execution_count": 56,
          "metadata": {},
          "output_type": "execute_result"
        }
      ],
      "source": [
        "from sklearn.preprocessing import StandardScaler\n",
        "\n",
        "\n",
        "scaler = StandardScaler()\n",
        "normalized = scaler.fit_transform(df)\n",
        "\n",
        "n_df = pd.DataFrame(normalized, columns=df.columns)\n",
        "n_df.head()"
      ]
    },
    {
      "cell_type": "markdown",
      "metadata": {},
      "source": [
        "## 7.Reduce las dimensiones con PCA, si consideras necesario.\n",
        "### 7.1 Indica la varianza de los datos explicada por cada componente seleccionado. Para actividades de exploración de los datos la varianza > 70%\n",
        "### 7.2 Indica la importancia de las variables en cada componente\n"
      ]
    },
    {
      "cell_type": "markdown",
      "metadata": {},
      "source": [
        "Removemos los datos categóricos antes de usar PCA"
      ]
    },
    {
      "cell_type": "code",
      "execution_count": 57,
      "metadata": {},
      "outputs": [],
      "source": [
        "\n",
        "n_df.drop('ID', inplace=True, axis=1)\n",
        "n_df.drop('X2', inplace=True, axis=1)\n",
        "n_df.drop('X3', inplace=True, axis=1)\n",
        "n_df.drop('X4', inplace=True, axis=1)\n",
        "n_df.drop('X6', inplace=True, axis=1)\n",
        "n_df.drop('X7', inplace=True, axis=1)\n",
        "n_df.drop('X8', inplace=True, axis=1)\n",
        "n_df.drop('X9', inplace=True, axis=1)\n",
        "n_df.drop('X10', inplace=True, axis=1)\n",
        "n_df.drop('X11', inplace=True, axis=1)\n",
        "n_df.drop('Y', inplace=True, axis=1)"
      ]
    },
    {
      "cell_type": "markdown",
      "metadata": {},
      "source": [
        "Aplicamos PCA"
      ]
    },
    {
      "cell_type": "code",
      "execution_count": 62,
      "metadata": {},
      "outputs": [
        {
          "data": {
            "text/plain": [
              "array([[-1.95829091e+00, -5.36643083e-01,  1.33012667e+00, ...,\n",
              "        -3.27114756e-03,  8.16116297e-03,  9.88285399e-03],\n",
              "       [-1.73512689e+00, -2.17072057e-01,  8.63697703e-01, ...,\n",
              "         1.21869153e-02, -4.05612442e-03,  7.21023790e-04],\n",
              "       [-1.22410222e+00, -2.84794071e-01,  2.13176029e-01, ...,\n",
              "        -8.05020457e-02, -4.10977845e-02, -5.73196142e-02],\n",
              "       ...,\n",
              "       [-1.28468468e+00,  1.46755494e-01,  2.50743966e-01, ...,\n",
              "         3.46708323e-02,  1.30940341e-02, -1.20955943e-02],\n",
              "       [ 8.31942018e-01,  2.42142007e+00,  3.64943769e-01, ...,\n",
              "         1.70804272e-01, -1.40258671e-01, -8.67420784e-03],\n",
              "       [-5.16748481e-01, -6.00695215e-01, -7.49430355e-01, ...,\n",
              "        -1.77551776e-02,  1.15699755e-01, -4.66552516e-02]])"
            ]
          },
          "execution_count": 62,
          "metadata": {},
          "output_type": "execute_result"
        }
      ],
      "source": [
        "from sklearn.decomposition import PCA\n",
        "\n",
        "pca = PCA()\n",
        "\n",
        "pca_trasnformado = pca.fit_transform(n_df)\n",
        "\n",
        "pca_trasnformado"
      ]
    },
    {
      "cell_type": "code",
      "execution_count": 63,
      "metadata": {},
      "outputs": [
        {
          "data": {
            "text/html": [
              "<div>\n",
              "<style scoped>\n",
              "    .dataframe tbody tr th:only-of-type {\n",
              "        vertical-align: middle;\n",
              "    }\n",
              "\n",
              "    .dataframe tbody tr th {\n",
              "        vertical-align: top;\n",
              "    }\n",
              "\n",
              "    .dataframe thead th {\n",
              "        text-align: right;\n",
              "    }\n",
              "</style>\n",
              "<table border=\"1\" class=\"dataframe\">\n",
              "  <thead>\n",
              "    <tr style=\"text-align: right;\">\n",
              "      <th></th>\n",
              "      <th>X1</th>\n",
              "      <th>X5</th>\n",
              "      <th>X12</th>\n",
              "      <th>X13</th>\n",
              "      <th>X14</th>\n",
              "      <th>X15</th>\n",
              "      <th>X16</th>\n",
              "      <th>X17</th>\n",
              "      <th>X18</th>\n",
              "      <th>X19</th>\n",
              "      <th>X20</th>\n",
              "      <th>X21</th>\n",
              "      <th>X22</th>\n",
              "      <th>X23</th>\n",
              "    </tr>\n",
              "  </thead>\n",
              "  <tbody>\n",
              "    <tr>\n",
              "      <th>count</th>\n",
              "      <td>2.999600e+04</td>\n",
              "      <td>2.999600e+04</td>\n",
              "      <td>2.999600e+04</td>\n",
              "      <td>2.999600e+04</td>\n",
              "      <td>2.999600e+04</td>\n",
              "      <td>2.999600e+04</td>\n",
              "      <td>2.999600e+04</td>\n",
              "      <td>2.999600e+04</td>\n",
              "      <td>2.999600e+04</td>\n",
              "      <td>2.999600e+04</td>\n",
              "      <td>2.999600e+04</td>\n",
              "      <td>2.999600e+04</td>\n",
              "      <td>2.999600e+04</td>\n",
              "      <td>2.999600e+04</td>\n",
              "    </tr>\n",
              "    <tr>\n",
              "      <th>mean</th>\n",
              "      <td>2.274040e-17</td>\n",
              "      <td>-3.051004e-16</td>\n",
              "      <td>5.116590e-17</td>\n",
              "      <td>2.700422e-17</td>\n",
              "      <td>3.316308e-17</td>\n",
              "      <td>-4.358577e-17</td>\n",
              "      <td>-3.790067e-17</td>\n",
              "      <td>-3.316308e-18</td>\n",
              "      <td>-1.326523e-17</td>\n",
              "      <td>1.137020e-17</td>\n",
              "      <td>-1.895033e-17</td>\n",
              "      <td>2.368792e-17</td>\n",
              "      <td>-2.605671e-18</td>\n",
              "      <td>-1.018580e-17</td>\n",
              "    </tr>\n",
              "    <tr>\n",
              "      <th>std</th>\n",
              "      <td>1.000017e+00</td>\n",
              "      <td>1.000017e+00</td>\n",
              "      <td>1.000017e+00</td>\n",
              "      <td>1.000017e+00</td>\n",
              "      <td>1.000017e+00</td>\n",
              "      <td>1.000017e+00</td>\n",
              "      <td>1.000017e+00</td>\n",
              "      <td>1.000017e+00</td>\n",
              "      <td>1.000017e+00</td>\n",
              "      <td>1.000017e+00</td>\n",
              "      <td>1.000017e+00</td>\n",
              "      <td>1.000017e+00</td>\n",
              "      <td>1.000017e+00</td>\n",
              "      <td>1.000017e+00</td>\n",
              "    </tr>\n",
              "    <tr>\n",
              "      <th>min</th>\n",
              "      <td>-1.213865e+00</td>\n",
              "      <td>-1.571370e+00</td>\n",
              "      <td>-2.944095e+00</td>\n",
              "      <td>-1.671221e+00</td>\n",
              "      <td>-2.945396e+00</td>\n",
              "      <td>-3.314680e+00</td>\n",
              "      <td>-2.000622e+00</td>\n",
              "      <td>-6.354870e+00</td>\n",
              "      <td>-3.418596e-01</td>\n",
              "      <td>-2.569873e-01</td>\n",
              "      <td>-2.967518e-01</td>\n",
              "      <td>-3.080473e-01</td>\n",
              "      <td>-3.141032e-01</td>\n",
              "      <td>-2.933957e-01</td>\n",
              "    </tr>\n",
              "    <tr>\n",
              "      <th>25%</th>\n",
              "      <td>-9.055766e-01</td>\n",
              "      <td>-8.119325e-01</td>\n",
              "      <td>-6.473037e-01</td>\n",
              "      <td>-6.490887e-01</td>\n",
              "      <td>-6.395116e-01</td>\n",
              "      <td>-6.363627e-01</td>\n",
              "      <td>-6.339969e-01</td>\n",
              "      <td>-6.316373e-01</td>\n",
              "      <td>-2.814837e-01</td>\n",
              "      <td>-2.208468e-01</td>\n",
              "      <td>-2.746016e-01</td>\n",
              "      <td>-2.892336e-01</td>\n",
              "      <td>-2.977409e-01</td>\n",
              "      <td>-2.868287e-01</td>\n",
              "    </tr>\n",
              "    <tr>\n",
              "      <th>50%</th>\n",
              "      <td>-2.119277e-01</td>\n",
              "      <td>-1.609859e-01</td>\n",
              "      <td>-3.917501e-01</td>\n",
              "      <td>-3.931859e-01</td>\n",
              "      <td>-3.882358e-01</td>\n",
              "      <td>-3.764851e-01</td>\n",
              "      <td>-3.652868e-01</td>\n",
              "      <td>-3.660761e-01</td>\n",
              "      <td>-2.150703e-01</td>\n",
              "      <td>-1.697987e-01</td>\n",
              "      <td>-1.945201e-01</td>\n",
              "      <td>-2.123036e-01</td>\n",
              "      <td>-2.159291e-01</td>\n",
              "      <td>-2.090231e-01</td>\n",
              "    </tr>\n",
              "    <tr>\n",
              "      <th>75%</th>\n",
              "      <td>5.587934e-01</td>\n",
              "      <td>5.984518e-01</td>\n",
              "      <td>2.156022e-01</td>\n",
              "      <td>2.084501e-01</td>\n",
              "      <td>1.897258e-01</td>\n",
              "      <td>1.750011e-01</td>\n",
              "      <td>1.624009e-01</td>\n",
              "      <td>1.734793e-01</td>\n",
              "      <td>-3.961807e-02</td>\n",
              "      <td>-3.999226e-02</td>\n",
              "      <td>-4.088852e-02</td>\n",
              "      <td>-5.188514e-02</td>\n",
              "      <td>-5.027672e-02</td>\n",
              "      <td>-6.840216e-02</td>\n",
              "    </tr>\n",
              "    <tr>\n",
              "      <th>max</th>\n",
              "      <td>6.416274e+00</td>\n",
              "      <td>4.721114e+00</td>\n",
              "      <td>1.240204e+01</td>\n",
              "      <td>1.313254e+01</td>\n",
              "      <td>2.331626e+01</td>\n",
              "      <td>1.318547e+01</td>\n",
              "      <td>1.458620e+01</td>\n",
              "      <td>1.549427e+01</td>\n",
              "      <td>5.239959e+01</td>\n",
              "      <td>7.283819e+01</td>\n",
              "      <td>5.059420e+01</td>\n",
              "      <td>3.932982e+01</td>\n",
              "      <td>2.760196e+01</td>\n",
              "      <td>2.944322e+01</td>\n",
              "    </tr>\n",
              "  </tbody>\n",
              "</table>\n",
              "</div>"
            ],
            "text/plain": [
              "                 X1            X5           X12           X13           X14  \\\n",
              "count  2.999600e+04  2.999600e+04  2.999600e+04  2.999600e+04  2.999600e+04   \n",
              "mean   2.274040e-17 -3.051004e-16  5.116590e-17  2.700422e-17  3.316308e-17   \n",
              "std    1.000017e+00  1.000017e+00  1.000017e+00  1.000017e+00  1.000017e+00   \n",
              "min   -1.213865e+00 -1.571370e+00 -2.944095e+00 -1.671221e+00 -2.945396e+00   \n",
              "25%   -9.055766e-01 -8.119325e-01 -6.473037e-01 -6.490887e-01 -6.395116e-01   \n",
              "50%   -2.119277e-01 -1.609859e-01 -3.917501e-01 -3.931859e-01 -3.882358e-01   \n",
              "75%    5.587934e-01  5.984518e-01  2.156022e-01  2.084501e-01  1.897258e-01   \n",
              "max    6.416274e+00  4.721114e+00  1.240204e+01  1.313254e+01  2.331626e+01   \n",
              "\n",
              "                X15           X16           X17           X18           X19  \\\n",
              "count  2.999600e+04  2.999600e+04  2.999600e+04  2.999600e+04  2.999600e+04   \n",
              "mean  -4.358577e-17 -3.790067e-17 -3.316308e-18 -1.326523e-17  1.137020e-17   \n",
              "std    1.000017e+00  1.000017e+00  1.000017e+00  1.000017e+00  1.000017e+00   \n",
              "min   -3.314680e+00 -2.000622e+00 -6.354870e+00 -3.418596e-01 -2.569873e-01   \n",
              "25%   -6.363627e-01 -6.339969e-01 -6.316373e-01 -2.814837e-01 -2.208468e-01   \n",
              "50%   -3.764851e-01 -3.652868e-01 -3.660761e-01 -2.150703e-01 -1.697987e-01   \n",
              "75%    1.750011e-01  1.624009e-01  1.734793e-01 -3.961807e-02 -3.999226e-02   \n",
              "max    1.318547e+01  1.458620e+01  1.549427e+01  5.239959e+01  7.283819e+01   \n",
              "\n",
              "                X20           X21           X22           X23  \n",
              "count  2.999600e+04  2.999600e+04  2.999600e+04  2.999600e+04  \n",
              "mean  -1.895033e-17  2.368792e-17 -2.605671e-18 -1.018580e-17  \n",
              "std    1.000017e+00  1.000017e+00  1.000017e+00  1.000017e+00  \n",
              "min   -2.967518e-01 -3.080473e-01 -3.141032e-01 -2.933957e-01  \n",
              "25%   -2.746016e-01 -2.892336e-01 -2.977409e-01 -2.868287e-01  \n",
              "50%   -1.945201e-01 -2.123036e-01 -2.159291e-01 -2.090231e-01  \n",
              "75%   -4.088852e-02 -5.188514e-02 -5.027672e-02 -6.840216e-02  \n",
              "max    5.059420e+01  3.932982e+01  2.760196e+01  2.944322e+01  "
            ]
          },
          "execution_count": 63,
          "metadata": {},
          "output_type": "execute_result"
        }
      ],
      "source": [
        "n_df.describe()"
      ]
    },
    {
      "cell_type": "markdown",
      "metadata": {},
      "source": [
        "Determinamos el número mínimo de componentes principales que representan la mayor parte de la variación en sus datos"
      ]
    },
    {
      "cell_type": "code",
      "execution_count": 64,
      "metadata": {},
      "outputs": [
        {
          "data": {
            "text/html": [
              "<div>\n",
              "<style scoped>\n",
              "    .dataframe tbody tr th:only-of-type {\n",
              "        vertical-align: middle;\n",
              "    }\n",
              "\n",
              "    .dataframe tbody tr th {\n",
              "        vertical-align: top;\n",
              "    }\n",
              "\n",
              "    .dataframe thead th {\n",
              "        text-align: right;\n",
              "    }\n",
              "</style>\n",
              "<table border=\"1\" class=\"dataframe\">\n",
              "  <thead>\n",
              "    <tr style=\"text-align: right;\">\n",
              "      <th></th>\n",
              "      <th>varianza</th>\n",
              "      <th>varianza acumulada</th>\n",
              "    </tr>\n",
              "  </thead>\n",
              "  <tbody>\n",
              "    <tr>\n",
              "      <th>0</th>\n",
              "      <td>42.28</td>\n",
              "      <td>42.279937</td>\n",
              "    </tr>\n",
              "    <tr>\n",
              "      <th>1</th>\n",
              "      <td>12.26</td>\n",
              "      <td>54.537588</td>\n",
              "    </tr>\n",
              "    <tr>\n",
              "      <th>2</th>\n",
              "      <td>7.47</td>\n",
              "      <td>62.003090</td>\n",
              "    </tr>\n",
              "    <tr>\n",
              "      <th>3</th>\n",
              "      <td>6.61</td>\n",
              "      <td>68.609581</td>\n",
              "    </tr>\n",
              "    <tr>\n",
              "      <th>4</th>\n",
              "      <td>6.31</td>\n",
              "      <td>74.921096</td>\n",
              "    </tr>\n",
              "    <tr>\n",
              "      <th>5</th>\n",
              "      <td>6.23</td>\n",
              "      <td>81.154330</td>\n",
              "    </tr>\n",
              "    <tr>\n",
              "      <th>6</th>\n",
              "      <td>5.57</td>\n",
              "      <td>86.722362</td>\n",
              "    </tr>\n",
              "    <tr>\n",
              "      <th>7</th>\n",
              "      <td>5.19</td>\n",
              "      <td>91.912180</td>\n",
              "    </tr>\n",
              "    <tr>\n",
              "      <th>8</th>\n",
              "      <td>5.05</td>\n",
              "      <td>96.963476</td>\n",
              "    </tr>\n",
              "    <tr>\n",
              "      <th>9</th>\n",
              "      <td>1.89</td>\n",
              "      <td>98.852127</td>\n",
              "    </tr>\n",
              "    <tr>\n",
              "      <th>10</th>\n",
              "      <td>0.51</td>\n",
              "      <td>99.359369</td>\n",
              "    </tr>\n",
              "    <tr>\n",
              "      <th>11</th>\n",
              "      <td>0.29</td>\n",
              "      <td>99.652817</td>\n",
              "    </tr>\n",
              "    <tr>\n",
              "      <th>12</th>\n",
              "      <td>0.18</td>\n",
              "      <td>99.833981</td>\n",
              "    </tr>\n",
              "    <tr>\n",
              "      <th>13</th>\n",
              "      <td>0.17</td>\n",
              "      <td>100.000000</td>\n",
              "    </tr>\n",
              "  </tbody>\n",
              "</table>\n",
              "</div>"
            ],
            "text/plain": [
              "    varianza  varianza acumulada\n",
              "0      42.28           42.279937\n",
              "1      12.26           54.537588\n",
              "2       7.47           62.003090\n",
              "3       6.61           68.609581\n",
              "4       6.31           74.921096\n",
              "5       6.23           81.154330\n",
              "6       5.57           86.722362\n",
              "7       5.19           91.912180\n",
              "8       5.05           96.963476\n",
              "9       1.89           98.852127\n",
              "10      0.51           99.359369\n",
              "11      0.29           99.652817\n",
              "12      0.18           99.833981\n",
              "13      0.17          100.000000"
            ]
          },
          "execution_count": 64,
          "metadata": {},
          "output_type": "execute_result"
        }
      ],
      "source": [
        "import numpy as np\n",
        "\n",
        "pcaSummary_df = pd.DataFrame({\n",
        "                             'varianza': np.round(pca.explained_variance_ratio_,4) * 100,\n",
        "                             'varianza acumulada': np.cumsum(pca.explained_variance_ratio_) * 100\n",
        "                             })\n",
        "\n",
        "pcaSummary_df"
      ]
    },
    {
      "cell_type": "code",
      "execution_count": 68,
      "metadata": {},
      "outputs": [
        {
          "data": {
            "text/html": [
              "<div>\n",
              "<style scoped>\n",
              "    .dataframe tbody tr th:only-of-type {\n",
              "        vertical-align: middle;\n",
              "    }\n",
              "\n",
              "    .dataframe tbody tr th {\n",
              "        vertical-align: top;\n",
              "    }\n",
              "\n",
              "    .dataframe thead th {\n",
              "        text-align: right;\n",
              "    }\n",
              "</style>\n",
              "<table border=\"1\" class=\"dataframe\">\n",
              "  <thead>\n",
              "    <tr style=\"text-align: right;\">\n",
              "      <th></th>\n",
              "      <th>0</th>\n",
              "      <th>1</th>\n",
              "      <th>2</th>\n",
              "      <th>3</th>\n",
              "      <th>4</th>\n",
              "    </tr>\n",
              "  </thead>\n",
              "  <tbody>\n",
              "    <tr>\n",
              "      <th>X1</th>\n",
              "      <td>0.1655</td>\n",
              "      <td>0.0327</td>\n",
              "      <td>0.3724</td>\n",
              "      <td>0.3832</td>\n",
              "      <td>0.3883</td>\n",
              "    </tr>\n",
              "    <tr>\n",
              "      <th>X5</th>\n",
              "      <td>0.3008</td>\n",
              "      <td>0.0720</td>\n",
              "      <td>-0.1909</td>\n",
              "      <td>-0.1747</td>\n",
              "      <td>-0.1269</td>\n",
              "    </tr>\n",
              "    <tr>\n",
              "      <th>X12</th>\n",
              "      <td>-0.3788</td>\n",
              "      <td>-0.8696</td>\n",
              "      <td>-0.0343</td>\n",
              "      <td>-0.0019</td>\n",
              "      <td>0.0347</td>\n",
              "    </tr>\n",
              "    <tr>\n",
              "      <th>X13</th>\n",
              "      <td>-0.2002</td>\n",
              "      <td>0.3383</td>\n",
              "      <td>-0.0640</td>\n",
              "      <td>0.0074</td>\n",
              "      <td>0.0605</td>\n",
              "    </tr>\n",
              "    <tr>\n",
              "      <th>X14</th>\n",
              "      <td>0.0347</td>\n",
              "      <td>-0.0390</td>\n",
              "      <td>0.0412</td>\n",
              "      <td>0.0831</td>\n",
              "      <td>0.1141</td>\n",
              "    </tr>\n",
              "    <tr>\n",
              "      <th>X15</th>\n",
              "      <td>-0.0782</td>\n",
              "      <td>0.0713</td>\n",
              "      <td>-0.0440</td>\n",
              "      <td>-0.0290</td>\n",
              "      <td>0.0988</td>\n",
              "    </tr>\n",
              "    <tr>\n",
              "      <th>X16</th>\n",
              "      <td>0.1109</td>\n",
              "      <td>-0.0786</td>\n",
              "      <td>0.0082</td>\n",
              "      <td>-0.0324</td>\n",
              "      <td>-0.1213</td>\n",
              "    </tr>\n",
              "    <tr>\n",
              "      <th>X17</th>\n",
              "      <td>-0.0477</td>\n",
              "      <td>0.0280</td>\n",
              "      <td>0.0094</td>\n",
              "      <td>-0.1357</td>\n",
              "      <td>0.0929</td>\n",
              "    </tr>\n",
              "    <tr>\n",
              "      <th>X18</th>\n",
              "      <td>-0.8219</td>\n",
              "      <td>0.3309</td>\n",
              "      <td>0.0103</td>\n",
              "      <td>0.0171</td>\n",
              "      <td>-0.0187</td>\n",
              "    </tr>\n",
              "    <tr>\n",
              "      <th>X19</th>\n",
              "      <td>-0.0291</td>\n",
              "      <td>-0.0091</td>\n",
              "      <td>0.5667</td>\n",
              "      <td>0.3869</td>\n",
              "      <td>0.1228</td>\n",
              "    </tr>\n",
              "    <tr>\n",
              "      <th>X20</th>\n",
              "      <td>-0.0061</td>\n",
              "      <td>0.0001</td>\n",
              "      <td>0.4161</td>\n",
              "      <td>0.0383</td>\n",
              "      <td>-0.4848</td>\n",
              "    </tr>\n",
              "    <tr>\n",
              "      <th>X21</th>\n",
              "      <td>0.0157</td>\n",
              "      <td>-0.0013</td>\n",
              "      <td>-0.4328</td>\n",
              "      <td>0.3447</td>\n",
              "      <td>0.4959</td>\n",
              "    </tr>\n",
              "    <tr>\n",
              "      <th>X22</th>\n",
              "      <td>-0.0005</td>\n",
              "      <td>0.0002</td>\n",
              "      <td>-0.1828</td>\n",
              "      <td>0.3274</td>\n",
              "      <td>-0.0843</td>\n",
              "    </tr>\n",
              "    <tr>\n",
              "      <th>X23</th>\n",
              "      <td>0.0034</td>\n",
              "      <td>0.0011</td>\n",
              "      <td>-0.3173</td>\n",
              "      <td>0.6465</td>\n",
              "      <td>-0.5279</td>\n",
              "    </tr>\n",
              "  </tbody>\n",
              "</table>\n",
              "</div>"
            ],
            "text/plain": [
              "          0       1       2       3       4\n",
              "X1   0.1655  0.0327  0.3724  0.3832  0.3883\n",
              "X5   0.3008  0.0720 -0.1909 -0.1747 -0.1269\n",
              "X12 -0.3788 -0.8696 -0.0343 -0.0019  0.0347\n",
              "X13 -0.2002  0.3383 -0.0640  0.0074  0.0605\n",
              "X14  0.0347 -0.0390  0.0412  0.0831  0.1141\n",
              "X15 -0.0782  0.0713 -0.0440 -0.0290  0.0988\n",
              "X16  0.1109 -0.0786  0.0082 -0.0324 -0.1213\n",
              "X17 -0.0477  0.0280  0.0094 -0.1357  0.0929\n",
              "X18 -0.8219  0.3309  0.0103  0.0171 -0.0187\n",
              "X19 -0.0291 -0.0091  0.5667  0.3869  0.1228\n",
              "X20 -0.0061  0.0001  0.4161  0.0383 -0.4848\n",
              "X21  0.0157 -0.0013 -0.4328  0.3447  0.4959\n",
              "X22 -0.0005  0.0002 -0.1828  0.3274 -0.0843\n",
              "X23  0.0034  0.0011 -0.3173  0.6465 -0.5279"
            ]
          },
          "execution_count": 68,
          "metadata": {},
          "output_type": "execute_result"
        }
      ],
      "source": [
        "componentes = pd.DataFrame(\n",
        "    pca.components_.round(4), # peso de cada uno de los componentes\n",
        "    index = n_df.columns) #variables originales\n",
        "\n",
        "\n",
        "componentes.iloc[:,:5]"
      ]
    },
    {
      "cell_type": "markdown",
      "metadata": {},
      "source": [
        "Obtenemos los máximos por cada componente"
      ]
    },
    {
      "cell_type": "code",
      "execution_count": 69,
      "metadata": {},
      "outputs": [
        {
          "data": {
            "text/plain": [
              "0     X18\n",
              "1     X12\n",
              "2     X19\n",
              "3     X23\n",
              "4     X23\n",
              "5     X20\n",
              "6     X22\n",
              "7     X20\n",
              "8     X17\n",
              "9     X17\n",
              "10    X16\n",
              "dtype: object"
            ]
          },
          "execution_count": 69,
          "metadata": {},
          "output_type": "execute_result"
        }
      ],
      "source": [
        "componentes.iloc[:,:11].abs().idxmax() "
      ]
    },
    {
      "cell_type": "code",
      "execution_count": 70,
      "metadata": {},
      "outputs": [
        {
          "data": {
            "text/plain": [
              "0     X22\n",
              "1     X20\n",
              "2     X16\n",
              "3     X12\n",
              "4     X18\n",
              "5     X15\n",
              "6     X16\n",
              "7     X17\n",
              "8     X18\n",
              "9     X22\n",
              "10    X20\n",
              "dtype: object"
            ]
          },
          "execution_count": 70,
          "metadata": {},
          "output_type": "execute_result"
        }
      ],
      "source": [
        "# Con este encontramos cuales son las variables originales que tienen menor peso\n",
        "componentes.iloc[:,:11].abs().idxmin() "
      ]
    },
    {
      "cell_type": "markdown",
      "metadata": {},
      "source": [
        "## 8. Elabora los histogramas de los atributos para visualizar su distribución"
      ]
    },
    {
      "cell_type": "code",
      "execution_count": 71,
      "metadata": {},
      "outputs": [
        {
          "data": {
            "text/plain": [
              "array([-1.73199373, -1.73187825, -1.73176277, ...,  1.73199567,\n",
              "        1.73211114,  1.73222662])"
            ]
          },
          "execution_count": 71,
          "metadata": {},
          "output_type": "execute_result"
        }
      ],
      "source": [
        "normalized[:,0]"
      ]
    },
    {
      "cell_type": "code",
      "execution_count": 76,
      "metadata": {},
      "outputs": [
        {
          "data": {
            "image/png": "[encoded data removed]",
            "text/plain": [
              "<Figure size 640x480 with 1 Axes>"
            ]
          },
          "metadata": {},
          "output_type": "display_data"
        }
      ],
      "source": [
        "import matplotlib.pyplot as plt\n",
        "\n",
        "plt.hist(df[\"X1\"])\n",
        "plt.xlabel(\"Credit\")\n",
        "plt.show()"
      ]
    },
    {
      "cell_type": "code",
      "execution_count": 75,
      "metadata": {},
      "outputs": [
        {
          "data": {
            "image/png": "[encoded data removed]",
            "text/plain": [
              "<Figure size 640x480 with 1 Axes>"
            ]
          },
          "metadata": {},
          "output_type": "display_data"
        }
      ],
      "source": [
        "plt.hist(df[\"X5\"])\n",
        "plt.xlabel(\"Age\")\n",
        "plt.show()"
      ]
    },
    {
      "cell_type": "code",
      "execution_count": 78,
      "metadata": {},
      "outputs": [
        {
          "data": {
            "image/png": "[encoded data removed]",
            "text/plain": [
              "<Figure size 640x480 with 1 Axes>"
            ]
          },
          "metadata": {},
          "output_type": "display_data"
        },
        {
          "data": {
            "image/png": "[encoded data removed]",
            "text/plain": [
              "<Figure size 640x480 with 1 Axes>"
            ]
          },
          "metadata": {},
          "output_type": "display_data"
        },
        {
          "data": {
            "image/png": "[encoded data removed]",
            "text/plain": [
              "<Figure size 640x480 with 1 Axes>"
            ]
          },
          "metadata": {},
          "output_type": "display_data"
        },
        {
          "data": {
            "image/png": "[encoded data removed]",
            "text/plain": [
              "<Figure size 640x480 with 1 Axes>"
            ]
          },
          "metadata": {},
          "output_type": "display_data"
        },
        {
          "data": {
            "image/png": "[encoded data removed]",
            "text/plain": [
              "<Figure size 640x480 with 1 Axes>"
            ]
          },
          "metadata": {},
          "output_type": "display_data"
        },
        {
          "data": {
            "image/png": "[encoded data removed]",
            "text/plain": [
              "<Figure size 640x480 with 1 Axes>"
            ]
          },
          "metadata": {},
          "output_type": "display_data"
        },
        {
          "data": {
            "image/png": "[encoded data removed]",
            "text/plain": [
              "<Figure size 640x480 with 1 Axes>"
            ]
          },
          "metadata": {},
          "output_type": "display_data"
        },
        {
          "data": {
            "image/png": "[encoded data removed]",
            "text/plain": [
              "<Figure size 640x480 with 1 Axes>"
            ]
          },
          "metadata": {},
          "output_type": "display_data"
        },
        {
          "data": {
            "image/png": "[encoded data removed]",
            "text/plain": [
              "<Figure size 640x480 with 1 Axes>"
            ]
          },
          "metadata": {},
          "output_type": "display_data"
        },
        {
          "data": {
            "image/png": "[encoded data removed]",
            "text/plain": [
              "<Figure size 640x480 with 1 Axes>"
            ]
          },
          "metadata": {},
          "output_type": "display_data"
        },
        {
          "data": {
            "image/png": "[encoded data removed]",
            "text/plain": [
              "<Figure size 640x480 with 1 Axes>"
            ]
          },
          "metadata": {},
          "output_type": "display_data"
        },
        {
          "data": {
            "image/png": "[encoded data removed]",
            "text/plain": [
              "<Figure size 640x480 with 1 Axes>"
            ]
          },
          "metadata": {},
          "output_type": "display_data"
        }
      ],
      "source": [
        "plt.hist(df[\"X12\"])\n",
        "plt.xlabel(\"X12\")\n",
        "plt.show()\n",
        "\n",
        "plt.hist(df[\"X13\"])\n",
        "plt.xlabel(\"X13\")\n",
        "plt.show()\n",
        "\n",
        "plt.hist(df[\"X14\"])\n",
        "plt.xlabel(\"X14\")\n",
        "plt.show()\n",
        "\n",
        "\n",
        "plt.hist(df[\"X15\"])\n",
        "plt.xlabel(\"X15\")\n",
        "plt.show()\n",
        "\n",
        "plt.hist(df[\"X16\"])\n",
        "plt.xlabel(\"X16\")\n",
        "plt.show()\n",
        "\n",
        "plt.hist(df[\"X17\"])\n",
        "plt.xlabel(\"X17\")\n",
        "plt.show()\n",
        "\n",
        "\n",
        "plt.hist(df[\"X18\"])\n",
        "plt.xlabel(\"X18\")\n",
        "plt.show()\n",
        "\n",
        "plt.hist(df[\"X19\"])\n",
        "plt.xlabel(\"X19\")\n",
        "plt.show()\n",
        "\n",
        "plt.hist(df[\"X20\"])\n",
        "plt.xlabel(\"X20\")\n",
        "plt.show()\n",
        "\n",
        "plt.hist(df[\"X21\"])\n",
        "plt.xlabel(\"X21\")\n",
        "plt.show()\n",
        "\n",
        "plt.hist(df[\"X22\"])\n",
        "plt.xlabel(\"X22\")\n",
        "plt.show()\n",
        "\n",
        "plt.hist(df[\"X23\"])\n",
        "plt.xlabel(\"X23\")\n",
        "plt.show()"
      ]
    },
    {
      "cell_type": "code",
      "execution_count": null,
      "metadata": {},
      "outputs": [
        {
          "name": "stdout",
          "output_type": "stream",
          "text": [
            "[[0.1659904  0.03265449 0.37226601 0.38306419 0.38807723 0.39135951\n",
            "  0.38829867 0.3804637  0.13544008 0.11702017 0.12830991 0.11714199\n",
            "  0.11400976 0.10571625 0.01919546]\n",
            " [0.31228989 0.06508    0.18567542 0.1713144  0.12646    0.1210134\n",
            "  0.10764455 0.09643585 0.37246914 0.39321395 0.37770023 0.33835848\n",
            "  0.29619756 0.31481417 0.21344015]]\n"
          ]
        }
      ],
      "source": [
        "print(abs( pca.components_ ))"
      ]
    },
    {
      "cell_type": "markdown",
      "metadata": {},
      "source": [
        "## 9. Realiza la visualización de los datos usando por lo menos 3 gráficos que consideres adecuados: plot, scatter, jointplot, boxplot, areaplot, pie chart, pairplot, bar chart, etc."
      ]
    },
    {
      "cell_type": "code",
      "execution_count": 118,
      "metadata": {},
      "outputs": [
        {
          "name": "stderr",
          "output_type": "stream",
          "text": [
            "C:\\Users\\irvin\\AppData\\Local\\Packages\\PythonSoftwareFoundation.Python.3.10_qbz5n2kfra8p0\\LocalCache\\local-packages\\Python310\\site-packages\\seaborn\\categorical.py:470: FutureWarning: iteritems is deprecated and will be removed in a future version. Use .items instead.\n",
            "  plot_data = [np.asarray(s, float) for k, s in iter_data]\n"
          ]
        },
        {
          "data": {
            "image/png": "[encoded data removed]",
            "text/plain": [
              "<Figure size 200x400 with 1 Axes>"
            ]
          },
          "metadata": {},
          "output_type": "display_data"
        }
      ],
      "source": [
        "import seaborn as sns \n",
        "# Grafico 1\n",
        "# box plot de edad\n",
        "\n",
        "sns.set(rc={'figure.figsize':(2,4)})\n",
        "sns.boxplot(data=df[[\"X5\"]])\n",
        "plt.show()"
      ]
    },
    {
      "cell_type": "code",
      "execution_count": 116,
      "metadata": {},
      "outputs": [
        {
          "data": {
            "image/png": "[encoded data removed]",
            "text/plain": [
              "<Figure size 300x1000 with 1 Axes>"
            ]
          },
          "metadata": {},
          "output_type": "display_data"
        }
      ],
      "source": [
        "import matplotlib.pyplot as plt\n",
        "\n",
        "# Grafico 2\n",
        "# Total del crédito\n",
        "\n",
        "##sns.set(rc={'figure.figsize':(3,10)})\n",
        "##sns.boxplot(data=df[[\"X1\"]])\n",
        "##plt.show()\n",
        "\n",
        "plt.scatter(df.X5, df.X1)\n",
        "plt.show()"
      ]
    },
    {
      "cell_type": "code",
      "execution_count": 120,
      "metadata": {},
      "outputs": [
        {
          "data": {
            "text/plain": [
              "<seaborn.axisgrid.PairGrid at 0x2102ab20b50>"
            ]
          },
          "execution_count": 120,
          "metadata": {},
          "output_type": "execute_result"
        },
        {
          "data": {
            "image/png": "[encoded data removed]",
            "text/plain": [
              "<Figure size 500x500 with 6 Axes>"
            ]
          },
          "metadata": {},
          "output_type": "display_data"
        }
      ],
      "source": [
        "# Grafico 3\n",
        "\n",
        "#Utilizamos Pairplot de seaborn para comparar la edad con el monto del crédito\n",
        "\n",
        "sns.pairplot(data=df[[\"X5\", \"Y\"]], kind=\"kde\")"
      ]
    },
    {
      "cell_type": "markdown",
      "metadata": {},
      "source": [
        "## 10. Interpreta y explica cada uno de los gráficos indicando cuál es la información más relevante que podría ayudar en el proceso de toma de decisiones."
      ]
    },
    {
      "cell_type": "markdown",
      "metadata": {},
      "source": [
        "### Gráfica 1 - Boxplot de Edad\n",
        "Esta gráfica nos muestra claramente que los valores van de los 21 a los 60, con algunos outliers entre 60 y 80 años de edad. Además, nos muestra que el 50% de los clientes están entre 29 y 41 años y que el 50% está en 35 años. Esta gráfica explica claramente la distribución demográfica de los clientes\n",
        "\n",
        "### Gráfica 2 - Scatter de Edad vs Monto del crédito\n",
        "Aquí podemos ver claramente los outliers de Edad hacia la derecha y los de Monto del crédito hacia arriba. La mayoría de los créditos son otorgados a personas jóvenes y se nota que los créditos más altos son para personas más jóvenes. Está gráfica nos muestra varias líneas horizontales en todos los niveles, que potencialmente nos muestra el techo de crédito que se otorga con respecto a otros factores diferentes a la edad (líneas horizontales en varios niveles de la gráfica)\n",
        "\n",
        "### Gráfica 3 - Pairplot de Monto del crédito vs Edad\n",
        "En esta gráfica podemos observar lo que ya habíamos visto de las 2 primeras, que es"
      ]
    }
  ],
  "metadata": {
    "colab": {
      "provenance": []
    },
    "kernelspec": {
      "display_name": "Python 3.10.7 64-bit (microsoft store)",
      "language": "python",
      "name": "python3"
    },
    "language_info": {
      "codemirror_mode": {
        "name": "ipython",
        "version": 3
      },
      "file_extension": ".py",
      "mimetype": "text/x-python",
      "name": "python",
      "nbconvert_exporter": "python",
      "pygments_lexer": "ipython3",
      "version": "3.10.8"
    },
    "vscode": {
      "interpreter": {
        "hash": "fc52375c3051f8bbc0a735b7da33f92cf3a9b2e994f8cd2368999e1c94828124"
      }
    }
  },
  "nbformat": 4,
  "nbformat_minor": 0
}
