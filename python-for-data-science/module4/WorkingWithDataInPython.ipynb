{
 "cells": [
  {
   "cell_type": "markdown",
   "metadata": {},
   "source": [
    "Module 4\n",
    "Irvin Gómez Esquivel - A00361034"
   ]
  },
  {
   "cell_type": "code",
   "execution_count": 1,
   "metadata": {},
   "outputs": [
    {
     "name": "stdout",
     "output_type": "stream",
     "text": [
      "Ejemplo_Irvin.txt\n"
     ]
    }
   ],
   "source": [
    "#open function\n",
    "\n",
    "File1 = open(\"Ejemplo_Irvin.txt\", \"w\")\n",
    "print (File1.name)\n",
    "File1.close()"
   ]
  },
  {
   "cell_type": "code",
   "execution_count": 3,
   "metadata": {},
   "outputs": [
    {
     "name": "stdout",
     "output_type": "stream",
     "text": [
      "linea 1\n",
      "linea 2\n",
      "linea 3\n",
      "True\n",
      "linea 1\n",
      "linea 2\n",
      "linea 3\n"
     ]
    }
   ],
   "source": [
    "#vamos a usar with para cerrar el archivo automáticamente\n",
    "\n",
    "with open(\"Ejemplo_Irvin.txt\", \"r\") as File1:\n",
    "    file_stuff=File1.read()\n",
    "    print (file_stuff)\n",
    "print (File1.closed)\n",
    "print(file_stuff)"
   ]
  },
  {
   "cell_type": "code",
   "execution_count": 4,
   "metadata": {},
   "outputs": [
    {
     "name": "stdout",
     "output_type": "stream",
     "text": [
      "['linea 1\\n', 'linea 2\\n', 'linea 3']\n"
     ]
    }
   ],
   "source": [
    "#vamos a leer cada linea como un elemento de un arreglo\n",
    "with open(\"Ejemplo_Irvin.txt\", \"r\") as File1:\n",
    "    file_stuff=File1.readlines()\n",
    "    print (file_stuff)\n"
   ]
  },
  {
   "cell_type": "code",
   "execution_count": 6,
   "metadata": {},
   "outputs": [
    {
     "name": "stdout",
     "output_type": "stream",
     "text": [
      "linea 1\n",
      "\n",
      "linea 2\n",
      "\n"
     ]
    }
   ],
   "source": [
    "#vamos a leer la primer línea\n",
    "with open(\"Ejemplo_Irvin.txt\", \"r\") as File1:\n",
    "    file_stuff=File1.readline()\n",
    "    print (file_stuff)\n",
    "    #vamos a leer la segunda\n",
    "    file_stuff=File1.readline()\n",
    "    print (file_stuff)"
   ]
  },
  {
   "cell_type": "code",
   "execution_count": 7,
   "metadata": {},
   "outputs": [
    {
     "name": "stdout",
     "output_type": "stream",
     "text": [
      "linea 1\n",
      "\n",
      "linea 2\n",
      "\n",
      "linea 3\n"
     ]
    }
   ],
   "source": [
    "#vamos imprimir cada línea con un ciclo\n",
    "with open(\"Ejemplo_Irvin.txt\", \"r\") as File1:\n",
    "    for line in File1:\n",
    "        print (line)"
   ]
  },
  {
   "cell_type": "code",
   "execution_count": 13,
   "metadata": {},
   "outputs": [
    {
     "name": "stdout",
     "output_type": "stream",
     "text": [
      "['linea 1\\n', 'linea 2\\n']\n"
     ]
    }
   ],
   "source": [
    "#leemos solo unos caracteres del archivo\n",
    "with open(\"Ejemplo_Irvin.txt\", \"r\") as File1:\n",
    "    file_stuff=File1.readlines(4)\n",
    "    print (file_stuff)"
   ]
  },
  {
   "cell_type": "code",
   "execution_count": 14,
   "metadata": {},
   "outputs": [
    {
     "name": "stdout",
     "output_type": "stream",
     "text": [
      "['linea 1\\n']\n",
      "['linea 2\\n']\n",
      "['linea 3']\n"
     ]
    }
   ],
   "source": [
    "#cada vez que llamamos readlines otra vez, progresamos por el texto\n",
    "with open(\"Ejemplo_Irvin.txt\", \"r\") as File1:\n",
    "    file_stuff=File1.readlines(4)\n",
    "    print (file_stuff)\n",
    "    file_stuff=File1.readlines(4)\n",
    "    print (file_stuff)\n",
    "    file_stuff=File1.readlines(8)\n",
    "    print (file_stuff)"
   ]
  },
  {
   "cell_type": "markdown",
   "metadata": {},
   "source": [
    "Aquí empieza el video Writting Files with Open"
   ]
  },
  {
   "cell_type": "code",
   "execution_count": 15,
   "metadata": {},
   "outputs": [],
   "source": [
    "#abrimos el archivo como escritura, usamos with\n",
    "with open(\"Ejemplo2_Irvin.txt\", \"w\") as File1:\n",
    "    File1.write(\"Ayrton Senna was the best\")\n"
   ]
  },
  {
   "cell_type": "code",
   "execution_count": null,
   "metadata": {},
   "outputs": [],
   "source": [
    "#abrimos el archivo como escritura, usamos with, escribimos varias líneas\n",
    "with open(\"Ejemplo2_Irvin.txt\", \"w\") as File1:\n",
    "    File1.write(\"Ayrton Senna was the best \\n\")\n",
    "    File1.write(\"Fangio was not bad either \\n\")"
   ]
  },
  {
   "cell_type": "code",
   "execution_count": 16,
   "metadata": {},
   "outputs": [],
   "source": [
    "#escribimos las líneas que vienen de un arreglo\n",
    "Lines=[\"Ayrton Senna was the best \\n\",\"Fangio was not bad either \\n\",\"Schumacher was on the same league.\"]\n",
    "with open(\"Ejemplo2_Irvin.txt\", \"w\") as File1:\n",
    "    for line in Lines:\n",
    "        File1.write(line)\n"
   ]
  },
  {
   "cell_type": "code",
   "execution_count": 17,
   "metadata": {},
   "outputs": [],
   "source": [
    "#ahora intentamos con append, no creará un archivo nuevo\n",
    "with open(\"Ejemplo2_Irvin.txt\", \"a\") as File1:\n",
    "    File1.write(\"Jim Clark was a legend \\n\")"
   ]
  },
  {
   "cell_type": "code",
   "execution_count": 19,
   "metadata": {},
   "outputs": [],
   "source": [
    "#copiamos un archivo a otro\n",
    "with open(\"Ejemplo2_Irvin.txt\", \"r\") as source:\n",
    "    with open(\"Ejemplo3_Irvin.txt\", \"w\") as destination:\n",
    "        for line in source:\n",
    "            destination.write(line)"
   ]
  },
  {
   "cell_type": "markdown",
   "metadata": {},
   "source": [
    "Aquí sigue el video Loading Data with Pandas"
   ]
  },
  {
   "cell_type": "code",
   "execution_count": 20,
   "metadata": {},
   "outputs": [],
   "source": [
    "#vamos a usar pandas\n",
    "import pandas\n",
    "\n",
    "csv_path=\"file1.csv\"\n",
    "df=pandas.read_csv(csv_path)"
   ]
  },
  {
   "cell_type": "code",
   "execution_count": 21,
   "metadata": {},
   "outputs": [],
   "source": [
    "#vamos a usar pandas con alias pd\n",
    "import pandas as pd\n",
    "\n",
    "csv_path=\"file1.csv\"\n",
    "df=pd.read_csv(csv_path)"
   ]
  },
  {
   "cell_type": "code",
   "execution_count": 22,
   "metadata": {},
   "outputs": [
    {
     "data": {
      "text/html": [
       "<div>\n",
       "<style scoped>\n",
       "    .dataframe tbody tr th:only-of-type {\n",
       "        vertical-align: middle;\n",
       "    }\n",
       "\n",
       "    .dataframe tbody tr th {\n",
       "        vertical-align: top;\n",
       "    }\n",
       "\n",
       "    .dataframe thead th {\n",
       "        text-align: right;\n",
       "    }\n",
       "</style>\n",
       "<table border=\"1\" class=\"dataframe\">\n",
       "  <thead>\n",
       "    <tr style=\"text-align: right;\">\n",
       "      <th></th>\n",
       "      <th>Make</th>\n",
       "      <th>Model</th>\n",
       "      <th>Year</th>\n",
       "      <th>Milage</th>\n",
       "    </tr>\n",
       "  </thead>\n",
       "  <tbody>\n",
       "    <tr>\n",
       "      <th>0</th>\n",
       "      <td>Mazda</td>\n",
       "      <td>Mazda6</td>\n",
       "      <td>2014</td>\n",
       "      <td>150000</td>\n",
       "    </tr>\n",
       "    <tr>\n",
       "      <th>1</th>\n",
       "      <td>Mazda</td>\n",
       "      <td>Mazda3</td>\n",
       "      <td>2022</td>\n",
       "      <td>9000</td>\n",
       "    </tr>\n",
       "    <tr>\n",
       "      <th>2</th>\n",
       "      <td>Suzuki</td>\n",
       "      <td>Swift</td>\n",
       "      <td>2008</td>\n",
       "      <td>120000</td>\n",
       "    </tr>\n",
       "    <tr>\n",
       "      <th>3</th>\n",
       "      <td>Ford</td>\n",
       "      <td>Escort</td>\n",
       "      <td>1999</td>\n",
       "      <td>150000</td>\n",
       "    </tr>\n",
       "    <tr>\n",
       "      <th>4</th>\n",
       "      <td>Chrysler</td>\n",
       "      <td>Phantom</td>\n",
       "      <td>1990</td>\n",
       "      <td>120000</td>\n",
       "    </tr>\n",
       "  </tbody>\n",
       "</table>\n",
       "</div>"
      ],
      "text/plain": [
       "       Make     Model   Year   Milage\n",
       "0     Mazda    Mazda6   2014   150000\n",
       "1     Mazda    Mazda3   2022     9000\n",
       "2    Suzuki     Swift   2008   120000\n",
       "3      Ford    Escort   1999   150000\n",
       "4  Chrysler   Phantom   1990   120000"
      ]
     },
     "execution_count": 22,
     "metadata": {},
     "output_type": "execute_result"
    }
   ],
   "source": [
    "#vamos a usar un data frame\n",
    "import pandas as pd\n",
    "\n",
    "csv_path=\"file1.csv\"\n",
    "df=pd.read_csv(csv_path)\n",
    "df.head()"
   ]
  },
  {
   "cell_type": "code",
   "execution_count": 24,
   "metadata": {},
   "outputs": [
    {
     "data": {
      "text/html": [
       "<div>\n",
       "<style scoped>\n",
       "    .dataframe tbody tr th:only-of-type {\n",
       "        vertical-align: middle;\n",
       "    }\n",
       "\n",
       "    .dataframe tbody tr th {\n",
       "        vertical-align: top;\n",
       "    }\n",
       "\n",
       "    .dataframe thead th {\n",
       "        text-align: right;\n",
       "    }\n",
       "</style>\n",
       "<table border=\"1\" class=\"dataframe\">\n",
       "  <thead>\n",
       "    <tr style=\"text-align: right;\">\n",
       "      <th></th>\n",
       "      <th>Album</th>\n",
       "      <th>Released</th>\n",
       "      <th>Length</th>\n",
       "    </tr>\n",
       "  </thead>\n",
       "  <tbody>\n",
       "    <tr>\n",
       "      <th>0</th>\n",
       "      <td>A night at the Opera</td>\n",
       "      <td>1975</td>\n",
       "      <td>00:59:12</td>\n",
       "    </tr>\n",
       "    <tr>\n",
       "      <th>1</th>\n",
       "      <td>Led Zeppelin IV</td>\n",
       "      <td>1971</td>\n",
       "      <td>00:42:35</td>\n",
       "    </tr>\n",
       "    <tr>\n",
       "      <th>2</th>\n",
       "      <td>Images and Words</td>\n",
       "      <td>1992</td>\n",
       "      <td>00:48:23</td>\n",
       "    </tr>\n",
       "    <tr>\n",
       "      <th>3</th>\n",
       "      <td>All that you can't leve behind</td>\n",
       "      <td>2001</td>\n",
       "      <td>00:55:06</td>\n",
       "    </tr>\n",
       "  </tbody>\n",
       "</table>\n",
       "</div>"
      ],
      "text/plain": [
       "                            Album  Released    Length\n",
       "0            A night at the Opera      1975  00:59:12\n",
       "1                 Led Zeppelin IV      1971  00:42:35\n",
       "2                Images and Words      1992  00:48:23\n",
       "3  All that you can't leve behind      2001  00:55:06"
      ]
     },
     "execution_count": 24,
     "metadata": {},
     "output_type": "execute_result"
    }
   ],
   "source": [
    "#trabajando con dataframes\n",
    "import pandas as pd\n",
    "songs = {\"Album\":[\"A night at the Opera\", \"Led Zeppelin IV\", \"Images and Words\", \"All that you can't leve behind\"], \"Released\": [1975,1971,1992,2001], \"Length\":[\"00:59:12\",\"00:42:35\",\"00:48:23\",\"00:55:06\"]}\n",
    "songs_frame = pd.DataFrame(songs)\n",
    "songs_frame.head()\n"
   ]
  },
  {
   "cell_type": "code",
   "execution_count": 26,
   "metadata": {},
   "outputs": [
    {
     "data": {
      "text/html": [
       "<div>\n",
       "<style scoped>\n",
       "    .dataframe tbody tr th:only-of-type {\n",
       "        vertical-align: middle;\n",
       "    }\n",
       "\n",
       "    .dataframe tbody tr th {\n",
       "        vertical-align: top;\n",
       "    }\n",
       "\n",
       "    .dataframe thead th {\n",
       "        text-align: right;\n",
       "    }\n",
       "</style>\n",
       "<table border=\"1\" class=\"dataframe\">\n",
       "  <thead>\n",
       "    <tr style=\"text-align: right;\">\n",
       "      <th></th>\n",
       "      <th>Length</th>\n",
       "    </tr>\n",
       "  </thead>\n",
       "  <tbody>\n",
       "    <tr>\n",
       "      <th>0</th>\n",
       "      <td>00:59:12</td>\n",
       "    </tr>\n",
       "    <tr>\n",
       "      <th>1</th>\n",
       "      <td>00:42:35</td>\n",
       "    </tr>\n",
       "    <tr>\n",
       "      <th>2</th>\n",
       "      <td>00:48:23</td>\n",
       "    </tr>\n",
       "    <tr>\n",
       "      <th>3</th>\n",
       "      <td>00:55:06</td>\n",
       "    </tr>\n",
       "  </tbody>\n",
       "</table>\n",
       "</div>"
      ],
      "text/plain": [
       "     Length\n",
       "0  00:59:12\n",
       "1  00:42:35\n",
       "2  00:48:23\n",
       "3  00:55:06"
      ]
     },
     "execution_count": 26,
     "metadata": {},
     "output_type": "execute_result"
    }
   ],
   "source": [
    "#trabajando con dataframes obteniendo un frame de una columna\n",
    "import pandas as pd\n",
    "songs = {\"Album\":[\"A night at the Opera\", \"Led Zeppelin IV\", \"Images and Words\", \"All that you can't leve behind\"], \"Released\": [1975,1971,1992,2001], \"Length\":[\"00:59:12\",\"00:42:35\",\"00:48:23\",\"00:55:06\"]}\n",
    "songs_frame = pd.DataFrame(songs)\n",
    "x = songs_frame[[\"Length\"]]\n",
    "x.head()"
   ]
  },
  {
   "cell_type": "code",
   "execution_count": 40,
   "metadata": {},
   "outputs": [
    {
     "data": {
      "text/html": [
       "<div>\n",
       "<style scoped>\n",
       "    .dataframe tbody tr th:only-of-type {\n",
       "        vertical-align: middle;\n",
       "    }\n",
       "\n",
       "    .dataframe tbody tr th {\n",
       "        vertical-align: top;\n",
       "    }\n",
       "\n",
       "    .dataframe thead th {\n",
       "        text-align: right;\n",
       "    }\n",
       "</style>\n",
       "<table border=\"1\" class=\"dataframe\">\n",
       "  <thead>\n",
       "    <tr style=\"text-align: right;\">\n",
       "      <th></th>\n",
       "      <th>a</th>\n",
       "      <th>b</th>\n",
       "    </tr>\n",
       "  </thead>\n",
       "  <tbody>\n",
       "    <tr>\n",
       "      <th>0</th>\n",
       "      <td>11</td>\n",
       "      <td>21</td>\n",
       "    </tr>\n",
       "    <tr>\n",
       "      <th>1</th>\n",
       "      <td>21</td>\n",
       "      <td>22</td>\n",
       "    </tr>\n",
       "    <tr>\n",
       "      <th>2</th>\n",
       "      <td>31</td>\n",
       "      <td>23</td>\n",
       "    </tr>\n",
       "  </tbody>\n",
       "</table>\n",
       "</div>"
      ],
      "text/plain": [
       "    a   b\n",
       "0  11  21\n",
       "1  21  22\n",
       "2  31  23"
      ]
     },
     "execution_count": 40,
     "metadata": {},
     "output_type": "execute_result"
    }
   ],
   "source": [
    "#question 2\n",
    "\n",
    "\n",
    "import pandas as banana\n",
    "\n",
    "df=banana.DataFrame({'a':[11,21,31],'b':[21,22,23]})\n",
    "\n",
    "df.head()\n"
   ]
  },
  {
   "cell_type": "markdown",
   "metadata": {},
   "source": [
    "Aquí inicia el vide Working with and Saving Data with Pandas"
   ]
  }
 ],
 "metadata": {
  "kernelspec": {
   "display_name": "Python 3.10.7 64-bit (microsoft store)",
   "language": "python",
   "name": "python3"
  },
  "language_info": {
   "codemirror_mode": {
    "name": "ipython",
    "version": 3
   },
   "file_extension": ".py",
   "mimetype": "text/x-python",
   "name": "python",
   "nbconvert_exporter": "python",
   "pygments_lexer": "ipython3",
   "version": "3.10.7"
  },
  "orig_nbformat": 4,
  "vscode": {
   "interpreter": {
    "hash": "fc52375c3051f8bbc0a735b7da33f92cf3a9b2e994f8cd2368999e1c94828124"
   }
  }
 },
 "nbformat": 4,
 "nbformat_minor": 2
}
