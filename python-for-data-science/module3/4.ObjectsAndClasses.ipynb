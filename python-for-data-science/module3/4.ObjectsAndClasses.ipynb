{
 "cells": [
  {
   "cell_type": "markdown",
   "metadata": {},
   "source": [
    "Module 3 - Objects and Classes\n",
    "Irvin Gomez Esquivel A00361034"
   ]
  },
  {
   "cell_type": "code",
   "execution_count": 1,
   "metadata": {},
   "outputs": [
    {
     "data": {
      "text/plain": [
       "list"
      ]
     },
     "execution_count": 1,
     "metadata": {},
     "output_type": "execute_result"
    }
   ],
   "source": [
    "type([1,34,4])"
   ]
  },
  {
   "cell_type": "code",
   "execution_count": 3,
   "metadata": {},
   "outputs": [
    {
     "data": {
      "text/plain": [
       "dict"
      ]
     },
     "execution_count": 3,
     "metadata": {},
     "output_type": "execute_result"
    }
   ],
   "source": [
    "type({\"dog\":1, \"cat\":2})"
   ]
  },
  {
   "cell_type": "code",
   "execution_count": 5,
   "metadata": {},
   "outputs": [
    {
     "data": {
      "text/plain": [
       "[1, 2, 2, 3, 3, 4, 4, 5, 5, 7, 67]"
      ]
     },
     "execution_count": 5,
     "metadata": {},
     "output_type": "execute_result"
    }
   ],
   "source": [
    "Ratings=[1,5,4,2,67,4,2,3,3,5,7]\n",
    "Ratings.sort()\n",
    "Ratings"
   ]
  },
  {
   "cell_type": "code",
   "execution_count": 11,
   "metadata": {},
   "outputs": [
    {
     "name": "stdout",
     "output_type": "stream",
     "text": [
      "red\n",
      "Blue\n",
      "110\n"
     ]
    }
   ],
   "source": [
    "class Circle(object):\n",
    "    def __init__(self, radius, color):\n",
    "        self.radius=radius;\n",
    "        self.color=color;\n",
    "    def addRadius(self, r):\n",
    "        self.radius=self.radius+r\n",
    "        \n",
    "class Rectangle(object):\n",
    "    def __init__(self, height, width, color):\n",
    "        self.height=height;\n",
    "        self.color=color;\n",
    "        self.width=width;\n",
    "\n",
    "RedCircle=Circle(10,\"red\")\n",
    "BlueRectangle = Rectangle(10,20,\"Blue\")\n",
    "\n",
    "print(RedCircle.color)\n",
    "print(BlueRectangle.color)\n",
    "RedCircle.addRadius(100)\n",
    "print(RedCircle.radius)"
   ]
  },
  {
   "cell_type": "code",
   "execution_count": 14,
   "metadata": {},
   "outputs": [
    {
     "name": "stdout",
     "output_type": "stream",
     "text": [
      "Honda\n",
      "make:  Honda\n",
      "model: Accord\n",
      "color: Accord\n",
      "number of owners: 0\n"
     ]
    }
   ],
   "source": [
    "class Car(object):\n",
    "    def __init__(self, make, model, color):\n",
    "        self.make=make;\n",
    "        self.model=model;\n",
    "        self.color=model;\n",
    "        self.owner_number=0\n",
    "    def car_info(self):\n",
    "        print(\"make: \",self.make)\n",
    "        print(\"model:\", self.model)\n",
    "        print(\"color:\",self.color)\n",
    "        print(\"number of owners:\",self.owner_number)\n",
    "    def sell(self):\n",
    "        self.owner_number=self.owner_number+1\n",
    "\n",
    "newCar=Car(make=\"Honda\",model=\"Accord\",color=\"blue\")\n",
    "newCar2=Car(\"Honda\",\"Accord\",\"blue\") \n",
    "newCar3=Car(model=\"Accord\",make=\"Honda\",color=\"blue\") \n",
    "newCar4=Car(\"Accord\",\"Honda\",\"blue\") \n",
    "\n",
    "print(newCar4.model)\n",
    "newCar.car_info()"
   ]
  }
 ],
 "metadata": {
  "kernelspec": {
   "display_name": "Python 3.10.7 64-bit (microsoft store)",
   "language": "python",
   "name": "python3"
  },
  "language_info": {
   "codemirror_mode": {
    "name": "ipython",
    "version": 3
   },
   "file_extension": ".py",
   "mimetype": "text/x-python",
   "name": "python",
   "nbconvert_exporter": "python",
   "pygments_lexer": "ipython3",
   "version": "3.10.7"
  },
  "orig_nbformat": 4,
  "vscode": {
   "interpreter": {
    "hash": "fc52375c3051f8bbc0a735b7da33f92cf3a9b2e994f8cd2368999e1c94828124"
   }
  }
 },
 "nbformat": 4,
 "nbformat_minor": 2
}
