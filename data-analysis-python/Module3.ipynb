{
  "cells": [
    {
      "cell_type": "markdown",
      "metadata": {
        "id": "HJ7HR3pF_zB5"
      },
      "source": [
        "# Ciencia y Analítica de Datos\n",
        "## Curso IBM - Data Analysis with Python\n",
        "### Module 3 - Exploratory Data Analysis\n",
        "### Irvin Gomez Esquivel - A00361034"
      ]
    },
    {
      "cell_type": "markdown",
      "metadata": {
        "id": "dum76n2C_zB7"
      },
      "source": [
        "### EDA Análisis de Datos Exploratorio\n",
        "Sumariza características principales de los datos\n",
        "Obtiene mejor entendimiento del dataset\n",
        "Descubre relaciones entre diferentes variables\n",
        "Extra variables importantes"
      ]
    },
    {
      "cell_type": "markdown",
      "metadata": {
        "id": "38RLBpF3_zB8"
      },
      "source": [
        "### Descriptive Statistics\n",
        "\n",
        "describe() function on pandas"
      ]
    },
    {
      "cell_type": "code",
      "execution_count": null,
      "metadata": {
        "id": "Mo1ZgPKz_zB9"
      },
      "outputs": [],
      "source": [
        "df.describe()\n",
        "df[\"drive-wheels\"].value-counts()"
      ]
    },
    {
      "cell_type": "markdown",
      "metadata": {
        "id": "CH1Y4Fl5_zB-"
      },
      "source": [
        "Boxplots es una buena forma graficar los datos, facilitan la comparación de la distribución entre grupos"
      ]
    },
    {
      "cell_type": "code",
      "execution_count": null,
      "metadata": {
        "id": "hK5FKPth_zB_"
      },
      "outputs": [],
      "source": [
        "# Scatter Plots se usa para graficar la relación entre 2 variables\n",
        "y = df[\"engine-size\"]\n",
        "x = df[\"price\"]\n",
        "plt.scatter(x,y)\n"
      ]
    },
    {
      "cell_type": "markdown",
      "metadata": {
        "id": "WiUexA1d_zB_"
      },
      "source": [
        "### Group by in Python"
      ]
    },
    {
      "cell_type": "code",
      "execution_count": null,
      "metadata": {
        "id": "8S4m3X1v_zB_"
      },
      "outputs": [],
      "source": [
        "df.Groupby()\n",
        "# se puede aplicar a variables categóricas\n",
        "# agrupar variables en categorías\n",
        "# una o múltiples variables\n",
        "\n",
        "df_test = df[[\"drive-wheels\", \"body-style\", \"price\"]]\n",
        "df_grp = df_test.groupby([\"drive-wheels\", \"body-styke\"], as_index=False).mean()\n",
        "df_grp"
      ]
    },
    {
      "cell_type": "code",
      "execution_count": null,
      "metadata": {
        "id": "1syEWzDf_zCA"
      },
      "outputs": [],
      "source": [
        "# We can transform to a pivot table.\n",
        "\n",
        "df_pivot = df_grp.pivoc(index = \"drive-wheels\", columns=\"body-style\")"
      ]
    },
    {
      "cell_type": "code",
      "execution_count": null,
      "metadata": {
        "id": "BbnmrnL9_zCB"
      },
      "outputs": [],
      "source": [
        "# another way to visualize is with a heathmap\n",
        "\n",
        "plt.pcolor(df_pivot, cmap=\"RdBu\")\n",
        "plt.colorbar()\n",
        "plt.show()"
      ]
    },
    {
      "cell_type": "markdown",
      "metadata": {
        "id": "98T9eSvM_zCB"
      },
      "source": [
        "### Analisis of Variance\n",
        "\n",
        "Ayuda a encontrar correlación entre múltiples grupos de una variable categórica.\n"
      ]
    },
    {
      "cell_type": "code",
      "execution_count": null,
      "metadata": {
        "id": "kdnS_HNk_zCB"
      },
      "outputs": [],
      "source": [
        "df_anova=df[[\"make\", \"price\"]]\n",
        "grouped_anova=df_anova.groupb([[\"make\"]])\n",
        "anova_results_l = stats.f_oneway(grouped_anova.get_group(\"honda\")[\"price\"], grouped_anova.get_group(\"subaru\")[\"price\"])\n",
        "\n",
        "#hacemos lo mismo para jaguar\n",
        "anova_results_l = stats.f_oneway(grouped_anova.get_group(\"honda\")[\"price\"], grouped_anova.get_group(\"jaguar\")[\"price\"])"
      ]
    },
    {
      "cell_type": "markdown",
      "metadata": {
        "id": "eE4r9RtB_zCC"
      },
      "source": [
        "### Correlación\n",
        "Es una medida estadísitca para saber que tan dependientes/independientes son las variables\n",
        "Correlation doesn't imply causation."
      ]
    },
    {
      "cell_type": "code",
      "execution_count": null,
      "metadata": {
        "id": "vhuX5qhh_zCC"
      },
      "outputs": [],
      "source": [
        "#Visualicemos la correlación entre 2 características: tamaño del motor y precio\n",
        "\n",
        "sns.regplot(x=\"engine-size\", y=\"prices\", data=df)\n",
        "plt.ylim(0,)\n",
        "\n",
        "#visualizamos la correlación entre millas por galón y precio\n",
        "\n",
        "sns.regplot(x=\"mpg\", y=\"prices\", data=df)\n",
        "plt.ylim(0,)\n",
        "\n",
        "#visualizamos la correlación entre rpm y precio\n",
        "\n",
        "sns.regplot(x=\"rpm\", y=\"prices\", data=df)\n",
        "plt.ylim(0,)"
      ]
    },
    {
      "cell_type": "markdown",
      "metadata": {
        "id": "_Nszgq7e_zCD"
      },
      "source": [
        "### Correlation - Statistics"
      ]
    },
    {
      "cell_type": "code",
      "execution_count": null,
      "metadata": {
        "id": "ewulL7SB_zCD"
      },
      "outputs": [],
      "source": [
        "# Correlación de pearson\n",
        "#valor 1 correlación positiva\n",
        "#valor -1 correlación negativa\n",
        "#valor 0 no hay relación"
      ]
    },
    {
      "cell_type": "code",
      "execution_count": null,
      "metadata": {
        "id": "aMWlZOsQ_zCD"
      },
      "outputs": [],
      "source": [
        "pearson_coef, p_value = stats.pearsonr(df[\"horsepower\"], df[\"price\"])"
      ]
    },
    {
      "cell_type": "markdown",
      "metadata": {
        "id": "IQ0gLWM-_zCE"
      },
      "source": [
        "### Laboratorio"
      ]
    },
    {
      "cell_type": "code",
      "execution_count": null,
      "metadata": {
        "id": "V6loMCP5_zCE"
      },
      "outputs": [],
      "source": [
        "import pandas as pd\n",
        "import numpy as np"
      ]
    },
    {
      "cell_type": "code",
      "execution_count": null,
      "metadata": {
        "id": "h09WFZSn_zCF",
        "outputId": "cf2475ad-10b8-426f-f29e-d22a86c56931"
      },
      "outputs": [
        {
          "data": {
            "text/html": [
              "<div>\n",
              "<style scoped>\n",
              "    .dataframe tbody tr th:only-of-type {\n",
              "        vertical-align: middle;\n",
              "    }\n",
              "\n",
              "    .dataframe tbody tr th {\n",
              "        vertical-align: top;\n",
              "    }\n",
              "\n",
              "    .dataframe thead th {\n",
              "        text-align: right;\n",
              "    }\n",
              "</style>\n",
              "<table border=\"1\" class=\"dataframe\">\n",
              "  <thead>\n",
              "    <tr style=\"text-align: right;\">\n",
              "      <th></th>\n",
              "      <th>symboling</th>\n",
              "      <th>normalized-losses</th>\n",
              "      <th>make</th>\n",
              "      <th>aspiration</th>\n",
              "      <th>num-of-doors</th>\n",
              "      <th>body-style</th>\n",
              "      <th>drive-wheels</th>\n",
              "      <th>engine-location</th>\n",
              "      <th>wheel-base</th>\n",
              "      <th>length</th>\n",
              "      <th>...</th>\n",
              "      <th>compression-ratio</th>\n",
              "      <th>horsepower</th>\n",
              "      <th>peak-rpm</th>\n",
              "      <th>city-mpg</th>\n",
              "      <th>highway-mpg</th>\n",
              "      <th>price</th>\n",
              "      <th>city-L/100km</th>\n",
              "      <th>horsepower-binned</th>\n",
              "      <th>diesel</th>\n",
              "      <th>gas</th>\n",
              "    </tr>\n",
              "  </thead>\n",
              "  <tbody>\n",
              "    <tr>\n",
              "      <th>0</th>\n",
              "      <td>3</td>\n",
              "      <td>122</td>\n",
              "      <td>alfa-romero</td>\n",
              "      <td>std</td>\n",
              "      <td>two</td>\n",
              "      <td>convertible</td>\n",
              "      <td>rwd</td>\n",
              "      <td>front</td>\n",
              "      <td>88.6</td>\n",
              "      <td>0.811148</td>\n",
              "      <td>...</td>\n",
              "      <td>9.0</td>\n",
              "      <td>111.0</td>\n",
              "      <td>5000.0</td>\n",
              "      <td>21</td>\n",
              "      <td>27</td>\n",
              "      <td>13495.0</td>\n",
              "      <td>11.190476</td>\n",
              "      <td>Medium</td>\n",
              "      <td>0</td>\n",
              "      <td>1</td>\n",
              "    </tr>\n",
              "    <tr>\n",
              "      <th>1</th>\n",
              "      <td>3</td>\n",
              "      <td>122</td>\n",
              "      <td>alfa-romero</td>\n",
              "      <td>std</td>\n",
              "      <td>two</td>\n",
              "      <td>convertible</td>\n",
              "      <td>rwd</td>\n",
              "      <td>front</td>\n",
              "      <td>88.6</td>\n",
              "      <td>0.811148</td>\n",
              "      <td>...</td>\n",
              "      <td>9.0</td>\n",
              "      <td>111.0</td>\n",
              "      <td>5000.0</td>\n",
              "      <td>21</td>\n",
              "      <td>27</td>\n",
              "      <td>16500.0</td>\n",
              "      <td>11.190476</td>\n",
              "      <td>Medium</td>\n",
              "      <td>0</td>\n",
              "      <td>1</td>\n",
              "    </tr>\n",
              "    <tr>\n",
              "      <th>2</th>\n",
              "      <td>1</td>\n",
              "      <td>122</td>\n",
              "      <td>alfa-romero</td>\n",
              "      <td>std</td>\n",
              "      <td>two</td>\n",
              "      <td>hatchback</td>\n",
              "      <td>rwd</td>\n",
              "      <td>front</td>\n",
              "      <td>94.5</td>\n",
              "      <td>0.822681</td>\n",
              "      <td>...</td>\n",
              "      <td>9.0</td>\n",
              "      <td>154.0</td>\n",
              "      <td>5000.0</td>\n",
              "      <td>19</td>\n",
              "      <td>26</td>\n",
              "      <td>16500.0</td>\n",
              "      <td>12.368421</td>\n",
              "      <td>Medium</td>\n",
              "      <td>0</td>\n",
              "      <td>1</td>\n",
              "    </tr>\n",
              "    <tr>\n",
              "      <th>3</th>\n",
              "      <td>2</td>\n",
              "      <td>164</td>\n",
              "      <td>audi</td>\n",
              "      <td>std</td>\n",
              "      <td>four</td>\n",
              "      <td>sedan</td>\n",
              "      <td>fwd</td>\n",
              "      <td>front</td>\n",
              "      <td>99.8</td>\n",
              "      <td>0.848630</td>\n",
              "      <td>...</td>\n",
              "      <td>10.0</td>\n",
              "      <td>102.0</td>\n",
              "      <td>5500.0</td>\n",
              "      <td>24</td>\n",
              "      <td>30</td>\n",
              "      <td>13950.0</td>\n",
              "      <td>9.791667</td>\n",
              "      <td>Medium</td>\n",
              "      <td>0</td>\n",
              "      <td>1</td>\n",
              "    </tr>\n",
              "    <tr>\n",
              "      <th>4</th>\n",
              "      <td>2</td>\n",
              "      <td>164</td>\n",
              "      <td>audi</td>\n",
              "      <td>std</td>\n",
              "      <td>four</td>\n",
              "      <td>sedan</td>\n",
              "      <td>4wd</td>\n",
              "      <td>front</td>\n",
              "      <td>99.4</td>\n",
              "      <td>0.848630</td>\n",
              "      <td>...</td>\n",
              "      <td>8.0</td>\n",
              "      <td>115.0</td>\n",
              "      <td>5500.0</td>\n",
              "      <td>18</td>\n",
              "      <td>22</td>\n",
              "      <td>17450.0</td>\n",
              "      <td>13.055556</td>\n",
              "      <td>Medium</td>\n",
              "      <td>0</td>\n",
              "      <td>1</td>\n",
              "    </tr>\n",
              "  </tbody>\n",
              "</table>\n",
              "<p>5 rows × 29 columns</p>\n",
              "</div>"
            ],
            "text/plain": [
              "   symboling  normalized-losses         make aspiration num-of-doors  \\\n",
              "0          3                122  alfa-romero        std          two   \n",
              "1          3                122  alfa-romero        std          two   \n",
              "2          1                122  alfa-romero        std          two   \n",
              "3          2                164         audi        std         four   \n",
              "4          2                164         audi        std         four   \n",
              "\n",
              "    body-style drive-wheels engine-location  wheel-base    length  ...  \\\n",
              "0  convertible          rwd           front        88.6  0.811148  ...   \n",
              "1  convertible          rwd           front        88.6  0.811148  ...   \n",
              "2    hatchback          rwd           front        94.5  0.822681  ...   \n",
              "3        sedan          fwd           front        99.8  0.848630  ...   \n",
              "4        sedan          4wd           front        99.4  0.848630  ...   \n",
              "\n",
              "   compression-ratio  horsepower  peak-rpm city-mpg highway-mpg    price  \\\n",
              "0                9.0       111.0    5000.0       21          27  13495.0   \n",
              "1                9.0       111.0    5000.0       21          27  16500.0   \n",
              "2                9.0       154.0    5000.0       19          26  16500.0   \n",
              "3               10.0       102.0    5500.0       24          30  13950.0   \n",
              "4                8.0       115.0    5500.0       18          22  17450.0   \n",
              "\n",
              "  city-L/100km  horsepower-binned  diesel  gas  \n",
              "0    11.190476             Medium       0    1  \n",
              "1    11.190476             Medium       0    1  \n",
              "2    12.368421             Medium       0    1  \n",
              "3     9.791667             Medium       0    1  \n",
              "4    13.055556             Medium       0    1  \n",
              "\n",
              "[5 rows x 29 columns]"
            ]
          },
          "execution_count": 3,
          "metadata": {},
          "output_type": "execute_result"
        }
      ],
      "source": [
        "df = pd.read_csv('https://cf-courses-data.s3.us.cloud-object-storage.appdomain.cloud/IBMDeveloperSkillsNetwork-DA0101EN-SkillsNetwork/labs/Data%20files/automobileEDA.csv')\n",
        "df.head()"
      ]
    },
    {
      "cell_type": "code",
      "execution_count": null,
      "metadata": {
        "id": "-uh_AEU0_zCF"
      },
      "outputs": [],
      "source": [
        "import matplotlib.pyplot as plt\n",
        "import seaborn as sns\n",
        "%matplotlib inline "
      ]
    },
    {
      "cell_type": "code",
      "execution_count": null,
      "metadata": {
        "id": "6Imgwn0M_zCG",
        "outputId": "bdeba4ae-00a7-4b5f-8391-b1288aa313b7"
      },
      "outputs": [
        {
          "name": "stdout",
          "output_type": "stream",
          "text": [
            "symboling              int64\n",
            "normalized-losses      int64\n",
            "make                  object\n",
            "aspiration            object\n",
            "num-of-doors          object\n",
            "body-style            object\n",
            "drive-wheels          object\n",
            "engine-location       object\n",
            "wheel-base           float64\n",
            "length               float64\n",
            "width                float64\n",
            "height               float64\n",
            "curb-weight            int64\n",
            "engine-type           object\n",
            "num-of-cylinders      object\n",
            "engine-size            int64\n",
            "fuel-system           object\n",
            "bore                 float64\n",
            "stroke               float64\n",
            "compression-ratio    float64\n",
            "horsepower           float64\n",
            "peak-rpm             float64\n",
            "city-mpg               int64\n",
            "highway-mpg            int64\n",
            "price                float64\n",
            "city-L/100km         float64\n",
            "horsepower-binned     object\n",
            "diesel                 int64\n",
            "gas                    int64\n",
            "dtype: object\n"
          ]
        }
      ],
      "source": [
        "# list the data types for each column\n",
        "print(df.dtypes)"
      ]
    },
    {
      "cell_type": "markdown",
      "metadata": {
        "id": "xW844kTn_zCG"
      },
      "source": [
        "## Question 1. What is the datatype of the column \"peak-rpm\"?"
      ]
    },
    {
      "cell_type": "code",
      "execution_count": null,
      "metadata": {
        "id": "A2Rf1wcm_zCG",
        "outputId": "f0914b96-b00c-410b-ab44-0d810b1580bf"
      },
      "outputs": [
        {
          "name": "stdout",
          "output_type": "stream",
          "text": [
            "float64\n"
          ]
        }
      ],
      "source": [
        "print(df[\"peak-rpm\"].dtypes)"
      ]
    },
    {
      "cell_type": "code",
      "execution_count": null,
      "metadata": {
        "id": "YOOsxFXJ_zCH",
        "outputId": "83667f72-e124-4e03-9137-862a1af177e7"
      },
      "outputs": [
        {
          "name": "stderr",
          "output_type": "stream",
          "text": [
            "C:\\Users\\irvin\\AppData\\Local\\Temp\\ipykernel_27416\\1134722465.py:1: FutureWarning: The default value of numeric_only in DataFrame.corr is deprecated. In a future version, it will default to False. Select only valid columns or specify the value of numeric_only to silence this warning.\n",
            "  df.corr()\n"
          ]
        },
        {
          "data": {
            "text/html": [
              "<div>\n",
              "<style scoped>\n",
              "    .dataframe tbody tr th:only-of-type {\n",
              "        vertical-align: middle;\n",
              "    }\n",
              "\n",
              "    .dataframe tbody tr th {\n",
              "        vertical-align: top;\n",
              "    }\n",
              "\n",
              "    .dataframe thead th {\n",
              "        text-align: right;\n",
              "    }\n",
              "</style>\n",
              "<table border=\"1\" class=\"dataframe\">\n",
              "  <thead>\n",
              "    <tr style=\"text-align: right;\">\n",
              "      <th></th>\n",
              "      <th>symboling</th>\n",
              "      <th>normalized-losses</th>\n",
              "      <th>wheel-base</th>\n",
              "      <th>length</th>\n",
              "      <th>width</th>\n",
              "      <th>height</th>\n",
              "      <th>curb-weight</th>\n",
              "      <th>engine-size</th>\n",
              "      <th>bore</th>\n",
              "      <th>stroke</th>\n",
              "      <th>compression-ratio</th>\n",
              "      <th>horsepower</th>\n",
              "      <th>peak-rpm</th>\n",
              "      <th>city-mpg</th>\n",
              "      <th>highway-mpg</th>\n",
              "      <th>price</th>\n",
              "      <th>city-L/100km</th>\n",
              "      <th>diesel</th>\n",
              "      <th>gas</th>\n",
              "    </tr>\n",
              "  </thead>\n",
              "  <tbody>\n",
              "    <tr>\n",
              "      <th>symboling</th>\n",
              "      <td>1.000000</td>\n",
              "      <td>0.466264</td>\n",
              "      <td>-0.535987</td>\n",
              "      <td>-0.365404</td>\n",
              "      <td>-0.242423</td>\n",
              "      <td>-0.550160</td>\n",
              "      <td>-0.233118</td>\n",
              "      <td>-0.110581</td>\n",
              "      <td>-0.140019</td>\n",
              "      <td>-0.008245</td>\n",
              "      <td>-0.182196</td>\n",
              "      <td>0.075819</td>\n",
              "      <td>0.279740</td>\n",
              "      <td>-0.035527</td>\n",
              "      <td>0.036233</td>\n",
              "      <td>-0.082391</td>\n",
              "      <td>0.066171</td>\n",
              "      <td>-0.196735</td>\n",
              "      <td>0.196735</td>\n",
              "    </tr>\n",
              "    <tr>\n",
              "      <th>normalized-losses</th>\n",
              "      <td>0.466264</td>\n",
              "      <td>1.000000</td>\n",
              "      <td>-0.056661</td>\n",
              "      <td>0.019424</td>\n",
              "      <td>0.086802</td>\n",
              "      <td>-0.373737</td>\n",
              "      <td>0.099404</td>\n",
              "      <td>0.112360</td>\n",
              "      <td>-0.029862</td>\n",
              "      <td>0.055563</td>\n",
              "      <td>-0.114713</td>\n",
              "      <td>0.217299</td>\n",
              "      <td>0.239543</td>\n",
              "      <td>-0.225016</td>\n",
              "      <td>-0.181877</td>\n",
              "      <td>0.133999</td>\n",
              "      <td>0.238567</td>\n",
              "      <td>-0.101546</td>\n",
              "      <td>0.101546</td>\n",
              "    </tr>\n",
              "    <tr>\n",
              "      <th>wheel-base</th>\n",
              "      <td>-0.535987</td>\n",
              "      <td>-0.056661</td>\n",
              "      <td>1.000000</td>\n",
              "      <td>0.876024</td>\n",
              "      <td>0.814507</td>\n",
              "      <td>0.590742</td>\n",
              "      <td>0.782097</td>\n",
              "      <td>0.572027</td>\n",
              "      <td>0.493244</td>\n",
              "      <td>0.158502</td>\n",
              "      <td>0.250313</td>\n",
              "      <td>0.371147</td>\n",
              "      <td>-0.360305</td>\n",
              "      <td>-0.470606</td>\n",
              "      <td>-0.543304</td>\n",
              "      <td>0.584642</td>\n",
              "      <td>0.476153</td>\n",
              "      <td>0.307237</td>\n",
              "      <td>-0.307237</td>\n",
              "    </tr>\n",
              "    <tr>\n",
              "      <th>length</th>\n",
              "      <td>-0.365404</td>\n",
              "      <td>0.019424</td>\n",
              "      <td>0.876024</td>\n",
              "      <td>1.000000</td>\n",
              "      <td>0.857170</td>\n",
              "      <td>0.492063</td>\n",
              "      <td>0.880665</td>\n",
              "      <td>0.685025</td>\n",
              "      <td>0.608971</td>\n",
              "      <td>0.124139</td>\n",
              "      <td>0.159733</td>\n",
              "      <td>0.579821</td>\n",
              "      <td>-0.285970</td>\n",
              "      <td>-0.665192</td>\n",
              "      <td>-0.698142</td>\n",
              "      <td>0.690628</td>\n",
              "      <td>0.657373</td>\n",
              "      <td>0.211187</td>\n",
              "      <td>-0.211187</td>\n",
              "    </tr>\n",
              "    <tr>\n",
              "      <th>width</th>\n",
              "      <td>-0.242423</td>\n",
              "      <td>0.086802</td>\n",
              "      <td>0.814507</td>\n",
              "      <td>0.857170</td>\n",
              "      <td>1.000000</td>\n",
              "      <td>0.306002</td>\n",
              "      <td>0.866201</td>\n",
              "      <td>0.729436</td>\n",
              "      <td>0.544885</td>\n",
              "      <td>0.188829</td>\n",
              "      <td>0.189867</td>\n",
              "      <td>0.615077</td>\n",
              "      <td>-0.245800</td>\n",
              "      <td>-0.633531</td>\n",
              "      <td>-0.680635</td>\n",
              "      <td>0.751265</td>\n",
              "      <td>0.673363</td>\n",
              "      <td>0.244356</td>\n",
              "      <td>-0.244356</td>\n",
              "    </tr>\n",
              "    <tr>\n",
              "      <th>height</th>\n",
              "      <td>-0.550160</td>\n",
              "      <td>-0.373737</td>\n",
              "      <td>0.590742</td>\n",
              "      <td>0.492063</td>\n",
              "      <td>0.306002</td>\n",
              "      <td>1.000000</td>\n",
              "      <td>0.307581</td>\n",
              "      <td>0.074694</td>\n",
              "      <td>0.180449</td>\n",
              "      <td>-0.062704</td>\n",
              "      <td>0.259737</td>\n",
              "      <td>-0.087027</td>\n",
              "      <td>-0.309974</td>\n",
              "      <td>-0.049800</td>\n",
              "      <td>-0.104812</td>\n",
              "      <td>0.135486</td>\n",
              "      <td>0.003811</td>\n",
              "      <td>0.281578</td>\n",
              "      <td>-0.281578</td>\n",
              "    </tr>\n",
              "    <tr>\n",
              "      <th>curb-weight</th>\n",
              "      <td>-0.233118</td>\n",
              "      <td>0.099404</td>\n",
              "      <td>0.782097</td>\n",
              "      <td>0.880665</td>\n",
              "      <td>0.866201</td>\n",
              "      <td>0.307581</td>\n",
              "      <td>1.000000</td>\n",
              "      <td>0.849072</td>\n",
              "      <td>0.644060</td>\n",
              "      <td>0.167562</td>\n",
              "      <td>0.156433</td>\n",
              "      <td>0.757976</td>\n",
              "      <td>-0.279361</td>\n",
              "      <td>-0.749543</td>\n",
              "      <td>-0.794889</td>\n",
              "      <td>0.834415</td>\n",
              "      <td>0.785353</td>\n",
              "      <td>0.221046</td>\n",
              "      <td>-0.221046</td>\n",
              "    </tr>\n",
              "    <tr>\n",
              "      <th>engine-size</th>\n",
              "      <td>-0.110581</td>\n",
              "      <td>0.112360</td>\n",
              "      <td>0.572027</td>\n",
              "      <td>0.685025</td>\n",
              "      <td>0.729436</td>\n",
              "      <td>0.074694</td>\n",
              "      <td>0.849072</td>\n",
              "      <td>1.000000</td>\n",
              "      <td>0.572609</td>\n",
              "      <td>0.209523</td>\n",
              "      <td>0.028889</td>\n",
              "      <td>0.822676</td>\n",
              "      <td>-0.256733</td>\n",
              "      <td>-0.650546</td>\n",
              "      <td>-0.679571</td>\n",
              "      <td>0.872335</td>\n",
              "      <td>0.745059</td>\n",
              "      <td>0.070779</td>\n",
              "      <td>-0.070779</td>\n",
              "    </tr>\n",
              "    <tr>\n",
              "      <th>bore</th>\n",
              "      <td>-0.140019</td>\n",
              "      <td>-0.029862</td>\n",
              "      <td>0.493244</td>\n",
              "      <td>0.608971</td>\n",
              "      <td>0.544885</td>\n",
              "      <td>0.180449</td>\n",
              "      <td>0.644060</td>\n",
              "      <td>0.572609</td>\n",
              "      <td>1.000000</td>\n",
              "      <td>-0.055390</td>\n",
              "      <td>0.001263</td>\n",
              "      <td>0.566936</td>\n",
              "      <td>-0.267392</td>\n",
              "      <td>-0.582027</td>\n",
              "      <td>-0.591309</td>\n",
              "      <td>0.543155</td>\n",
              "      <td>0.554610</td>\n",
              "      <td>0.054458</td>\n",
              "      <td>-0.054458</td>\n",
              "    </tr>\n",
              "    <tr>\n",
              "      <th>stroke</th>\n",
              "      <td>-0.008245</td>\n",
              "      <td>0.055563</td>\n",
              "      <td>0.158502</td>\n",
              "      <td>0.124139</td>\n",
              "      <td>0.188829</td>\n",
              "      <td>-0.062704</td>\n",
              "      <td>0.167562</td>\n",
              "      <td>0.209523</td>\n",
              "      <td>-0.055390</td>\n",
              "      <td>1.000000</td>\n",
              "      <td>0.187923</td>\n",
              "      <td>0.098462</td>\n",
              "      <td>-0.065713</td>\n",
              "      <td>-0.034696</td>\n",
              "      <td>-0.035201</td>\n",
              "      <td>0.082310</td>\n",
              "      <td>0.037300</td>\n",
              "      <td>0.241303</td>\n",
              "      <td>-0.241303</td>\n",
              "    </tr>\n",
              "    <tr>\n",
              "      <th>compression-ratio</th>\n",
              "      <td>-0.182196</td>\n",
              "      <td>-0.114713</td>\n",
              "      <td>0.250313</td>\n",
              "      <td>0.159733</td>\n",
              "      <td>0.189867</td>\n",
              "      <td>0.259737</td>\n",
              "      <td>0.156433</td>\n",
              "      <td>0.028889</td>\n",
              "      <td>0.001263</td>\n",
              "      <td>0.187923</td>\n",
              "      <td>1.000000</td>\n",
              "      <td>-0.214514</td>\n",
              "      <td>-0.435780</td>\n",
              "      <td>0.331425</td>\n",
              "      <td>0.268465</td>\n",
              "      <td>0.071107</td>\n",
              "      <td>-0.299372</td>\n",
              "      <td>0.985231</td>\n",
              "      <td>-0.985231</td>\n",
              "    </tr>\n",
              "    <tr>\n",
              "      <th>horsepower</th>\n",
              "      <td>0.075819</td>\n",
              "      <td>0.217299</td>\n",
              "      <td>0.371147</td>\n",
              "      <td>0.579821</td>\n",
              "      <td>0.615077</td>\n",
              "      <td>-0.087027</td>\n",
              "      <td>0.757976</td>\n",
              "      <td>0.822676</td>\n",
              "      <td>0.566936</td>\n",
              "      <td>0.098462</td>\n",
              "      <td>-0.214514</td>\n",
              "      <td>1.000000</td>\n",
              "      <td>0.107885</td>\n",
              "      <td>-0.822214</td>\n",
              "      <td>-0.804575</td>\n",
              "      <td>0.809575</td>\n",
              "      <td>0.889488</td>\n",
              "      <td>-0.169053</td>\n",
              "      <td>0.169053</td>\n",
              "    </tr>\n",
              "    <tr>\n",
              "      <th>peak-rpm</th>\n",
              "      <td>0.279740</td>\n",
              "      <td>0.239543</td>\n",
              "      <td>-0.360305</td>\n",
              "      <td>-0.285970</td>\n",
              "      <td>-0.245800</td>\n",
              "      <td>-0.309974</td>\n",
              "      <td>-0.279361</td>\n",
              "      <td>-0.256733</td>\n",
              "      <td>-0.267392</td>\n",
              "      <td>-0.065713</td>\n",
              "      <td>-0.435780</td>\n",
              "      <td>0.107885</td>\n",
              "      <td>1.000000</td>\n",
              "      <td>-0.115413</td>\n",
              "      <td>-0.058598</td>\n",
              "      <td>-0.101616</td>\n",
              "      <td>0.115830</td>\n",
              "      <td>-0.475812</td>\n",
              "      <td>0.475812</td>\n",
              "    </tr>\n",
              "    <tr>\n",
              "      <th>city-mpg</th>\n",
              "      <td>-0.035527</td>\n",
              "      <td>-0.225016</td>\n",
              "      <td>-0.470606</td>\n",
              "      <td>-0.665192</td>\n",
              "      <td>-0.633531</td>\n",
              "      <td>-0.049800</td>\n",
              "      <td>-0.749543</td>\n",
              "      <td>-0.650546</td>\n",
              "      <td>-0.582027</td>\n",
              "      <td>-0.034696</td>\n",
              "      <td>0.331425</td>\n",
              "      <td>-0.822214</td>\n",
              "      <td>-0.115413</td>\n",
              "      <td>1.000000</td>\n",
              "      <td>0.972044</td>\n",
              "      <td>-0.686571</td>\n",
              "      <td>-0.949713</td>\n",
              "      <td>0.265676</td>\n",
              "      <td>-0.265676</td>\n",
              "    </tr>\n",
              "    <tr>\n",
              "      <th>highway-mpg</th>\n",
              "      <td>0.036233</td>\n",
              "      <td>-0.181877</td>\n",
              "      <td>-0.543304</td>\n",
              "      <td>-0.698142</td>\n",
              "      <td>-0.680635</td>\n",
              "      <td>-0.104812</td>\n",
              "      <td>-0.794889</td>\n",
              "      <td>-0.679571</td>\n",
              "      <td>-0.591309</td>\n",
              "      <td>-0.035201</td>\n",
              "      <td>0.268465</td>\n",
              "      <td>-0.804575</td>\n",
              "      <td>-0.058598</td>\n",
              "      <td>0.972044</td>\n",
              "      <td>1.000000</td>\n",
              "      <td>-0.704692</td>\n",
              "      <td>-0.930028</td>\n",
              "      <td>0.198690</td>\n",
              "      <td>-0.198690</td>\n",
              "    </tr>\n",
              "    <tr>\n",
              "      <th>price</th>\n",
              "      <td>-0.082391</td>\n",
              "      <td>0.133999</td>\n",
              "      <td>0.584642</td>\n",
              "      <td>0.690628</td>\n",
              "      <td>0.751265</td>\n",
              "      <td>0.135486</td>\n",
              "      <td>0.834415</td>\n",
              "      <td>0.872335</td>\n",
              "      <td>0.543155</td>\n",
              "      <td>0.082310</td>\n",
              "      <td>0.071107</td>\n",
              "      <td>0.809575</td>\n",
              "      <td>-0.101616</td>\n",
              "      <td>-0.686571</td>\n",
              "      <td>-0.704692</td>\n",
              "      <td>1.000000</td>\n",
              "      <td>0.789898</td>\n",
              "      <td>0.110326</td>\n",
              "      <td>-0.110326</td>\n",
              "    </tr>\n",
              "    <tr>\n",
              "      <th>city-L/100km</th>\n",
              "      <td>0.066171</td>\n",
              "      <td>0.238567</td>\n",
              "      <td>0.476153</td>\n",
              "      <td>0.657373</td>\n",
              "      <td>0.673363</td>\n",
              "      <td>0.003811</td>\n",
              "      <td>0.785353</td>\n",
              "      <td>0.745059</td>\n",
              "      <td>0.554610</td>\n",
              "      <td>0.037300</td>\n",
              "      <td>-0.299372</td>\n",
              "      <td>0.889488</td>\n",
              "      <td>0.115830</td>\n",
              "      <td>-0.949713</td>\n",
              "      <td>-0.930028</td>\n",
              "      <td>0.789898</td>\n",
              "      <td>1.000000</td>\n",
              "      <td>-0.241282</td>\n",
              "      <td>0.241282</td>\n",
              "    </tr>\n",
              "    <tr>\n",
              "      <th>diesel</th>\n",
              "      <td>-0.196735</td>\n",
              "      <td>-0.101546</td>\n",
              "      <td>0.307237</td>\n",
              "      <td>0.211187</td>\n",
              "      <td>0.244356</td>\n",
              "      <td>0.281578</td>\n",
              "      <td>0.221046</td>\n",
              "      <td>0.070779</td>\n",
              "      <td>0.054458</td>\n",
              "      <td>0.241303</td>\n",
              "      <td>0.985231</td>\n",
              "      <td>-0.169053</td>\n",
              "      <td>-0.475812</td>\n",
              "      <td>0.265676</td>\n",
              "      <td>0.198690</td>\n",
              "      <td>0.110326</td>\n",
              "      <td>-0.241282</td>\n",
              "      <td>1.000000</td>\n",
              "      <td>-1.000000</td>\n",
              "    </tr>\n",
              "    <tr>\n",
              "      <th>gas</th>\n",
              "      <td>0.196735</td>\n",
              "      <td>0.101546</td>\n",
              "      <td>-0.307237</td>\n",
              "      <td>-0.211187</td>\n",
              "      <td>-0.244356</td>\n",
              "      <td>-0.281578</td>\n",
              "      <td>-0.221046</td>\n",
              "      <td>-0.070779</td>\n",
              "      <td>-0.054458</td>\n",
              "      <td>-0.241303</td>\n",
              "      <td>-0.985231</td>\n",
              "      <td>0.169053</td>\n",
              "      <td>0.475812</td>\n",
              "      <td>-0.265676</td>\n",
              "      <td>-0.198690</td>\n",
              "      <td>-0.110326</td>\n",
              "      <td>0.241282</td>\n",
              "      <td>-1.000000</td>\n",
              "      <td>1.000000</td>\n",
              "    </tr>\n",
              "  </tbody>\n",
              "</table>\n",
              "</div>"
            ],
            "text/plain": [
              "                   symboling  normalized-losses  wheel-base    length  \\\n",
              "symboling           1.000000           0.466264   -0.535987 -0.365404   \n",
              "normalized-losses   0.466264           1.000000   -0.056661  0.019424   \n",
              "wheel-base         -0.535987          -0.056661    1.000000  0.876024   \n",
              "length             -0.365404           0.019424    0.876024  1.000000   \n",
              "width              -0.242423           0.086802    0.814507  0.857170   \n",
              "height             -0.550160          -0.373737    0.590742  0.492063   \n",
              "curb-weight        -0.233118           0.099404    0.782097  0.880665   \n",
              "engine-size        -0.110581           0.112360    0.572027  0.685025   \n",
              "bore               -0.140019          -0.029862    0.493244  0.608971   \n",
              "stroke             -0.008245           0.055563    0.158502  0.124139   \n",
              "compression-ratio  -0.182196          -0.114713    0.250313  0.159733   \n",
              "horsepower          0.075819           0.217299    0.371147  0.579821   \n",
              "peak-rpm            0.279740           0.239543   -0.360305 -0.285970   \n",
              "city-mpg           -0.035527          -0.225016   -0.470606 -0.665192   \n",
              "highway-mpg         0.036233          -0.181877   -0.543304 -0.698142   \n",
              "price              -0.082391           0.133999    0.584642  0.690628   \n",
              "city-L/100km        0.066171           0.238567    0.476153  0.657373   \n",
              "diesel             -0.196735          -0.101546    0.307237  0.211187   \n",
              "gas                 0.196735           0.101546   -0.307237 -0.211187   \n",
              "\n",
              "                      width    height  curb-weight  engine-size      bore  \\\n",
              "symboling         -0.242423 -0.550160    -0.233118    -0.110581 -0.140019   \n",
              "normalized-losses  0.086802 -0.373737     0.099404     0.112360 -0.029862   \n",
              "wheel-base         0.814507  0.590742     0.782097     0.572027  0.493244   \n",
              "length             0.857170  0.492063     0.880665     0.685025  0.608971   \n",
              "width              1.000000  0.306002     0.866201     0.729436  0.544885   \n",
              "height             0.306002  1.000000     0.307581     0.074694  0.180449   \n",
              "curb-weight        0.866201  0.307581     1.000000     0.849072  0.644060   \n",
              "engine-size        0.729436  0.074694     0.849072     1.000000  0.572609   \n",
              "bore               0.544885  0.180449     0.644060     0.572609  1.000000   \n",
              "stroke             0.188829 -0.062704     0.167562     0.209523 -0.055390   \n",
              "compression-ratio  0.189867  0.259737     0.156433     0.028889  0.001263   \n",
              "horsepower         0.615077 -0.087027     0.757976     0.822676  0.566936   \n",
              "peak-rpm          -0.245800 -0.309974    -0.279361    -0.256733 -0.267392   \n",
              "city-mpg          -0.633531 -0.049800    -0.749543    -0.650546 -0.582027   \n",
              "highway-mpg       -0.680635 -0.104812    -0.794889    -0.679571 -0.591309   \n",
              "price              0.751265  0.135486     0.834415     0.872335  0.543155   \n",
              "city-L/100km       0.673363  0.003811     0.785353     0.745059  0.554610   \n",
              "diesel             0.244356  0.281578     0.221046     0.070779  0.054458   \n",
              "gas               -0.244356 -0.281578    -0.221046    -0.070779 -0.054458   \n",
              "\n",
              "                     stroke  compression-ratio  horsepower  peak-rpm  \\\n",
              "symboling         -0.008245          -0.182196    0.075819  0.279740   \n",
              "normalized-losses  0.055563          -0.114713    0.217299  0.239543   \n",
              "wheel-base         0.158502           0.250313    0.371147 -0.360305   \n",
              "length             0.124139           0.159733    0.579821 -0.285970   \n",
              "width              0.188829           0.189867    0.615077 -0.245800   \n",
              "height            -0.062704           0.259737   -0.087027 -0.309974   \n",
              "curb-weight        0.167562           0.156433    0.757976 -0.279361   \n",
              "engine-size        0.209523           0.028889    0.822676 -0.256733   \n",
              "bore              -0.055390           0.001263    0.566936 -0.267392   \n",
              "stroke             1.000000           0.187923    0.098462 -0.065713   \n",
              "compression-ratio  0.187923           1.000000   -0.214514 -0.435780   \n",
              "horsepower         0.098462          -0.214514    1.000000  0.107885   \n",
              "peak-rpm          -0.065713          -0.435780    0.107885  1.000000   \n",
              "city-mpg          -0.034696           0.331425   -0.822214 -0.115413   \n",
              "highway-mpg       -0.035201           0.268465   -0.804575 -0.058598   \n",
              "price              0.082310           0.071107    0.809575 -0.101616   \n",
              "city-L/100km       0.037300          -0.299372    0.889488  0.115830   \n",
              "diesel             0.241303           0.985231   -0.169053 -0.475812   \n",
              "gas               -0.241303          -0.985231    0.169053  0.475812   \n",
              "\n",
              "                   city-mpg  highway-mpg     price  city-L/100km    diesel  \\\n",
              "symboling         -0.035527     0.036233 -0.082391      0.066171 -0.196735   \n",
              "normalized-losses -0.225016    -0.181877  0.133999      0.238567 -0.101546   \n",
              "wheel-base        -0.470606    -0.543304  0.584642      0.476153  0.307237   \n",
              "length            -0.665192    -0.698142  0.690628      0.657373  0.211187   \n",
              "width             -0.633531    -0.680635  0.751265      0.673363  0.244356   \n",
              "height            -0.049800    -0.104812  0.135486      0.003811  0.281578   \n",
              "curb-weight       -0.749543    -0.794889  0.834415      0.785353  0.221046   \n",
              "engine-size       -0.650546    -0.679571  0.872335      0.745059  0.070779   \n",
              "bore              -0.582027    -0.591309  0.543155      0.554610  0.054458   \n",
              "stroke            -0.034696    -0.035201  0.082310      0.037300  0.241303   \n",
              "compression-ratio  0.331425     0.268465  0.071107     -0.299372  0.985231   \n",
              "horsepower        -0.822214    -0.804575  0.809575      0.889488 -0.169053   \n",
              "peak-rpm          -0.115413    -0.058598 -0.101616      0.115830 -0.475812   \n",
              "city-mpg           1.000000     0.972044 -0.686571     -0.949713  0.265676   \n",
              "highway-mpg        0.972044     1.000000 -0.704692     -0.930028  0.198690   \n",
              "price             -0.686571    -0.704692  1.000000      0.789898  0.110326   \n",
              "city-L/100km      -0.949713    -0.930028  0.789898      1.000000 -0.241282   \n",
              "diesel             0.265676     0.198690  0.110326     -0.241282  1.000000   \n",
              "gas               -0.265676    -0.198690 -0.110326      0.241282 -1.000000   \n",
              "\n",
              "                        gas  \n",
              "symboling          0.196735  \n",
              "normalized-losses  0.101546  \n",
              "wheel-base        -0.307237  \n",
              "length            -0.211187  \n",
              "width             -0.244356  \n",
              "height            -0.281578  \n",
              "curb-weight       -0.221046  \n",
              "engine-size       -0.070779  \n",
              "bore              -0.054458  \n",
              "stroke            -0.241303  \n",
              "compression-ratio -0.985231  \n",
              "horsepower         0.169053  \n",
              "peak-rpm           0.475812  \n",
              "city-mpg          -0.265676  \n",
              "highway-mpg       -0.198690  \n",
              "price             -0.110326  \n",
              "city-L/100km       0.241282  \n",
              "diesel            -1.000000  \n",
              "gas                1.000000  "
            ]
          },
          "execution_count": 7,
          "metadata": {},
          "output_type": "execute_result"
        }
      ],
      "source": [
        "df.corr()"
      ]
    },
    {
      "cell_type": "markdown",
      "metadata": {
        "id": "96SMUy7L_zCH"
      },
      "source": [
        "## Question #2:\n",
        "\n",
        "Find the correlation between the following columns: bore, stroke, compression-ratio, and horsepower.\n",
        "\n",
        "Hint: if you would like to select those columns, use the following syntax: df[['bore','stroke','compression-ratio','horsepower']]\n"
      ]
    },
    {
      "cell_type": "code",
      "execution_count": null,
      "metadata": {
        "id": "eep72FDK_zCH",
        "outputId": "285d8821-ab6e-48d8-d05e-cbbb2317c2c5"
      },
      "outputs": [
        {
          "data": {
            "text/html": [
              "<div>\n",
              "<style scoped>\n",
              "    .dataframe tbody tr th:only-of-type {\n",
              "        vertical-align: middle;\n",
              "    }\n",
              "\n",
              "    .dataframe tbody tr th {\n",
              "        vertical-align: top;\n",
              "    }\n",
              "\n",
              "    .dataframe thead th {\n",
              "        text-align: right;\n",
              "    }\n",
              "</style>\n",
              "<table border=\"1\" class=\"dataframe\">\n",
              "  <thead>\n",
              "    <tr style=\"text-align: right;\">\n",
              "      <th></th>\n",
              "      <th>bore</th>\n",
              "      <th>stroke</th>\n",
              "      <th>compression-ratio</th>\n",
              "      <th>horsepower</th>\n",
              "    </tr>\n",
              "  </thead>\n",
              "  <tbody>\n",
              "    <tr>\n",
              "      <th>bore</th>\n",
              "      <td>1.000000</td>\n",
              "      <td>-0.055390</td>\n",
              "      <td>0.001263</td>\n",
              "      <td>0.566936</td>\n",
              "    </tr>\n",
              "    <tr>\n",
              "      <th>stroke</th>\n",
              "      <td>-0.055390</td>\n",
              "      <td>1.000000</td>\n",
              "      <td>0.187923</td>\n",
              "      <td>0.098462</td>\n",
              "    </tr>\n",
              "    <tr>\n",
              "      <th>compression-ratio</th>\n",
              "      <td>0.001263</td>\n",
              "      <td>0.187923</td>\n",
              "      <td>1.000000</td>\n",
              "      <td>-0.214514</td>\n",
              "    </tr>\n",
              "    <tr>\n",
              "      <th>horsepower</th>\n",
              "      <td>0.566936</td>\n",
              "      <td>0.098462</td>\n",
              "      <td>-0.214514</td>\n",
              "      <td>1.000000</td>\n",
              "    </tr>\n",
              "  </tbody>\n",
              "</table>\n",
              "</div>"
            ],
            "text/plain": [
              "                       bore    stroke  compression-ratio  horsepower\n",
              "bore               1.000000 -0.055390           0.001263    0.566936\n",
              "stroke            -0.055390  1.000000           0.187923    0.098462\n",
              "compression-ratio  0.001263  0.187923           1.000000   -0.214514\n",
              "horsepower         0.566936  0.098462          -0.214514    1.000000"
            ]
          },
          "execution_count": 8,
          "metadata": {},
          "output_type": "execute_result"
        }
      ],
      "source": [
        "df[['bore', 'stroke', 'compression-ratio', 'horsepower']].corr()"
      ]
    },
    {
      "cell_type": "code",
      "execution_count": null,
      "metadata": {
        "id": "KFuRfkim_zCH",
        "outputId": "8411e2ec-f918-40e6-e06f-bbf9fc5e5bac"
      },
      "outputs": [
        {
          "data": {
            "text/plain": [
              "(0.0, 53335.06474629924)"
            ]
          },
          "execution_count": 9,
          "metadata": {},
          "output_type": "execute_result"
        },
        {
          "data": {
            "image/png": "[encoded data removed]",
            "text/plain": [
              "<Figure size 640x480 with 1 Axes>"
            ]
          },
          "metadata": {},
          "output_type": "display_data"
        }
      ],
      "source": [
        "# Engine size as potential predictor variable of price\n",
        "sns.regplot(x=\"engine-size\", y=\"price\", data=df)\n",
        "plt.ylim(0,)"
      ]
    },
    {
      "cell_type": "code",
      "execution_count": null,
      "metadata": {
        "id": "jF8DOSSa_zCH",
        "outputId": "7ccac0f8-58ad-4bd1-9573-c5873415a4ff"
      },
      "outputs": [
        {
          "data": {
            "text/html": [
              "<div>\n",
              "<style scoped>\n",
              "    .dataframe tbody tr th:only-of-type {\n",
              "        vertical-align: middle;\n",
              "    }\n",
              "\n",
              "    .dataframe tbody tr th {\n",
              "        vertical-align: top;\n",
              "    }\n",
              "\n",
              "    .dataframe thead th {\n",
              "        text-align: right;\n",
              "    }\n",
              "</style>\n",
              "<table border=\"1\" class=\"dataframe\">\n",
              "  <thead>\n",
              "    <tr style=\"text-align: right;\">\n",
              "      <th></th>\n",
              "      <th>engine-size</th>\n",
              "      <th>price</th>\n",
              "    </tr>\n",
              "  </thead>\n",
              "  <tbody>\n",
              "    <tr>\n",
              "      <th>engine-size</th>\n",
              "      <td>1.000000</td>\n",
              "      <td>0.872335</td>\n",
              "    </tr>\n",
              "    <tr>\n",
              "      <th>price</th>\n",
              "      <td>0.872335</td>\n",
              "      <td>1.000000</td>\n",
              "    </tr>\n",
              "  </tbody>\n",
              "</table>\n",
              "</div>"
            ],
            "text/plain": [
              "             engine-size     price\n",
              "engine-size     1.000000  0.872335\n",
              "price           0.872335  1.000000"
            ]
          },
          "execution_count": 10,
          "metadata": {},
          "output_type": "execute_result"
        }
      ],
      "source": [
        "df[[\"engine-size\", \"price\"]].corr()"
      ]
    },
    {
      "cell_type": "code",
      "execution_count": null,
      "metadata": {
        "id": "-gfzloOA_zCI",
        "outputId": "5c2dd0d1-0ed2-4671-b62b-08f574b26a8c"
      },
      "outputs": [
        {
          "data": {
            "text/html": [
              "<div>\n",
              "<style scoped>\n",
              "    .dataframe tbody tr th:only-of-type {\n",
              "        vertical-align: middle;\n",
              "    }\n",
              "\n",
              "    .dataframe tbody tr th {\n",
              "        vertical-align: top;\n",
              "    }\n",
              "\n",
              "    .dataframe thead th {\n",
              "        text-align: right;\n",
              "    }\n",
              "</style>\n",
              "<table border=\"1\" class=\"dataframe\">\n",
              "  <thead>\n",
              "    <tr style=\"text-align: right;\">\n",
              "      <th></th>\n",
              "      <th>highway-mpg</th>\n",
              "      <th>price</th>\n",
              "    </tr>\n",
              "  </thead>\n",
              "  <tbody>\n",
              "    <tr>\n",
              "      <th>highway-mpg</th>\n",
              "      <td>1.000000</td>\n",
              "      <td>-0.704692</td>\n",
              "    </tr>\n",
              "    <tr>\n",
              "      <th>price</th>\n",
              "      <td>-0.704692</td>\n",
              "      <td>1.000000</td>\n",
              "    </tr>\n",
              "  </tbody>\n",
              "</table>\n",
              "</div>"
            ],
            "text/plain": [
              "             highway-mpg     price\n",
              "highway-mpg     1.000000 -0.704692\n",
              "price          -0.704692  1.000000"
            ]
          },
          "execution_count": 11,
          "metadata": {},
          "output_type": "execute_result"
        }
      ],
      "source": [
        "df[['highway-mpg', 'price']].corr()"
      ]
    },
    {
      "cell_type": "code",
      "execution_count": null,
      "metadata": {
        "id": "BmdaKriH_zCI",
        "outputId": "adff72dc-99a8-4c72-d4d6-f1978b985665"
      },
      "outputs": [
        {
          "data": {
            "text/plain": [
              "<AxesSubplot: xlabel='peak-rpm', ylabel='price'>"
            ]
          },
          "execution_count": 12,
          "metadata": {},
          "output_type": "execute_result"
        },
        {
          "data": {
            "image/png": "[encoded data removed]",
            "text/plain": [
              "<Figure size 640x480 with 1 Axes>"
            ]
          },
          "metadata": {},
          "output_type": "display_data"
        }
      ],
      "source": [
        "sns.regplot(x=\"peak-rpm\", y=\"price\", data=df)"
      ]
    },
    {
      "cell_type": "markdown",
      "metadata": {
        "id": "PCtbnLuY_zCI"
      },
      "source": [
        "\n",
        "## Question 3 a):\n",
        "\n",
        "Find the correlation between x=\"stroke\" and y=\"price\".\n",
        "\n",
        "Hint: if you would like to select those columns, use the following syntax: df[[\"stroke\",\"price\"]].\n"
      ]
    },
    {
      "cell_type": "code",
      "execution_count": null,
      "metadata": {
        "id": "NGJVMUjL_zCJ",
        "outputId": "47e33009-4061-4669-f626-428bec13e23e"
      },
      "outputs": [
        {
          "data": {
            "text/html": [
              "<div>\n",
              "<style scoped>\n",
              "    .dataframe tbody tr th:only-of-type {\n",
              "        vertical-align: middle;\n",
              "    }\n",
              "\n",
              "    .dataframe tbody tr th {\n",
              "        vertical-align: top;\n",
              "    }\n",
              "\n",
              "    .dataframe thead th {\n",
              "        text-align: right;\n",
              "    }\n",
              "</style>\n",
              "<table border=\"1\" class=\"dataframe\">\n",
              "  <thead>\n",
              "    <tr style=\"text-align: right;\">\n",
              "      <th></th>\n",
              "      <th>stroke</th>\n",
              "      <th>price</th>\n",
              "    </tr>\n",
              "  </thead>\n",
              "  <tbody>\n",
              "    <tr>\n",
              "      <th>stroke</th>\n",
              "      <td>1.00000</td>\n",
              "      <td>0.08231</td>\n",
              "    </tr>\n",
              "    <tr>\n",
              "      <th>price</th>\n",
              "      <td>0.08231</td>\n",
              "      <td>1.00000</td>\n",
              "    </tr>\n",
              "  </tbody>\n",
              "</table>\n",
              "</div>"
            ],
            "text/plain": [
              "         stroke    price\n",
              "stroke  1.00000  0.08231\n",
              "price   0.08231  1.00000"
            ]
          },
          "execution_count": 13,
          "metadata": {},
          "output_type": "execute_result"
        }
      ],
      "source": [
        "df[[\"stroke\",\"price\"]].corr()"
      ]
    },
    {
      "cell_type": "markdown",
      "metadata": {
        "id": "YseQYUYY_zCJ"
      },
      "source": [
        "## Question 3 b):¶\n",
        "\n",
        "Given the correlation results between \"price\" and \"stroke\", do you expect a linear relationship?\n",
        "\n",
        "Verify your results using the function \"regplot()\".\n"
      ]
    },
    {
      "cell_type": "code",
      "execution_count": null,
      "metadata": {
        "id": "2CfyMvPw_zCJ",
        "outputId": "f67cf6bd-0c8c-435b-ce80-5609e05538db"
      },
      "outputs": [
        {
          "data": {
            "text/plain": [
              "<AxesSubplot: xlabel='stroke', ylabel='price'>"
            ]
          },
          "execution_count": 14,
          "metadata": {},
          "output_type": "execute_result"
        },
        {
          "data": {
            "image/png": "[encoded data removed]",
            "text/plain": [
              "<Figure size 640x480 with 1 Axes>"
            ]
          },
          "metadata": {},
          "output_type": "display_data"
        }
      ],
      "source": [
        "sns.regplot(x=\"stroke\", y=\"price\", data=df)"
      ]
    },
    {
      "cell_type": "code",
      "execution_count": null,
      "metadata": {
        "id": "vrcwVpZ7_zCK",
        "outputId": "e56d1b3f-ccee-4830-b991-3602c4d7f702"
      },
      "outputs": [
        {
          "data": {
            "text/plain": [
              "<AxesSubplot: xlabel='body-style', ylabel='price'>"
            ]
          },
          "execution_count": 15,
          "metadata": {},
          "output_type": "execute_result"
        },
        {
          "data": {
            "image/png": "[encoded data removed]",
            "text/plain": [
              "<Figure size 640x480 with 1 Axes>"
            ]
          },
          "metadata": {},
          "output_type": "display_data"
        }
      ],
      "source": [
        "sns.boxplot(x=\"body-style\", y=\"price\", data=df)"
      ]
    },
    {
      "cell_type": "code",
      "execution_count": null,
      "metadata": {
        "id": "uzeMOtc-_zCK",
        "outputId": "ded0f401-a2a2-476c-b54b-5db17f06f9a4"
      },
      "outputs": [
        {
          "data": {
            "text/plain": [
              "<AxesSubplot: xlabel='engine-location', ylabel='price'>"
            ]
          },
          "execution_count": 16,
          "metadata": {},
          "output_type": "execute_result"
        },
        {
          "data": {
            "image/png": "[encoded data removed]",
            "text/plain": [
              "<Figure size 640x480 with 1 Axes>"
            ]
          },
          "metadata": {},
          "output_type": "display_data"
        }
      ],
      "source": [
        "sns.boxplot(x=\"engine-location\", y=\"price\", data=df)"
      ]
    },
    {
      "cell_type": "code",
      "execution_count": null,
      "metadata": {
        "id": "WDViXStf_zCK",
        "outputId": "29a6c37e-21bd-4e9b-aca2-5aeb0a3ede65"
      },
      "outputs": [
        {
          "data": {
            "text/plain": [
              "<AxesSubplot: xlabel='drive-wheels', ylabel='price'>"
            ]
          },
          "execution_count": 17,
          "metadata": {},
          "output_type": "execute_result"
        },
        {
          "data": {
            "image/png": "[encoded data removed]",
            "text/plain": [
              "<Figure size 640x480 with 1 Axes>"
            ]
          },
          "metadata": {},
          "output_type": "display_data"
        }
      ],
      "source": [
        "# drive-wheels\n",
        "sns.boxplot(x=\"drive-wheels\", y=\"price\", data=df)"
      ]
    },
    {
      "cell_type": "code",
      "execution_count": null,
      "metadata": {
        "id": "opAM2Wjg_zCK",
        "outputId": "89f4464e-d30c-4e0d-dbaf-8b24c1afdebe"
      },
      "outputs": [
        {
          "data": {
            "text/html": [
              "<div>\n",
              "<style scoped>\n",
              "    .dataframe tbody tr th:only-of-type {\n",
              "        vertical-align: middle;\n",
              "    }\n",
              "\n",
              "    .dataframe tbody tr th {\n",
              "        vertical-align: top;\n",
              "    }\n",
              "\n",
              "    .dataframe thead th {\n",
              "        text-align: right;\n",
              "    }\n",
              "</style>\n",
              "<table border=\"1\" class=\"dataframe\">\n",
              "  <thead>\n",
              "    <tr style=\"text-align: right;\">\n",
              "      <th></th>\n",
              "      <th>symboling</th>\n",
              "      <th>normalized-losses</th>\n",
              "      <th>wheel-base</th>\n",
              "      <th>length</th>\n",
              "      <th>width</th>\n",
              "      <th>height</th>\n",
              "      <th>curb-weight</th>\n",
              "      <th>engine-size</th>\n",
              "      <th>bore</th>\n",
              "      <th>stroke</th>\n",
              "      <th>compression-ratio</th>\n",
              "      <th>horsepower</th>\n",
              "      <th>peak-rpm</th>\n",
              "      <th>city-mpg</th>\n",
              "      <th>highway-mpg</th>\n",
              "      <th>price</th>\n",
              "      <th>city-L/100km</th>\n",
              "      <th>diesel</th>\n",
              "      <th>gas</th>\n",
              "    </tr>\n",
              "  </thead>\n",
              "  <tbody>\n",
              "    <tr>\n",
              "      <th>count</th>\n",
              "      <td>201.000000</td>\n",
              "      <td>201.00000</td>\n",
              "      <td>201.000000</td>\n",
              "      <td>201.000000</td>\n",
              "      <td>201.000000</td>\n",
              "      <td>201.000000</td>\n",
              "      <td>201.000000</td>\n",
              "      <td>201.000000</td>\n",
              "      <td>201.000000</td>\n",
              "      <td>197.000000</td>\n",
              "      <td>201.000000</td>\n",
              "      <td>201.000000</td>\n",
              "      <td>201.000000</td>\n",
              "      <td>201.000000</td>\n",
              "      <td>201.000000</td>\n",
              "      <td>201.000000</td>\n",
              "      <td>201.000000</td>\n",
              "      <td>201.000000</td>\n",
              "      <td>201.000000</td>\n",
              "    </tr>\n",
              "    <tr>\n",
              "      <th>mean</th>\n",
              "      <td>0.840796</td>\n",
              "      <td>122.00000</td>\n",
              "      <td>98.797015</td>\n",
              "      <td>0.837102</td>\n",
              "      <td>0.915126</td>\n",
              "      <td>53.766667</td>\n",
              "      <td>2555.666667</td>\n",
              "      <td>126.875622</td>\n",
              "      <td>3.330692</td>\n",
              "      <td>3.256904</td>\n",
              "      <td>10.164279</td>\n",
              "      <td>103.405534</td>\n",
              "      <td>5117.665368</td>\n",
              "      <td>25.179104</td>\n",
              "      <td>30.686567</td>\n",
              "      <td>13207.129353</td>\n",
              "      <td>9.944145</td>\n",
              "      <td>0.099502</td>\n",
              "      <td>0.900498</td>\n",
              "    </tr>\n",
              "    <tr>\n",
              "      <th>std</th>\n",
              "      <td>1.254802</td>\n",
              "      <td>31.99625</td>\n",
              "      <td>6.066366</td>\n",
              "      <td>0.059213</td>\n",
              "      <td>0.029187</td>\n",
              "      <td>2.447822</td>\n",
              "      <td>517.296727</td>\n",
              "      <td>41.546834</td>\n",
              "      <td>0.268072</td>\n",
              "      <td>0.319256</td>\n",
              "      <td>4.004965</td>\n",
              "      <td>37.365700</td>\n",
              "      <td>478.113805</td>\n",
              "      <td>6.423220</td>\n",
              "      <td>6.815150</td>\n",
              "      <td>7947.066342</td>\n",
              "      <td>2.534599</td>\n",
              "      <td>0.300083</td>\n",
              "      <td>0.300083</td>\n",
              "    </tr>\n",
              "    <tr>\n",
              "      <th>min</th>\n",
              "      <td>-2.000000</td>\n",
              "      <td>65.00000</td>\n",
              "      <td>86.600000</td>\n",
              "      <td>0.678039</td>\n",
              "      <td>0.837500</td>\n",
              "      <td>47.800000</td>\n",
              "      <td>1488.000000</td>\n",
              "      <td>61.000000</td>\n",
              "      <td>2.540000</td>\n",
              "      <td>2.070000</td>\n",
              "      <td>7.000000</td>\n",
              "      <td>48.000000</td>\n",
              "      <td>4150.000000</td>\n",
              "      <td>13.000000</td>\n",
              "      <td>16.000000</td>\n",
              "      <td>5118.000000</td>\n",
              "      <td>4.795918</td>\n",
              "      <td>0.000000</td>\n",
              "      <td>0.000000</td>\n",
              "    </tr>\n",
              "    <tr>\n",
              "      <th>25%</th>\n",
              "      <td>0.000000</td>\n",
              "      <td>101.00000</td>\n",
              "      <td>94.500000</td>\n",
              "      <td>0.801538</td>\n",
              "      <td>0.890278</td>\n",
              "      <td>52.000000</td>\n",
              "      <td>2169.000000</td>\n",
              "      <td>98.000000</td>\n",
              "      <td>3.150000</td>\n",
              "      <td>3.110000</td>\n",
              "      <td>8.600000</td>\n",
              "      <td>70.000000</td>\n",
              "      <td>4800.000000</td>\n",
              "      <td>19.000000</td>\n",
              "      <td>25.000000</td>\n",
              "      <td>7775.000000</td>\n",
              "      <td>7.833333</td>\n",
              "      <td>0.000000</td>\n",
              "      <td>1.000000</td>\n",
              "    </tr>\n",
              "    <tr>\n",
              "      <th>50%</th>\n",
              "      <td>1.000000</td>\n",
              "      <td>122.00000</td>\n",
              "      <td>97.000000</td>\n",
              "      <td>0.832292</td>\n",
              "      <td>0.909722</td>\n",
              "      <td>54.100000</td>\n",
              "      <td>2414.000000</td>\n",
              "      <td>120.000000</td>\n",
              "      <td>3.310000</td>\n",
              "      <td>3.290000</td>\n",
              "      <td>9.000000</td>\n",
              "      <td>95.000000</td>\n",
              "      <td>5125.369458</td>\n",
              "      <td>24.000000</td>\n",
              "      <td>30.000000</td>\n",
              "      <td>10295.000000</td>\n",
              "      <td>9.791667</td>\n",
              "      <td>0.000000</td>\n",
              "      <td>1.000000</td>\n",
              "    </tr>\n",
              "    <tr>\n",
              "      <th>75%</th>\n",
              "      <td>2.000000</td>\n",
              "      <td>137.00000</td>\n",
              "      <td>102.400000</td>\n",
              "      <td>0.881788</td>\n",
              "      <td>0.925000</td>\n",
              "      <td>55.500000</td>\n",
              "      <td>2926.000000</td>\n",
              "      <td>141.000000</td>\n",
              "      <td>3.580000</td>\n",
              "      <td>3.410000</td>\n",
              "      <td>9.400000</td>\n",
              "      <td>116.000000</td>\n",
              "      <td>5500.000000</td>\n",
              "      <td>30.000000</td>\n",
              "      <td>34.000000</td>\n",
              "      <td>16500.000000</td>\n",
              "      <td>12.368421</td>\n",
              "      <td>0.000000</td>\n",
              "      <td>1.000000</td>\n",
              "    </tr>\n",
              "    <tr>\n",
              "      <th>max</th>\n",
              "      <td>3.000000</td>\n",
              "      <td>256.00000</td>\n",
              "      <td>120.900000</td>\n",
              "      <td>1.000000</td>\n",
              "      <td>1.000000</td>\n",
              "      <td>59.800000</td>\n",
              "      <td>4066.000000</td>\n",
              "      <td>326.000000</td>\n",
              "      <td>3.940000</td>\n",
              "      <td>4.170000</td>\n",
              "      <td>23.000000</td>\n",
              "      <td>262.000000</td>\n",
              "      <td>6600.000000</td>\n",
              "      <td>49.000000</td>\n",
              "      <td>54.000000</td>\n",
              "      <td>45400.000000</td>\n",
              "      <td>18.076923</td>\n",
              "      <td>1.000000</td>\n",
              "      <td>1.000000</td>\n",
              "    </tr>\n",
              "  </tbody>\n",
              "</table>\n",
              "</div>"
            ],
            "text/plain": [
              "        symboling  normalized-losses  wheel-base      length       width  \\\n",
              "count  201.000000          201.00000  201.000000  201.000000  201.000000   \n",
              "mean     0.840796          122.00000   98.797015    0.837102    0.915126   \n",
              "std      1.254802           31.99625    6.066366    0.059213    0.029187   \n",
              "min     -2.000000           65.00000   86.600000    0.678039    0.837500   \n",
              "25%      0.000000          101.00000   94.500000    0.801538    0.890278   \n",
              "50%      1.000000          122.00000   97.000000    0.832292    0.909722   \n",
              "75%      2.000000          137.00000  102.400000    0.881788    0.925000   \n",
              "max      3.000000          256.00000  120.900000    1.000000    1.000000   \n",
              "\n",
              "           height  curb-weight  engine-size        bore      stroke  \\\n",
              "count  201.000000   201.000000   201.000000  201.000000  197.000000   \n",
              "mean    53.766667  2555.666667   126.875622    3.330692    3.256904   \n",
              "std      2.447822   517.296727    41.546834    0.268072    0.319256   \n",
              "min     47.800000  1488.000000    61.000000    2.540000    2.070000   \n",
              "25%     52.000000  2169.000000    98.000000    3.150000    3.110000   \n",
              "50%     54.100000  2414.000000   120.000000    3.310000    3.290000   \n",
              "75%     55.500000  2926.000000   141.000000    3.580000    3.410000   \n",
              "max     59.800000  4066.000000   326.000000    3.940000    4.170000   \n",
              "\n",
              "       compression-ratio  horsepower     peak-rpm    city-mpg  highway-mpg  \\\n",
              "count         201.000000  201.000000   201.000000  201.000000   201.000000   \n",
              "mean           10.164279  103.405534  5117.665368   25.179104    30.686567   \n",
              "std             4.004965   37.365700   478.113805    6.423220     6.815150   \n",
              "min             7.000000   48.000000  4150.000000   13.000000    16.000000   \n",
              "25%             8.600000   70.000000  4800.000000   19.000000    25.000000   \n",
              "50%             9.000000   95.000000  5125.369458   24.000000    30.000000   \n",
              "75%             9.400000  116.000000  5500.000000   30.000000    34.000000   \n",
              "max            23.000000  262.000000  6600.000000   49.000000    54.000000   \n",
              "\n",
              "              price  city-L/100km      diesel         gas  \n",
              "count    201.000000    201.000000  201.000000  201.000000  \n",
              "mean   13207.129353      9.944145    0.099502    0.900498  \n",
              "std     7947.066342      2.534599    0.300083    0.300083  \n",
              "min     5118.000000      4.795918    0.000000    0.000000  \n",
              "25%     7775.000000      7.833333    0.000000    1.000000  \n",
              "50%    10295.000000      9.791667    0.000000    1.000000  \n",
              "75%    16500.000000     12.368421    0.000000    1.000000  \n",
              "max    45400.000000     18.076923    1.000000    1.000000  "
            ]
          },
          "execution_count": 18,
          "metadata": {},
          "output_type": "execute_result"
        }
      ],
      "source": [
        "df.describe()"
      ]
    },
    {
      "cell_type": "code",
      "execution_count": null,
      "metadata": {
        "id": "GGvEjEZZ_zCL",
        "outputId": "fd336d0b-0d83-42de-d18a-bcddc4e69d47"
      },
      "outputs": [
        {
          "data": {
            "text/html": [
              "<div>\n",
              "<style scoped>\n",
              "    .dataframe tbody tr th:only-of-type {\n",
              "        vertical-align: middle;\n",
              "    }\n",
              "\n",
              "    .dataframe tbody tr th {\n",
              "        vertical-align: top;\n",
              "    }\n",
              "\n",
              "    .dataframe thead th {\n",
              "        text-align: right;\n",
              "    }\n",
              "</style>\n",
              "<table border=\"1\" class=\"dataframe\">\n",
              "  <thead>\n",
              "    <tr style=\"text-align: right;\">\n",
              "      <th></th>\n",
              "      <th>make</th>\n",
              "      <th>aspiration</th>\n",
              "      <th>num-of-doors</th>\n",
              "      <th>body-style</th>\n",
              "      <th>drive-wheels</th>\n",
              "      <th>engine-location</th>\n",
              "      <th>engine-type</th>\n",
              "      <th>num-of-cylinders</th>\n",
              "      <th>fuel-system</th>\n",
              "      <th>horsepower-binned</th>\n",
              "    </tr>\n",
              "  </thead>\n",
              "  <tbody>\n",
              "    <tr>\n",
              "      <th>count</th>\n",
              "      <td>201</td>\n",
              "      <td>201</td>\n",
              "      <td>201</td>\n",
              "      <td>201</td>\n",
              "      <td>201</td>\n",
              "      <td>201</td>\n",
              "      <td>201</td>\n",
              "      <td>201</td>\n",
              "      <td>201</td>\n",
              "      <td>200</td>\n",
              "    </tr>\n",
              "    <tr>\n",
              "      <th>unique</th>\n",
              "      <td>22</td>\n",
              "      <td>2</td>\n",
              "      <td>2</td>\n",
              "      <td>5</td>\n",
              "      <td>3</td>\n",
              "      <td>2</td>\n",
              "      <td>6</td>\n",
              "      <td>7</td>\n",
              "      <td>8</td>\n",
              "      <td>3</td>\n",
              "    </tr>\n",
              "    <tr>\n",
              "      <th>top</th>\n",
              "      <td>toyota</td>\n",
              "      <td>std</td>\n",
              "      <td>four</td>\n",
              "      <td>sedan</td>\n",
              "      <td>fwd</td>\n",
              "      <td>front</td>\n",
              "      <td>ohc</td>\n",
              "      <td>four</td>\n",
              "      <td>mpfi</td>\n",
              "      <td>Low</td>\n",
              "    </tr>\n",
              "    <tr>\n",
              "      <th>freq</th>\n",
              "      <td>32</td>\n",
              "      <td>165</td>\n",
              "      <td>115</td>\n",
              "      <td>94</td>\n",
              "      <td>118</td>\n",
              "      <td>198</td>\n",
              "      <td>145</td>\n",
              "      <td>157</td>\n",
              "      <td>92</td>\n",
              "      <td>115</td>\n",
              "    </tr>\n",
              "  </tbody>\n",
              "</table>\n",
              "</div>"
            ],
            "text/plain": [
              "          make aspiration num-of-doors body-style drive-wheels  \\\n",
              "count      201        201          201        201          201   \n",
              "unique      22          2            2          5            3   \n",
              "top     toyota        std         four      sedan          fwd   \n",
              "freq        32        165          115         94          118   \n",
              "\n",
              "       engine-location engine-type num-of-cylinders fuel-system  \\\n",
              "count              201         201              201         201   \n",
              "unique               2           6                7           8   \n",
              "top              front         ohc             four        mpfi   \n",
              "freq               198         145              157          92   \n",
              "\n",
              "       horsepower-binned  \n",
              "count                200  \n",
              "unique                 3  \n",
              "top                  Low  \n",
              "freq                 115  "
            ]
          },
          "execution_count": 19,
          "metadata": {},
          "output_type": "execute_result"
        }
      ],
      "source": [
        "df.describe(include=['object'])"
      ]
    },
    {
      "cell_type": "code",
      "execution_count": null,
      "metadata": {
        "id": "0rKiixck_zCL",
        "outputId": "5a8126e4-a734-44cf-ef4f-f719979d8d3b"
      },
      "outputs": [
        {
          "data": {
            "text/plain": [
              "fwd    118\n",
              "rwd     75\n",
              "4wd      8\n",
              "Name: drive-wheels, dtype: int64"
            ]
          },
          "execution_count": 20,
          "metadata": {},
          "output_type": "execute_result"
        }
      ],
      "source": [
        "df['drive-wheels'].value_counts()"
      ]
    },
    {
      "cell_type": "code",
      "execution_count": null,
      "metadata": {
        "id": "nqxiGeTT_zCL",
        "outputId": "d7ce9f89-7bc4-44dd-f87d-7b9605e01ea5"
      },
      "outputs": [
        {
          "data": {
            "text/html": [
              "<div>\n",
              "<style scoped>\n",
              "    .dataframe tbody tr th:only-of-type {\n",
              "        vertical-align: middle;\n",
              "    }\n",
              "\n",
              "    .dataframe tbody tr th {\n",
              "        vertical-align: top;\n",
              "    }\n",
              "\n",
              "    .dataframe thead th {\n",
              "        text-align: right;\n",
              "    }\n",
              "</style>\n",
              "<table border=\"1\" class=\"dataframe\">\n",
              "  <thead>\n",
              "    <tr style=\"text-align: right;\">\n",
              "      <th></th>\n",
              "      <th>drive-wheels</th>\n",
              "    </tr>\n",
              "  </thead>\n",
              "  <tbody>\n",
              "    <tr>\n",
              "      <th>fwd</th>\n",
              "      <td>118</td>\n",
              "    </tr>\n",
              "    <tr>\n",
              "      <th>rwd</th>\n",
              "      <td>75</td>\n",
              "    </tr>\n",
              "    <tr>\n",
              "      <th>4wd</th>\n",
              "      <td>8</td>\n",
              "    </tr>\n",
              "  </tbody>\n",
              "</table>\n",
              "</div>"
            ],
            "text/plain": [
              "     drive-wheels\n",
              "fwd           118\n",
              "rwd            75\n",
              "4wd             8"
            ]
          },
          "execution_count": 21,
          "metadata": {},
          "output_type": "execute_result"
        }
      ],
      "source": [
        "df['drive-wheels'].value_counts().to_frame()"
      ]
    },
    {
      "cell_type": "code",
      "execution_count": null,
      "metadata": {
        "id": "AxinXNM7_zCL",
        "outputId": "bd056c1d-b126-4526-e7f5-898121e77bbe"
      },
      "outputs": [
        {
          "data": {
            "text/html": [
              "<div>\n",
              "<style scoped>\n",
              "    .dataframe tbody tr th:only-of-type {\n",
              "        vertical-align: middle;\n",
              "    }\n",
              "\n",
              "    .dataframe tbody tr th {\n",
              "        vertical-align: top;\n",
              "    }\n",
              "\n",
              "    .dataframe thead th {\n",
              "        text-align: right;\n",
              "    }\n",
              "</style>\n",
              "<table border=\"1\" class=\"dataframe\">\n",
              "  <thead>\n",
              "    <tr style=\"text-align: right;\">\n",
              "      <th></th>\n",
              "      <th>value_counts</th>\n",
              "    </tr>\n",
              "  </thead>\n",
              "  <tbody>\n",
              "    <tr>\n",
              "      <th>fwd</th>\n",
              "      <td>118</td>\n",
              "    </tr>\n",
              "    <tr>\n",
              "      <th>rwd</th>\n",
              "      <td>75</td>\n",
              "    </tr>\n",
              "    <tr>\n",
              "      <th>4wd</th>\n",
              "      <td>8</td>\n",
              "    </tr>\n",
              "  </tbody>\n",
              "</table>\n",
              "</div>"
            ],
            "text/plain": [
              "     value_counts\n",
              "fwd           118\n",
              "rwd            75\n",
              "4wd             8"
            ]
          },
          "execution_count": 22,
          "metadata": {},
          "output_type": "execute_result"
        }
      ],
      "source": [
        "drive_wheels_counts = df['drive-wheels'].value_counts().to_frame()\n",
        "drive_wheels_counts.rename(columns={'drive-wheels': 'value_counts'}, inplace=True)\n",
        "drive_wheels_counts"
      ]
    },
    {
      "cell_type": "code",
      "execution_count": null,
      "metadata": {
        "id": "CqYdRmPB_zCL",
        "outputId": "8923e146-6dbf-458f-e126-ed18aa06d977"
      },
      "outputs": [
        {
          "data": {
            "text/html": [
              "<div>\n",
              "<style scoped>\n",
              "    .dataframe tbody tr th:only-of-type {\n",
              "        vertical-align: middle;\n",
              "    }\n",
              "\n",
              "    .dataframe tbody tr th {\n",
              "        vertical-align: top;\n",
              "    }\n",
              "\n",
              "    .dataframe thead th {\n",
              "        text-align: right;\n",
              "    }\n",
              "</style>\n",
              "<table border=\"1\" class=\"dataframe\">\n",
              "  <thead>\n",
              "    <tr style=\"text-align: right;\">\n",
              "      <th></th>\n",
              "      <th>value_counts</th>\n",
              "    </tr>\n",
              "    <tr>\n",
              "      <th>drive-wheels</th>\n",
              "      <th></th>\n",
              "    </tr>\n",
              "  </thead>\n",
              "  <tbody>\n",
              "    <tr>\n",
              "      <th>fwd</th>\n",
              "      <td>118</td>\n",
              "    </tr>\n",
              "    <tr>\n",
              "      <th>rwd</th>\n",
              "      <td>75</td>\n",
              "    </tr>\n",
              "    <tr>\n",
              "      <th>4wd</th>\n",
              "      <td>8</td>\n",
              "    </tr>\n",
              "  </tbody>\n",
              "</table>\n",
              "</div>"
            ],
            "text/plain": [
              "              value_counts\n",
              "drive-wheels              \n",
              "fwd                    118\n",
              "rwd                     75\n",
              "4wd                      8"
            ]
          },
          "execution_count": 23,
          "metadata": {},
          "output_type": "execute_result"
        }
      ],
      "source": [
        "drive_wheels_counts.index.name = 'drive-wheels'\n",
        "drive_wheels_counts"
      ]
    },
    {
      "cell_type": "code",
      "execution_count": null,
      "metadata": {
        "id": "ycOakpWB_zCM",
        "outputId": "ac8bd8ab-c7f4-447f-c3ed-ee1602b77914"
      },
      "outputs": [
        {
          "data": {
            "text/html": [
              "<div>\n",
              "<style scoped>\n",
              "    .dataframe tbody tr th:only-of-type {\n",
              "        vertical-align: middle;\n",
              "    }\n",
              "\n",
              "    .dataframe tbody tr th {\n",
              "        vertical-align: top;\n",
              "    }\n",
              "\n",
              "    .dataframe thead th {\n",
              "        text-align: right;\n",
              "    }\n",
              "</style>\n",
              "<table border=\"1\" class=\"dataframe\">\n",
              "  <thead>\n",
              "    <tr style=\"text-align: right;\">\n",
              "      <th></th>\n",
              "      <th>value_counts</th>\n",
              "    </tr>\n",
              "    <tr>\n",
              "      <th>engine-location</th>\n",
              "      <th></th>\n",
              "    </tr>\n",
              "  </thead>\n",
              "  <tbody>\n",
              "    <tr>\n",
              "      <th>front</th>\n",
              "      <td>198</td>\n",
              "    </tr>\n",
              "    <tr>\n",
              "      <th>rear</th>\n",
              "      <td>3</td>\n",
              "    </tr>\n",
              "  </tbody>\n",
              "</table>\n",
              "</div>"
            ],
            "text/plain": [
              "                 value_counts\n",
              "engine-location              \n",
              "front                     198\n",
              "rear                        3"
            ]
          },
          "execution_count": 24,
          "metadata": {},
          "output_type": "execute_result"
        }
      ],
      "source": [
        "# engine-location as variable\n",
        "engine_loc_counts = df['engine-location'].value_counts().to_frame()\n",
        "engine_loc_counts.rename(columns={'engine-location': 'value_counts'}, inplace=True)\n",
        "engine_loc_counts.index.name = 'engine-location'\n",
        "engine_loc_counts.head(10)"
      ]
    },
    {
      "cell_type": "code",
      "execution_count": null,
      "metadata": {
        "id": "Fk-QUG_k_zCM",
        "outputId": "a481e313-55bd-4d8c-c6d8-7e82b30ce79f"
      },
      "outputs": [
        {
          "data": {
            "text/plain": [
              "array(['rwd', 'fwd', '4wd'], dtype=object)"
            ]
          },
          "execution_count": 25,
          "metadata": {},
          "output_type": "execute_result"
        }
      ],
      "source": [
        "df['drive-wheels'].unique()"
      ]
    },
    {
      "cell_type": "code",
      "execution_count": null,
      "metadata": {
        "id": "XuQxPAke_zCM"
      },
      "outputs": [],
      "source": [
        "df_group_one = df[['drive-wheels','body-style','price']]"
      ]
    },
    {
      "cell_type": "code",
      "execution_count": null,
      "metadata": {
        "id": "3TlyDQEf_zCM",
        "outputId": "d22e497d-4289-415c-b3d7-3f7a3447a802"
      },
      "outputs": [
        {
          "name": "stderr",
          "output_type": "stream",
          "text": [
            "C:\\Users\\irvin\\AppData\\Local\\Temp\\ipykernel_27416\\1990336142.py:2: FutureWarning: The default value of numeric_only in DataFrameGroupBy.mean is deprecated. In a future version, numeric_only will default to False. Either specify numeric_only or select only columns which should be valid for the function.\n",
            "  df_group_one = df_group_one.groupby(['drive-wheels'],as_index=False).mean()\n"
          ]
        },
        {
          "data": {
            "text/html": [
              "<div>\n",
              "<style scoped>\n",
              "    .dataframe tbody tr th:only-of-type {\n",
              "        vertical-align: middle;\n",
              "    }\n",
              "\n",
              "    .dataframe tbody tr th {\n",
              "        vertical-align: top;\n",
              "    }\n",
              "\n",
              "    .dataframe thead th {\n",
              "        text-align: right;\n",
              "    }\n",
              "</style>\n",
              "<table border=\"1\" class=\"dataframe\">\n",
              "  <thead>\n",
              "    <tr style=\"text-align: right;\">\n",
              "      <th></th>\n",
              "      <th>drive-wheels</th>\n",
              "      <th>price</th>\n",
              "    </tr>\n",
              "  </thead>\n",
              "  <tbody>\n",
              "    <tr>\n",
              "      <th>0</th>\n",
              "      <td>4wd</td>\n",
              "      <td>10241.000000</td>\n",
              "    </tr>\n",
              "    <tr>\n",
              "      <th>1</th>\n",
              "      <td>fwd</td>\n",
              "      <td>9244.779661</td>\n",
              "    </tr>\n",
              "    <tr>\n",
              "      <th>2</th>\n",
              "      <td>rwd</td>\n",
              "      <td>19757.613333</td>\n",
              "    </tr>\n",
              "  </tbody>\n",
              "</table>\n",
              "</div>"
            ],
            "text/plain": [
              "  drive-wheels         price\n",
              "0          4wd  10241.000000\n",
              "1          fwd   9244.779661\n",
              "2          rwd  19757.613333"
            ]
          },
          "execution_count": 27,
          "metadata": {},
          "output_type": "execute_result"
        }
      ],
      "source": [
        "# grouping results\n",
        "df_group_one = df_group_one.groupby(['drive-wheels'],as_index=False).mean()\n",
        "df_group_one"
      ]
    },
    {
      "cell_type": "code",
      "execution_count": null,
      "metadata": {
        "id": "8cPlUcr7_zCM",
        "outputId": "2deda7e5-8110-465f-9190-7c3b6d57eff5"
      },
      "outputs": [
        {
          "data": {
            "text/html": [
              "<div>\n",
              "<style scoped>\n",
              "    .dataframe tbody tr th:only-of-type {\n",
              "        vertical-align: middle;\n",
              "    }\n",
              "\n",
              "    .dataframe tbody tr th {\n",
              "        vertical-align: top;\n",
              "    }\n",
              "\n",
              "    .dataframe thead th {\n",
              "        text-align: right;\n",
              "    }\n",
              "</style>\n",
              "<table border=\"1\" class=\"dataframe\">\n",
              "  <thead>\n",
              "    <tr style=\"text-align: right;\">\n",
              "      <th></th>\n",
              "      <th>drive-wheels</th>\n",
              "      <th>body-style</th>\n",
              "      <th>price</th>\n",
              "    </tr>\n",
              "  </thead>\n",
              "  <tbody>\n",
              "    <tr>\n",
              "      <th>0</th>\n",
              "      <td>4wd</td>\n",
              "      <td>hatchback</td>\n",
              "      <td>7603.000000</td>\n",
              "    </tr>\n",
              "    <tr>\n",
              "      <th>1</th>\n",
              "      <td>4wd</td>\n",
              "      <td>sedan</td>\n",
              "      <td>12647.333333</td>\n",
              "    </tr>\n",
              "    <tr>\n",
              "      <th>2</th>\n",
              "      <td>4wd</td>\n",
              "      <td>wagon</td>\n",
              "      <td>9095.750000</td>\n",
              "    </tr>\n",
              "    <tr>\n",
              "      <th>3</th>\n",
              "      <td>fwd</td>\n",
              "      <td>convertible</td>\n",
              "      <td>11595.000000</td>\n",
              "    </tr>\n",
              "    <tr>\n",
              "      <th>4</th>\n",
              "      <td>fwd</td>\n",
              "      <td>hardtop</td>\n",
              "      <td>8249.000000</td>\n",
              "    </tr>\n",
              "    <tr>\n",
              "      <th>5</th>\n",
              "      <td>fwd</td>\n",
              "      <td>hatchback</td>\n",
              "      <td>8396.387755</td>\n",
              "    </tr>\n",
              "    <tr>\n",
              "      <th>6</th>\n",
              "      <td>fwd</td>\n",
              "      <td>sedan</td>\n",
              "      <td>9811.800000</td>\n",
              "    </tr>\n",
              "    <tr>\n",
              "      <th>7</th>\n",
              "      <td>fwd</td>\n",
              "      <td>wagon</td>\n",
              "      <td>9997.333333</td>\n",
              "    </tr>\n",
              "    <tr>\n",
              "      <th>8</th>\n",
              "      <td>rwd</td>\n",
              "      <td>convertible</td>\n",
              "      <td>23949.600000</td>\n",
              "    </tr>\n",
              "    <tr>\n",
              "      <th>9</th>\n",
              "      <td>rwd</td>\n",
              "      <td>hardtop</td>\n",
              "      <td>24202.714286</td>\n",
              "    </tr>\n",
              "    <tr>\n",
              "      <th>10</th>\n",
              "      <td>rwd</td>\n",
              "      <td>hatchback</td>\n",
              "      <td>14337.777778</td>\n",
              "    </tr>\n",
              "    <tr>\n",
              "      <th>11</th>\n",
              "      <td>rwd</td>\n",
              "      <td>sedan</td>\n",
              "      <td>21711.833333</td>\n",
              "    </tr>\n",
              "    <tr>\n",
              "      <th>12</th>\n",
              "      <td>rwd</td>\n",
              "      <td>wagon</td>\n",
              "      <td>16994.222222</td>\n",
              "    </tr>\n",
              "  </tbody>\n",
              "</table>\n",
              "</div>"
            ],
            "text/plain": [
              "   drive-wheels   body-style         price\n",
              "0           4wd    hatchback   7603.000000\n",
              "1           4wd        sedan  12647.333333\n",
              "2           4wd        wagon   9095.750000\n",
              "3           fwd  convertible  11595.000000\n",
              "4           fwd      hardtop   8249.000000\n",
              "5           fwd    hatchback   8396.387755\n",
              "6           fwd        sedan   9811.800000\n",
              "7           fwd        wagon   9997.333333\n",
              "8           rwd  convertible  23949.600000\n",
              "9           rwd      hardtop  24202.714286\n",
              "10          rwd    hatchback  14337.777778\n",
              "11          rwd        sedan  21711.833333\n",
              "12          rwd        wagon  16994.222222"
            ]
          },
          "execution_count": 28,
          "metadata": {},
          "output_type": "execute_result"
        }
      ],
      "source": [
        "# grouping results\n",
        "df_gptest = df[['drive-wheels','body-style','price']]\n",
        "grouped_test1 = df_gptest.groupby(['drive-wheels','body-style'],as_index=False).mean()\n",
        "grouped_test1"
      ]
    },
    {
      "cell_type": "code",
      "execution_count": null,
      "metadata": {
        "id": "d43u2JhJ_zCN",
        "outputId": "77b42777-d974-400b-8321-7714807e4c0b"
      },
      "outputs": [
        {
          "data": {
            "text/html": [
              "<div>\n",
              "<style scoped>\n",
              "    .dataframe tbody tr th:only-of-type {\n",
              "        vertical-align: middle;\n",
              "    }\n",
              "\n",
              "    .dataframe tbody tr th {\n",
              "        vertical-align: top;\n",
              "    }\n",
              "\n",
              "    .dataframe thead tr th {\n",
              "        text-align: left;\n",
              "    }\n",
              "\n",
              "    .dataframe thead tr:last-of-type th {\n",
              "        text-align: right;\n",
              "    }\n",
              "</style>\n",
              "<table border=\"1\" class=\"dataframe\">\n",
              "  <thead>\n",
              "    <tr>\n",
              "      <th></th>\n",
              "      <th colspan=\"5\" halign=\"left\">price</th>\n",
              "    </tr>\n",
              "    <tr>\n",
              "      <th>body-style</th>\n",
              "      <th>convertible</th>\n",
              "      <th>hardtop</th>\n",
              "      <th>hatchback</th>\n",
              "      <th>sedan</th>\n",
              "      <th>wagon</th>\n",
              "    </tr>\n",
              "    <tr>\n",
              "      <th>drive-wheels</th>\n",
              "      <th></th>\n",
              "      <th></th>\n",
              "      <th></th>\n",
              "      <th></th>\n",
              "      <th></th>\n",
              "    </tr>\n",
              "  </thead>\n",
              "  <tbody>\n",
              "    <tr>\n",
              "      <th>4wd</th>\n",
              "      <td>NaN</td>\n",
              "      <td>NaN</td>\n",
              "      <td>7603.000000</td>\n",
              "      <td>12647.333333</td>\n",
              "      <td>9095.750000</td>\n",
              "    </tr>\n",
              "    <tr>\n",
              "      <th>fwd</th>\n",
              "      <td>11595.0</td>\n",
              "      <td>8249.000000</td>\n",
              "      <td>8396.387755</td>\n",
              "      <td>9811.800000</td>\n",
              "      <td>9997.333333</td>\n",
              "    </tr>\n",
              "    <tr>\n",
              "      <th>rwd</th>\n",
              "      <td>23949.6</td>\n",
              "      <td>24202.714286</td>\n",
              "      <td>14337.777778</td>\n",
              "      <td>21711.833333</td>\n",
              "      <td>16994.222222</td>\n",
              "    </tr>\n",
              "  </tbody>\n",
              "</table>\n",
              "</div>"
            ],
            "text/plain": [
              "                   price                                            \\\n",
              "body-style   convertible       hardtop     hatchback         sedan   \n",
              "drive-wheels                                                         \n",
              "4wd                  NaN           NaN   7603.000000  12647.333333   \n",
              "fwd              11595.0   8249.000000   8396.387755   9811.800000   \n",
              "rwd              23949.6  24202.714286  14337.777778  21711.833333   \n",
              "\n",
              "                            \n",
              "body-style           wagon  \n",
              "drive-wheels                \n",
              "4wd            9095.750000  \n",
              "fwd            9997.333333  \n",
              "rwd           16994.222222  "
            ]
          },
          "execution_count": 29,
          "metadata": {},
          "output_type": "execute_result"
        }
      ],
      "source": [
        "grouped_pivot = grouped_test1.pivot(index='drive-wheels',columns='body-style')\n",
        "grouped_pivot"
      ]
    },
    {
      "cell_type": "code",
      "execution_count": null,
      "metadata": {
        "id": "kV5vIVgC_zCN",
        "outputId": "a05aec17-707e-4418-c0a2-bea071b09af2"
      },
      "outputs": [
        {
          "data": {
            "text/html": [
              "<div>\n",
              "<style scoped>\n",
              "    .dataframe tbody tr th:only-of-type {\n",
              "        vertical-align: middle;\n",
              "    }\n",
              "\n",
              "    .dataframe tbody tr th {\n",
              "        vertical-align: top;\n",
              "    }\n",
              "\n",
              "    .dataframe thead tr th {\n",
              "        text-align: left;\n",
              "    }\n",
              "\n",
              "    .dataframe thead tr:last-of-type th {\n",
              "        text-align: right;\n",
              "    }\n",
              "</style>\n",
              "<table border=\"1\" class=\"dataframe\">\n",
              "  <thead>\n",
              "    <tr>\n",
              "      <th></th>\n",
              "      <th colspan=\"5\" halign=\"left\">price</th>\n",
              "    </tr>\n",
              "    <tr>\n",
              "      <th>body-style</th>\n",
              "      <th>convertible</th>\n",
              "      <th>hardtop</th>\n",
              "      <th>hatchback</th>\n",
              "      <th>sedan</th>\n",
              "      <th>wagon</th>\n",
              "    </tr>\n",
              "    <tr>\n",
              "      <th>drive-wheels</th>\n",
              "      <th></th>\n",
              "      <th></th>\n",
              "      <th></th>\n",
              "      <th></th>\n",
              "      <th></th>\n",
              "    </tr>\n",
              "  </thead>\n",
              "  <tbody>\n",
              "    <tr>\n",
              "      <th>4wd</th>\n",
              "      <td>0.0</td>\n",
              "      <td>0.000000</td>\n",
              "      <td>7603.000000</td>\n",
              "      <td>12647.333333</td>\n",
              "      <td>9095.750000</td>\n",
              "    </tr>\n",
              "    <tr>\n",
              "      <th>fwd</th>\n",
              "      <td>11595.0</td>\n",
              "      <td>8249.000000</td>\n",
              "      <td>8396.387755</td>\n",
              "      <td>9811.800000</td>\n",
              "      <td>9997.333333</td>\n",
              "    </tr>\n",
              "    <tr>\n",
              "      <th>rwd</th>\n",
              "      <td>23949.6</td>\n",
              "      <td>24202.714286</td>\n",
              "      <td>14337.777778</td>\n",
              "      <td>21711.833333</td>\n",
              "      <td>16994.222222</td>\n",
              "    </tr>\n",
              "  </tbody>\n",
              "</table>\n",
              "</div>"
            ],
            "text/plain": [
              "                   price                                            \\\n",
              "body-style   convertible       hardtop     hatchback         sedan   \n",
              "drive-wheels                                                         \n",
              "4wd                  0.0      0.000000   7603.000000  12647.333333   \n",
              "fwd              11595.0   8249.000000   8396.387755   9811.800000   \n",
              "rwd              23949.6  24202.714286  14337.777778  21711.833333   \n",
              "\n",
              "                            \n",
              "body-style           wagon  \n",
              "drive-wheels                \n",
              "4wd            9095.750000  \n",
              "fwd            9997.333333  \n",
              "rwd           16994.222222  "
            ]
          },
          "execution_count": 30,
          "metadata": {},
          "output_type": "execute_result"
        }
      ],
      "source": [
        "grouped_pivot = grouped_pivot.fillna(0) #fill missing values with 0\n",
        "grouped_pivot"
      ]
    },
    {
      "cell_type": "markdown",
      "metadata": {
        "id": "9ouiGSP3_zCN"
      },
      "source": [
        "## Question 4:\n",
        "\n",
        "Use the \"groupby\" function to find the average \"price\" of each car based on \"body-style\".\n"
      ]
    },
    {
      "cell_type": "code",
      "execution_count": null,
      "metadata": {
        "id": "rhBb6SS1_zCN",
        "outputId": "a063673d-a0dc-48a3-b569-a1ec7b295ba7"
      },
      "outputs": [
        {
          "data": {
            "text/html": [
              "<div>\n",
              "<style scoped>\n",
              "    .dataframe tbody tr th:only-of-type {\n",
              "        vertical-align: middle;\n",
              "    }\n",
              "\n",
              "    .dataframe tbody tr th {\n",
              "        vertical-align: top;\n",
              "    }\n",
              "\n",
              "    .dataframe thead th {\n",
              "        text-align: right;\n",
              "    }\n",
              "</style>\n",
              "<table border=\"1\" class=\"dataframe\">\n",
              "  <thead>\n",
              "    <tr style=\"text-align: right;\">\n",
              "      <th></th>\n",
              "      <th>body-style</th>\n",
              "      <th>price</th>\n",
              "    </tr>\n",
              "  </thead>\n",
              "  <tbody>\n",
              "    <tr>\n",
              "      <th>0</th>\n",
              "      <td>convertible</td>\n",
              "      <td>21890.500000</td>\n",
              "    </tr>\n",
              "    <tr>\n",
              "      <th>1</th>\n",
              "      <td>hardtop</td>\n",
              "      <td>22208.500000</td>\n",
              "    </tr>\n",
              "    <tr>\n",
              "      <th>2</th>\n",
              "      <td>hatchback</td>\n",
              "      <td>9957.441176</td>\n",
              "    </tr>\n",
              "    <tr>\n",
              "      <th>3</th>\n",
              "      <td>sedan</td>\n",
              "      <td>14459.755319</td>\n",
              "    </tr>\n",
              "    <tr>\n",
              "      <th>4</th>\n",
              "      <td>wagon</td>\n",
              "      <td>12371.960000</td>\n",
              "    </tr>\n",
              "  </tbody>\n",
              "</table>\n",
              "</div>"
            ],
            "text/plain": [
              "    body-style         price\n",
              "0  convertible  21890.500000\n",
              "1      hardtop  22208.500000\n",
              "2    hatchback   9957.441176\n",
              "3        sedan  14459.755319\n",
              "4        wagon  12371.960000"
            ]
          },
          "execution_count": 31,
          "metadata": {},
          "output_type": "execute_result"
        }
      ],
      "source": [
        "df_gptest2 = df[['body-style','price']]\n",
        "grouped_test_bodystyle = df_gptest2.groupby(['body-style'],as_index= False).mean()\n",
        "grouped_test_bodystyle"
      ]
    },
    {
      "cell_type": "code",
      "execution_count": null,
      "metadata": {
        "id": "RQnS2lIO_zCO"
      },
      "outputs": [],
      "source": [
        "import matplotlib.pyplot as plt\n",
        "%matplotlib inline "
      ]
    },
    {
      "cell_type": "code",
      "execution_count": null,
      "metadata": {
        "id": "lVlzesxk_zCO",
        "outputId": "779d6ec8-dc1e-47a0-81fb-aa2606375b01"
      },
      "outputs": [
        {
          "data": {
            "image/png": "[encoded data removed]",
            "text/plain": [
              "<Figure size 640x480 with 2 Axes>"
            ]
          },
          "metadata": {},
          "output_type": "display_data"
        }
      ],
      "source": [
        "#use the grouped results\n",
        "plt.pcolor(grouped_pivot, cmap='RdBu')\n",
        "plt.colorbar()\n",
        "plt.show()"
      ]
    },
    {
      "cell_type": "code",
      "execution_count": null,
      "metadata": {
        "id": "mDbD-TVe_zCO",
        "outputId": "f32e4803-efbf-4588-90ae-cfc78aa7edb5"
      },
      "outputs": [
        {
          "data": {
            "image/png": "[encoded data removed]",
            "text/plain": [
              "<Figure size 640x480 with 2 Axes>"
            ]
          },
          "metadata": {},
          "output_type": "display_data"
        }
      ],
      "source": [
        "fig, ax = plt.subplots()\n",
        "im = ax.pcolor(grouped_pivot, cmap='RdBu')\n",
        "\n",
        "#label names\n",
        "row_labels = grouped_pivot.columns.levels[1]\n",
        "col_labels = grouped_pivot.index\n",
        "\n",
        "#move ticks and labels to the center\n",
        "ax.set_xticks(np.arange(grouped_pivot.shape[1]) + 0.5, minor=False)\n",
        "ax.set_yticks(np.arange(grouped_pivot.shape[0]) + 0.5, minor=False)\n",
        "\n",
        "#insert labels\n",
        "ax.set_xticklabels(row_labels, minor=False)\n",
        "ax.set_yticklabels(col_labels, minor=False)\n",
        "\n",
        "#rotate label if too long\n",
        "plt.xticks(rotation=90)\n",
        "\n",
        "fig.colorbar(im)\n",
        "plt.show()"
      ]
    },
    {
      "cell_type": "code",
      "execution_count": null,
      "metadata": {
        "id": "cmQDQVDu_zCO",
        "outputId": "21b215ff-8d37-461f-bc1e-091497c93d55"
      },
      "outputs": [
        {
          "name": "stderr",
          "output_type": "stream",
          "text": [
            "C:\\Users\\irvin\\AppData\\Local\\Temp\\ipykernel_27416\\1134722465.py:1: FutureWarning: The default value of numeric_only in DataFrame.corr is deprecated. In a future version, it will default to False. Select only valid columns or specify the value of numeric_only to silence this warning.\n",
            "  df.corr()\n"
          ]
        },
        {
          "data": {
            "text/html": [
              "<div>\n",
              "<style scoped>\n",
              "    .dataframe tbody tr th:only-of-type {\n",
              "        vertical-align: middle;\n",
              "    }\n",
              "\n",
              "    .dataframe tbody tr th {\n",
              "        vertical-align: top;\n",
              "    }\n",
              "\n",
              "    .dataframe thead th {\n",
              "        text-align: right;\n",
              "    }\n",
              "</style>\n",
              "<table border=\"1\" class=\"dataframe\">\n",
              "  <thead>\n",
              "    <tr style=\"text-align: right;\">\n",
              "      <th></th>\n",
              "      <th>symboling</th>\n",
              "      <th>normalized-losses</th>\n",
              "      <th>wheel-base</th>\n",
              "      <th>length</th>\n",
              "      <th>width</th>\n",
              "      <th>height</th>\n",
              "      <th>curb-weight</th>\n",
              "      <th>engine-size</th>\n",
              "      <th>bore</th>\n",
              "      <th>stroke</th>\n",
              "      <th>compression-ratio</th>\n",
              "      <th>horsepower</th>\n",
              "      <th>peak-rpm</th>\n",
              "      <th>city-mpg</th>\n",
              "      <th>highway-mpg</th>\n",
              "      <th>price</th>\n",
              "      <th>city-L/100km</th>\n",
              "      <th>diesel</th>\n",
              "      <th>gas</th>\n",
              "    </tr>\n",
              "  </thead>\n",
              "  <tbody>\n",
              "    <tr>\n",
              "      <th>symboling</th>\n",
              "      <td>1.000000</td>\n",
              "      <td>0.466264</td>\n",
              "      <td>-0.535987</td>\n",
              "      <td>-0.365404</td>\n",
              "      <td>-0.242423</td>\n",
              "      <td>-0.550160</td>\n",
              "      <td>-0.233118</td>\n",
              "      <td>-0.110581</td>\n",
              "      <td>-0.140019</td>\n",
              "      <td>-0.008245</td>\n",
              "      <td>-0.182196</td>\n",
              "      <td>0.075819</td>\n",
              "      <td>0.279740</td>\n",
              "      <td>-0.035527</td>\n",
              "      <td>0.036233</td>\n",
              "      <td>-0.082391</td>\n",
              "      <td>0.066171</td>\n",
              "      <td>-0.196735</td>\n",
              "      <td>0.196735</td>\n",
              "    </tr>\n",
              "    <tr>\n",
              "      <th>normalized-losses</th>\n",
              "      <td>0.466264</td>\n",
              "      <td>1.000000</td>\n",
              "      <td>-0.056661</td>\n",
              "      <td>0.019424</td>\n",
              "      <td>0.086802</td>\n",
              "      <td>-0.373737</td>\n",
              "      <td>0.099404</td>\n",
              "      <td>0.112360</td>\n",
              "      <td>-0.029862</td>\n",
              "      <td>0.055563</td>\n",
              "      <td>-0.114713</td>\n",
              "      <td>0.217299</td>\n",
              "      <td>0.239543</td>\n",
              "      <td>-0.225016</td>\n",
              "      <td>-0.181877</td>\n",
              "      <td>0.133999</td>\n",
              "      <td>0.238567</td>\n",
              "      <td>-0.101546</td>\n",
              "      <td>0.101546</td>\n",
              "    </tr>\n",
              "    <tr>\n",
              "      <th>wheel-base</th>\n",
              "      <td>-0.535987</td>\n",
              "      <td>-0.056661</td>\n",
              "      <td>1.000000</td>\n",
              "      <td>0.876024</td>\n",
              "      <td>0.814507</td>\n",
              "      <td>0.590742</td>\n",
              "      <td>0.782097</td>\n",
              "      <td>0.572027</td>\n",
              "      <td>0.493244</td>\n",
              "      <td>0.158502</td>\n",
              "      <td>0.250313</td>\n",
              "      <td>0.371147</td>\n",
              "      <td>-0.360305</td>\n",
              "      <td>-0.470606</td>\n",
              "      <td>-0.543304</td>\n",
              "      <td>0.584642</td>\n",
              "      <td>0.476153</td>\n",
              "      <td>0.307237</td>\n",
              "      <td>-0.307237</td>\n",
              "    </tr>\n",
              "    <tr>\n",
              "      <th>length</th>\n",
              "      <td>-0.365404</td>\n",
              "      <td>0.019424</td>\n",
              "      <td>0.876024</td>\n",
              "      <td>1.000000</td>\n",
              "      <td>0.857170</td>\n",
              "      <td>0.492063</td>\n",
              "      <td>0.880665</td>\n",
              "      <td>0.685025</td>\n",
              "      <td>0.608971</td>\n",
              "      <td>0.124139</td>\n",
              "      <td>0.159733</td>\n",
              "      <td>0.579821</td>\n",
              "      <td>-0.285970</td>\n",
              "      <td>-0.665192</td>\n",
              "      <td>-0.698142</td>\n",
              "      <td>0.690628</td>\n",
              "      <td>0.657373</td>\n",
              "      <td>0.211187</td>\n",
              "      <td>-0.211187</td>\n",
              "    </tr>\n",
              "    <tr>\n",
              "      <th>width</th>\n",
              "      <td>-0.242423</td>\n",
              "      <td>0.086802</td>\n",
              "      <td>0.814507</td>\n",
              "      <td>0.857170</td>\n",
              "      <td>1.000000</td>\n",
              "      <td>0.306002</td>\n",
              "      <td>0.866201</td>\n",
              "      <td>0.729436</td>\n",
              "      <td>0.544885</td>\n",
              "      <td>0.188829</td>\n",
              "      <td>0.189867</td>\n",
              "      <td>0.615077</td>\n",
              "      <td>-0.245800</td>\n",
              "      <td>-0.633531</td>\n",
              "      <td>-0.680635</td>\n",
              "      <td>0.751265</td>\n",
              "      <td>0.673363</td>\n",
              "      <td>0.244356</td>\n",
              "      <td>-0.244356</td>\n",
              "    </tr>\n",
              "    <tr>\n",
              "      <th>height</th>\n",
              "      <td>-0.550160</td>\n",
              "      <td>-0.373737</td>\n",
              "      <td>0.590742</td>\n",
              "      <td>0.492063</td>\n",
              "      <td>0.306002</td>\n",
              "      <td>1.000000</td>\n",
              "      <td>0.307581</td>\n",
              "      <td>0.074694</td>\n",
              "      <td>0.180449</td>\n",
              "      <td>-0.062704</td>\n",
              "      <td>0.259737</td>\n",
              "      <td>-0.087027</td>\n",
              "      <td>-0.309974</td>\n",
              "      <td>-0.049800</td>\n",
              "      <td>-0.104812</td>\n",
              "      <td>0.135486</td>\n",
              "      <td>0.003811</td>\n",
              "      <td>0.281578</td>\n",
              "      <td>-0.281578</td>\n",
              "    </tr>\n",
              "    <tr>\n",
              "      <th>curb-weight</th>\n",
              "      <td>-0.233118</td>\n",
              "      <td>0.099404</td>\n",
              "      <td>0.782097</td>\n",
              "      <td>0.880665</td>\n",
              "      <td>0.866201</td>\n",
              "      <td>0.307581</td>\n",
              "      <td>1.000000</td>\n",
              "      <td>0.849072</td>\n",
              "      <td>0.644060</td>\n",
              "      <td>0.167562</td>\n",
              "      <td>0.156433</td>\n",
              "      <td>0.757976</td>\n",
              "      <td>-0.279361</td>\n",
              "      <td>-0.749543</td>\n",
              "      <td>-0.794889</td>\n",
              "      <td>0.834415</td>\n",
              "      <td>0.785353</td>\n",
              "      <td>0.221046</td>\n",
              "      <td>-0.221046</td>\n",
              "    </tr>\n",
              "    <tr>\n",
              "      <th>engine-size</th>\n",
              "      <td>-0.110581</td>\n",
              "      <td>0.112360</td>\n",
              "      <td>0.572027</td>\n",
              "      <td>0.685025</td>\n",
              "      <td>0.729436</td>\n",
              "      <td>0.074694</td>\n",
              "      <td>0.849072</td>\n",
              "      <td>1.000000</td>\n",
              "      <td>0.572609</td>\n",
              "      <td>0.209523</td>\n",
              "      <td>0.028889</td>\n",
              "      <td>0.822676</td>\n",
              "      <td>-0.256733</td>\n",
              "      <td>-0.650546</td>\n",
              "      <td>-0.679571</td>\n",
              "      <td>0.872335</td>\n",
              "      <td>0.745059</td>\n",
              "      <td>0.070779</td>\n",
              "      <td>-0.070779</td>\n",
              "    </tr>\n",
              "    <tr>\n",
              "      <th>bore</th>\n",
              "      <td>-0.140019</td>\n",
              "      <td>-0.029862</td>\n",
              "      <td>0.493244</td>\n",
              "      <td>0.608971</td>\n",
              "      <td>0.544885</td>\n",
              "      <td>0.180449</td>\n",
              "      <td>0.644060</td>\n",
              "      <td>0.572609</td>\n",
              "      <td>1.000000</td>\n",
              "      <td>-0.055390</td>\n",
              "      <td>0.001263</td>\n",
              "      <td>0.566936</td>\n",
              "      <td>-0.267392</td>\n",
              "      <td>-0.582027</td>\n",
              "      <td>-0.591309</td>\n",
              "      <td>0.543155</td>\n",
              "      <td>0.554610</td>\n",
              "      <td>0.054458</td>\n",
              "      <td>-0.054458</td>\n",
              "    </tr>\n",
              "    <tr>\n",
              "      <th>stroke</th>\n",
              "      <td>-0.008245</td>\n",
              "      <td>0.055563</td>\n",
              "      <td>0.158502</td>\n",
              "      <td>0.124139</td>\n",
              "      <td>0.188829</td>\n",
              "      <td>-0.062704</td>\n",
              "      <td>0.167562</td>\n",
              "      <td>0.209523</td>\n",
              "      <td>-0.055390</td>\n",
              "      <td>1.000000</td>\n",
              "      <td>0.187923</td>\n",
              "      <td>0.098462</td>\n",
              "      <td>-0.065713</td>\n",
              "      <td>-0.034696</td>\n",
              "      <td>-0.035201</td>\n",
              "      <td>0.082310</td>\n",
              "      <td>0.037300</td>\n",
              "      <td>0.241303</td>\n",
              "      <td>-0.241303</td>\n",
              "    </tr>\n",
              "    <tr>\n",
              "      <th>compression-ratio</th>\n",
              "      <td>-0.182196</td>\n",
              "      <td>-0.114713</td>\n",
              "      <td>0.250313</td>\n",
              "      <td>0.159733</td>\n",
              "      <td>0.189867</td>\n",
              "      <td>0.259737</td>\n",
              "      <td>0.156433</td>\n",
              "      <td>0.028889</td>\n",
              "      <td>0.001263</td>\n",
              "      <td>0.187923</td>\n",
              "      <td>1.000000</td>\n",
              "      <td>-0.214514</td>\n",
              "      <td>-0.435780</td>\n",
              "      <td>0.331425</td>\n",
              "      <td>0.268465</td>\n",
              "      <td>0.071107</td>\n",
              "      <td>-0.299372</td>\n",
              "      <td>0.985231</td>\n",
              "      <td>-0.985231</td>\n",
              "    </tr>\n",
              "    <tr>\n",
              "      <th>horsepower</th>\n",
              "      <td>0.075819</td>\n",
              "      <td>0.217299</td>\n",
              "      <td>0.371147</td>\n",
              "      <td>0.579821</td>\n",
              "      <td>0.615077</td>\n",
              "      <td>-0.087027</td>\n",
              "      <td>0.757976</td>\n",
              "      <td>0.822676</td>\n",
              "      <td>0.566936</td>\n",
              "      <td>0.098462</td>\n",
              "      <td>-0.214514</td>\n",
              "      <td>1.000000</td>\n",
              "      <td>0.107885</td>\n",
              "      <td>-0.822214</td>\n",
              "      <td>-0.804575</td>\n",
              "      <td>0.809575</td>\n",
              "      <td>0.889488</td>\n",
              "      <td>-0.169053</td>\n",
              "      <td>0.169053</td>\n",
              "    </tr>\n",
              "    <tr>\n",
              "      <th>peak-rpm</th>\n",
              "      <td>0.279740</td>\n",
              "      <td>0.239543</td>\n",
              "      <td>-0.360305</td>\n",
              "      <td>-0.285970</td>\n",
              "      <td>-0.245800</td>\n",
              "      <td>-0.309974</td>\n",
              "      <td>-0.279361</td>\n",
              "      <td>-0.256733</td>\n",
              "      <td>-0.267392</td>\n",
              "      <td>-0.065713</td>\n",
              "      <td>-0.435780</td>\n",
              "      <td>0.107885</td>\n",
              "      <td>1.000000</td>\n",
              "      <td>-0.115413</td>\n",
              "      <td>-0.058598</td>\n",
              "      <td>-0.101616</td>\n",
              "      <td>0.115830</td>\n",
              "      <td>-0.475812</td>\n",
              "      <td>0.475812</td>\n",
              "    </tr>\n",
              "    <tr>\n",
              "      <th>city-mpg</th>\n",
              "      <td>-0.035527</td>\n",
              "      <td>-0.225016</td>\n",
              "      <td>-0.470606</td>\n",
              "      <td>-0.665192</td>\n",
              "      <td>-0.633531</td>\n",
              "      <td>-0.049800</td>\n",
              "      <td>-0.749543</td>\n",
              "      <td>-0.650546</td>\n",
              "      <td>-0.582027</td>\n",
              "      <td>-0.034696</td>\n",
              "      <td>0.331425</td>\n",
              "      <td>-0.822214</td>\n",
              "      <td>-0.115413</td>\n",
              "      <td>1.000000</td>\n",
              "      <td>0.972044</td>\n",
              "      <td>-0.686571</td>\n",
              "      <td>-0.949713</td>\n",
              "      <td>0.265676</td>\n",
              "      <td>-0.265676</td>\n",
              "    </tr>\n",
              "    <tr>\n",
              "      <th>highway-mpg</th>\n",
              "      <td>0.036233</td>\n",
              "      <td>-0.181877</td>\n",
              "      <td>-0.543304</td>\n",
              "      <td>-0.698142</td>\n",
              "      <td>-0.680635</td>\n",
              "      <td>-0.104812</td>\n",
              "      <td>-0.794889</td>\n",
              "      <td>-0.679571</td>\n",
              "      <td>-0.591309</td>\n",
              "      <td>-0.035201</td>\n",
              "      <td>0.268465</td>\n",
              "      <td>-0.804575</td>\n",
              "      <td>-0.058598</td>\n",
              "      <td>0.972044</td>\n",
              "      <td>1.000000</td>\n",
              "      <td>-0.704692</td>\n",
              "      <td>-0.930028</td>\n",
              "      <td>0.198690</td>\n",
              "      <td>-0.198690</td>\n",
              "    </tr>\n",
              "    <tr>\n",
              "      <th>price</th>\n",
              "      <td>-0.082391</td>\n",
              "      <td>0.133999</td>\n",
              "      <td>0.584642</td>\n",
              "      <td>0.690628</td>\n",
              "      <td>0.751265</td>\n",
              "      <td>0.135486</td>\n",
              "      <td>0.834415</td>\n",
              "      <td>0.872335</td>\n",
              "      <td>0.543155</td>\n",
              "      <td>0.082310</td>\n",
              "      <td>0.071107</td>\n",
              "      <td>0.809575</td>\n",
              "      <td>-0.101616</td>\n",
              "      <td>-0.686571</td>\n",
              "      <td>-0.704692</td>\n",
              "      <td>1.000000</td>\n",
              "      <td>0.789898</td>\n",
              "      <td>0.110326</td>\n",
              "      <td>-0.110326</td>\n",
              "    </tr>\n",
              "    <tr>\n",
              "      <th>city-L/100km</th>\n",
              "      <td>0.066171</td>\n",
              "      <td>0.238567</td>\n",
              "      <td>0.476153</td>\n",
              "      <td>0.657373</td>\n",
              "      <td>0.673363</td>\n",
              "      <td>0.003811</td>\n",
              "      <td>0.785353</td>\n",
              "      <td>0.745059</td>\n",
              "      <td>0.554610</td>\n",
              "      <td>0.037300</td>\n",
              "      <td>-0.299372</td>\n",
              "      <td>0.889488</td>\n",
              "      <td>0.115830</td>\n",
              "      <td>-0.949713</td>\n",
              "      <td>-0.930028</td>\n",
              "      <td>0.789898</td>\n",
              "      <td>1.000000</td>\n",
              "      <td>-0.241282</td>\n",
              "      <td>0.241282</td>\n",
              "    </tr>\n",
              "    <tr>\n",
              "      <th>diesel</th>\n",
              "      <td>-0.196735</td>\n",
              "      <td>-0.101546</td>\n",
              "      <td>0.307237</td>\n",
              "      <td>0.211187</td>\n",
              "      <td>0.244356</td>\n",
              "      <td>0.281578</td>\n",
              "      <td>0.221046</td>\n",
              "      <td>0.070779</td>\n",
              "      <td>0.054458</td>\n",
              "      <td>0.241303</td>\n",
              "      <td>0.985231</td>\n",
              "      <td>-0.169053</td>\n",
              "      <td>-0.475812</td>\n",
              "      <td>0.265676</td>\n",
              "      <td>0.198690</td>\n",
              "      <td>0.110326</td>\n",
              "      <td>-0.241282</td>\n",
              "      <td>1.000000</td>\n",
              "      <td>-1.000000</td>\n",
              "    </tr>\n",
              "    <tr>\n",
              "      <th>gas</th>\n",
              "      <td>0.196735</td>\n",
              "      <td>0.101546</td>\n",
              "      <td>-0.307237</td>\n",
              "      <td>-0.211187</td>\n",
              "      <td>-0.244356</td>\n",
              "      <td>-0.281578</td>\n",
              "      <td>-0.221046</td>\n",
              "      <td>-0.070779</td>\n",
              "      <td>-0.054458</td>\n",
              "      <td>-0.241303</td>\n",
              "      <td>-0.985231</td>\n",
              "      <td>0.169053</td>\n",
              "      <td>0.475812</td>\n",
              "      <td>-0.265676</td>\n",
              "      <td>-0.198690</td>\n",
              "      <td>-0.110326</td>\n",
              "      <td>0.241282</td>\n",
              "      <td>-1.000000</td>\n",
              "      <td>1.000000</td>\n",
              "    </tr>\n",
              "  </tbody>\n",
              "</table>\n",
              "</div>"
            ],
            "text/plain": [
              "                   symboling  normalized-losses  wheel-base    length  \\\n",
              "symboling           1.000000           0.466264   -0.535987 -0.365404   \n",
              "normalized-losses   0.466264           1.000000   -0.056661  0.019424   \n",
              "wheel-base         -0.535987          -0.056661    1.000000  0.876024   \n",
              "length             -0.365404           0.019424    0.876024  1.000000   \n",
              "width              -0.242423           0.086802    0.814507  0.857170   \n",
              "height             -0.550160          -0.373737    0.590742  0.492063   \n",
              "curb-weight        -0.233118           0.099404    0.782097  0.880665   \n",
              "engine-size        -0.110581           0.112360    0.572027  0.685025   \n",
              "bore               -0.140019          -0.029862    0.493244  0.608971   \n",
              "stroke             -0.008245           0.055563    0.158502  0.124139   \n",
              "compression-ratio  -0.182196          -0.114713    0.250313  0.159733   \n",
              "horsepower          0.075819           0.217299    0.371147  0.579821   \n",
              "peak-rpm            0.279740           0.239543   -0.360305 -0.285970   \n",
              "city-mpg           -0.035527          -0.225016   -0.470606 -0.665192   \n",
              "highway-mpg         0.036233          -0.181877   -0.543304 -0.698142   \n",
              "price              -0.082391           0.133999    0.584642  0.690628   \n",
              "city-L/100km        0.066171           0.238567    0.476153  0.657373   \n",
              "diesel             -0.196735          -0.101546    0.307237  0.211187   \n",
              "gas                 0.196735           0.101546   -0.307237 -0.211187   \n",
              "\n",
              "                      width    height  curb-weight  engine-size      bore  \\\n",
              "symboling         -0.242423 -0.550160    -0.233118    -0.110581 -0.140019   \n",
              "normalized-losses  0.086802 -0.373737     0.099404     0.112360 -0.029862   \n",
              "wheel-base         0.814507  0.590742     0.782097     0.572027  0.493244   \n",
              "length             0.857170  0.492063     0.880665     0.685025  0.608971   \n",
              "width              1.000000  0.306002     0.866201     0.729436  0.544885   \n",
              "height             0.306002  1.000000     0.307581     0.074694  0.180449   \n",
              "curb-weight        0.866201  0.307581     1.000000     0.849072  0.644060   \n",
              "engine-size        0.729436  0.074694     0.849072     1.000000  0.572609   \n",
              "bore               0.544885  0.180449     0.644060     0.572609  1.000000   \n",
              "stroke             0.188829 -0.062704     0.167562     0.209523 -0.055390   \n",
              "compression-ratio  0.189867  0.259737     0.156433     0.028889  0.001263   \n",
              "horsepower         0.615077 -0.087027     0.757976     0.822676  0.566936   \n",
              "peak-rpm          -0.245800 -0.309974    -0.279361    -0.256733 -0.267392   \n",
              "city-mpg          -0.633531 -0.049800    -0.749543    -0.650546 -0.582027   \n",
              "highway-mpg       -0.680635 -0.104812    -0.794889    -0.679571 -0.591309   \n",
              "price              0.751265  0.135486     0.834415     0.872335  0.543155   \n",
              "city-L/100km       0.673363  0.003811     0.785353     0.745059  0.554610   \n",
              "diesel             0.244356  0.281578     0.221046     0.070779  0.054458   \n",
              "gas               -0.244356 -0.281578    -0.221046    -0.070779 -0.054458   \n",
              "\n",
              "                     stroke  compression-ratio  horsepower  peak-rpm  \\\n",
              "symboling         -0.008245          -0.182196    0.075819  0.279740   \n",
              "normalized-losses  0.055563          -0.114713    0.217299  0.239543   \n",
              "wheel-base         0.158502           0.250313    0.371147 -0.360305   \n",
              "length             0.124139           0.159733    0.579821 -0.285970   \n",
              "width              0.188829           0.189867    0.615077 -0.245800   \n",
              "height            -0.062704           0.259737   -0.087027 -0.309974   \n",
              "curb-weight        0.167562           0.156433    0.757976 -0.279361   \n",
              "engine-size        0.209523           0.028889    0.822676 -0.256733   \n",
              "bore              -0.055390           0.001263    0.566936 -0.267392   \n",
              "stroke             1.000000           0.187923    0.098462 -0.065713   \n",
              "compression-ratio  0.187923           1.000000   -0.214514 -0.435780   \n",
              "horsepower         0.098462          -0.214514    1.000000  0.107885   \n",
              "peak-rpm          -0.065713          -0.435780    0.107885  1.000000   \n",
              "city-mpg          -0.034696           0.331425   -0.822214 -0.115413   \n",
              "highway-mpg       -0.035201           0.268465   -0.804575 -0.058598   \n",
              "price              0.082310           0.071107    0.809575 -0.101616   \n",
              "city-L/100km       0.037300          -0.299372    0.889488  0.115830   \n",
              "diesel             0.241303           0.985231   -0.169053 -0.475812   \n",
              "gas               -0.241303          -0.985231    0.169053  0.475812   \n",
              "\n",
              "                   city-mpg  highway-mpg     price  city-L/100km    diesel  \\\n",
              "symboling         -0.035527     0.036233 -0.082391      0.066171 -0.196735   \n",
              "normalized-losses -0.225016    -0.181877  0.133999      0.238567 -0.101546   \n",
              "wheel-base        -0.470606    -0.543304  0.584642      0.476153  0.307237   \n",
              "length            -0.665192    -0.698142  0.690628      0.657373  0.211187   \n",
              "width             -0.633531    -0.680635  0.751265      0.673363  0.244356   \n",
              "height            -0.049800    -0.104812  0.135486      0.003811  0.281578   \n",
              "curb-weight       -0.749543    -0.794889  0.834415      0.785353  0.221046   \n",
              "engine-size       -0.650546    -0.679571  0.872335      0.745059  0.070779   \n",
              "bore              -0.582027    -0.591309  0.543155      0.554610  0.054458   \n",
              "stroke            -0.034696    -0.035201  0.082310      0.037300  0.241303   \n",
              "compression-ratio  0.331425     0.268465  0.071107     -0.299372  0.985231   \n",
              "horsepower        -0.822214    -0.804575  0.809575      0.889488 -0.169053   \n",
              "peak-rpm          -0.115413    -0.058598 -0.101616      0.115830 -0.475812   \n",
              "city-mpg           1.000000     0.972044 -0.686571     -0.949713  0.265676   \n",
              "highway-mpg        0.972044     1.000000 -0.704692     -0.930028  0.198690   \n",
              "price             -0.686571    -0.704692  1.000000      0.789898  0.110326   \n",
              "city-L/100km      -0.949713    -0.930028  0.789898      1.000000 -0.241282   \n",
              "diesel             0.265676     0.198690  0.110326     -0.241282  1.000000   \n",
              "gas               -0.265676    -0.198690 -0.110326      0.241282 -1.000000   \n",
              "\n",
              "                        gas  \n",
              "symboling          0.196735  \n",
              "normalized-losses  0.101546  \n",
              "wheel-base        -0.307237  \n",
              "length            -0.211187  \n",
              "width             -0.244356  \n",
              "height            -0.281578  \n",
              "curb-weight       -0.221046  \n",
              "engine-size       -0.070779  \n",
              "bore              -0.054458  \n",
              "stroke            -0.241303  \n",
              "compression-ratio -0.985231  \n",
              "horsepower         0.169053  \n",
              "peak-rpm           0.475812  \n",
              "city-mpg          -0.265676  \n",
              "highway-mpg       -0.198690  \n",
              "price             -0.110326  \n",
              "city-L/100km       0.241282  \n",
              "diesel            -1.000000  \n",
              "gas                1.000000  "
            ]
          },
          "execution_count": 35,
          "metadata": {},
          "output_type": "execute_result"
        }
      ],
      "source": [
        "df.corr()"
      ]
    },
    {
      "cell_type": "code",
      "execution_count": null,
      "metadata": {
        "id": "fRiEA3xe_zCP"
      },
      "outputs": [],
      "source": [
        "from scipy import stats"
      ]
    },
    {
      "cell_type": "code",
      "execution_count": null,
      "metadata": {
        "id": "2QLBSQ0B_zCP",
        "outputId": "a190cc63-5663-40e1-9ecd-6906c4e5c6b3"
      },
      "outputs": [
        {
          "name": "stdout",
          "output_type": "stream",
          "text": [
            "The Pearson Correlation Coefficient is 0.584641822265508  with a P-value of P = 8.076488270733218e-20\n"
          ]
        }
      ],
      "source": [
        "pearson_coef, p_value = stats.pearsonr(df['wheel-base'], df['price'])\n",
        "print(\"The Pearson Correlation Coefficient is\", pearson_coef, \" with a P-value of P =\", p_value)  "
      ]
    },
    {
      "cell_type": "code",
      "execution_count": null,
      "metadata": {
        "id": "FXiTOfIB_zCP",
        "outputId": "e3795acc-2b03-475a-d878-9c111cd39729"
      },
      "outputs": [
        {
          "name": "stdout",
          "output_type": "stream",
          "text": [
            "The Pearson Correlation Coefficient is 0.8095745670036562  with a P-value of P =  6.369057428259195e-48\n"
          ]
        }
      ],
      "source": [
        "pearson_coef, p_value = stats.pearsonr(df['horsepower'], df['price'])\n",
        "print(\"The Pearson Correlation Coefficient is\", pearson_coef, \" with a P-value of P = \", p_value)  "
      ]
    },
    {
      "cell_type": "code",
      "execution_count": null,
      "metadata": {
        "id": "vvSCZinR_zCP",
        "outputId": "59a5a696-a735-4b99-d6c4-27c8eabe5a1b"
      },
      "outputs": [
        {
          "name": "stdout",
          "output_type": "stream",
          "text": [
            "The Pearson Correlation Coefficient is 0.6906283804483639  with a P-value of P =  8.016477466159328e-30\n"
          ]
        }
      ],
      "source": [
        "pearson_coef, p_value = stats.pearsonr(df['length'], df['price'])\n",
        "print(\"The Pearson Correlation Coefficient is\", pearson_coef, \" with a P-value of P = \", p_value)"
      ]
    },
    {
      "cell_type": "code",
      "execution_count": null,
      "metadata": {
        "id": "r3QIdE_G_zCP",
        "outputId": "b275dca9-67db-422c-cea8-8a3e9a390b7d"
      },
      "outputs": [
        {
          "name": "stdout",
          "output_type": "stream",
          "text": [
            "The Pearson Correlation Coefficient is 0.7512653440522672  with a P-value of P = 9.20033551048217e-38\n"
          ]
        }
      ],
      "source": [
        "pearson_coef, p_value = stats.pearsonr(df['width'], df['price'])\n",
        "print(\"The Pearson Correlation Coefficient is\", pearson_coef, \" with a P-value of P =\", p_value ) "
      ]
    },
    {
      "cell_type": "code",
      "execution_count": null,
      "metadata": {
        "id": "aremvpOP_zCQ",
        "outputId": "0097c39c-37fd-44e9-bf58-e0c607ae3a51"
      },
      "outputs": [
        {
          "name": "stdout",
          "output_type": "stream",
          "text": [
            "The Pearson Correlation Coefficient is 0.8344145257702843  with a P-value of P =  2.189577238894065e-53\n"
          ]
        }
      ],
      "source": [
        "pearson_coef, p_value = stats.pearsonr(df['curb-weight'], df['price'])\n",
        "print( \"The Pearson Correlation Coefficient is\", pearson_coef, \" with a P-value of P = \", p_value)  "
      ]
    },
    {
      "cell_type": "code",
      "execution_count": null,
      "metadata": {
        "id": "2_3nPI7M_zCQ",
        "outputId": "9448eedb-ca1d-4300-d2ee-87ed61ffb1ee"
      },
      "outputs": [
        {
          "name": "stdout",
          "output_type": "stream",
          "text": [
            "The Pearson Correlation Coefficient is 0.8723351674455181  with a P-value of P = 9.265491622201286e-64\n"
          ]
        }
      ],
      "source": [
        "pearson_coef, p_value = stats.pearsonr(df['engine-size'], df['price'])\n",
        "print(\"The Pearson Correlation Coefficient is\", pearson_coef, \" with a P-value of P =\", p_value) "
      ]
    },
    {
      "cell_type": "code",
      "execution_count": null,
      "metadata": {
        "id": "aqatkllb_zCQ",
        "outputId": "1dadff01-5dbb-4d10-c1db-04d4c6b105a1"
      },
      "outputs": [
        {
          "name": "stdout",
          "output_type": "stream",
          "text": [
            "The Pearson Correlation Coefficient is 0.5431553832626603  with a P-value of P =   8.049189483935261e-17\n"
          ]
        }
      ],
      "source": [
        "pearson_coef, p_value = stats.pearsonr(df['bore'], df['price'])\n",
        "print(\"The Pearson Correlation Coefficient is\", pearson_coef, \" with a P-value of P =  \", p_value ) "
      ]
    },
    {
      "cell_type": "code",
      "execution_count": null,
      "metadata": {
        "id": "eiOMzCHQ_zCR",
        "outputId": "1339a364-fb1c-41dd-b5c2-f1ed2336de7f"
      },
      "outputs": [
        {
          "name": "stdout",
          "output_type": "stream",
          "text": [
            "The Pearson Correlation Coefficient is -0.6865710067844678  with a P-value of P =  2.321132065567641e-29\n"
          ]
        }
      ],
      "source": [
        "pearson_coef, p_value = stats.pearsonr(df['city-mpg'], df['price'])\n",
        "print(\"The Pearson Correlation Coefficient is\", pearson_coef, \" with a P-value of P = \", p_value)  "
      ]
    },
    {
      "cell_type": "code",
      "execution_count": null,
      "metadata": {
        "id": "BmUZbAZr_zCR",
        "outputId": "3750c4cf-7f1e-48f1-a8ac-11a78b266c3b"
      },
      "outputs": [
        {
          "name": "stdout",
          "output_type": "stream",
          "text": [
            "The Pearson Correlation Coefficient is -0.704692265058953  with a P-value of P =  1.7495471144476358e-31\n"
          ]
        }
      ],
      "source": [
        "pearson_coef, p_value = stats.pearsonr(df['highway-mpg'], df['price'])\n",
        "print( \"The Pearson Correlation Coefficient is\", pearson_coef, \" with a P-value of P = \", p_value ) "
      ]
    },
    {
      "cell_type": "code",
      "execution_count": null,
      "metadata": {
        "id": "OUsTJ8Yt_zCR",
        "outputId": "a6e7e9ff-da21-4630-e282-b988e0846348"
      },
      "outputs": [
        {
          "data": {
            "text/html": [
              "<div>\n",
              "<style scoped>\n",
              "    .dataframe tbody tr th:only-of-type {\n",
              "        vertical-align: middle;\n",
              "    }\n",
              "\n",
              "    .dataframe tbody tr th {\n",
              "        vertical-align: top;\n",
              "    }\n",
              "\n",
              "    .dataframe thead th {\n",
              "        text-align: right;\n",
              "    }\n",
              "</style>\n",
              "<table border=\"1\" class=\"dataframe\">\n",
              "  <thead>\n",
              "    <tr style=\"text-align: right;\">\n",
              "      <th></th>\n",
              "      <th>drive-wheels</th>\n",
              "      <th>price</th>\n",
              "    </tr>\n",
              "  </thead>\n",
              "  <tbody>\n",
              "    <tr>\n",
              "      <th>0</th>\n",
              "      <td>rwd</td>\n",
              "      <td>13495.0</td>\n",
              "    </tr>\n",
              "    <tr>\n",
              "      <th>1</th>\n",
              "      <td>rwd</td>\n",
              "      <td>16500.0</td>\n",
              "    </tr>\n",
              "    <tr>\n",
              "      <th>3</th>\n",
              "      <td>fwd</td>\n",
              "      <td>13950.0</td>\n",
              "    </tr>\n",
              "    <tr>\n",
              "      <th>4</th>\n",
              "      <td>4wd</td>\n",
              "      <td>17450.0</td>\n",
              "    </tr>\n",
              "    <tr>\n",
              "      <th>5</th>\n",
              "      <td>fwd</td>\n",
              "      <td>15250.0</td>\n",
              "    </tr>\n",
              "    <tr>\n",
              "      <th>136</th>\n",
              "      <td>4wd</td>\n",
              "      <td>7603.0</td>\n",
              "    </tr>\n",
              "  </tbody>\n",
              "</table>\n",
              "</div>"
            ],
            "text/plain": [
              "    drive-wheels    price\n",
              "0            rwd  13495.0\n",
              "1            rwd  16500.0\n",
              "3            fwd  13950.0\n",
              "4            4wd  17450.0\n",
              "5            fwd  15250.0\n",
              "136          4wd   7603.0"
            ]
          },
          "execution_count": 46,
          "metadata": {},
          "output_type": "execute_result"
        }
      ],
      "source": [
        "grouped_test2=df_gptest[['drive-wheels', 'price']].groupby(['drive-wheels'])\n",
        "grouped_test2.head(2)"
      ]
    },
    {
      "cell_type": "code",
      "execution_count": null,
      "metadata": {
        "id": "uGOKj8ie_zCR",
        "outputId": "f020c184-6294-46ed-a44a-3ae38cc057f5"
      },
      "outputs": [
        {
          "data": {
            "text/html": [
              "<div>\n",
              "<style scoped>\n",
              "    .dataframe tbody tr th:only-of-type {\n",
              "        vertical-align: middle;\n",
              "    }\n",
              "\n",
              "    .dataframe tbody tr th {\n",
              "        vertical-align: top;\n",
              "    }\n",
              "\n",
              "    .dataframe thead th {\n",
              "        text-align: right;\n",
              "    }\n",
              "</style>\n",
              "<table border=\"1\" class=\"dataframe\">\n",
              "  <thead>\n",
              "    <tr style=\"text-align: right;\">\n",
              "      <th></th>\n",
              "      <th>drive-wheels</th>\n",
              "      <th>body-style</th>\n",
              "      <th>price</th>\n",
              "    </tr>\n",
              "  </thead>\n",
              "  <tbody>\n",
              "    <tr>\n",
              "      <th>0</th>\n",
              "      <td>rwd</td>\n",
              "      <td>convertible</td>\n",
              "      <td>13495.0</td>\n",
              "    </tr>\n",
              "    <tr>\n",
              "      <th>1</th>\n",
              "      <td>rwd</td>\n",
              "      <td>convertible</td>\n",
              "      <td>16500.0</td>\n",
              "    </tr>\n",
              "    <tr>\n",
              "      <th>2</th>\n",
              "      <td>rwd</td>\n",
              "      <td>hatchback</td>\n",
              "      <td>16500.0</td>\n",
              "    </tr>\n",
              "    <tr>\n",
              "      <th>3</th>\n",
              "      <td>fwd</td>\n",
              "      <td>sedan</td>\n",
              "      <td>13950.0</td>\n",
              "    </tr>\n",
              "    <tr>\n",
              "      <th>4</th>\n",
              "      <td>4wd</td>\n",
              "      <td>sedan</td>\n",
              "      <td>17450.0</td>\n",
              "    </tr>\n",
              "    <tr>\n",
              "      <th>...</th>\n",
              "      <td>...</td>\n",
              "      <td>...</td>\n",
              "      <td>...</td>\n",
              "    </tr>\n",
              "    <tr>\n",
              "      <th>196</th>\n",
              "      <td>rwd</td>\n",
              "      <td>sedan</td>\n",
              "      <td>16845.0</td>\n",
              "    </tr>\n",
              "    <tr>\n",
              "      <th>197</th>\n",
              "      <td>rwd</td>\n",
              "      <td>sedan</td>\n",
              "      <td>19045.0</td>\n",
              "    </tr>\n",
              "    <tr>\n",
              "      <th>198</th>\n",
              "      <td>rwd</td>\n",
              "      <td>sedan</td>\n",
              "      <td>21485.0</td>\n",
              "    </tr>\n",
              "    <tr>\n",
              "      <th>199</th>\n",
              "      <td>rwd</td>\n",
              "      <td>sedan</td>\n",
              "      <td>22470.0</td>\n",
              "    </tr>\n",
              "    <tr>\n",
              "      <th>200</th>\n",
              "      <td>rwd</td>\n",
              "      <td>sedan</td>\n",
              "      <td>22625.0</td>\n",
              "    </tr>\n",
              "  </tbody>\n",
              "</table>\n",
              "<p>201 rows × 3 columns</p>\n",
              "</div>"
            ],
            "text/plain": [
              "    drive-wheels   body-style    price\n",
              "0            rwd  convertible  13495.0\n",
              "1            rwd  convertible  16500.0\n",
              "2            rwd    hatchback  16500.0\n",
              "3            fwd        sedan  13950.0\n",
              "4            4wd        sedan  17450.0\n",
              "..           ...          ...      ...\n",
              "196          rwd        sedan  16845.0\n",
              "197          rwd        sedan  19045.0\n",
              "198          rwd        sedan  21485.0\n",
              "199          rwd        sedan  22470.0\n",
              "200          rwd        sedan  22625.0\n",
              "\n",
              "[201 rows x 3 columns]"
            ]
          },
          "execution_count": 47,
          "metadata": {},
          "output_type": "execute_result"
        }
      ],
      "source": [
        "df_gptest"
      ]
    },
    {
      "cell_type": "code",
      "execution_count": null,
      "metadata": {
        "id": "Y97Hhn_I_zCS",
        "outputId": "53310d53-9b11-4578-b550-6c89abc20d9a"
      },
      "outputs": [
        {
          "name": "stdout",
          "output_type": "stream",
          "text": [
            "ANOVA results: F= 67.95406500780399 , P = 3.3945443577151245e-23\n"
          ]
        }
      ],
      "source": [
        "# ANOVA\n",
        "f_val, p_val = stats.f_oneway(grouped_test2.get_group('fwd')['price'], grouped_test2.get_group('rwd')['price'], grouped_test2.get_group('4wd')['price'])  \n",
        " \n",
        "print( \"ANOVA results: F=\", f_val, \", P =\", p_val)  "
      ]
    },
    {
      "cell_type": "code",
      "execution_count": null,
      "metadata": {
        "id": "hAGXo2td_zCS",
        "outputId": "eb316261-364c-43ce-a5ee-62d08eccbbbd"
      },
      "outputs": [
        {
          "name": "stdout",
          "output_type": "stream",
          "text": [
            "ANOVA results: F= 130.5533160959111 , P = 2.2355306355677845e-23\n"
          ]
        }
      ],
      "source": [
        "f_val, p_val = stats.f_oneway(grouped_test2.get_group('fwd')['price'], grouped_test2.get_group('rwd')['price'])  \n",
        " \n",
        "print( \"ANOVA results: F=\", f_val, \", P =\", p_val )"
      ]
    },
    {
      "cell_type": "code",
      "execution_count": null,
      "metadata": {
        "id": "40L9e6HM_zCS",
        "outputId": "a8e3d948-7cc4-41e6-80e8-af415c14ec06"
      },
      "outputs": [
        {
          "name": "stdout",
          "output_type": "stream",
          "text": [
            "ANOVA results: F= 8.580681368924756 , P = 0.004411492211225333\n"
          ]
        }
      ],
      "source": [
        "f_val, p_val = stats.f_oneway(grouped_test2.get_group('4wd')['price'], grouped_test2.get_group('rwd')['price'])  \n",
        "   \n",
        "print( \"ANOVA results: F=\", f_val, \", P =\", p_val)   "
      ]
    },
    {
      "cell_type": "code",
      "execution_count": null,
      "metadata": {
        "id": "7-W8sVjK_zCS",
        "outputId": "b6c8493f-ddd4-4129-dba8-81bd40adb019"
      },
      "outputs": [
        {
          "name": "stdout",
          "output_type": "stream",
          "text": [
            "ANOVA results: F= 0.665465750252303 , P = 0.41620116697845666\n"
          ]
        }
      ],
      "source": [
        "f_val, p_val = stats.f_oneway(grouped_test2.get_group('4wd')['price'], grouped_test2.get_group('fwd')['price'])  \n",
        " \n",
        "print(\"ANOVA results: F=\", f_val, \", P =\", p_val)   "
      ]
    },
    {
      "cell_type": "markdown",
      "source": [
        "## Evaluación\n",
        "\n",
        "![Modulo 3 - Pregunta 1.png](data:image/png;base64,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)"
      ],
      "metadata": {
        "id": "9DOPVhJ7__Mf"
      }
    },
    {
      "cell_type": "markdown",
      "source": [
        "![Modulo 3 - Pregunta 2.png](data:image/png;base64,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)"
      ],
      "metadata": {
        "id": "f1ayaWozAGlo"
      }
    },
    {
      "cell_type": "markdown",
      "source": [
        "![Modulo 3 - Pregunta 3 y 4.png](data:image/png;base64,iVBORw0KGgoAAAANSUhEUgAABFMAAAOuCAYAAADLj1jYAAAAAXNSR0IArs4c6QAAAARnQU1BAACxjwv8YQUAAAAJcEhZcwAADsMAAA7DAcdvqGQAAMUeSURBVHhe7N0HfE3n48fxL4m9Y4tYkcSsLahVo3TQ1r9VWq2tVnWlaKu6tCham6JKq6XaHzqovYra1EjFCEGsSIgdEvd/zr0nZOJErPbz9rru2eM5J6nz7fM8J43DIAAAAAAAANyStNY3AAAAAAAAbgFhCgAAAAAAgA2EKQAAAAAAADYQpgAAAAAAANhAmAIAAAAAAGADYQoAAAAAAIANhCkAAAAAAAA2EKYAAAAAAADYQJgCAAAAAABgA2GKU5T2b9mio1HWKAAAAAAAQDLSOAzWcBKidW7PfE0e/4tW7z+myAtXnFPdMmRT7sLV1Lxrez1dPq/cnVMfXCemd9fLU4PlVqOP5n74iDX13ovav0RTJ83Qkn+ul326zPlUpGIjvdztBfnnfdBLHgAAAACAB88NwpRTWjWwpwauCFeM3JQhdzGV8c2njMacM4d3aO+Rs4qKcVP2ip00bMAz8rrPn+vPzX5Tz/5SSmOmdJG3NS1W9F+f64UBK5Tt/0bq6w4J594LF7Xys7YavPKMYtwyKHexMvLNZ5a8UfYhm7XrSJRislTVW5MGqHEu52QAAAAAAHCXJBOmROuvgc/roxXn5Za7nt4Y+qYaFcxgzbNE7dfP/QI0aft5Zan6liYNaKz7+bl+2YdPaPCBp5IMU+5H55Z9oYE7KqhTl4YqHq/ooxU04RW9OStU6ep9oDnv1LSmAwAAAACAuyHpPlN2jtOoFeelLFX1+uh3EgcppgzF9ezAz9TC003nN47RmFXR1oz7UPQmbfonxhp5MGR95E19+mrCIMXkLr8XnpSfMXQpaLv2uSYCAAAAAIC7JImaKdFaNeBZDVh1ReV7/KghzbJa05MWvWqAnh2wSpfKvKKfv3hGrqUXqV/TYdpYoEUyNUH2aUK7Hpp1rKremj9Aja2pLqcU+PMoffnjJh05G6UYpVPmfEVUo2WAXnuyuOJnC1Ha//sIDZ25VgdPXJCzVxG3DMpWqKTqNOmol54to4iZb6nfdzt1ytXlSDxV35qvAebOF/VT02EbVaDFGE3pkuBoo8O07ofhmvTbDut4XE2eHn6mq9o/XV7xuy2xzqvAa/p9UA39/e1QjZ+zTYec/Z2Y5+Grpj36qoP/bfYzs2+C2vWYpbCqb+kX4wToOQUAAAAAgLsniZopO7Rh+yXj20+1HrlxkGJyr91Q/mZ3HoHr9OdtV045ot/e7qQ3J61TZO4qeqpTL3VqUUfFdVBLR/dU9wlBur6LaP31+UvqOXqpMbe46rTopF692ujx6iWVM3y35i3aqAvGUplKNtRL3RqrmLlKjkpq3auXsZzr06KsOfEGTq3SwLbt9MEPW3UiW0lVr1lTNWtWV0k343gmva0O3ScrKKlzPrJNE/t10ns/BSu9X1VjHWO9Sp5yD9+pWR901YeLTlkLpkDUTo377BcdUxbVfuIRghQAAAAAAO6yxDVTzs3Wm89+pcB8T2nEt92czUlu7Jxmv/msvgosoBZjpshVsSNlNVNCp3dXl6khKtZmvEa08boeFESH6efe7TQpMIeeGPaDXnWGIMv04RODtbbwC/r6q5fl6VwwVrSioqQMGWK3cJPjSbJmyjljchsN23hF3gmPR1HaOa67ev8SqhxNBunbNypa82LPyxgs8KSGfdVTZeNUpYkOGqdOr/2iYyXa6tuxrZXPmn4jO378SP/b5Rq+dGK3Ag+E62r2smoW0E9dqtD7LAAAAAAAd1viminHwxRhfqd1u8VaD1mVNbP5fVrhJ5wTUmirZs4JVoxHU3WPF1wY3PPq6ccqyc04slULt1oToxWdbDco7nGClBQ68Ztmb7wkFX1e7yY8HmVQ2W6vqlEOKWLxz1qWqHaKm6q+2DVekGJy93tUtQoYA8E79bdr0k0d3f6X/vrL9dmyL1zR7tlUoFBRFfJwFjoAAAAAALjLku6A9l4I2awdkcZ39ssKmTdP8xJ8Fh6JcfbHEhke5lxcqqmGNbIY6/2gXl0+189bjirKmpMq/t6pYOMrX0X/BLVeYlVUjYoZpZg92rHDmnSNn6rUTCrM8VbxwtbgLWo8YL7mz3d9fpkxVUN71VWWQws0utsL6nc7zYUAAAAAAECKJA5T8ueVh/l9NSZO/yQ3ck7nzM5JlFO5b6XdSnKCD8psHaMDizRy5MjEn+lbZGYt12XVI/3G66MWpeQWulST3mmvFk910HsTlmh/KqQqIYeOOr+z5ky+KU2+3DmNvyN1Ld+5JrOy3ry7Gdsy5Myv0g1f1fCveqpixvPaOHyYFt12PzUAAAAAAMCOxGFK1uLyymF8n9ijwHOuSTe2XbvMKhxuhVW8qGvK7XCr0edaTYwkP87X71jc88q/y3DNnPWNBnZ6XKVyhGnTrCHq1qKl+s4+dIth0I1FXbxoDd1Hcj2mhuWM7yRrxQAAAAAAgDspiWY+5VStvPl6niCtWXbzNCV602ptvSS5lfHX9ZYt7nJ3swaTdELhp63BWEUKKa/xFXPmtG4pw4krQ0FVeraXhn07W9991EK+Gc9o61cD9EOoNT8Fihb3knkK5yKTb0pzwnkSOZTbPPB74pxucHgAAAAAAOAOSCJMcVftZxrKQzHaPn2itt6oekd0kCaPXaZI8zW9LR5z9mniUkSFzIDh2EFnvyOJ7NuuIPPty3F5l5efM8P5UynvCsRdef27qN+zJYzhEO0OdE1NkWpVVMZNitzwp3Zak+KJ3qTVzhTJR+XMWiJ31U5XbSAVld/NXu8MAAAAAABSVdId0JbtplfrZZEiFui9V77UurAkEpWo/fr5nXc1KzRGWap2Vdd4Ha4WVfHCZr2OHVryR4JkJDpMv0+c5+ofJZ6aatncU24xgZr63jfamVS/J1HndO7aoZzS0aNJLRStQ6HhxnfcGiN5ldtsuhR2q02XDFkfU4vaZhnM1xcTghI0GYrSzoljtSxS8mj0rB65zRcHJXZEgcl2qGu+lvkLzY+Q3Mo/pma3008NAAAAAACwLY3DYA3HFx2m5UNe15AV4YpROmXOV0R+3vlkVh65dGK3Ag+EKyrGTdkrdtKwAc/IK0GgEL11lNq/N1dhMemUr2wd1a5ZSJd27lTgzm06lK2RHsmyQIt3V9Vb8wfoei8op7Son7G9jeeldLnkXa6U8pk71CWd2Bekgyeyq9mYKeribU5bpH5Nh2t77mIqU6GCqpQrLB3eoU2bN2rbgTNK69tB40e2vPYmnp2jXtBbcyPklttPTR5rIo+IDUrX4AM9b9YqWdRPTYdtVIEWYzTFtXGX6CBNeOVNzQqVMhQqpYdr1FShSzu1Zetm7ToSpbRFWmro2A7yu3bu+zShXQ/NOpbwvK5b1K+pcX7Jz3cxz22YNqbLrHxF/OTtKgTDGR3+e7cOXbhinEc9vTP6HdVOvn9cAAAAAABwB7h9aLCG40ubRcXqPKWn/D107mCoQk+E6sD+EB0+fFjHTl1UTLaKajfgc73/YhXlSqJ+S9oC/nqk1FUd2BOsQ/uDtGPTNh2IuKpc1dtpwCdt5bHjZ60IyadabRroenyRSd4NntbDBS/r2IG92rt3nw4cPGzsM1xRWQqrSpM2eu6RYsrh3F8mZbhwQiGH92rPjm3auG6dNv9zWGfSF1LVp17XgIAmKhDnuPJVqavCp7dpxz97tH3rOu08GKmclVrqYbPT3OClmvbXEWUt/YSeruJ8l5FL2jyq8sSj8tEBBW3fpR1/b9Dfe44a+yiiOi++qw/faqoi8UKkU9o0Z57+OVcowXldF7x0mv46kvx8l8IqbpTBqSPHdPToQe21yv3w0TNy5PRS7dbv6qN3/k+ls1iLAwAAAACAuyb5minJObVI/ToN08bzWVT1rUka0JiqEQAAAAAA4L8j6T5TbiRXY334WQt5up3XxuEBmhCUGi8gBgAAAAAAeDDYD1MM7n4d1Psps7PYUM1698PbePsOAAAAAADAgyVFYYr5CmK/LkP1etUs0vmNGh4wQVRQAQAAAAAA/wX2+0wBAAAAAAD4D0thzRQAAAAAAID/JsIUAAAAAAAAGwhTAAAAAAAAbCBMAQAAAAAAsIEwBQAAAAAAwAbCFAAAAAAAABsIUwAAAAAAAGwgTAEAAAAAALCBMAUAAAAAAMAGwhQAAAAAAAAbCFMAAAAAAABsIEwBAAAAAACwgTAFAAAAAADABsIUAAAAAAAAGwhTAAAAAAAAbCBMAQAAAAAAsIEwBQAAAAAAwAbCFAAAAAAAABse2DAl+ujfWrbjuDX2YAuZHqC2Q1dZYymxSkPbBmh6iDUKAAAAAADumGTDlMt7ZunDrm0VkOwT+nHNereLRm2MtsYNl/do1odd1TZguu70c/3xP7/Xdz9v1Elr/KbOL9CAmx7Xcf36flcNXh5pjT+AooM1LeA1TQ6Mc10AAAAAAECqSSJMidbRBYP1xvBdSp/bmpSU3fO14mRFPVzV3TkafXSBBr8xXLtuuFLq8Wz5uSZ/+ITyWOM3FbRPB63B5EQumKhf9Lja1c9hTXkAuZdQq1Yltfar77XbmgQAAAAAAFJPGofBGna5tF5jPtko/97ddWliW83x/FhDWxe1Zl63e+prGqMeGtHW1xi7pPVjPtFG/97qfmmi2s7x1MdDWyvxWi5ms5ZRaqtWZ77TV+uO67LSK6d3M73Wp7lKuLIZKXK7po+epKX7TutyjLty+DZS556tVd7KOcxt9A99WlMDahtjZjOXtarcr4T+Gv2H9p2+LKXPr4ovvqHu9Qvq3IpRGvDjVoVdSqssmTMorcrp5dFdVd21KUuIpgd8pNCnJyigtusgIrdP1+iJS3UgOp105aoyZDCnp1flzl+oQwXXPqt+WVtBn07UmpMOVeo6Wa/XDNHiIeM0a/cJnb8cIzfjOPxfeU+vVI0NaC5rz6whGjV3tyKj3ZWpYHW1qhqmbw7Ut87F4Dz3iVq8O1LRbumVv+KLeqN7fRW0yiY6Yq2+HvS11h03zzOnvJs1Ud6FS5Xt7aFyXardmvraUJ15aaxetcIuAAAAAACQOhLXTMlYXT0+7a5rz/5J2qzFq6XKNc0gxZRR1Xt8qu43XimesEXjtcrnbY2ZPFVTx/dWtcg5+nzCZrkapxzXr0OHa0vB9ho8wZg/dZxeLbpFX34yTcHJtl4J1PffXFCLgeM0eepUje9VUvu+/UbLz0s5672qoS+UljwaqM/o0RqdKEgxhK7TljA/Va1hhQ/nF2vMl2uVt/MYTRw7VhOHtpLXZTdV62UGKa5FpIOaNWS+8nYapa+nTlDPaua0PPJu3lVDx002jtt1HIFjJ2qVddznV43UkIUZ1GLI18b8rzWyR24t/yPYNdPJOveir2qcsf7UCYPV9OIPGvR9bD2TEP302QTte6i3xhvzJ4/7QA0PLtLaC9ZsJ19Vq5Be29dvs8YBAAAAAEBqSVEHtNEbV2trnnpqGpulpIRHbT3TIK/Sm8PpfdSmXW25b1ypDeZ44FwtDC2t5i9XlIcz20gvnzbtVPvSSs2/QT5Q+vFWKp3ZFYakL99I1XIe0O4g5+jN7T+o43mLqHhsRY6TYYqI8VKZ8s4jlHIUV5Hsp7V/z2nXuFOkPOq8oRalM8vd/ONcN4uK+xWTdRjGcZSRV8wxHQo1x85r1fLtyl7vOdV3nZjSez2r5lVid2oIWaqVpx5WuzY+rrJx91CDxhV1ccMqBZrjgUu0OqKMmre6Pr9Gq0fkGWOOXOdbwktRB/bKuVsAAAAAAJBqUhCmnNfyhVuUp+rDym9NSZECXvGbAfmWkFfMEVfoEBGhsx6e8oqTMUhl5FssSsFByXUh6yHPeCu4yS1tlC7Eq7GRvJMRkVLegvK0xpUnrzzcDml3bEeukft18EwmFSyc0zXulFd+ZRPUxomO0NZZQ9S3Z0/1dH6m6R9rlrEXRZw2Tz1+A6jcubJbQwajAMLOrtDgtm3VNvYzYp2izkYowpyfVNnk8VDCOkHuGTLI7WqMVdMHAAAAAACkFvthyvm/tH5vCdVrcltRSmJRUbqiDMqYwRq/y6IuRVlDliyN1KNLcW0e/Iq69uyurn1mK/rJ3up4rYlPUqK1ecK7Grm2oDp+YTYnMj9tVNqae8vyNtXHZhOfeJ8AWT2q3JoM6RUviwIAAAAAAKnCdphycskK7S1ZQ7WzWBNS6sgBxe0pxPm2nQwFVdh8PY+Xp/JGhOpQvGoVgdp9IINK+CXXre3t8SyUTwo7GqdZzEmtmr9NBdqM0vjRYzV+/Ai917zETQKKUAUFX1SZ5m3kY7UO0skIXX/Rch555JQiThy3xl3OX7xkDRny5VXOiP3ac94aT8jDQ9nOnFRY3LI5f15xtuAUfeasotK6EagAAAAAAJDKbIYpx7Vy7XFVerS+bjdLUfgqzVoapsvm8OU9mjZjozLVqK+HzPGiDVTXM1BzJm9VhDM0uKw906ZoVca6aupcIAUyZ1aGMwe1/3qyEV/xIsofZsy/FlLkVFnfPMZ+u11vbtOxlz79NfgGTWdcYcmhwO3WeYVp6bTFOuLmnGnIoto1/HRs4Xda7joxXT70m+asj9MWybepGnru1c8j5umQcyNS9IWj2rnHCmDK1Fa1TFs0c8Ye1z7MZkXfL1HwtX247A4+pAzFSl5vtgQAAAAAAFKFvTAlZKnWnCyvmhVTob5DmUaqumOIenRoq7ZdP9e2wi+r78tlrJoU+dX8/Xf0SOQP6tPFDDK6aVRIJb3xfpvrr062q/L/qaVvqL7rZYYiI7XemnyNZ0WVzRmkjWtdIcfxuQP06daH1Hec+dYds5nNRI16o4pO/e8bzTvpXCQJWdTwhf9Tvh3D1bltW3XoMUR7ar+up+IkGlka9dAb9aI06+2Oxnl1VMC359TsmYd0PQtxnXuzdMv1cVdXiPPKm0P047bYjm999WLfl1V42+fqau6j2yCt9G2pxmaNnmt2a8Pfl1W+ekqTJwAAAAAAkJw0DoM1fNeETA9Q/9CnNTXAVi8gd1zkggF6c9VD+uyTKlrR+10dbD5V8Q9xlYa2nSPPj4eq9Z1pbZQqojeOUvfvsitgRFvdzguXAAAAAABAYil4m8+/V44mL6lJ1DxNWZ5RJbwyaO/a5VYzI0P0Bf0z7VcF5iyvKvdxkKLoYM2YsVMV275IkAIAAAAAwB1AzZTkRG7X9NGTtHTfObmlly7HZFA+30Zq1bG5KnrQrSsAAAAAAP9V9yRMAQAAAAAAeFDRzAcAAAAAAMAGwhQAAAAAAAAbCFMAAAAAAABsIEwBAAAAAACwgTAFAAAAAADABsIUAAAAAAAAGwhTAAAAAAAAbCBMAQAAAAAAsIEwBQAAAAAAwAbCFAAAAAAAABsIUwAAAAAAAGwgTAEAAAAAALCBMAUAAAAAAMAGwhQAAAAAAAAbCFMAAAAAAABsIEwBAAAAAACwgTAFAAAAAADABsIUAAAAAAAAGwhTAAAAAAAAbCBMAQAAAAAAsIEwBQAAAAAAwAbCFAAAAAAAABsIUwAAAAAAAGwgTAEAAAAAALCBMAUAAAAAAMCGBzdMmd1R3t4dNdsavR2B07qp3ZC1umKN31GRS/RRu7c0K8QavxsSllXgNHVrN0Rr78oJP6DuxXUCAAAAADwQkg9TrhzT8hHt9WiVcvL19jYexn1VrkodNQ+YrYPWIv8WIWuWac3q7Qqzxu+osO1as2aJ1tzLh/SQNVq2ZrW235UTfkDdD9cJAAAAAHBfSjpMCV+g1+rVVZdvj+uhbhM0d+VKrVw5VxPefkK5011WDmuxB88RjW1WX4MCrVHLY2N3afeczipkjd9RJV/Xgt1bNbSuNX4vPDZWu3bPUee7csIPgCWvqXzHBHWc7ofrBAAAAAC4LyURpkRqdu8A/X6hjgYvnKehnWrJx9NTnp4+qtWqr74Z+PyDG6ZELtLyBEEKsG7pal2whgEAAAAAuJnEYUrIFH21PEr+b3+hZ3Jb05JzMUjTuz+qCqXMZkDeKlXhUXWfGRy/7xGzv476g7T92FwFNHA1Gar63jpjRqAG1fdWx9kXtXlEK/k7t9FSUyNdq105tlyDWvmrlNnEyLecarUapD/DXfOSdlALB8VtllRK/s37a4G1zpEZneTv/7E26ZAmNnMdr7dVG2F2x+vDLld0bPkgtaplbSup/QcOUn3vjpppnFf/5tZxmvu82XE614tTOyZ2O8Ez1d0qH+9SFfRowAKFXwnWzGvl66tyDQKunY+TVbabN4+4fqyl/NW8/1wdu1F/KEn0N3PT8g7/UyPaX7/WvuWq6NFOM7TXmp2YWYYj1P7RCtfKpkKdNzXvvGtu5I6pCmheJ872Gqj9N9uv3zsJyylWwmO/2XEdXKhBxvwq5Xyd813lY5Stc+ZGfWaU+UszTknLA1zzY/eZ1P5t3O+bN09U+9jraZRng+4zFXxtwUj9+HIp+VZ5RyutKQAAAACAB0eiMCVy+WrtUU093fJm9U8CNbRZM32wu5qG/rZGGzas0W9Dq2l3v6ZqMTZBRxPnVuvdZz/V2RdcTYbm9qlszZCOTG6pzsv89O50synReDl3e2WJApp21Iy0nfW/Lbu0a+OP6pB2hjo+P9TYa3JyyC27n3pMWqKNu/Zpx/JRqnvme7366vfGo6tUqNUkrZvVWV7Gn86/7dO+fcbn62dcqyYQ+XtPNe04Q2k7fKdlGzZow7LvnPtv1/A1LYn35Lxa/Rt9qZhXp2nFli3aMH+UGp2crI7WPm+dsZ3WP6jIO7O11tjf/A+q6sTsV/Vojec0Idfb+nnNFm1ZPEZPpf312vlcc2SGOr++SY3GLHCtO6qRLszopac/XBf/If9Gblrekfr+1Y6adL6FpqzZoX27tujP2aPU8tFiKuqcn5irDL/RqQZD9Zuzmdh0Dev1vCpmcc3PkdZNeZoPNs7Ntb3ZPfNo44DOGrDJNf/W3MJx5XBTdr8emrRko3bt26Hlo+rqzPev6tXvzVKsqneX7tDg+sZg/aGue2LfcvUt41wzARv3+5EpeqHzMj08zLgmxn2x5sfXVWDNO3rh2smd1/kLUkzMLV8hAAAAAMB9JFGYEnr0hFTIR6XTWROScWXBWE3dX069f/xUjX3yy8Mjv3waf6qve5RQ4LgvtMRazulUkDJ1/k1fWU2G8me/vvHdYQ9p7E8f6alKZlMiD2Uyph2ZOFy/xzymwVM7qayxbLrsZdVpYHuV2D9VX8XbcFw51LB7X2M7+WVuPpNXY/VrX0UxuwO1y1ri1oRoyujFcm8xSlM7VZKnh4c8PCup09TBeizmdw2feMRaznRFxTp/rU8b+xjnlF0ePo31YZeaitm4Un9aS9yaK3qo+1T1NbbjYezPp/Un6lImRqfzvqyvP20sH4/syl7c2va6pVpqreUUE6Oa732tTkb5Odd1XgMfhf00Qb/f4rP6zcs7VIeOxMjz4cdUycO4QumyK79PLXVqWUNJ3yauMox5bLB+6mscv7OZWCU1es7/er80Zdqor3k/WNsr2/UtNc8Vpn922ImhbuG4cjRU975PqVL+7Ma0TPJq3E/tq8Rod6C9u8LW/R6TTo0+m+q6JsZ9kb9SJ73zbCGFrV5m1ZgppA4/79K+rUNFlywAAAAA8OBJugPaW7Brw9+64FVdtRI0BSrauL68LvytDfGqkFTUE08n3WYoV8Pm8k/wRL5uk7Fy9YZqEnd60RqqkuuCdm5JvmFJQjmyZ5NOHVPc+OOmrqzT5j1ShVp14gcF6ZqoYXUpcJPZRClWIdVuEL9uRrp07sbDdPSt1wpxKqSHKsetCVRIBfMZX55F4tX8cG47kcqq2yB+ATqvQcw+BRnncStuXt5l1PzJ4goe00KPB0zSmkMXXcskxyrD6g2bJBO2JCWbsmWVThwNtcZvhc3jcsoh121h666web8nviZu7m5SdLQuW+MAAAAAgAdXojDF03yKP7JH/9wkDdi733gY9fYzHmdvRTZlT6bVUNZsxpNtPIEK2md8XevDIvbzgsyuLaKjk3kcvXJMGyYFqHmdatf7xwhYbs20YU+wQuQlHz9r/IbcZD4j377b2Y670t16YpGEWyvvMgF/aOX33VRm90R1qF9B5Rp01/SgZMKLWyjDi0G/OPsyqVYttk+VZpp4yJppw82O68qxDZoU0Fx1qlVROV/XuaXktrB3v9/uNQEAAAAA3M8ShSk5qlU2HoM3a+XSG6cpJYsXkvYF3aAPk5TyUYmiUuYnJ1h9WMT/LE+yQ4srWhLQVK1GH1HzkQu0asdu1/JDzc4wbPIpoaI6pD1B1vh976zOJGwZExOtGGvw5m61vNOpQLVOGvrrOm1f/b26FF6nD5p1lLPrkYRuVoYhY9Wy2dtaXOhtzXT2ZWLu6zd19rLm30DkmbPWUKwbHJezL5hWGn2kuUYuWKUdu13nlJLb4s7d7wAAAACAB03iZj5lWqtlmSj9MXCwtt8gTylfs7IyH1quRQn63gxZtFyHMldQtVv7X/hJSCf/yj66sG6p1t1yW5mV+nXpWXm16qdOlVz9rpgCnVUubEpXW/7Gsa9fsiB+U50rC7RkvVE8VfytCfeLf7RhbfyCClm6Skdu+RrYL+90Baqp19d9VDPmiA4l1SonXTmV9kqiDC1H5v6hwJg66vFpYxWP7T/nSpD2JGp5E6PoeKnQFa3d8I81nFii41r5q5ae9VKrfp1cfao4WTVxbLpz9zsAAAAA4EGTRJ8pRdX5s9dV/vQ3+r8az+qDGWu0JzRUocZny+KvNWjaRtdiDd9UtzLBGtPxPS3aE6GLFyO0Z9F76jgmWGW6vamGrqVSpGi7nmp0aYZeeW6QsW3XvkNDt2jxyLH6LcmuLkrLr5jxkL56vrZEXJSMY9ky/RUFzD6reK1nPL1UyO2IFs9apzNXLirCXDaRQur8+pNy+6OP2k7aouNnLurM8S2a1LaP/nB7Uq93vtaF6v0hg7Ti3baatOW4zlw8o/3WNSje9pVbvgY3L+8j+m3sSC0293FFunLmuFaP/E6b3QrJy9O5iQTKqPNr9V1lODL2/tmjNZNmy7x7CvmVUGbt1NJf9hvbu6Iz+xdpUOtR2prZtbZTmVqqmu2Ifh44yXlNzX1umdRW7y6MshYw3eS4SvupmLHM6vlb5Lottmj6KwGafTZ+m6oihfNKm37X9EPmfiKc20okVe/3I5r4tK+8KwbwamQAAAAAeAAl2QFtuvLd9dP8Gertf0a/D2inpnXrqm7dR/RSnylaE2YtpKLqPmu+BvhuUECzaipXrpqaBWyQ74D5mtU9fqestuV4Ul8tmaL2uZYa2zb3bXwattNHi8OU2Xq1bnyF1HnEQDU6P1nPVysn7wp19dafDTV6ZkfF67Yjx4saNLiRrs54SZVKVVDdD5PuPCNdwxFaMqWVrk5+SXUqlVOlOi9p8tVWmrJkhBreb31hRFXXa8Mf0uIeDVW1XCU1enWx8nT4Wj8G2KgqcSvlvet39XmpjlFu3ipVqZ66L8ijXjO+1ovJ9IWT+5nxmj+yuc7N6KInnPdPM3WbadUqadhfYzsX0/o+jYztlVL1Vl9Lr/2kz+vFTVPqauB3b6nUgeHOa1qqakO9tfoRTZzRQfFaA93ouAp11oiBjXR+8vOqVs5bFeq+pT8bjtbMjvE7c6ny5gh1K7VDH9U39lP9ZX2XoPaJS2re71mUPXtaubnRsQoAAAAAPIjSOAzWMB40szvKO0Aauu9rPWNNAgAAAAAAd1aSNVMAAAAAAACQNMIUAAAAAAAAGwhTAAAAAAAAbKDPFAAAAAAAABuomQIAAAAAAGADYQoAAAAAAIANhCkAAAAAAAA2EKYAAAAAAADYQJgCAAAAAABgA2EKAAAAAACADYQpAAAAAAAANhCmAAAAAAAA2ECYAgAAAAAAYANhCgAAAAAAgA2EKQAAAAAAADYQpgAAAAAAANhAmAIAAAAAAGADYQoAAAAAAIANhCkAAAAAAAA2EKYAAAAAAADYQJgCAAAAAABgA2EKAAAAAACADYQpAAAAAAAANhCmAAAAAAAA2ECYAgAAAAAAYEMah8EadnIYf3r+0VPjN47XVcdVayoAAAAAAMD9LW2atOpatatGPzZaaYw/d0qimilmkDJ2w1ilc0tnTQEAAAAAALj/mVmGmWmY2cadlKhmitsnbs6db++6XT4ePtZUAAAAAACA+9ueiD0qP768rsRcUcz7MdbU1JeoZorZtCcqOoogBQAAAAAAPFDMLMPMNO50tyV0QAsAAAAAAGADYQoAAAAAAIANhCkAAAAAAAA2EKYAAAAAAADYQJgCAAAAAABgA2EKAAAAAACADWkcBmvYKc3HaZzfjv7xJqdY+Lmrmr3pvObvuKhN+y/r8Klo5/TCudxVpXh6NS2XSc9UyaLcWcl1AAAAAADA7UntXCMpdzRMGTzvjPE5rbOXHLp61SFzi7F7S2PsxtxT2rRplC1jGvV5PKfxye6aCQAAAAAAkAIPbJgSdCxaPb87qdV7o3TxskNPVcqsZ6tlVh3fjCqa2925TEh4tP7cfUk/b7igX7ZcUKb0afRwyQwa/VIe+RVwLQMAAAAAAGDHAxmmmEHKc2NOaNfRK6rglV7DWuVSXb+M1tykrQy6pLdmnNLfhy6rVMF0+qlHPgIVAAAAAABg290IU1K9oxKzRooZpDz+UCZt+KCgM0jZHxatPj9FqMy7h5Wm/QHnxxw2p5nzzGXMZc11zHXNbQAAAAAAANyPUjVMMftIMZv2mDVS5vTK55w2ccVZleh9WJ8b8/45esU5zWQOm9PMeeYyJnMdc11zG+a2AAAAAAAA7jepFqaYb+0xO5s1+0gxm/aYzJCky5Rw57CLq6qNy/Vhc5nYQMVc19yGuS1zm/dGkIY3q6xmw4OscQAAAAAAAJdUC1PM1x+bb+0xO5uNbdoTP0i5MXPZ2CY/5jbMbZnbtO939apcWZWT+BCOAAAAAACA25VqYcr8HRedrz8239pjGr/cfjOd2HXMbZjbMreZUtXenKu5c+N/vu5YwpoLAAAAAACQMqkWpmzaf1lmP7nm649Nv225YPxtp+dch7WOaxvmmuY2UypDzoIqWDD+J1+2dNZcAAAAAACAlEm1MOXwqWiZL1kumtv1SuN/jkYbf8ftI+Vm0ljruLZhbsvc5p1w5p/pev+Fx1XH39X8p2qtp9Tzh0Bd7x43oSs6MOd9vdCklqo6mwz5q87jL+iLNa7wx3Tl+CoN79hY/ub8qrXUpONw/RVhzQQAAAAAAP8aqRamPEiyp3VT7sc+1JT5a7R53QpN65xbW4a+pmFbrQUS2jpMnT/eKp++07Vs3WatWTJHY3s+poperiZNurJS/Z/rpVlpX9bUFeu0btlktUk7S692HC16aQEAAAAA4N8l1cKUwrnclSaNFBLuqk1SuqBZQ8VeMx/XOq5tmNsyt5lSUaeP6ujRuJ8TOhtb9cSvpV5/qbq8c2WU0mVTqfbd9VjOcO3+J5l+Xg4fUXim0qpXu6jMlkIZcxVU+cdfUgMv1+xj347TgphG+nDsSyplLJAuWym91P9FFQ+ZrikrXcsAAAAAAIB/h1QLU6oUT+9s1PPn7kvO8WaVzFob9pr5uNZxbcNc09xmSm344gk98UTcT0d9HWzNTCSbsmaRwo4ftcYTqPuE6rkt1jtP99TwebuuhzKWjX8HGQdbVw3idsniVUUVcl7Urm3J7hQAAAAAADyAUi1MaVouk9KmTaOfN7j6EelaP7vz247YdcxtmNsyt5lStT/erM2b435+0+t+rnmX9s7T8J4t1LBhHVcfJ5Vb69tQ17wkZW+iLxfO1AeNpWUD2qhe7cbqOHyVjjtDlSDt3W98rep/7RXMrk8XzTotRUcn3xMLAAAAAAB48KRamPJMlSzKljGNftlyQSuDLql4XndNaJfbmntz5rLmOua65jbMbZnbTHWHvlb7Vv21osCrmjxnqdY5g5bpetnTmp+cjCX1+Ouj9cuaVZr5QU1FTu+lNs5OVkqomJeUqcnwBOGN6/NbbIIDAAAAAAD+FVItTMmdNa36PJ5TmdKn0VszTjmnda6XLUGgErcPlevD5jLmsiZzXXMb5rbMbaa2YwsXK+hqLXXs94iKxr4q+coeBSfTwiexjCr5+Mf6+LkCCj9y2BhPpyoVvHVx40ptpBIKAAAAAAD/eqmaVvR5PLseLplBfx+6rKdHnnBOM0OS4M8Lq7cxr3TB652KmMPmNHNebJBirmOua27D3NadUMCnmDLpH/05L0Rnr1zR2ZBlGt5porZbL+ZJ0taZGj5rvfadMvuDuaRT++ZqyoJjyl2osHO2V+tOqhc1S2+2H65l+2I7vN2uFV99rfnHnIsAAAAAAIB/iVSv+jH6pTwqVTCd5m27qGofHb3W5Gfwcx4K/KywHN8Uc37MYXNabNMec1lzHXNdcxt3TN23NfTlItr80TOq5++vRp2mSV2/0UcP36h/lnCtn/SWXmhYS5Ur11Ljl0bqcINBmvZWRddss0+VOWP0Ys6V6v+C1eHt0901eEW4Mt8opAEAAAAAAA+cNA6DNeyU5mPXG3gc/e281ji+oGPR6vndSa3eG6WLlx16qlJmPVsts+r4ZlTR3Ndff2y+tcfsbNbsI8Vs2mPWSDGDFL8CKX8lMgAAAAAA+O9KjVzjZu5ImBJr8Lwzxue0zl5y6OpVh7OXlNi9pTF2Y+7JfGuP2dms2UfKnWraAwAAAAAA/hse+DDFFH7uqmZvOq/5Oy5q0/7LOnwq2jm9cC53VSme3vn6Y/OtPXeis1kAAAAAAPDf8q8IUwAAAAAAAO6Wu5FrUB0EAAAAAADABsIUAAAAAAAAGwhTAAAAAAAAbCBMAQAAAAAAsIEwBQAAAAAAwAbCFAAAAAAAABsIUwAAAAAAAGwgTAEAAAAAALCBMAUAAAAAAMAGwhQAAAAAAAAbEoUpadOkVQb3DNoTsceaAgAAAAAAcP8zswwz0zCzjTspjcNgDTv1+KOHxm4Y69x5VHSUNRUAAAAAAOD+FptldK/WXWMeG2NNTX2JwhSH8afnHz01fuN4XXVctaYCAAAAAADc38waKV2rdtXox0YrjfHnTkkUpgAAAAAAACB5dEALAAAAAABgA2EKAAAAAACADYQpAAAAAAAANhCmAAAAAAAA2ECYAgAAAAAAYANhCgAAAAAAgA2EKQAAAAAAADYQpgAAAAAAANhAmAIAAAAAAGBDGofBGr4mMjJS586ds8YAAAAAAAAeDFmzZlWOHDmssTsjUc2U2CAlTZo01hQAAAAAAID7n5llmJmGmW3cSYlqpoSGhjp3ni9fPrm7u1tTAQAAAAAA7m/R0dE6ceKEzKjD09PTmpr6kuwzxdwpQQoAAAAAAHiQmFlGEr2ZpDo6oAUAAAAAALCBMAUAAAAAAMAGwhQAAAAAAAAbCFMAAAAAAABsIEwBAAAAAACwgTAFAAAAAADAhjSOBO8MCg0NdX6n1vuYL168pKCgYB04cFhhYeE6f/6ic3qWLJmUN29uFStWWH5+JZQpU0bndAAAAAAAgJRK7VwjKXc0TFmzZpPWr//bGrux6tUrqFatKtYYAAAAAACAfQ9smBIefloLFqzQiRPhznFv7yIqWbKYChcuoGzZsjqnnT17TocPH9PevQe0b99B57R8+XKrSZN6yp07p3McAAAAAADAjgcyTDGDlFmz/nA258mfP4/q1q1ubKuANTdpoaHHtHLleh0/ftLZ/KdFi8cIVAAAAAAAgG13I0xJ9Q5ozRopZpBi1kZp3br5TYMUk7mMuay5jrmuuQ0AAAAAAID7UaqGKWYfKWbTHrNGSrNmjaypt85cx1zX3Ia5LQAAAAAAgPtNqoUp5lt7YjubNZv2pFTsuua2zG0CAAAAAADcT1ItTDFff2wym+rcStOe5JjrmtswxW7zlv3eS5UrV77Bp5mGB1nLAgAAAAAApECqhSkHDhx2fptv7bldsduI3eYta/SR5s6da31GqUUBqUCLUXGmfa2OJaxlAQAAAAAAUiDVwpSwMNdrkM3XH9+u2G3EbvOWZcylggULWp88yuomuWXNE2daPmVLZy0LAAAAAACQAqkWpphv4TFly5bV+X07YrcRu81UZzYHajZcgccX6v2naqlq5cpqMGCjMSNIw5tVVrNEbYF+Vy9jmV6/W6NOl7T3fwF6qlZVZxMi/zotFDDngK5YcwEAAAAAwL9TqoUpD5zz6zWg3Rc69+xw/Th3rma8VsGacWsOfd1erQbuU7VPf9GazWs06+PK2jfgZfVecMZaAgAAAAAA/BulWpiSJUsm5/fZs+ec37cjdhux27wjTu9Wxpd/0JcvVZd3wYLKZ6v9z0qNnRyk4p1Hqt8jnspo/PF8pI9ebRCjFVN+0jFrKQAAAAAA8O+TamFK3ry5nd+HD99+lBC7jdht3hkPqfETHtawTUGbteOipx6u72VNMKVT1Up+0p4dcr0gGgAAAAAA/BulWphSrFhh5/fevQec37cjdhux27wzsipbdmvQrj3BCjX+fNs6/quX6w/ZKl2Nod8UAAAAAAD+xVItTPHzc71zeN++gwoNTXntFHNdcxum2G3ec2fOKl7jpRJFVEB+6jFvszZvTvgZqSetxQAAAAAAwL9PqoUpmTJlVPXqrk5cV65c7/xOidh1zW2Z27wXYqJjrCGXKxu3KN77fXwqq1ymPVq9LMKaAAAAAAAA/itSLUwx1apVRfny5dbx4yf122+Lram3zlzHXNfchrmtu89P1Stm1bFfv9R320/p0pWzOrH9O3X/ZKmirCWc0jVQx9Ze2jbsBb3xv+06evSo87Nv/SwNn7nVWggAAAAAAPwbpWqYYmrSpJ7zLTxmU53p03+9pSY/5jLmsuY65rrmNu6VWv3Hq4fPQY1r31C1/B/R0/3Wqc7wr9XG01rA4tdzpn7uV03HJ7yiZk88oSeeaKaX+kzTXt3BNxABAAAAAIB7Lo3DYA07hYaGOr89PROkBzaEh5/WggUrdOJEuHPc27uISpYspsKFCyhbtqzOaebrj8239pidzcb2kWLWSDGDlNy5czrHAQAAAAAA7EiNXONm7kiYEmvNmk1av/7WXhRs9pFyb5r2AAAAAACAf4sHPkwxXbx4SUFBwTpw4LDCwsJ1/vxF53SzOU/evLmdrz8239pzrzqbBQAAAAAA/x7/ijAFAAAAAADgbrkbuUaqd0ALAAAAAADwb0aYAgAAAAAAYANhCgAAAAAAgA2EKQAAAAAAADYQpgAAAAAAANhAmAIAAAAAAGADYQoAAAAAAIANhCkAAAAAAAA2EKYAAAAAAADYQJgCAAAAAABgQ5JhSpo0aRQdHW2NAQAAAAAA3P/MLMPMNO60NA6DNewUGRmpc+fOOXeeYBYAAAAAAMB9KzbLyJo1q3LkyGFNTX2JwhRTbKACAAAAAADwILnTQYopyTAFAAAAAAAASaMDWgAAAAAAABsIUwAAAAAAAGwgTAEAAAAAALCBMAUAAAAAAMAGwhQAAAAAAAAbCFMAAAAAAABsIEwBAAAAAACwgTAFAAAAAADABsIUAAAAAAAAGwhTAAAAAAAAbCBMAQAAAAAAsIEwBQAAAAAAwAbCFAAAAAAAABsIUwAAAAAAAGwgTAEAAAAAALDh3ocpZ2erx1dlVX/pRl22JgEAAAAAANyv0jgM1vDdd3a2Xpz0nH44G2OM5FD12ov1Z4OqSu+aCwAAAAAAcN+5dzVT4gUppkitX9VGHx+1RgEAAAAAAO5D9yZMObtIr0yJG6S4uOV6Sk/ns0YAAAAAAADuQ3cgTDmh2T/7KvcXT2j08SR6QXEGKY9pwqmEQcob+vOVwarqZk0AAAAAAAC4D6VynyknNHtmFT2367CcUUmG+hrVboF65rd6QblhkPKFatJZCgAAAAAAuM+lbs2Uw8MUEBukmKKW69UpTVw1VAhSAAAAAADAv0Cq10yZ9p2vXtofaY1bMlRXrcybtIYgBQAAAAAAPOBS/9XIMYc1+Ydy6pgwUEmAIAUAAAAAADyIUr8DWrfC6vDCDn1dPIc1ITGCFAAAAAAA8KC6M69GvkGgQpACAAAAAAAeZHcmTDElEagQpAAAAAAAgAdd6veZkpDZh8rMOnrnzIua22mAqrpZ0wEAAAAAAB5Adz5MAQAAAAAA+Be5c818AAAAAAAA/oUIUwAAAAAAAGwgTAEAAAAAALCBMAUAAAAAAMAGwhQAAAAAAAAbCFMAAAAAAABsIEwBAAAAAMCG3bt3W0P4ryJMAQAAAAAAsIEwBQAAAAAAwAbCFAAAAAAAABsIUwAAAAAAAGwgTAEAAAAAALCBMAUAAAAAAMAGwhQAAAAAAO4b+/Vk77lKM2m/NY77EWEKAAAAAOAeuqhFv65S4ffmKY0ZIvSdr8LD12vcYWv2v9Dl4/v03JAFymCer/HJ0H+Z6v1+WKes+bj/EaYAAAAAAO6ZfYvW67FVZ5SmSGF98UwpfVHLQwXORel0BmuBf5uYw2o/Zpd+PptBrRuW0sRniqtTfqMczlxVFmsRk5sbj+v3szQOgzUMAAAAAMBdNW3SXL20O7e++7yG2ljT4jkVotd+CNaU0As6Ey25pcukZ5pV1vc1ckp/r5fH9ydVrXlDLasdm74c0ysfbdKErMW0962y8j57RH2+DdToQ1G6cDWtChQqoLEdK+mZbNbiKbB79275+vpaYzYd3ibvkYek2jW0r3lua2JcZjOfQP1Tq5Q6he7XAPO45Saf0j76rY23/NxcS53YtU0tfz6iVWdiFOPurjJ+JTXLOT9Ko8cs1qsnC2rZB5VV31x4xwZl/faEzhf1UUQPX+UyJh1ctEJFF0mf9a2ndzzMheK4QZmnN2b//etSVdyZW/OaRCtgzgkFXrqq9Flz6PWWVTS4VCbnJuIdn9Iqe84seuN5f+WZb//Y4p9relWp7Kd5zxZRPnP99WuV5mfpu/cLafHYQE0Ll55/uam+L2fOvHOIugAAAAAA90yJXObjeaS+XhahC65J8WXPoGzpsyugdXUdeKOyPvC8op9nbdb7h6X05QroifQO/bnt0PUmMnuOaPZ5qXxZL3krXP3GbdWw09n0Zde6OtDdRzXOH1WL0dv0t7X4XeeRWUWMJ/GQXSH64/RVa2JiIWt3a2pOL01/8SF97Oeu4J1BennFOdfMwztUd8oh/ZUxr4Y8U0oT6+XUmX92yf+b/TqhDGrum1U6f1p/WE2llgee1vn0bspyKEJzY8wpUfp1t7GtLNlUM2GQYrpBmV9zKlTNfj2vRxr4auLjBVX2cqQ+/yFQC5wzj6j3D4e0ws1D33avqx2dSiugWHaVLpiCY3Oe62Ht8yyp1X3rau0T2XV843bV/DXcXNgSqdeH7dTv7jn0VJkCalbImnwHEaYAAAAAAO6ZWo/6qW2uq1r+x1/K9fFKtVsdrtPOh2qLWwEN6FxF75fPq6IFC+r9JwuoqC5q5xFzXhG95OemmIPH9aOVxKzZFq4w5VCXutmlHcEafjKNGtUtpSbGqLLn15AaxsCpk/rhXvXJkrmEhjTMrpwRR/X4oIXynbhTv4RHWzOvi8lbRHNf9FPz8l56/+XiaiiHNoW4AoTflx1W0NXsGvhKFb1R01udmvjrx2rpFbn7gEYelYqUzqUSRhn9FRxlLB2uP/ZdVqXqhVT56mn98Y+5hWNackjKUiKfq3ZIQjcq82vS6v+eqa3R9Y3916+sCVUzSpfO6E9j/9IVRV42v9OreKFsKutbTO+/UFHPZ7Z/bM5zTZtL7zyRXwWM8QKlS+lVLyl4Z2icQCxa0d7ldeStmvpfu4pqlVRAlMoIUwAAAAAA9062IpryTmNtb+mlhunOa+ova5Vn0Cb9HltN5ewRfTxxmfL3/8PVQe3owwqxZpmerJFPea9G6sfN5sP5Cf0QeFluxQroRePBPTDknM7rqhb8tkrFBq10fnwWRLpWvGfSqmrjOjrSt6qGPZRREfsO6OnBS+S/NG5NC0OOzPK2BuWWVumMr5gYsybLKa09GiPlzK66cZoq1fIyRy5o6yHjq7CHaqSX1uw7JkWc0KJT6VWttJfq5onR6r0npT3hWn01jer7JVOF4yZl7pJexXJfjxTSpU1j/O3QFWcQ5qX3GmZTjlOhqtV/fvzAyNaxWecaHaEeQ13Xr9igVeqT+GBU26+wswnS3UKYAgAAAAC4x9xVrupDmvdOEx16KpcyRh5TwDKz4U64+ozeog9C0urF52rp1MAn5OjlpRKulVx8CqtlNqupT3CoZp1NozoPeTn73nDJqDd6Gut9HvfTQIMLW7PvkfQ58+vNF+rr5MfV1DNXtNYv3KsfrXm3r5AeK5ZGMQfDNWdHuLakzaY6JXKpUbH0CtkfptUHzipM2dW0XFKRwC2U+U2ZgVFdnXg3TmA0ZKna7TDDoBQcW87C2hDv+hmfdx5SBWv2vUCYAgAAAAC4T6RV4Up5VNkYuuKshXFGO81MpVgRfVE+h3K6SZcPn1Owueg1+fRCmfTGw/lJDdp2SkfTeqhjTVdntGWKZlUWXdLiwDPO8ftS+nz6P+/00lWHrliTbiyXahQ0CuL0Ga08a00yrDlkjmRSWWdlk7R6wje7dP6CZhy4KHl56Aljlfols8vtaKSGHj4v5cmpBpnNZRO6lTK/NbGB0ZG+JVTj6hX9GWxu2M6xxZ7rKc0LM8fvH4QpAAAAAIB7JFx9hi5S1Qlb9Mlf+zTpr0C1G7tff8pdNUqYdUvSKYfZduPgEX1x4KzWbdyiOvNPy3i8jqeWf36VuHpW3/x9UVlKF1LL2AXKldDredJo+/L1embBIa2LCNOv5j6+DVKgtchdt36dsgxepba/Bhnnu09f/rpGL22+LLeCOVTTWuRmnnyksPzSntE7X23Sl2a5LVin5zcY2yhaWG9ZNW5ylcutSjqn33dfViXfQq6aOqVyqZZR5nP+cShvsTwq41wyoVsr8xs7qIAxxjXdHqaQiFNatS5C/yiN8mR1hVx2js11ruf18YR1ru0dOGSc7ya1Xn6ty+F7gjAFAAAAAHCPZFWdEhkUfviY+s/epc6zD+inS1nUu21tfeNs5lFYXz5XQD4xkXpr7ErVnXdeT3eoqI5ZXGtfU7iY2ua/rLDzbnqiYty+M3JrwOtVNdTbTUtXbFONQevV4vfD2qAMxp7vkUIeqpf2gn5es9c43116c+1ZZS/tp609Sl/vI+VmCpfTynZeqnkpTG+b5bbitLGNUtrZ1df1umCTRy5VyxKj85czqXFp62wzF9JjBc0BNzUuY3bnmpRbLPMbMsr3SrgGfb9exQat0aMrL6pk9bL6Xz3rOOwcm3Gum7uU1KPpT2vAd8b2xm7Xa3+dkbKZvcjcO2kcBmsYAAAAAADcxO7du+Xr62uN4b+ImikAAAAAAAA2EKYAAAAAAADYQJgCAAAAAABgA2EKAAAAAACADXRACwAAAAAAYAM1UwAAAAAAAGwgTAEAAAAAALCBMAUAAAAAAMAGwhQAAAAAAAAbCFMAAAAAAABsIEwBAAAAAACwgTAFAAAAAADABsIUAAAAAAAAGwhTAAAAAAAAbCBMAQAAAAAAsIEwBQAAAAAAwAbCFAAAAAAAABsIUwAAAAAAAGwgTAEAAAAAALCBMAUAAAAAAMAGwhQAAAAAAAAbCFMAAAAAAABsIEwBAAAAAACwgTAFAAAAAADAhjQOgzXsZI489MVK7Th2xhhK45yGO8WhcgWya9ubdSlpAAAAAAAeEIlqphCk3E1pnGVtljkAAAAAAHgwJApTCFLuNlegAgAAAAAAHgxJ9JlCkHL3UeYAAAAAADwo6IAWAAAAAADABsIUAAAAAAAAGwhTAAAAAAAAbCBMAQAAAAAAsIEwBQAAAAAAwAbCFAAAAAAAABsIUwAAAAAAAGwgTAEAAAAAALCBMAUAAAAAAMAGwhQAAAAAAAAbCFMAAAAAAABseODClME9myq6p581difk0HttH9aSx/Jb4wAAAAAAANfdtTClVMXSWtWnsS4ObKpo4xP1SSPtf72i3itsLXDfyKzSBbKqauEs1jgAAAAAAMB1dydMqVxRC54ropJnj+rdHzep+dRNenV5mHbGOHTlsLXMfeOo2gxeoBwTg61xQwN/nbujtWEAAAAAAMCD4q6EKa1K5ZTn5XANHLtDX24N07xdYZqw5G89OepvfW4tcz97rVg2ZbSGAQAAAADAf9tdCVPSp01jDd3AY7UUPbCWBlujsV5u84ii362kl61xl7Tq+vzDOv5JE2eToYv9H9bPdXNZ80ye+vndplr/RAEN61Zf5z41mxY1UWSf6upfPJOefaKG9n/kWjfqk/pa3DDxuofbeBrDRfW/dx7V5z7uxuTizuWjBz6inyu7lgQAAAAAAP89dyVM+XbfGUVkzK03O3ircU5r4u0oWETv547Q+9+vV73xf+uz4LRq/FhFza6WyVrApXzNsnr87GF1nrBO9X48qKDMHnrv5Yc1oXy0Js9er+qjt2jAfqlOg7IamWTfLSH6v4ELNTzUGAzdL/d35hufZXp2s2suAAAAAAD477k7fab8FagXl52Sewkf/RHQUEGdy6mnT/zgw5arkfrqh380YdcprQ45qk+m7dCPYRn0uH8ReVmLmNKdPKaXpu3V9BBjua3/qP+OC3LLeEVzf92oT7ae0ubQ4/pk1jHtSJtVNcpbKwEAAAAAANzA3QlTdFGLFq6X58jNenvzWamgp4Z3qKvgNkVUylrClrDT+ua0Nex0SqtORMkte2Y9Yk0xnYiI1EZr2DT/XLTx9xUdCXSNO512KMYaxI2s0tC2AZoeYo3+B4VMD1DboaussbvjfOA09evcQW3btlXHTxcp3m0PAAAAALgn7lKYYjlxQl/OWi+/j1fr5Q3nlbusn8Y1SEENlasOHbIGb+Sqsdy/TXTgZL3W4TMtPm9NiBUyXQEdBmhBpDWOeyM6QmvHvq4ObYfq9mOXEP06eakyPvulpk6dqq/6PKL4reSiFbF1uj59rbOxv7Zq26Gzeg+Zr2AzM0yh8wsGKCBhYnZ+gQYETDeO5n4QqMk9U6NsAQAAACDl7m6Ycs05/TDrgJaec5NPIQ9rWtJypXezhuJwd1dVa/C/xr3M83quzAH99mOg8SgdK1ILvlskNX5JTXJYk3D3RW7X1P59NOt0HmW2Jt2eQwoN85B3KddFdTfu+3iid+u3X4+r5qvDNH7qVE0d31sPhc3U51//bS1gX9C+g9ZQHEH7lMTUe+PkXu0/aw0DAAAAwD1yj8IUQ850ymI8G16IirImmNLIPd7/es+vqnkSPECacmfT4wmWa1wogy6dPKNvrSn/XllU+7lHlG7VdM077poSHfg/zTtYSa2eK+qaYIjcHqfGQsde+nT6dsWttJJUk5VbacZyed8sfdqro7PZSYfOvTVy+dE4oU6IFg/pq+5WsxRz/lcbXXuNXjVUHXpOVtwWVq5aBl00aqO1hcjtmv5pL3WMrWUxcrmOJlfLwthe24S1JRJMi45Yq6/6dnVtr20HdX7tQ83Za800jvro8pHqHduEptenmr49bgld1p5Zn6pXR3Pdjura9yvtT3fj3pNDF/+qkBrv6LMXvW/tVdrO831NnTu49tHr0+m6dghBP+nj3jP0jyK0dHBP9ew5XuutWde4l1Hb/q+rQcnsSm+Op/dRq8f9dHFPYLK1SM5v/k7934wtE3Ofv1o1WU5rxagATdoUpYilg439Gfscv16nV4xSwKRNiopYqsHmtGvHcZPyM6/F0HnaPv16GTr3FRHnGpv35a/Bce4fsynZUC0P/vXaPdaxa99r95BZJu9/8ptCjVKZ5jyWj/SL2Tm0WRvoq77q6tyPed+9pg+vX2gAAAAASHV3JUz58KVa+rlFSXUplVePmx9/X/3WsaQapI3UzL9OuhYKPqM9V7PqWWO5Fp6ZVKpoQb3fobSezZG4qc4lY7lXXiitLkWzysszv3O5ljku6feN+6wlUlfIuStS3twaXtrcXy5VTo03Et2Oos/phaphmve/zcaD6HHNm75a2Z9sqaqxudPxXzV0+BYVbD9YE8waC+NeVdEtX+qTaXEfXFMiTCvmX1CLQV85m52M711WB7/9RsuvNTnKI+/mXTV03GTX/F4lFTh2olYZO3WvUV+VLm/W2rhpSuBabb5cXjUrmgd+XL8OHa4tRV/VOPOYJwxW04s/aND3u13L2nZey8dP0J5yvfWVub2pEzSi7yuqW8w1N3rzBH0047IeHzzBeazjXi2sTV+OudZ86vyqkRqyMINaDPnamP+1RvbIreV/BLtmJsPz/95T/+YllET8lwTrfAu21+AJ5vGN06tFt+jLT6a5wg2/59T/81YqLQ816DNao0d3VXXXijcUHhEp5fQwrkTSsnjW0PPvjNTXZpl8PURNHXM09iczesmpeq8OlfFjJY8GfYz9GfvsWl05672qoa6J6mNOs47jZuXntP1nfRfTUkO/NvY18XWVO/E/DXh7umJaDHJek4l9q+jU/77RPOtXgEugvpt0xrrHvtaQVnm0ZexQ/WoGh0aZfPJmA6NESquN81g+0FOexrVaPl4T9pRT76/McpyqCSP66pXYCw0AAAAAd8BdCVPCLqZVlXLFNaJtFf1qfpoVVbnLJ9Rv2lb1O2wtFLRDXZae0tWi3prZs552dC6jNldD1XxN4jr9wVt26MszHvq0c23t71lRfTyv6LcFf6vVHXpl8djF+/TzqUx65WVjf93Kq9f1CiD3iLsqv/iMCm/8QTNmzdTvZx5W68fzW/OMx9G5CxVaurlerujherBP76M27Wrr0sr52uZcIqXcVKa58YCf2RUXpPepo4o5D2h3kHPUkEXF/YrJmq305cvIK+aYDpm1B9wrqmb5y9ocJ00JXLtZlys+7AqBQpZq5amH1a6Nj6uWhbuHGjSuqIsbViWozXLrYq7GGH/F6KpzzF2ZCxaUh/PYorV26UYVfqab6rsmGOfyhOp6BmntKjMNOK9Vy7cre73nrs/3elbNq1gnlhoC52phaGk1f7midUzp5dOmnWpfWqn5Kb1I5//S9IUR8n+8oXElkpHfR2XzOkvYWcZlvT0UFnorPRDFdbPys7g9pGdir2f68qpdIZtifB9Vq9KZnfdlep/6qpL3oHbvMhe4rvTjsfeYuzzqd9MzJQ5q1QrzJkpGzFXFmH9cF1rumQuqoHVcAAAAAHAn3JUwZczPq1T840XK9M58uZuffotUfNTfGrTnorWEy59L1qv4BwusZZbIb8oeLZq7Ru6fbbnWfKfP6Pl6aM4xDZ22Wnn7mdtboKyfrNazK09ZS5hC9exn81V4WoIHsD+Mbb2zRn2sUZcgVTf2V/0PazSpdQ8fUKvhS1zH32+l2qW8S4rUk6OJXmosLfplu3yfe15l4jw7RkSclYenlytIiVXGV8WighV0W72IesjTK+5W3eSWNkoXLlij0RHaOmuI+jqbYJifafrHmmU+GFd9uKIub15rhSObtXytVKN+ZeeYmbiEnV2hwc7mJ9ZnxDpFnY1QhGsJm7KoYccXVGDTIHXr1V9fzdupsMvWLOMaHzoWoz0/dL++r7Zv6X8HpdMRZjWJk4o4LRXwip+a5c6V3RpKBREROuvhqXjFqTLyLRal4JRcpOhgzfx0so7U660ulZMPEi4fWqqv+r9pXZ+eGrw0JaV7s/KzeORXIWvQlCVTRmXLmy/+fZlIwnssi3yK5dbJI8n32pKlYUe9UGCTBnXrpf5fzdPO6xcaAAAAAO6Ie9dnCm5b0VpVlFe+qlE72XoId1G0Nk94VyPXFlTHL8wmGOanjUpbc50q11cNWU19Nq/V1kzVVLuMa5ZT3qb62Gx+Eu8ToNrWbLvcCzZRwMhxGvRKDWn1WPXp9aHmxskpyndOuK+pGtr6nlc7si86WL8OGKY1hV/Re61v0Mzo+K/65IOZOtugn4Y7r89o9Wlw4w6gbyQl5Zcxk/179dLly3JPn8EaS4J7QTUJGKlxg14x7q/VGtunlz6Me6EBAAAAIJURpvwLeXnmVUToofj9owTu1oEMJeR3g2fd8xcvWUMpEaqg4Isq07yNfKxWJDoZEa/TW7PmRe1qbs6mPpvXblWmyjXla81RvrzKGbFfe+L2uWHT+fNJHX965S37uF75dIS6lz2iZWvMh+w8yuvhpkP7kuuPJY88ckoRJ6wefi23Vz4JeHkqb0SoDsW/SNp9IINK3OgiJWQFKauKdNVH3avqhi9z2rNbBz3q6bn6VvMvQ/ipM9aQHTcrv9sRpoP74xbKSe3df1b5CxexxpOXPm9ZPf7KpxrRvayOLFtzn7zKGQAAAMC/EWHKv1DRBnXlGThHk7dGuAKVy3s0bcoqZazbVA85lzAeh/N6yG33ai2NcD24Xt4zTdNWx7bXSQlXAHEocLucjSwuh2nptMU6kuDN1r41K8ttx0z9GphdNepfi1KMGU3V0HOvfh4xT4esVhrRF45q5574gcY1ZvgStknL97gWjo5YrnG/Buv67s5rf9BenYlt8XF5v3aGRCtrdrNmRBbVb1pVUSsmXS8j46jP7A3SfmeYk0W1a/jp2MLvtDy2fA79pjnrb6d8EijaQHU9AzVn8la5dnFZe6ZN0aqMddU09iLdTJwg5b0O5W8cpJg8PJQtYp92OncYrQv/TNOsLTGueZbMmTPozMH98UOwzJmV4cxB7b828Wbld3uC5s3QPxdcxxixfIrmhfqodj2rS90sWZRJx3TA9Qoip/P7g7T3+oXW/p0his6a3ThKAAAAALgzCFP+jfI31/vvPKLIH/qoi9mfRbdRCqn0ht5vc70JSJZGPdS9SrimB5ivoO2ogJluat3yoThhhF1Z1PCF/1O+HcPV2dhnhx5DtKf26863rcTjW1810u7X/uy11CBeBYz8av7+O2qWbrk+7urqh+OVN4fox22nrfkJ+L6o1/4vlzYN6mws20HdBm1T1faN47zF5qKOLZ6k3t2sPj26DdM/Pl3Uq4lrCffKXfRZlzI6MPlt61XMPdR30mIds7rxMcvnjXpRmvW2VT7fnlOzZ26nfBJyne8jkT+oTxfzGLtpVEglvfF+G5W4caci162dpf/tP6fjK4aql3kO1z4Bmp5UtYwy/6d2/mc023nNX1HfWdnV4ZUqituApvL/tZRv6HfO7XUcab2MufL/qaVvqL7rZWy740jnq5FvVn4pl1c16rtpVt9XjGPsqLdnRaneG6+qSWxSlKehWjfOqBUDjHPo8K7+F2pc6WOLNal3N+vcu2nYPz7q0qtJnHsBAAAAAFJXGofBGnZK03uuNYS7yfH5E9YQ8F+1SkPbzpHnx0P1IHZdAwAAAOC/g5opAAAAAAAANhCmAAAAAAAA2EAzn/sEzXwAAAAAAHgwUDMFAAAAAADABsIUAAAAAAAAGwhTAAAAAAAAbCBMAQAAAAAAsCGJMCVef7S4KyhzAAAAAAAeFInClHIFsht/83B/9zisMgcAAAAAAA+CRGHKtjfrEqjcNa4gxSxzAAAAAADwYEjjMFjDAAAAAAAAuAk6oAUAAAAAALCBMAUAAAAAAMAGwhQAAAAAAAAbCFMAAAAAAABsIEwBAAAAAACwgTAFAAAAAADABsIUAAAAAAAAGwhTAAAAAAAAbCBMAQAAAAAAsIEwBQAAAAAAwAbCFAAAAAAAABsIUwAAAAAAAGwgTAEAAAAAALCBMAUAAAAAAMAGwhQAAAAAAAAbCFMAAAAAAABsIEwBAAAAAACwgTAFAAAAAADABsIUAAAAAAAAGwhTAAAAAAAAbCBMAQAAAAAAsIEwBQAAAAAAwAbCFAAAAAAAABsIUwAAAAAAAGwgTAEAAAAAALCBMAUAAAAAAMAGwhQAAAAAAAAbCFMAAAAAAABsIEwBAAAAAACwIY3DYA07pfk4jTUEAAAAAADwYHL0jxd3pCpqpgAAAAAAANhAmAIAAAAAAGBDomY+AAAAAAAASB41UwAAAAAAAGwgTAEAAAAAALCBMAUAAAAAAMAGwhQAAAAAAAAbCFMAAAAAAABsIEwBAAAAAACwgTAFAAAAAADABsIUAAAAAAAAGwhTAAAAAAAAbCBMAQAAAAAAsIEwBQAAAAAAwAbCFAAAAAAAABsIU3D3BU5Tt3ZDtPaKNQ4AAAAAwAPkwQ5TrhzT8hHt9WiVcvL19pa3t6/KVamj5gGzddBa5N/hirYPaqRSLacq3JridDFI01+pZZx7fQ0KtKYlaYleK++rF76PtMYNt7zuHRCyRsvWrNb2MGv8NoTPbKvyFV/TEoIZAAAAAMBdclfClBO7+qj+V+00+6w1ITWEL9Br9eqqy7fH9VC3CZq7cqVWrpyrCW8/odzpLiuHtdh97chYNas/SDfNMkIm6t3J0Wr3YVvltiaF/zlIz9Z+SkMPZFZ2a1pyriyYraVRdfRcS1ep2Fn3jnhsrHbtnqPOhazxW5VEeeVu+bG6ef2h9wZssqYAAAAAAHBn3fEw5cSuV1T358+14vhUPTfpxVQKVCI1u3eAfr9QR4MXztPQTrXk4+kpT08f1WrVV98MfP6BCFMiFy2/eZBiWPLFOAVV7axuZawJCtGPw+Ypd8AvWvVlI2W1pibtipb+tkJ6tKWeTGeO21n3/pJ0eRVV5w51FDHrGy2gdgoAAAAA4C64o2GKK0iZoKCrrvGYsz9qXOA518jtCJmir5ZHyf/tL/RMbFWN5JjNWbo/qgqlzGZA3ipV4VF1nxmseM/dszvKu/4gbT82VwENXE2Gqr63zpgRqEH1vdVx9kVtHtFK/s5ttNRUq7XMlWPLNaiVv0qZTYx8y6lWq0H6M147HNcyI9rH3X8dvTlvr2Z08pf/x5ukQxPVzNlEydyPtVI8S/Tr0guq2OTJOAFRUXWfs1JftfZTJmtKsq4slZml1GvWQM4sxc6611jlMPOY5gbEnouvyjVor4mbL1rLWG61vL076trpWuW/efNEtbfK3yzPBt1nKti54pEblle6J59UnaiFmvk7aQoAAAAA4M67vTAl5rD+WDtRa5OobZIwSJHclNt7iqb5335diMjlq7VHNfW01WwleYEa2qyZPthdTUN/W6MNG9bot6HVtLtfU7UYG2ItYzm3Wu8++6nOvuBqMjS3T2VrhvEoP7mlOi/z07vTzaZE4+Xc7ZUlCmjaUTPSdtb/tuzSro0/qkPaGer4/NDrtScif1dPY5lvTjUw9m+uu1LTh/XS8xVLqtWkdZrV2Uvy6qzf9u3TPuPz9TPWenFt/0ubLxRX9YdTVtfmyu8ztVD11KyBK0q5HZs+e0ojs7ytn1ds0IY1P+r1Als0qFVbTb0WINko74SOTNELnZfp4WELtHbLFq358XUVWPOOXnA23yl04/JK10B1K8Zo/fKV1gQAAAAAAO6clIcpMYc1+YdyenxhF9Uc+6SmxQlUkgtSAl9so3zWlNsRevSE8Xzto9I3yQeuLBirqfvLqfePn6qxT355eOSXT+NP9XWPEgoc94WWWMs5nQpSps6/6SuryVD+7Nc3vjvsIY396SM9VclsSuThrNFxZOJw/R7zmAZP7aSyxrLpspdVp4HtVWL/VH1lbThkymgtNpf5qa+xf3NdT1Vq9Jz8bfQVcuWfPTri5q1SJa0JtkRq5k9/KkODZ9Tk9rMUnS3wgiZ81Fg++T3kkb+SOk0drMcybNI3E13xka3yTigmnRp9NlWdjDL2yJ5d+St10jvPFlLY6mXaay2SvByq/FAhXQgO0hFrCgAAAAAAd0qKw5Sz615Sx/1We5eouXrJClTudJBix64Nf+uCV3XVStAUqGjj+vK68Lc2xOuAo6KeeDrpNkO5GjaXf4IwYt0mY+XqDeOHFEVrqEquC9q5xXz8v6J1m/ckXsamPcEhUqHiKmGN2xL5u+ZuzK7mLzS0JtyeQrUbqKg17JSuiRpWlw7tCXKO2ivvhCqrboLaM27ublJ0tC5b4zeSKWMG46Y8o9PWOAAAAAAAd0qKw5Rs/kPUO5fxsBvLGajkUZkEQUrhUj+lepDiWdDY2pE9+ucmXWTs3X9E8vbTtX5bbyibsifTkiZrtmzWUKxABe0zvpYHOPvuuP55QTNOmc//5uP/Hpk5iJePn3ONeyFyzi9a5/GEWvhbE26TM9y4AXvlnZC70t1G6FTSO17MAwAAAADAHZPyZj5uVTW4+9oEgUq4whMEKZtaPpPqNVJyVKssL23WyqU3TlNKFi8k7Qu63odJqvFRCePZPfOTE5x9dyT8LO9rxgmuZWJrbdx9R/T9z5uUt0lzVbGm3K5zZxN2jnNFV6KtQcOdK++b27vvJn2yAAAAAACQSm6vA9qkAhWnOxekOJVprZZlovTHwMHafoM8pXzNysp8aLkWJXjODlm0XIcyV1C1lFWhMKSTf2UfXVi3VOuS3X86lSvtJa1fcluv7HXWwgk/qqPW+C0L+Um/Bnrp6edTK0qRTm1aq3hFeWWpVm42LkcVV9WXO1feN3fxUpTk7q701jgAAAAAAHfK7YUppkSByh0OUpyKqvNnr6v86W/0fzWe1Qcz1mhPaKhCjc+WxV9r0LSNrsUavqluZYI1puN7WrQnQhcvRmjPovfUcUywynR7U7fTk0jRdj3V6NIMvfLcIGPbrn2Hhm7R4pFj9ZvVC2qZzq+pvtsf6tN2pNZYy+xZM0mzrcPz9CoktyOLNWvdGV0xji0iwVuGTTlK+SjXhWAF2exZNWTOH9rj84xap2KAkTn0G3V8b5H2GAd6MWKLJrXtoz/cGumVF60ede9geZuSL69Ibd52RJnLVlKK+ukFAAAAAMCG2w9TTFag8l7+fCpT5k4HKS7pynfXT/NnqLf/Gf0+oJ2a1q2runUf0Ut9pmhNmLWQiqr7rPka4LtBAc2qqVy5amoWsEG+A+ZrVvfb7GMjx5P6askUtc+11Ni2uW/j07CdPlocpsxZrGVyP6Px80eq+bkZ6vKEa5lm3WbqH2t2jhcHaXCjq5rxUiWVqlBXHy63ZsTl30APZw7U8kVWZ7+3JERz/tgjn8eejt9h7G3K/fyn6nJqiJ6tVU7lqj2v4cdqaeCs0XryWl8zd7C8DcmW15W12vCPm8pXr2pNAAAAAADgzknjMFjDuC9d0YKelfVqRF9t+OFFJdNH7h0WqEH1m2l+09+s/mDuL1cW9FTlVyPUd8MPevHeFBAAAAAA4D8kdWqm4A5KpyZvd1KJdRM17l707HrfC9HE0QuV5bnX1JIgBQAAAABwFxCmPAiKdteQzu6a8uFUhVuT4BI+s7/GHXpMn37or9t4szIAAAAAALeMZj64Bfd3Mx8AAAAAAO4mwhQAAAAAAAAbaOYDAAAAAABgA2EKAAAAAACADYQpAAAAAAAANhCmAAAAAAAA2ECYAgAAAAAAYANhCgAAAAAAgA2EKQAAAAAAADYQpgAAAAAAANhAmAIAAAAAAGADYQoAAAAAAIANhCkAAAAAAAA2EKYAAAAAAADYQJgCAAAAAABgA2EKAAAAAACADYQpAAAAAAAANhCmAAAAAAAA2ECYAgAAAAAAYANhCgAAAAAAgA2EKQAAAAAAADYQpgAAAAAAANhAmAIAAAAAAGADYQoAAAAAAIANhCkAAAAAAAA2EKYAAAAAAADYQJgCAAAAAABgA2EKAAAAAACADYQpAAAAAAAANhCmAAAAAAAA2JDGYbCGnYKDg60hAAAAAACAB1OJEiWsodSXKEwBAAAAAABA8mjmAwAAAAAAYANhCgAAAAAAgA2EKQAAAAAAADYQpgAAAAAAANhAmAIAAAAAAGADYQoAAAAAAIANhCkAAAAAAAA2EKYAAAAAAADYQJgCAAAAAABgA2EKAAAAAACADYQpAAAAAAAANhCmAAAAAAAA2ECYAgAAAAAAYANhCgAAAAAAgA2EKQAAAAAAADYQpgAAAAAAANhAmAIAAAAAAGADYQoAAAAAAIANhCkAAAAAAAA2EKYAAAAAAADYQJgCAAAAAABgA2GKU5T2b9mio1HWKAAAAAAAQDLSOAzWcBKidW7PfE0e/4tW7z+myAtXnFPdMmRT7sLV1Lxrez1dPq/cnVMfXCemd9fLU4PlVqOP5n74iDX1/nRq9ptq81WgYgq00JgpXeRtTQcAAAAAAHfHDWqmnNKqgW31/KujNW/nEV3KVESVatZUTeNTKp8UeWCpJr3dTi/0na1D0dYq97Fzs99U03YTtM8aj8ujWDFld3NTgSJFrCn3qX2TFTApUDHWKAAAAAAAuPuSqZkSrb8GPq+PVpyXW+56emPom2pUMIM1zxK1Xz/3C9Ck7eeVpepbmjSgsXJZs+5Hyz58QoMPPPXg1uaIDtKEV97ULxlqq+aFFVolaqYAAAAAAHAvJF0zZec4jVpxXspSVa+PfidxkGLKUFzPDvxMLTzddH7jGI1ZdR9XT4nepE3/PMj1OaIVNHGgZoXm1ZOvtVA+ayoAAAAAALj7kqiZEq1VA57VgFVXVL7HjxrSLKs1PWnRqwbo2QGrdKnMK/r5i2fkWnqR+jUdpo3J9uuxTxPa9dCsY1X11vwBamxNdTmlwJ9H6csfN+nI2SjFKJ0y5yuiGi0D9NqTxRU/1onS/t9HaOjMtTp44oKcPbq4ZVC2QiVVp0lHvfRsGUXMfEv9vtupU67uXuKp+tZ8DTB3vqifmg7bqAItxmhKlwRHGx2mdT8M16TfdljH46YMuYvp4We6qv3T5ZU3Xocx1nkVeE2/D6qhv78dqvFztumQs68Z8zx81bRHX3Xwt9fPTPRfA/X8R6uUs8UX+qrLEQ14YrDW5qVmCgAAAAAA90ISNVN2aMP2S8a3n2o9cuMgxeReu6H8MxoDgev0521XTjmi397upDcnrVNk7ip6qlMvdWpRR8V1UEtH91T3CUG6voto/fX5S+o5eqkxt7jqtOikXr3a6PHqJZUzfLfmLdqoC8ZSmUo21EvdGquYuUqOSmrdq5exnOvToqw58QZOrdLAtu30wQ9bdSJbSVV39hlTXSXdjOOZ9LY6dJ+soKTO+cg2TezXSe/9FKz0flWd/czUrOQp9/CdmvVBV3246JS14C04tUgfDl2hSyXa6OMufnI3zjuaTlMAAAAAALhnEocp5/brUKTxnc9HZW6epRjKq1QJ8/uYDoU4J6RY6PQBGr/9krzbjNcP4/ury7OP69kuvTVs8mR1KmPMn/WRxu20FtafWrDijGKKvqDx3w5T7y7P6vHH26jXB8M0cdZs/TLyBXkaSxWq/Lgx/SHlMVfJVFy1HzfHXZ/KhcyJyTmnRcOGakW4nMfzv8nD9MEHHzg/w779WcOe8tTVgzP10aitcQIey4ll+uXwIxr283SNGeha54OBxjl98ZQK6Lw2zp6vE9aiN3bKOIbx2hhTUT0/be08HwAAAAAAcG8lDlOOhynC/E7rdotNUbIqa2bz+7TCby0hSMZWzZwTrBiPpurexiv+vt3z6unHKsnNOLJVC7daE29UQ8NdGTLc5gubT/ym2RsvSUWf17sJj0cZVLbbq2qUQ4pY/LOWJUpT3FT1xa4qm6CrGXe/R1WrgDEQvFN/uybd0KnZn2j4Rqlqjz567H7u3RcAAAAAgP+QG7wa+S4L2awdZo2Y7JcVMm+e5iX4LDwS4+yPJTI8zLm4VFMNa2Qx1vtBvbp8rp+3HFWUNSdV/L1TwcZXvor+ydQIqagaFTNKMXu0Y4c16Ro/VamZVJjjreKFrcGbCZ2u9yYFKmONnurbmCQFAAAAAID7ReIwJX9eeZjfV2MSN19J0jmdMzsnUU7lvp3XzAQf1DHz+8AijRw5MvFn+haZWct1WfVIv/H6qEUpuYUu1aR32qvFUx303oQl2p8KqUrIoaPO76w5kw8y8uXOafwdqWv5zjWZlfWWmkglw3wNcv9pCs77lD7r94jVqS8AAAAAALgfJA5TshaXVw7j+8QeBZ5zTbqx7dplVuFwK6ziRV1TbodbjT6aP39+8h/n63cs7nnl32W4Zs76RgM7Pa5SOcK0adYQdWvRUn1nH7rFMOjGoi5etIbunhOzxuiX0Bhlz3REMz79SB99FPfzi/aZC51eqwnO8dFaelvNqwAAAAAAgB1JNPMpp2rlzdfzBGnNspunKdGbVmvrJcmtjL+ut2xxl7ubNZikEwo/bQ3GKlJIeY2vmDOndUsZTlwZCqrSs7007NvZ+u6jFvLNeEZbvxqgH0Kt+SlQtLiXzFM4F5n8m3dOOE8ih3KbB56Kzp4+I7M7mDP7N+ivv/5K8Nkr5xFdOqK/neMbtfesOQEAAAAAANwNSYQp7qr9TEN5GI/z26dP1NYbVe+IDtLkscsUqSyq3eKxOM1RiqiQGTAcO+jsdySRfdsVZL59OS7v8vJzZjh/ys6bg+NzV17/Lur3rPl6oRDtDnRNTZFqVVTGTYrc8KeuvUAoruhNWu1MkXxUrpw1LZV4d5mSdK0c5+ctVTUXKtBCY5zjU9TF27kaAAAAAAC4C5LugLZsN71aL4sUsUDvvfKl1oUlkahE7dfP77yrWaExylK1q7rG63C1qIoXNut17NCSPxIkI9Fh+n3iPFf/KPHUVMvmnnKLCdTU977RzqT6PYk6p3PXDuWUjh5NaqFoHQoNN77j1hjJq9xm06WwW226ZMj6mFrUNstgvr6YEJSgyVCUdk4cq2WRkkejZ/XIbb44CAAAAAAAPDjSOAzWcHzRYVo+5HUNWRGuGKVT5nxF5OedT2blkUsndivwQLiiYtyUvWInDRvwjLwSBArRW0ep/XtzFRaTTvnK1lHtmoV0aedOBe7cpkPZGumRLAu0eHdVvTV/gK73gnJKi/oZ29t4XkqXS97lSimfuUNd0ol9QTp4IruajYmtibFI/ZoO1/bcxVSmQgVVKVdYOrxDmzZv1LYDZ5TWt4PGj2x57U08O0e9oLfmRsgtt5+aPNZEHhEblK7BB3rerFWyqJ+aDtuoAi3GaErcah5mR7CvvKlZoVKGQqX0cI2aKnRpp7Zs3axdR6KUtkhLDR3bQX7Xzn2fJrTroVnHEp7XdYv6NTXOL/n5N2ee9zBtNGumTOkiKqUAAAAAAHB3JV0zxeSeV/XfmaofR/XU42ULKN25g9pi9duxZV+4orJUVLshU/TDoMRBism94qsa+fELquKVUZG7lmrWpGla9Heo3Kp20+ixb+jhgs6UJIFcajzgB417u4WqFIjW4W2x/YTs0FEVVLUW7fXYtU5uy+qxFv4q7HZUO5bO0qSRIzVp1p8KupBX/i98pMlfXA9STGW7jVDfx72V/UyQ5k0bqelLdigkwpqZHHc/dflqij56oaLynd2rFbMmadq89dobVVj1Og3R5HhBCgAAAAAA+C9IvmZKck4tUr9Ow7TxfBZVfWuSBjRO/tXBAAAAAAAA/zbJ10xJTq7G+vCzFvJ0O6+NwwM0ISg1XkAMAAAAAADwYLAfphjc/Tqo91NmZ7GhmvXuh7fx9h0AAAAAAIAHS4rCFPMVxH5dhur1qlmk8xs1PGCCqKACAAAAAAD+C+z3mQIAAAAAAPAflsKaKQAAAAAAAP9NhCkAAAAAAAA2EKYAAAAAAADYQJgCAAAAAABgA2EKAAAAAACADYQpAAAAAAAANhCmAAAAAAAA2ECYAgAAAAAAYANhCgAAAAAAgA2EKQAAAAAAADYQpgAAAAAAANhAmAIAAAAAAGADYQoAAAAAAIANhCkAAAAAAAA2EKYAAAAAAADYQJgCAAAAAABgA2EKAAAAAACADYQpAAAAAAAANjywYUr00b+1bMdxa+zBFjI9QG2HrrLGUmKVhrYN0PQQaxQAAAAAANwxyYYpl/fM0odd2yog2Sf045r1bheN2hhtjRsu79GsD7uqbcB03enn+uN/fq/vft6ok9b4TZ1foAE3Pa7j+vX9rhq8PNIafwBFB2tawGuaHBjnugAAAAAAgFSTRJgSraMLBuuN4buUPrc1KSm752vFyYp6uKq7czT66AINfmO4dt1wpdTj2fJzTf7wCeWxxm8qaJ8OWoPJiVwwUb/ocbWrn8Oa8gByL6FWrUpq7Vffa7c1CQAAAAAApJ40DoM17HJpvcZ8slH+vbvr0sS2muP5sYa2LmrNvG731Nc0Rj00oq2vMXZJ68d8oo3+vdX90kS1neOpj4e2VuK1XMxmLaPUVq3OfKev1h3XZaVXTu9meq1Pc5VwZTNS5HZNHz1JS/ed1uUYd+XwbaTOPVurvJVzmNvoH/q0pgbUNsbMZi5rVblfCf01+g/tO31ZSp9fFV98Q93rF9S5FaM04MetCruUVlkyZ1BaldPLo7uqumtTlhBND/hIoU9PUEBt10FEbp+u0ROX6kB0OunKVWXIYE5Pr8qdv1CHCq59Vv2ytoI+nag1Jx2q1HWyXq8ZosVDxmnW7hM6fzlGbsZx+L/ynl6pGhvQXNaeWUM0au5uRUa7K1PB6mpVNUzfHKhvnYvBee4TtXh3pKLd0it/xRf1Rvf6KmiVTXTEWn096GutO26eZ055N2uivAuXKtvbQ+W6VLs19bWhOvPSWL1qhV0AAAAAACB1JK6ZkrG6enzaXdee/ZO0WYtXS5VrmkGKKaOq9/hU3W+8Ujxhi8Zrlc/bGjN5qqaO761qkXP0+YTNcjVOOa5fhw7XloLtNXiCMX/qOL1adIu+/GSagpNtvRKo77+5oBYDx2ny1Kka36uk9n37jZafl3LWe1VDXygteTRQn9GjNTpRkGIIXactYX6qWsMKH84v1pgv1ypv5zGaOHasJg5tJa/LbqrWywxSXItIBzVryHzl7TRKX0+doJ7VzGl55N28q4aOm2wct+s4AsdO1CrruM+vGqkhCzOoxZCvjflfa2SP3Fr+R7BrppN17kVf1Thj/akTBqvpxR806PvYeiYh+umzCdr3UG+NN+ZPHveBGh5cpLUXrNlOvqpWIb22r99mjQMAAAAAgNSSog5oozeu1tY89dQ0NktJCY/aeqZBXqU3h9P7qE272nLfuFIbzPHAuVoYWlrNX64oD2e2kV4+bdqp9qWVmn+DfKD0461UOrMrDElfvpGq5Tyg3UHO0Zvbf1DH8xZR8diKHCfDFBHjpTLlnUco5SiuItlPa/+e065xp0h51HlDLUpnlrv5x7luFhX3KybrMIzjKCOvmGM6FGqOndeq5duVvd5zqu86MaX3elbNq8Tu1BCyVCtPPax2bXxcZePuoQaNK+rihlUKNMcDl2h1RBk1b3V9fo1Wj8gzxhy5zreEl6IO7JVztwAAAAAAINWkIEw5r+ULtyhP1YeV35qSIgW84jcD8i0hr5gjrtAhIkJnPTzlFSdjkMrIt1iUgoOS60LWQ57xVnCTW9ooXYhXYyN5JyMipbwF5WmNK09eebgd0u7Yjlwj9+vgmUwqWDina9wpr/zKJqiNEx2hrbOGqG/Pnurp/EzTP9YsYy+KOG2eevwGULlzZbeGDEYBhJ1docFt26pt7GfEOkWdjVCEOT+pssnjoYR1gtwzZJDb1Rirpg8AAAAAAEgt9sOU839p/d4SqtfktqKUxKKidEUZlDGDNX6XRV2KsoYsWRqpR5fi2jz4FXXt2V1d+8xW9JO91fFaE5+kRGvzhHc1cm1BdfzCbE5kftqotDX3luVtqo/NJj7xPgGyelS5NRnSK14WBQAAAAAAUoXtMOXkkhXaW7KGamexJqTUkQOK21OI8207GQqqsPl6Hi9P5Y0I1aF41SoCtftABpXwS65b29vjWSifFHY0TrOYk1o1f5sKtBml8aPHavz4EXqveYmbBBShCgq+qDLN28jHah2kkxG6/qLlPPLIKUWcOG6Nu5y/eMkaMuTLq5wR+7XnvDWekIeHsp05qbC4ZXP+vOJswSn6zFlFpXUjUAEAAAAAIJXZDFOOa+Xa46r0aH3dbpai8FWatTRMl83hy3s0bcZGZapRXw+Z40UbqK5noOZM3qoIZ2hwWXumTdGqjHXV1LlACmTOrAxnDmr/9WQjvuJFlD/MmH8tpMipsr55jP12u97cpmMvffpr8A2azrjCkkOB263zCtPSaYt1xM0505BFtWv46djC77TcdWK6fOg3zVkfpy2Sb1M19Nyrn0fM0yHnRqToC0e1c48VwJSprWqZtmjmjD2ufZjNir5fouBr+3DZHXxIGYqVvN5sCQAAAAAApAp7YUrIUq05WV41K6ZCfYcyjVR1xxD16NBWbbt+rm2FX1bfl8tYNSnyq/n77+iRyB/Up4sZZHTTqJBKeuP9NtdfnWxX5f9TS99QfdfLDEVGar01+RrPiiqbM0gb17pCjuNzB+jTrQ+p7zjzrTtmM5uJGvVGFZ363zead9K5SBKyqOEL/6d8O4arc9u26tBjiPbUfl1PxUk0sjTqoTfqRWnW2x2N8+qogG/PqdkzD+l6FuI692bpluvjrq4Q55U3h+jHbbEd3/rqxb4vq/C2z9XV3Ee3QVrp21KNzRo91+zWhr8vq3z1lCZPAAAAAAAgOWkcBmv4rgmZHqD+oU9raoCtXkDuuMgFA/Tmqof02SdVtKL3uzrYfKriH+IqDW07R54fD1XrO9PaKFVEbxyl7t9lV8CItrqdFy4BAAAAAIDEUvA2n3+vHE1eUpOoeZqyPKNKeGXQ3rXLrWZGhugL+mfarwrMWV5V7uMgRdHBmjFjpyq2fZEgBQAAAACAO4CaKcmJ3K7poydp6b5zcksvXY7JoHy+jdSqY3NV9KBbVwAAAAAA/qvuSZgCAAAAAADwoKKZDwAAAAAAgA2EKQAAAAAAADYQpgAAAAAAANhAmAIAAAAAAGADYQoAAAAAAIANhCkAAAAAAAA2EKYAAAAAAADYQJgCAAAAAABgA2EKAAAAAACADYQpAAAAAAAANhCmAAAAAAAA2ECYAgAAAAAAYANhCgAAAAAAgA2EKQAAAAAAADYQpgAAAAAAANhAmAIAAAAAAGADYQoAAAAAAIANhCkAAAAAAAA2EKYAAAAAAADYQJgCAAAAAABgA2EKAAAAAACADYQpAAAAAAAANhCmAAAAAAAA2ECYAgAAAAAAYANhCgAAAAAAgA2pG6bM7ihv746abY3eeZFa8lE7vTUrxBpPJXf9PG5N4LRuajdkra5Y47cqpeshgcBp6tZuiNbGFuQt3iezO3rLu+N9cDfdl/f1FQVP7aBa5XyNY/NWqSZfKtCag3+5wEGq711fg1LhgvM7DgAAAHdb/DBl71A18q6q99ZZ47GuzFZHX2/5Gg+ECf+xundoI3mXf01LrPG7K0zb16zRkjWpHKbcp0LWLNOa1duNs7YnpeshgZA1WrZmtbZTkKknZKy6f7xBPr2XaMeODfpt0ssqY826xvnQ7e0MW1wfX5Wr8qjaj1iuY//Sp+crM9vK2/cV/W6Np8wVHVs+Qu0fraJyxu9vs+x8y1VRneYBmn3QWuRf4o79jovcoakBzVWnQinXvedbTg3af6PtpDYAAAD/efHDlJJ15J/rlFYvS/C/Clcu1/oYKWb9cq20JrlEavX6/XKrXl91rSmp5shYNas/6Cb/l7qkXl+wW1uH3sbel7ym8vdDrYFb8NjYXdo9p7MKWeO3KqXrIYHHxmrX7jnqTEGmns3btCdzA738spcyZfKQj1dua0ZChdRq8kqtXGl+5mpCt5LaN66jmvb83fgt9O+TLp27ccrFVcIaty9cC16rp7pdvtXxh7ppwlxX2c2d8LaeyJ1Ol3NYiz1wjmhss8S1We7Y77jMx3UgvJJ6jPvNde/9+J58ggbqpYAl1IIBAAD4j0vQzMdfNau46dDmDfEeUNYtXa2oRk3UKGq1lsartbJRm/+RKtZtoHTWlNQSuWj5Xanub57bBWsYwN115OgJKXdBFbTGk+embHk95elpfnxUq9NYzQ6ooLOLf9KCf+NTbfasymwNpkTk7N4K+P2C6gxeqHlDO6mWj6vsfGq1Ut9vBur5BzVMiVyk5XfjPwyx0jXUB998pFa1fFz3XqXWGv16TZ1d+muC/7EAAACA/5pEfabUqVVR2rpGf1rjUqCWrT4lvwo9Vatiglor65Zq9QUvVa4W/1/mlzaPMP7xWU6+sdWiu89UcNwHnoMLNaj9o6pi9ZPgXcpfzfsvULhz5hHN6OQv/483SYcmqpmzWr+3kq48EqhB9b1V/9r/pryi4JkBah67b+9SqlCnuT5bmVRcslGfNSinl2ackpYHuI4jQfv9m56H4cqx5RrUyl+lrGVqtRqkP10nkjSz34r6xjJ/DlIrf1fVcd9ytdRq7HZdCf/T2FYtq0p+Kfm3GhuvOnmivjesbW3ePFHtjXNJ7jgTrmeO1x/0p/4c1Er+pcx9+aqc8ZA11thZuHlcsedsXBfncVnrJS7vWLPV0Vj+2i6czTI6ambwTHWPPa5SFfRogHGNrwRrZvdHVSF2vw0CtOBG5RW7rWNzFfBohWvl3KD9RG2+aC1jcV2L2PJzndOgBBcj/E+z2YO1Hau5SKcZe625N7l/kulzJN59YpaZUbY3OiVX84sE1/8G64SMaCrvqu8pYes7rXtPVb2baoSzldtBLRzUXo9WuX7s/s3737hskzmfwEH1nffV9ats73hdrHXi/PzE/9kwfv6M69BgmLGXaz/n9vpzye3nrewKUfAea8KtHOcNf/eYXPd4x9kXtXlE7M9HS00102Xj53OEsa7r3nU1mXm00wzF3j03P2dDnPu5f3Pr94bzZz3BcgULKre337UmTze+bxMK0ZSvlivK/2198UxyNX1iXVTQ9O56NLYZi/lzmvD3nHXMsy9u1ojY33UtpzoDd9fvku06NjdADZxlGqeZ6MUgTe/e4NrvswqPdjd+JyT4BRpPpHZMNX7+6sQ5zwbt9Y31S/DIjE7y9/9Ym3RIE5uZ842P9Usncb9Et3AtYq/1zGOa27+5da29Vco/8e8NAAAAIBFHQqFjHE+WqOJ4d23c8XqOgTvNwScdJZ4c4wi9NssYr/KuI3ZRx6wOjhIlfBw+lVs7Jm4+5oi8fMERvnmio3WFEg7//huthQynFzvGDJzj2Hws0nHZccFxcGGAo56xXutpp60FHI6dA+s5StQb6DB2ewM7HQPrlXDUMw/OtLG/w9841oCFwca+HY4L4Ycdm+dMdMw/4JqdlFkdSjhKdJhljVlu9TwuL3b0MqZVaD3RscPY4eXIHY6JrSs4fBoOSf64zW37+DnK1uni+MHYdnj4MceqTxo6fEpUcFSuXNnReuJmx7HIyCT3l+hYrW35OY/zsCPcWO/YLaxnjvv4lXXU6fKDcQ3CHeHHVjk+aejjKFGhsnEM1jlHhjs2T2ztqFDC33F9UwnK+5pZjg4lSjiu7WLnQON6GsdV/SnHwIW7jXMMd+z+oYOxLR/nOTZ8d6Fjd3ikIzJ4oeNdY78+rac5rl/5BJzbquCoUP1RR39jW8eMbcWeo89zUxwnrcUcp39zdLGuxebDxjmZ1955/BUcvRYbN4NzmWmO1j7lHM+N2+wIv2Bcvshjjt2rJzp+/Muaf7P7x3lfdDDO1mLdJ37Oa2mUv3meCwc6njKOo94n24x7O3ax+OV/eXEv53G1nrjD2M9lR+QO83x8HA2HJHPXHBjuaBL3Z9Ky9t0qjhJNhjtch3fasXjMQMcc5/1qHPvBhY4A41rFK9skjz/OuCXhz57t4zWc/q2Ltc5mx2GjXMIPb3b+bJSo0MsRezlMt/Rz7rwHXL+D4jowvIlx/3dx/GaN39Jx3vR3j+seb/rkk47KT/U3yvOw47BxP10wSnFaax9HuefGOTa7bh7Hsd2rHRN//Ovadb6lc4792Sjb0PGueT+bP+u7b/JzcLP7NqHTUxzPGT+PL/+YzPw4dg4xfvf4WMdi/mzFHovxe/7ar03nMTd1PPlkZcdT/Y2yO2yUiXkgBvPermKU1cM1uzgmrt5tlJXr/jOujmPMk8Z2Gr7rWHjQWPbCQcfCd419VTCu17WiTnxdd3430Lkd13nucIx7rpyjhH9/x/VfQUnfCwl/xm7t/nNdaz/jd6Hzd5JxT0SG73Ydp09rR5z/HF13eZtjoFE+FXotvnbdAQAA8N+UOExxrHW8W6WE48kxrsjk9JTnrgcmzn/IPulwzbrs+PFl42GtS+yjjMH5cFbO0WN+/H9mbvuktqNEwyGOPdZ4YqcdU54z/lEe52kxRWGKuf9yPRwJdn9DCf8R7nSL5+EMkxLuz/ngW854gLfGE3JuO+GD8WJHr3IlHOV6zI/3D3Tn/uKUQaJjvcXjTLieczxuCGYyHkTLJdrWNscnteOUb8LyviapMKWE47kpcZ9GQo2HK2O/1x7+XS7/+HKSD/TXWNtqMjx+InZ5fg/jeK8/VDkfrKsEOFbGK4rLjvk9jIex2ADQua0mjgSbuu5m94+zvBOGEYnL/+TEZ4yHfGM5a3L88neVQ8Jr7Tz+csaDnjUen7VOvJvKdc/E/pwmJd7PrinJ479ZmJKS4z3gGN7E+HkOWBlvHeOiOXokOOZbD1NqO95dbgYb5mezY9GILo6aPj6OhgNjQ6uUHKcp4e8e1z1ewt8ot3gH75qe8D687hbPObn72fw5iBMMxXOz+zYhq7w+2WaNJ8c6tmcmXoskXRL+DrOO2d8oo3jnZnDe2z7POaYk2ITr90mCY06yLBIHI/GsfddRpYSx/RsEMKb4P2O3ev9Z1zrB7yTjYjheLuHjiPufNqfL2xxDHvVzBkQrE54vAAAA/nOSeDWyvxo8nFmByxcpUle0dOVWZX64gTHVUOYRPZwrUMsXmRW8V2r1ZqlirTrmnDgqq26D+D2ouLm7SdHRumyNJ5ZD2bNJp44dscZTqMEzauT2h15r2F6DftmpMzeqUX5TNz+PdZsCpeoN1STuYkVrqEquC9q5Jbkq+KayqlDZGnQqqIK5pdyFveL1PePc302lpLwNZSsYa8ZhNisw/hT2incEuqVDSFIhPVQ5bvOvQiqYz/jyLKKirglOzo42b6qQajeIu5axXpOGqq5D2hNkjl3Rus17pAq1VCdeUaRTk4bVpcBNriYyZZrryeLBGtPicQVMWqNDCZoJpez+SVz+/9/evcD3VD9+HH/PNvfrluss92uUO8ktlyiXUpGSFCGSbn7Rr3tRlH5JUrkU/xTdKHLLJYRcQlLTzH3m2uYyDNvsfz7f7/myzczO9t2MXk+Pr+85n3PO55zvOWer79vn8zmBjRsoOH67Qs93P0lsjdy3Tdsk17pMo7oqcuovpXzblFL3e+vq1JJZF56atXiWlpyqq3u7X3rIzULuHypl7KcqHccbu0buy9E06VhK/m3lvhwXdVhKg32a3quZmjUzr/v17Df71fi12Zo9tKa9j/ScVyPl3z1FWnVSwyQHX12dOpTTjg/v1h2DJ2pV8pvH0WdO4X42PwfxcdadnILL3bfp9fc6bToVrAaNrV8+iZVpoxbBp7RpnXVCzyuiVp0aJv1sHrXa665kVYSs26RTwS3UJskPeyPVryaFbrL+w5FWBQoovw5pf4Q9nxYO779STVom+Z1kXQz5KV5xSS5GpGY+1kPj4x/U9NnD1TTZ5wUAAMC/TwphilSvjvV/vFs26Dct19K11heUFp6n5biDlt+XL1Hs5l+14VR1tWiTfCRDP/P/oqmKPbBOE83jJutfeGTn4KX2wowo1EGf/DpXI++Qfnqhs2rXNONXpPfxqZf7HCEK3W69nR9vxfN6QGYYlri41KKMy5+jtEtnXX7+KX8x8pqMBDHJXa6uMO3YLQVXqmLPX0p1DZ63XF/0r66tE3qpxU1mfJlpCvV8OU3X/ePw/IeEyn3bJL5nrNcD03VEcbrUbVPorjvV8MwSzXSNthqrBTOX6EzDO3WX58cv9oDWTTTjTdS/MB6IN36o0nO8YTu0W8G67OVwJFh9Zm/X9u3m9bc2/TJLo+6vojz20rQeZ1p/9+S3vsQnV33wPC3/or+qb52gXi1uUo2WAzTNc/M4+sxOfzYuc98mF1RSxbRPYVsu84tv205rrQqqctGzqFOS3+QaKStQUMn/KxAaFp5kzCv3q47MUFjxSVOKRGIU+sMIPXJbfdX3jOHScYKsmpxxeP+lKbTe9pk+/KWyXvjqRdU5f9MBAADg3yzFMKVQmxaqfmqDfv3a/MtlrST/8t6sRQNp7VL9uOEP7Styo+o6fRZl7GINbtdNY/d10pgFK/TnVvcXpFEt7OUZlaeK7hz6mZb8uUlzRzbVkcm9ddcw6//gva6SypeR8nYYb3/BS/paOjRN31CuDceOK9qezBwnFJ18B7Gx1ldkD/e1CHc3U0mdfwnVf3SUZq3ZrJVf9FXpNa+oY+8vLjy9yvH9E63jiR99dTmVyquM8qrD+Ivvme3bl+qSt02hDmpf74yWzV5iffQlmr3sjJp26Wp/iY3V4sHt1G3sPnUas0Ar/tzqri+dP1TR0SfsKUt6jte1jafVUBZJy3Fm+HePv0rUf1SjZq3R5pVfqG/pNXqlY299Ya5/Zn/my923iRWqrzrB0gYTettFKapYTqW0XaGJG6B4ScVy1n8Yqj+rXy66FtZrUmd7raR2j+uqjv9ZpFL/+VqLf/vbve7sPrI+ijOZcS0ij+hoqTqqT4sUAAAA2FIMU1SqqRqW2qctP2xWePUWStz4xL9lM9U69ZemzNxyofuPE8tnaUl0sLq9+KhqB3j+ic9u5eFVeVTlzlEa9WApHd67xy7zJn81rFNJp9Ys0ZrL/APwtSY+Lt6ecotdvU5b7OnMcUTrV7seWXNe7JLl2qDqquu6Af3VpKH1bXnt4mSPyY3VgsVrrS91dVO4T80X40GaNORmxe8L18W9CNJ6/2zRutVJb4DdC5cqPO9Nqp9S0ODfUHUqndKaJWtS/6J7kULq2vM2adlcLV8+V8t0m7p28IScyzVrSbSCu72oR2sHnG+tEZKmH6o4k0slslur1x+xpy3pOV7/JnJfjgVJt4ldIPflcPxb4/LScpxe/N3jX6K+Bk0aopvj9ync3DxZ9pkvd98a1XV/1+o6M+8tjUz8OLDkat6sOnnDtXRh0p8t6wbW0vC8uinFGzhtqta/SXlDl2phmh+Ks09z5oUovunjGt6mnArat3ZsaJjzbmqZcS0aDtdvS4daZxYAAABwSzlMUU3dXCevVq9ereBbWihJ45NCbdSi+h6FhJxStTr17EIHqlVRWet/j1fO36ioGCkmaqOm9RusmdFJm1oHBZeS775FmrHmuGJjolzrXtZvUzVi+iqFuVaOUVTYTH3y4z4VLX29e3kKri9dVFr/o6aFxyj2eJSjcVbKPDxQrU9PV78uI7QwLEIREea1UYvGjNPsDA7/kj1VV+N6BbTv27c0cWOUYmKP6+DGier53590xl4jc+RVxGe99cLCMOs+sK6r2eeQefJt3U+eIUNK9XlKHXznaUjPidp48Lhijh/Uxok9NWSerzo81cd9D++brXFjFrmWx1p/jh9cqTGfb5BvqWAFmeXpuH+U11e/Dh+oafb52LnwBfX+cIfK9eynVvYqSZXRwwNb6/T0fuoyYqHCXPeM9dq4SGPGzU71i6N/y45qrpV6440lUvOOutBgrJqqlLU+3sr52uj+odLGaf00eGa0Uu3A0LCRavr+qvGvLtRO68aPiQrTwhd666MdibdKz/GWUp+nOsh33hD1nLhRB4/HWOd6oyb2HKJ5vh30VB+nzdnSIg3HmcbfPSnbp9njxmjRxoOu3xGx1v21cszn2uBbSsGumycTP/Pl7tsUlOnzpp6qeVSf3dNI974yXas8v5+s8zFpxFT95lqrlZ7pX107Pkz0sxW2UC/0/lA7qvfXMynfwGni33aAel7/u4Z37Gf9bNj7jgjTqukjNNW982RKqUr5vNJfS/TDTutzun6WRuj+D363fvoTCQpWKd99WjRjjXUdrONN8T8M3r8WIaNaq3Llthqd2lBYAAAA+Fe5RJgiNbvFDE9aRLfcmvzf4kqpxS2lFB+f0ngpaVCqj95/q7VOfnqf6teooJuaPatfWo3V172TdnAv1H2ERrY+p+k9aqvqTc30apqGfzisVR/2V8f6NVShQg016vyO9tw2Rt+/WNdefrG6z7yv/lX/1Gstaqhqg4f0ebJ/pE2VGWNj8WQ9UmSJBne0B8ds9bBeW3RYefPZ61xjmr31uZ6tukuj76uvGlXrqdWzK3XrhOnq5bgtvhOBum94Xx155141rlFD9e8brQON39KMsR0ujNXg30rvW9ei27lP1aNpbdWo3VQ9Pj2nbpMX6/1WF7qp/f3jENfyqhWqqnbzAVpw3SBNn9Tdrsf5/aNqT+ub4eX0w2ONrfNRW22f/lnX9ZqkrwZf+t+wC3X4RIsnP6IiSwaro2tA1WZq9fBrWnQ4r1K9bfzbqnPLMwoPz6VOPRIPtGp9eXz/LbU++anuM8du/bw8+0srjf26t1IdNsL6WZz0QSfl+PEJta5dVTUaP6gPfJ/W0mFJB5VOz/H6t3rf2qabzn3aQ01r11Dtpj306blumrz4fSW6HF512eNM4++eS/r7Rw3p0VS1q1ZQ1drNNWDBdRo0fZK62zdhZn7m1O/bFPjX1IBv5mv6cw11/Mdherid+3zc2mOIJq86bK8klRkwQ/OHVda6wR2tc2L9bHUcrHWVh2n+jAFKOkSuU2acl/ka1ni/Puhxq/t3462d9cSnoSYbTVGrl8epT9m1GtLa+pxVG6jbJOnJb95W88TrF+quESNb69z0HtZ1uEnNLvEfBm9fi3x5TUumPNa7ex4AAADwMY/0saeB7CdkhFp0nK92s1MZTwQAAAAAgCx0yZYpAAAAAAAAuBhhCgAAAAAAgAOEKQAAAAAAAA4wZgoAAAAAAIADtEwBAAAAAABwgDAFAAAAAADAAcIUAAAAAAAABwhTAAAAAAAAHCBMAQAAAAAAcIAwBQAAAAAAwAHCFAAAAAAAAAcIUwAAAAAAABwgTAEAAAAAAHCAMAUAAAAAAMABwhQAAAAAAAAHCFMAAAAAAAAcIEwBAAAAAABwgDAFAAAAAADAAcIUAAAAAAAABwhTAAAAAAAAHCBMAQAAAAAAcIAwBQAAAAAAwAHCFAAAAAAAAAcIUwAAAAAAABwgTAEAAAAAAHDAJ8FiT5937NgxnThxwp4DAAAAAAC4OuTPn1+FChWy5zLHRS1TPEGKj4+PXQIAAAAAAJD9mSzDZBom28hMF7VMiYiIcO28WLFi8vPzs0sBAAAAAACyt7i4OB06dEgm6ggKCrJLvS/FMVPMTglSAAAAAADA1cRkGSmMZuJ1DEALAAAAAADgAGEKAAAAAACAA4QpAAAAAAAADhCmAAAAAAAAOECYAgAAAAAA4ABhCgAAAAAAgAM+CcmeGRQREeF699bzmGNiTis0dId27dqrw4cjdfJkjKs8X748Klo0UGXLllaVKuWVJ09uVzkAAAAAAEB6eTvXSEmmhimrVq3X2rWb7LnUNWhwkxo3rmvPAQAAAAAAOHfVhimRkUe1YMEyHToU6ZqvUOF6VaxYVqVLl1CBAvldZdHRJ7R37wFt27ZL27fvcZUVKxaotm2bKzCwsGseAAAAAADAiasyTDFByowZ81zdeYoXv07NmjWw6iphL01ZRMQBLV++VgcP/uPq/nP33bcTqAAAAAAAAMeyIkzx+gC0pkWKCVJMa5T77+902SDFMOuYdc02ZltTBwAAAAAAQHbk1TDFjJFiuvaYFikdO7a2S9PObGO2NXWYugAAAAAAALIbr4Up5qk9nsFmTdee9PJsa+oydQIAAAAAAGQnXgtTzOOPDdNVJy1dey7FbGvqMDx1psvpbfru6XaqV6ejRofaZQAAAAAAABnktTBl1669rnfz1J6M8tThqdOpqF9Hq+ft3TU2PI8K2mUAAAAAAADe4LUw5fBh92OQzeOPM8pTh6dOZ8I188OFChj4heYNb658dikAAAAAAIA3eC1MMU/hMQoUyO96zwhPHZ46nQlW76lz9N49FZXbLgEAAAAAAPAWr4UpAAAAAAAA/wZeC1Py5cvjeo+OPuF6zwhPHZ46AQAAAAAAsguvhSlFiwa63vfuPeB6zwhPHZ46AQAAAAAAsguvhSlly5Z2vW/btsv1nhGeOjx1AgAAAAAAZBdeC1OqVCnvet++fY8iItLfOsVsa+owPHUCAAAAAABkF14LU/Lkya0GDW5yTS9fvtb1nh6ebU1dpk4AAAAAAIDsxGthitG4cV0VKxaogwf/0ezZi+zStDPbmG1NHaYuAAAAAACA7MarYYrRtm1z11N4TFedadNmpanLj1nHrGu2MduaOgAAAAAAALIjnwSLPe0SERHheg8KCnK9p0dk5FEtWLBMhw5FuuYrVLheFSuWVenSJVSgQH5XmXn8sXlqjxls1jNGimmRYoKUwMDCrnkAAAAAAAAnvJFrXE6mhCkeq1at19q1m+y51JkxUujaAwAAAAAAMuKqD1OMmJjTCg3doV279urw4UidPBnjKjfdeYoWDXQ9/tg8tYfBZgEAAAAAQEZdE2EKAAAAAABAVsmKXMPrA9ACAAAAAABcywhTAAAAAAAAHCBMAQAAAAAAcIAwBQAAAAAAwAHCFAAAAAAAAAcIUwAAAAAAABwgTAEAAAAAAHCAMAUAAAAAAMABwhQAAAAAAAAHCFMAAAAAAAAcSDFM8fHxUVxcnD0HAAAAAACQ/Zksw2Qamc0nwWJPuxw7dkwnTpxw7TzZIgAAAAAAgGzLk2Xkz59fhQoVsku976IwxfAEKgAAAAAAAFeTzA5SjBTDFAAAAAAAAKSMAWgBAAAAAAAcIEwBAAAAAABwgDAFAAAAAADAAcIUAAAAAAAABwhTAAAAAAAAHCBMAQAAAAAAcIAwBQAAAAAAwAHCFAAAAAAAAAcIUwAAAAAAABzwSbDY0+cdO3ZMJ06csOcAAAAAAACuDvnz51ehQoXsucxxUcsUT5Di4+NjlwAAAAAAAGR/JsswmYbJNjLTRS1TIiIiXDsvVqyY/Pz87FIAAAAAAIDsLS4uTocOHZKJOoKCguxS70txzBSzU4IUAAAAAABwNTFZRgqjmXgdA9ACAAAAAAA4QJgCAAAAAADgAGEKAAAAAACAA4QpAAAAAAAADhCmAAAAAAAAOECYAgAAAAAA4IBPQrJnBkVERLjevfU85piY0woN3aFdu/bq8OFInTwZ4yrPly+PihYNVNmypVWlSnnlyZPbVQ4AAAAAAJBe3s41UpKpYcqqVeu1du0mey51DRrcpMaN69pzAAAAAAAAzl21YUpk5FEtWLBMhw5FuuYrVLheFSuWVenSJVSgQH5XWXT0Ce3de0Dbtu3S9u17XGXFigWqbdvmCgws7JoHAAAAAABw4qoMU0yQMmPGPFd3nuLFr1OzZg2sukrYS1MWEXFAy5ev1cGD/7i6/9x99+0EKgAAAAAAwLGsCFO8PgCtaZFighTTGuX++ztdNkgxzDpmXbON2dbUAQAAAAAAkB15NUwxY6SYrj2mRUrHjq3t0rQz25htTR2mLgAAAAAAgOzGa2GKeWqPZ7BZ07UnvTzbmrpMnQAAAAAAANmJ18IU8/hjw3TVSUvXnksx25o6DE+d3nNa2757Wu3q1VHH0aF2WWJR+nV0b7VtXE916tRRwza9NfrXKHuZR6x2fT9Ydzdt6FqnXuM7Nfj7XVYpAAAAAAD4N/BamLJr117Xu3lqT0Z56vDU6RVRv2p0z9vVfWy48hS0y5IJn/S4npgapabDv9KcOXM08aEcmvFEb40OuRCVxC5/WQ+9vlaBfSe61vlqeH1tH/aQnv0xeegCAAAAAACuRV4LUw4fdj8G2Tz+OKM8dXjq9IbwmR9qYcBAfTFvuJrnswuT+E1TvghVuT5j9OKtFVSyZEnV7DFOr7Y8pKnvfa/jrnWO69vJCxTf+lWN61HTtU6FW1/UmD7FteL98frdtQ4AAAAAALiWeS1MMU/hMQoUyO96zwhPHZ46vSG491TNee8eVcxtFyS3Y7XWHy2j5m2C7QLDX00b36RzIRvsoORXrf0jhxq0amktuSC4aUOViNyk9QfsAgAAAAAAcM3yWphy1QvbrnAFq2x5e97mX62ygmJ2KcwEJTvCtOtcSZVJ3pOpelVV1B5t22rPAwAAAACAa5bXwpR8+fK43qOjT7jeM8JTh6fOLBEbr3P25MVOKPqY9RYbpzh3QQpidNLdFwgAAAAAAFzDvBamFC0a6HrfuzfjfV08dXjqTLtYRR/ar/37Pa8j4uHKAAAAAADAm7wWppQtW9r1vm3bLtd7Rnjq8NSZdjs0qXd7tW/veb2iRfaSy/L3TeVk+MnPDJLib727C1KQQ76JB1IBAAAAAADXJK+FKVWquAcb2b59jyIi0t86xWxr6jA8daZdFT01e4M2bPC8xqiDveSyKlVQsMK1a4c9b4vdslUROcqqkjmU8pVUNsd+7U6eF4X8rW3W1hUq2fMAAAAAAOCa5bUwJU+e3GrQ4CbX9PLla13v6eHZ1tRl6swy5ZuoYeBuLVsYbhcYsfpl1SblqN1YN7vmb1bj2tLaxUusJReE/7JGBwIbqonT7AcAAAAAAFx1vBamGI0b11WxYoE6ePAfzZ6d5g4255ltzLamDlNX1qqlvo830r4JgzTs5+2uMVc2fz5Ary7Kq7v63aWCrnUK6q6nuylg0asa8Plm1zrbfx6mQRN2qlavvlYNAAAAAADgWufVMMVo27a56yk8pqvOtGmz0tTlx6xj1jXbmG1NHVdCwF3va8IzQVr3wn2uMVceHR+p5iOmaki9C4Oh+FcfrCmjbtfJ/3vUtc59L/yigD6TNO7+AHsNAAAAAABwLfNJsNjTLhEREa73oKAg13t6REYe1YIFy3ToUKRrvkKF61WxYlmVLl1CBQrkd5WZxx+bp/aYwWY9Y6SYFikmSAkMLOyaBwAAAAAAcMIbucblZEqY4rFq1XqtXbvJnkudGSMl67v2AAAAAACAa8lVH6YYMTGnFRq6Q7t27dXhw5E6eTLGVW668xQtGuh6/LF5ak+WDjYLAAAAAACuSddEmAIAAAAAAJBVsiLX8PoAtAAAAAAAANcywhQAAAAAAAAHCFMAAAAAAAAcIEwBAAAAAABwgDAFAAAAAADAAcIUAAAAAAAABwhTAAAAAAAAHCBMAQAAAAAAcIAwBQAAAAAAwAHCFAAAAAAAAAdSDFN8fHwUFxdnzwEAAAAAAGR/JsswmUZm80mw2NMux44d04kTJ1w7T7YIAAAAAAAg2/JkGfnz51ehQoXsUu+7KEwxPIEKAAAAAADA1SSzgxQjxTAFAAAAAAAAKWMAWgAAAAAAAAcIUwAAAAAAABwgTAEAAAAAAHCAMAUAAAAAAMABwhQAAAAAAAAHCFMAAAAAAAAcIEwBAAAAAABwgDAFAAAAAADAAcIUAAAAAAAAB3wSLPa0S4L1Z+C8gfr4t491LuGcXQoAAAAAAJC95fDJocfqPaaxt4+Vj/Uns1zUMsUEKePWjZO/r79dAgAAAAAAkP2ZLMNkGibbyEwXtUzxfcPXtfPNj21WpYBKdikAAAAAAED2FhYVppof11RsfKziX4q3S73vopYppmvPmbgzBCkAAAAAAOCqYrIMk2lk9rAlDEALAAAAAADgAGEKAAAAAACAA4QpAAAAAAAADhCmAAAAAAAAOECYAgAAAAAA4ABhCgAAAAAAgAM+CRZ72sXndR/Xe8LLSYrTLfLEOc1cf1Lz/4zR+p1ntfdInKu8dBE/1S2XU+1q5FHnuvkUmJ9cBwAAAAAAZIy3c42UZGqYMnLucet1VNGnE3TuXIJMjZ69+Vi7MXvKkcNHBXL7aMgdha1XQfdCAAAAAACAdLhqw5TQA3Ea+Pk/WrntjGLOJujO2nl1b/28alo5t8oE+rnW2R0Zp1+2nta3607ph42nlCenj26pmEtje1ynKiXc6wAAAAAAADhxVYYpJkjp8uEh/b0/VjcF59S73YqoWZXc9tKULQ89rWenH9Gm8LOqWtJf3zxejEAFAAAAAAA4lhVhitcHKjEtUkyQcseNebTulZKuIGXn4TgN+SZK1f+7Vz6P7HK9zLQpM8vMOmZds43Z1tQBAAAAAACQHXk1TDFjpJiuPaZFyveDirnKJiyLVvnn9upta9mW/bGuMsNMmzKzzKxjmG3MtqYOUxcAAAAAAEB247UwxTy1xww2a8ZIMV17DBOS9J0c6Zp2cze1cbswbdbxBCpmW1OHqcvUCQAAAAAAkJ14LUwxjz82T+0xg816uvYkDVJSZ9b1dPkxdZi6TJ3edVrbvnta7erVUcfRoXYZAAAAAABA2nktTJn/Z4zr8cfmqT3Gx0udd9PxbGPqMHWZOr0m6leN7nm7uo8NVx6ewAwAAAAAANLJa2HK+p1nZcbJNY8/NmZvPGX97WTk3AR7G3cdZktTp7eEz/xQCwMG6ot5w9U8n10IAAAAAADgkNfClL1H4mQeslwm0P1I4y3746y/E4+Rcjk+9jbuOkxdpk5vCe49VXPeu0cVU39KMwAAAAAAQKq8FqYAAAAAAAD8G3gtTCldxE8+PtLuSHdrkmolTQsVZ9183Nu46zB1mToBAAAAAACyE6+FKXXL5XR16vll62nXfMfaZiBaZ9183Nu46zBbmjqdiVX0of3av9/zOiL30QAAAAAAAHiH18KUdjXyKEcOH327zj2I7GMtnD8yx7ONqcPUZep0Zocm9W6v9u09r1e0yF4CAAAAAADgDV4LUzrXzacCuX30w8ZTWh56WuWK+mn8w4H20ssz65ptzLamDlOXqdOZKnpq9gZt2OB5jVEHewkAAAAAAIA3eC1MCcyfQ0PuKKw8OX307PQjrrI+zQskC1QSj6FyYdqsY9Y1zLamDlOXqRMAAAAAACA78WpaMeSOgrqlYi5tCj+ru8YccpWZkGTH26X1nLWsWkl/V5lhpk2ZWeYJUsw2ZltTh6kLAAAAAAAgu/F604+xPa5T1ZL+mvtHjOq/tv98l5+RXQIU8mZpJXxW1vUy06bM07XHrGu2MduaOgAAAAAAALIjnwSLPe3i87r7CTwJLzt5rHFSoQfiNPDzf7Ry2xnFnE3QnbXz6t76edW0cm6VCbzw+GPz1B4z2KwZI8V07TEtUkyQUqUEj0QGAAAAAADOeSPXuJxMCVM8Rs49br2OKvp0gs6dS3CNkuLZm4+1G7Mn89QeM9isGSOFrj0AAAAAACAjrvowxYg8cU4z15/U/D9jtH7nWe09EucqL13ET3XL5XQ9/tg8tYfBZgEAAAAAQEZdE2EKAAAAAABAVsmKXIPmIAAAAAAAAA4QpgAAAAAAADhAmAIAAAAAAOAAYQoAAAAAAIADhCkAAAAAAAAOEKYAAAAAAAA4QJgCAAAAAADgAGEKAAAAAACAA4QpAAAAAAAADhCmAAAAAAAAOHBRmJLDJ4dy+eVSWFSYXQIAAAAAAJD9mSzDZBom28hMPgkWe9rl8XmPa9y6ca6dn4k7Y5cCAAAAAABkb54sY0D9Afrw9g/tUu+7KExJsP4MnDdQH//2sc4lnLNLAQAAAAAAsjfTIuWxeo9p7O1j5WP9ySwXhSkAAAAAAAC4NAagBQAAAAAAcIAwBQAAAAAAwAHCFAAAAAAAAAcIUwAAAAAAABwgTAEAAAAAAHCAMAUAAAAAAMABwhQAAAAAAAAHCFMAAAAAAAAcIEwBAAAAAABwgDAFAAAAAADAAcIUAAAAAAAABwhTAAAAAAAAHCBMAQAAAAAAcIAwBQAAAAAAwAHCFAAAAAAAAAeufJgSPVOPf3KDWiz5TWftIgAAAAAAgOzKJ8FiT2e96JnqPrGLvoyOt2YKqUGTRfqlZT3ldC8FAAAAAADIdq5cy5QkQYpxTGtXPKjX99uzAAAAAAAA2dCVCVOiF6rf5MRBiptvkTt1VzF7BgAAAAAAIBvKhDDlkGZ+W1mB/2uvsQdTGAXFFaTcrvFHkgcpT+uXfiNVz9cuAAAAAAAAyIa8PGbKIc38uq66/L1XrqgkVwt98PACDSxuj4KSapDyP93MYCkAAAAAACCb827LlL3varAnSDHOLNUTk9u6W6gQpAAAAAAAgGuA11umTP28snrsPGbP23I1UOO867WKIAUAAAAAAFzlvP9o5Pi9+vTLGuqdPFBJhiAFAAAAAABcjbw/AK1vafV64E9NKlfILrgYQQoAAAAAALhaZc6jkVMJVAhSAAAAAADA1SxzwhQjhUCFIAUAAAAAAFztvD9mSnJmDJWvm+r5490159FhqudrlwMAAAAAAFyFMj9MAQAAAAAAuIZkXjcfAAAAAACAaxBhCgAAAAAAgAOEKQAAAAAAAA4QpgAAAAAAADhAmAIAAAAAAOAAYQoAAAAAAIADhCkAAAAAADiwdetWewr/VoQpAAAAAAAADhCmAAAAAAAAOECYAgAAAAAA4ABhCgAAAAAAgAOEKQAAAAAAAA4QpgAAAAAAADhAmAIAAAAAQLaxUx2emyOfiTvteWRHhCkAAAAAgCsoRgtnrVDpF+bKx4QIQ+er9Oi1+mivvfgadPbgdnV5Z4Fymc9rvXK9/LOa/7hXR+zlyP4IUwAAAAAAV8z2hWt1+4rj8rm+tP7Xuar+1zhAJU6c0dFc9grXmvi9euTDv/VtdC7d36qqJnQup0eLW+fh+Dnls1cxfH35up6d+SRY7GkAAAAAALLU1Ilz1GNroD5/u5EetMuSOLJbT365Q5MjTul4nOTrn0edO9bRF40KS5vWKuCLf1S/Uyv93MSTvhxQv9fWa3z+str27A2qEL1PQ/4vRGPDz+jUuRwqUaqExvWurc4F7NXTYevWrapcubI959DeP1RhTLjUpJG2dwq0CxMz3XxCtKVxVT0asVPDzHHLV5WqVdLsByuoiq97rUN//6Gu3+7TiuPxivfzU/UqFTXDtfyMxn64SE/8U1I/v1JHLczKf65T/v87pJNlKinq8coqYhXtWbhMZRZKbw5trucDzEqJpHLOc1qLN81aolp/BWpu2zgN/v6QQk6fU878hfRU17oaWTWPq4okx6ccKlg4n56+r6Gum+/82JJ+1pyqW6eK5t57vYqZ7deuls+30ucvldKicSGaGind91A7fVHDLMw8RF0AAAAAgCumfBHz9fyYJv0cpVPuoqQK5lKBnAU1+P4G2vV0Hb0SFKtvZ2zQS3ulnDVKqH3OBP3yR/iFLjJh+zTzpFTzhmBVUKRe/Oh3vXu0gN57rJl2DaikRif36+6xf2iTvXqWC8ir661v4rv/3q15R8/ZhRfbvXqrphQO1rTuN+r1Kn7a8VeoHlp2wr1w759qNjlcv+Yuqnc6V9WE5oV1fMvfavjZTh1SLnWqnF86eVTz7K5SS0OO6mROX+ULj9KceFNyRrO2WnXlK6CbkwcpRirn/LwjEeo466RubVlZE+4oqRvOHtPbX4ZogWvhPj33ZbiW+Qbo/wY005+PVtPgsgVVrWQ6js31Wfdqe1BFrRzaTKvbF9TB3zbr5lmRZmXbMT317l/60a+Q7qxeQh1L2cWZiDAFAAAAAHDFNL6tinoWOael835VkdeX6+GVkTrq+lJt8y2hYX3q6qWaRVWmZEm91KGEyihGf+0zy65Xjyq+it9zUF/ZScyqPyJ1WIXUt1lB6c8dGv2Pj1o3q6q21qwKFtc7jayJI//oyys1Jkve8nqnVUEVjtqvO0b8pMoT/tIPkXH2wgvii16vOd2rqFPNYL30UDm1UoLW73YHCD/+vFeh5wrqrX519fTNFfRo24b6qn5OHdu6S2P2S9dXK6Ly1jn6dccZa+1Izdt+VrUblFKdc0c1b4up4YAWh0v5yhdztw5JLrVzfl4O3dO5ica2sPbfoo7G18stnT6uX6z9S7E6dta851S5UgV0Q+WyeumBWrovr/Njc33WHEX0fPviKmHNl6hWVU8ESzv+ikgUiMUprkJN7Xv2Zn33cC11Sykg8jLCFAAAAADAlVPgek1+vo02dw1WK/+TmvLDal03Yr1+9DRTid6n1yf8rOIvz3MPUDt2r3bbi4wOjYqp6Llj+mqD+XJ+SF+GnJVv2RLqbn1xD9l9Qid1Tgtmr1DZEctdr0oLjrk3vGJyqF6bpto3tJ7evTG3orbv0l0jF6vhksQtLSyF8qqCPSnfHPK33uLjTUuWI1q9P14qXFDNEnVVahxsZk7p93DrrXSAGuWUVm0/IEUd0sIjOVW/WrCaXRevldv+kcIitfKcj1pUuUQTjsucc7ecKht4IVLwz+Fj/Z2gWFcQFqwXWhVQoSMRavzy/KSBkaNjsz9rXJQeH+W+fmVHrNCQiw9GTaqUdnVByiqEKQAAAACAK8xPNerdqLnPt1X4nUWU+9gBDf7ZdNyJ1JCxG/XK7hzq3qWxjrzVXgmDglXevZFbpdLqWsDu6rMjQjOifdT0xmDX2BtuufX0QGu7txO/WmpkaXvxFZKzcHE980AL/fN6fQ0sEqe1P23TV/ayjCul28v6KH5PpL7/M1IbcxRQ0/JF1LpsTu3eeVgrd0XrsAqqXY2UIoE0nPPLMoFRMx36b6LA6J0levhPEwal49gKl9a6JNfPej1/o26yF18JhCkAAAAAgGwih0rXvk51rKlYVyuM4/rLZCplr9f/ahZSYV/p7N4T2mFWPa+YHqie0/py/o9G/HFE+3MEqPfN7sFoq5fJr3w6rUUhx13z2VLOYrqnQk7pXIJi7aLUFVGjktaJOHpcy6PtIsuqcDOTRze4GpvkUPvKBaWTpzR9V4wUHKD21iYtKhaU7/5jGrX3pHRdYbXMa9ZNLi3nPG08gdG+oeXV6FysftlhKnZybJ7PekRzD5v57IMwBQAAAABwhURqyKiFqjd+o974dbsm/hqih8ft1C/yU6Pypm2JvwqZvht79ul/u6K15reNajr/qKyv10k0blhc5c9F67NNMcpXrZS6elaoUV5PXeejzUvXqvOCcK2JOqxZZh//F6oQe5Ust3aN8o1coZ6zQq3Pu13vzVqlHhvOyrdkId1sr3I5HW4trSo5juv5T9brPXPeFqzRfeusOsqU1rN2i5siNQJVWyf049azql25lLulTtUiamyd8++3JKho2etU3bVmcmk756nbo8EfWtd082HtjjqiFWuitEU+ui6/O+Rycmzuz3pSr49f465vV7j1edfr/qXnhxy+IghTAAAAAABXSH41LZ9LkXsP6OWZf6vPzF365nQ+PdeziT5zdfMorfe6lFCl+GN6dtxyNZt7Unf1qqXe+dxbn1e6rHoWP6vDJ33VvlbisTMCNeypehpVwVdLlv2hRiPW6u4f92qdcll7vkJKBah5jlP6dtU26/P+rWdWR6tgtSr6/fFqF8ZIuZzSNbT84WDdfPqw/mPO27KjVh1V9ddjld2PCzYCiqh+vnidPJtHbarZnzZvKd1e0kz4qk11M5xrStJ4zlNlnd/YSI34Yq3Kjlil25bHqGKDG/Rdc/s4nByb9Vk39K2o23Ie1bDPrfrGbdaTvx6XCphRZK4cnwSLPQ0AAAAAAC5j69atqly5sj2HfyNapgAAAAAAADhAmAIAAAAAAOAAYQoAAAAAAIADhCkAAAAAAAAOMAAtAAAAAACAA7RMAQAAAAAAcIAwBQAAAAAAwAHCFAAAAAAAAAcIUwAAAAAAABwgTAEAAAAAAHCAMAUAAAAAAMABwhQAAAAAAAAHCFMAAAAAAAAcIEwBAAAAAABwgDAFAAAAAADAAcIUAAAAAAAABwhTAAAAAAAAHCBMAQAAAAAAcIAwBQAAAAAAwAHCFAAAAAAAAAcIUwAAAAAAABwgTAEAAAAAAHCAMAUAAAAAAMABwhQAAAAAAAAHfBIs9rSLmbnxf8v154Hj1pSPqwyZJUE1ShTUH88040wDAAAAAHCVuKhlCkFKVvJxnWtzzgEAAAAAwNXhojCFICWruQMVAAAAAABwdUhhzBSClKzHOQcAAAAA4GrBALQAAAAAAAAOEKYAAAAAAAA4QJgCAAAAAADgAGEKAAAAAACAA4QpAAAAAAAADhCmAAAAAAAAOECYAgAAAAAA4ABhCgAAAAAAgAOEKQAAAAAAAA4QpgAAAAAAADhAmAIAAAAAAODAVRemjBzYTnEDq9hzmaGQXuh5ixbfXtyeBwAAAAAAuCDLwpSqtappxZA2inmrneKs15k3WmvnU7X0Qml7hWwjr6qVyK96pfPZ8wAAAAAAABdkTZhSp5YWdLleFaP3679frVenKev1xNLD+is+QbF77XWyjf16cOQCFZqww563tGyoE5naGgYAAAAAAFwtsiRM6Va1sILORuqtcX/qvd8Pa+7fhzV+8SZ1+GCT3rbXyc6eLFtAue1pAAAAAADw75YlYUrOHD72VCpub6y4txprpD3r8dCDtyruv7X1kD3vlkOP3XeLDr7R1tVlKOblW/RtsyL2MiNI3/63nda2L6F3+7fQieGma1FbHRvSQC+Xy6N72zfSztfc2555o4UWtbp4270PBlnTZfTd87fp7Up+VnE51/pxb92qb+u41wQAAAAAAP8+WRKm/N/244rKHahnelVQm8J2YUaUvF4vBUbppS/WqvnHm/Tmjhxqc3stzayfx17BrebNN+iO6L3qM36Nmn+1R6F5A/TCQ7dofM04fTpzrRqM3ahhO6WmLW/QmBTHbtmte976SaMjrMmInfJ7fr71+ln3bnAvBQAAAAAA/z5ZM2bKryHq/vMR+ZWvpHmDWym0Tw0NrJQ0+HDk3DF98uUWjf/7iFbu3q83pv6prw7n0h0Nr1ewvYrh/88B9Zi6TdN2W+v9vkUv/3lKvrljNWfWb3rj9yPaEHFQb8w4oD9z5FejmvZGAAAAAAAAqciaMEUxWvjTWgWN2aD/bIiWSgZpdK9m2vHg9apqr+HI4aP67Kg97XJEKw6dkW/BvLrVLjEORR3Tb/a0Mf9EnPV3rPaFuOddjiYo3p5EalZoVM/Bmrbbnv0X2j1tsHqOWmHPZY2TIVP1Yp9e6tmzp3oPX6gktz0AAAAA4IrIojDFduiQ3puxVlVeX6mH1p1U4A1V9FHLdLRQOZegcHsyNees9a41cSGf6sleb2rRSbvAY/c0De41TAuO2fO4MuKitHrcU+rVc5QyHrvs1qxPlyj3ve9pypQp+mTIrUraSy5OUb9P0/An+1j766mevfrouXfma4fJDNPp5IJhGpw8MTu5QMMGT7OOJjsI0acDvXFuAQAAACD9sjZMOe+EvpyxS0tO+KpSqQC7LGVFcvraU4n4+amePflv41f9PnWpvkuzvwqxvkp7HNOCzxdKbXqobSG7CFnv2GZNeXmIZhy9TnntoowJV8ThAFWo6r6oftZ9n0TcVs2edVA3P/GuPp4yRVM+fk43Hv5ab0/aZK/gXOj2PfZUIqHblULplfHPNu2MtqcBAAAA4Aq5QmGKpbC/8lnfDU+dOWMXGD7yS/JP78VV77pkXyCNwAK6I9l6bUrl0ul/juv/7JJrVz416XKr/FdM09yD7pK4kO80d09tdetSxl1gObY5UYuF3oM0fNpmJW60klKXlbR0Yzm7fYaGD+rt6nbSq89zGrN0f6JQZ7cWvTNUA+xuKWb5J7+59xq3YpR6DfxUiXtYuVsZ9NUHv9k1HNusacMHqbenlcWYpdp/qVYWVn09k7eWSFYWF7Vanwx9zF1fz17q8+Sr+n6bvdA66v1Lx+g5TxeaQcM1bXPiM3RWYTOGa1Bvs21vPTb0E+30T3305IhFs7S70fN6s3uFtD1K2/V5n1SfXu59DBo+TecPIfQbvf7cdG1RlJaMHKiBAz/WWnvReX7V1fPlp9SyYkHlNPM5K6nbHVUUExZyyVYkJzd8rpef8ZwTs89ZdkuWo1r2wWBNXH9GUUtGWvuz9vnxWh1d9oEGT1yvM1FLNNKUnT+Oy5w/cy1GzdXmaRfOoWtfUYmusbkvZ+1IdP+YrmSjtHTHrPP3WO/Hhp6/h8w5eemN2YqwzspU17G8ph/M4NCmNdAnQ/WYaz/mvntSr1640AAAAADgdVkSprzao7G+vbui+lYtqjvMq2Flze5dUS1zHNPXv/7jXmnHcYWdy697rfXuDsqjqmVK6qVe1XRvoYu76py21uv3QDX1LZNfwUHFXet1LXRaP/623V7Du3afiJWKBmp0NbO/IqrjjScSZUSZLnqg3mHN/W6D9UX0oOZOW6mCHbqqnid3OjhLo0ZvVMlHRmq8abHw0RMqs/E9vTE18RfX9DisZfNP6e4Rn7i6nXz83A3a83+faen5LkfXqUKnxzTqo0/dywdVVMi4CVph7dSvUQvVPrtBqxOnKSGrteFsTd1cyxz4Qc0aNVobyzyhj8wxjx+pdjFfasQXW93rOnZSSz8er7Aaz+kTU9+U8Xp/aD81K+teGrdhvF6bflZ3jBzvOtaPniit9e99eL771MkVY/TOT7l09zuTrOWTNObxQC2dt8O98BKC7nlBL3cqrxTivxTYn7fkIxo53hzfR3qizEa998ZUd7hRpYtefrubqilALYeM1dixj6mBe8NURUYdkwoHWFciZfmCGum+58dokjknk95Ru4TvNe4bE70UVvMnRsn6sVJAyyHW/qx9PtZAhZs/oVHuQg0xZfZxXO78uWz+Vp/Hd9WoSda+JjylGoe+07D/TFP83SNc12TC0Lo68t1nmmv/CnAL0ecTj9v32CS90+06bRw3SrNMcGidkzeeaWmdkWp60HUsr+jOIOtaLf1Y48Nq6LlPzHmcovHvD1U/z4UGAAAAgEyQJWHK4ZgcqlujnN7vWVezzKtjGdU4e0gvTv1dL+61Vwr9U32XHNG5MhX09cDm+rNPdT14LkKdVl3cpn/Hxj/13vEADe/TRDsH1tKQoFjNXrBJ3TLpkcXjFm3Xt0fyqN9D1v7619SgCw1ArhA/1eneWaV/+1LTZ3ytH4/fovvvKG4vs76OzvlJEdU66aFaAe4v9jkr6cGHm+j08vn6w7VGevmqeifrC35ed1yQs1JT1Sq8S1tDXbOWfCpXpazsxcpZs7qC4w8o3LQe8Kulm2ue1YZEaUrI6g06W+sWdwi0e4mWH7lFDz9Yyd3Kwi9ALdvUUsy6Fclas6Rd/Ll46694nXPN+SlvyZIKcB1bnFYv+U2lO/dXC3eB9Vnaq1lQqFavMGnASa1YulkFm3e5sDz4XnWqa38wbwiZo58iqqnTQ7XsY8qpSg8+rCanl2t+ei/SyV817acoNbyjlXUlLqF4Jd1Q1HWGXef4hgoBOhyRlhGIErvc+bP53qjOnuuZs6aa3FRA8ZVvU7dqeV33Zc5KLVS36B5t/duscEG1Ozz3mJ8CWvRX5/J7tGKZuYkuIf6c4s0f94WWX96SKmkfFwAAAABkhiwJUz78doXKvb5QeZ6fLz/zenGhyn2wSSPCYuw13H5ZvFblXllgr7NYVSaHaeGcVfJ7c+P57jtDxs7Xjd8f0KipK1X0RVPfAuV/Y6XuXX7EXsOI0L1vzlfpqcm+gM2z6np+lYbYs26hamDtr8E8ezalbffuUrfRi93H/+JyPZz+ISm8p1Bb9WgjLfxhsyp3uU/VE313jIqKVkBQsDtI8aheWWXP7FBohkYRDVBQcOJafeWb44xOnbJn46L0+4x3NNTVBcO8pmqLvch8Ma53Sy2d3bDaDkc2aOlqqVGLOq45k7gcjl6mka7uJ/br/TU6Ex2lKPcaDuVTq94PqMT6Eeo/6GV9MvcvHT5rL7KucfiBeIV9OeDCvno+q+/2SEejTDOJfxR1VCoRnDQ1CyxS0J7ygqgoRQcEKcnpVHVVLntGO9JzkeJ26Ovhn2pf8+fUt86lg4Sz4Uv0ycvP2NdnoEYuSc/Zvdz5swUUVyl70siXJ7cKFC2W9L68SPJ7LJ8qlQ3UP/suPWpLvla99UCJ9RrRf5Be/mSu/rpwoQEAAAAgU1y5MVOQYWUa11VRVVajJpdsh5CF4rRh/H81ZnVJ9f6f6YJhXg+qmr3UpU4LNZLd1WfDav2ep76aVHcvcinaTq+b7idJXoPVxF7slF/Jtho85iON6NdIWjlOQwa9qjmJcoqafZLva4pG3X/Fmx05F7dDs4a9q1Wl++mF+1PpZnRwlt545WtFt3xRo13XZ6yGtEx9AOjUpOf85c7j/F49ffas/HLmsudS4FdSbQeP0Ucj+ln310qNGzJIrya+0AAAAADgZYQp16DgoKKKighPOj5KyFbtylVeVVL5rnsy5rQ9lR4RCt0Ro+qdHlQluxeJ/olKMuitaXnRpL6vq6vPhtW/K0+dm1XZXqJiRVU4aqfCEo+54dDJkykdf04VveEO9Rv+vgbcsE8/rzJfsq9T0QBfhW+/1Hgs1ymgsBR1yB7h15ax85NMcJCKRkUoPOlF0tZduVQ+tYuUnB2krLj+Mb02oJ5SfZhT2FbtCWiuLi3s7l+WyCPH7SknLnf+MuKw9uxMfFL+0bad0Spe+np7/tJyFr1Bd/QbrvcH3KB9P6/KJo9yBgAAAHAtIky5BpVp2UxBId/r09+j3IHK2TBNnbxCuZu1042uNayvw0UD5Lt1pZZEub+4ng2bqqkrPf110sMdQISHbJark8XZw1oydZH2JXuydeWb68j3z681K6SgGrU4H6VYC9qpVdA2ffv+XIXbvTTiTu3XX2FJA43zTPhyeL2WhrlXjotaqo9m7dCF3Z3UztBtOu7p8XF2p/7aHaf8BU3LiHxq0a6eziybeOEcWUd9fFuodrrCnHxq0qiKDvz0uZZ6zk/4bH2/NiPnJ5kyLdUsKETff/q73Ls4q7Cpk7UidzO181yky0kUpLzQq2bqQYoREKACUdv1l2uHcTq1ZapmbIx3L7PlzZtLx/fsTBqC5c2rXMf3aOf5wsudv4wJnTtdW065jzFq6WTNjaikJs3tIXXz5VMeHdAu9yOIXE7uDNW2CxdaO//arbj8Ba2jBAAAAIDMQZhyLSreSS89f6uOfTlEfc14Fv0/0O7aT+ulBy90AcnX+nENqBupaYPNI2h7a/DXvrq/642Jwgin8qnVA/eo2J+j1cfaZ6/H31FYk6dcT1tJonILNcqxUzsLNlbLJA0wiqvTS8+ro/9Svf6YexyOfs+8o6/+OGovT6Zydz15TxGtH9HHWreX+o/4Q/UeaZPoKTYxOrBoop7rb4/p0f9dbanUV4Pautfwq9NXb/atrl2f/sd+FPPjGjpxkQ7Yw/iY8/N08zOa8R/7/PzfCXXsnJHzk5z789567EsN6WuOsb8+2F1bT7/0oMqnPqjIBatn6LudJ3Rw2SgNMp/h/GuwpqXULKP6PXq44XHNdF3zfho6o6B69aurxB1o6tzTVZUjPnfV13uM/TDmOveoa+UIfT7Iqrv3GNejkS93/tKvqBq18NWMof2sY+yt/8w4o+ZPP6G2nqToula6v01uLRtmfYZe/9V3EdaVPrBIE5/rb3/2/np3SyX1HdQ20b0AAAAAAN7lk2Cxp118nptjTyErJbzd3p4C/q1WaFTP7xX0+ihdjUPXAAAAAPj3oGUKAAAAAACAA4QpAAAAAAAADtDNJ5ugmw8AAAAAAFcHWqYAAAAAAAA4QJgCAAAAAADgAGEKAAAAAACAA4QpAAAAAAAADqQQpiQZjxZZgnMOAAAAAMDV4qIwpUaJgtbffLnPOgn2OQcAAAAAAFeDi8KUP55pRqCSZdxBijnnAAAAAADg6uCTYLGnAQAAAAAAcBkMQAsAAAAAAOAAYQoAAAAAAIADhCkAAAAAAAAOEKYAAAAAAAA4QJgCAAAAAADgAGEKAAAAAACAA4QpAAAAAAAADhCmAAAAAAAAOECYAgAAAAAA4ABhCgAAAAAAgAOEKQAAAAAAAA4QpgAAAAAAADhAmAIAAAAAAOAAYQoAAAAAAIADhCkAAAAAAAAOEKYAAAAAAAA4QJgCAAAAAADgAGEKAAAAAACAA4QpAAAAAAAADhCmAAAAAAAAOECYAgAAAAAA4ABhCgAAAAAAgAOEKQAAAAAAAA4QpgAAAAAAADhAmAIAAAAAAOAAYQoAAAAAAIADhCkAAAAAAAAOEKYAAAAAAAA4QJgCAAAAAADggE+CxZ528Xndx54CAAAAAAC4OiW8nCTu8CpapgAAAAAAADhAmAIAAAAAAODARd18AAAAAAAAcGm0TAEAAAAAAHCAMAUAAAAAAMABwhQAAAAAAAAHCFMAAAAAAAAcIEwBAAAAAABwgDAFAAAAAADAAcIUAAAAAAAABwhTAAAAAAAAHCBMAQAAAAAAcIAwBQAAAAAAwAHCFAAAAAAAAAcIUwAAAAAAABwgTEHWC5mq/g+/o9Wx9jwAAAAAAFeRqztMiT2gpe8/otvq1lDlChVUoUJl1ajbVJ0Gz9Qee5VrQ6w2j2itql2nKNIucYkJ1bR+ja3P3kIjQuyyFC3WkzUr64EvjtnzljRvmwl2r9LPq1Zq82F7PgMiv+6pmrWe1GKCGQAAAABAFsmSMOXQ30PU4pOHNTPaLvCGyAV6snkz9f2/g7qx/3jNWb5cy5fP0fj/tFeg/1kVslfL1vaNU8cWI3TZLGP3BP330zg9/GpPBdpFkb+M0L1N7tSoXXlV0C67lNgFM7XkTFN16eo+K062zRS3j9PfW79Xn1L2fFqlcL4Cu76u/sHz9MKw9XYJAAAAAACZK9PDlEN/91Ozb9/WsoNT1GVidy8FKsc087nB+vFUU438aa5GPdpYlYKCFBRUSY27DdVnb913VYQpxxYuvXyQYln8v48UWq+P+le3C7RbX707V4GDf9CK91orv12aslgtmb1Muq2rOvibeSfbZi8pn68y6tOrqaJmfKYFtE4BAAAAAGSBTA1T3EHKeIWec8/HR3+lj0JOuGcyYvdkfbL0jBr+53/q7GmqcSmmO8uA23RTVdMNqIKq3nSbBny9Q0m+d8/srQotRmjzgTka3NLdZajeC2usBSEa0aKCes+M0Yb3u6mhq46ummL3lok9sFQjujVUVdPFqHINNe42Qr8k6YfjXuf9RxLvv6membtN0x9tqIavr5fCJ6ijq4uS2Y+9URKLNWvJKdVq2yFRQFRGA75frk/ur6I8dsklxS6RyVKad2wpV5biZNvz7PPw9QHNGez5LJVVo+UjmrAhxl7HltbzXaG3zn9c+/xv2DBBj9jn35zPlgO+1g7XhvtSPV/+HTqo6Zmf9PWPpCkAAAAAgMyXsTAlfq/mrZ6g1Sm0NkkepEi+CqwwWVMbZrwtxLGlKxWmm3WX3W3l0kI0qmNHvbK1vkbNXqV161Zp9qj62vpiO909bre9ju3ESv333uGKfsDdZWjOkDr2Auur/Kdd1efnKvrvNNOV6GO5dhu7WIPb9db0HH303ca/9fdvX6lXjunqfd+oC60njv2ogdY6nx1pae3fbLtc094dpPtqVVS3iWs0o0+wFNxHs7dv13brNamzvV1im3/VhlPl1OCW9LW1if3xa/2k5urY0h2lZMT6N+/UmHz/0bfL1mndqq/0VImNGtGtp6acD5AcnO/k9k3WA31+1i3vLtDqjRu16qunVGLV83rA1X2nVOrny7+lmtWK19qly+0CAAAAAAAyT/rDlPi9+vTLGrrjp766eVwHTU0UqFwqSAnp/qCK2SUZEbH/kPX9upKqXSYfiF0wTlN21tBzXw1Xm0rFFRBQXJXaDNekx8sr5KP/abG9nsuRUOXpM1uf2F2Gihe8UPnWwzdq3Dev6c7apitRgKtFx74Jo/Vj/O0aOeVR3WCt61/wBj361iMqv3OKPrEr3j15rBaZdb4Zau3fbBuk2q27qKGDsUJit4Rpn28FVa1oFzhyTF9/84tyteysthnPUhRd4gGNf62NKhUPUEDx2np0ykjdnmu9Ppvgjo8cne/k4v3V+s0petQ6xwEFC6p47Uf1/L2ldHjlz9pmr3JphVTnxlI6tSNU++wSAAAAAAAyS7rDlOg1PdR7p93f5cwc9bADlcwOUpz4e90mnQpuoMbJugKVadNCwac2aV2SAThqqf1dKfcZKtKqkxomCyPWrLc2btAqaUhRppHqFjmlvzaar/+xWrMh7OJ1HArbsVsqVU7l7XlHjv2oOb8VVKcHWtkFGVOqSUuVsadd/NuqVQMpPCzUNevsfCdXR82StZ7x9fOV4uJ01p5PTZ7cuayb8riO2vMAAAAAAGSWdIcpBRq+o+eKWF92PVyBynWqnixIKV31G68HKUElrdr2hWnLZYbI2LZzn1Shis6P25qqAip4iZ40+QsUsKc8QhS63XpbOtg1dseF1wOafsR8/zdf/8NkcpDgSlVcW1wJx77/QWsC2uvuhnZBBrnCjVQ4O9/J+ck/A6FTxQpJYh4AAAAAADJN+rv5+NbTyAGrkwUqkYpMFqSs79rZ6y1SCtWvo2Bt0PIlqacpFcuVkraHXhjDxGsqqbz13T1vh/GusTuSv5YONXGCex1Pq42st09ffLteRdt2Ul27JKNORCcfHCdWsXH2pCXzzvflbdt+mTFZAAAAAADwkowNQJtSoOKSeUGKS/X71bX6Gc17a6Q2p5Kn1Ly5jvKGL9XCZN+zdy9cqvC8N6l++ppQWPzVsE4lnVqzRGsuuX9/1agWLK1dnKFH9rpa4UTu1357Ps12f6NZIcG66z5vRSnSkfWrleRUxi7R8g3W5ajrbvqSeef78mJOn5H8/JTTngcAAAAAILNkLEwxLgpUMjlIcSmjPm8+pZpHP9M9je7VK9NXKSwiQhHWa+OiSRox9Tf3aq2eUf/qO/Rh7xe0MCxKMTFRClv4gnp/uEPV+z+jjIwkUubhgWp9err6dRlh1e3ed0TERi0aM06z7VFQq/d5Ui1852lIzzFaZa8TtmqiZtqHFxRcSr77FmnGmuOKtY4tKtlTho1CVSupyKkdCnU4suru7+cprFJn3e/FACNvxGfq/cJChVkHGhO1URN7DtE839bq190eUTcTz7dx6fN1TBv+2Ke8N9RWusbpBQAAAADAgYyHKYYdqLxQvJiqV8/sIMXNv+YAfTN/up5reFw/DntY7Zo1U7Nmt6rHkMladdheSWU0YMZ8Dau8ToM71leNGvXVcfA6VR42XzMGZHCMjUId9MniyXqkyBKrbrNv69XqYb226LDy5rPXCeysj+ePUacT09W3vXudjv2/1hZ7caHuIzSy9TlN71FbVW9qpleX2gsSa9hSt+QN0dKF9mC/abJb388LU6Xb70o6YGwGBd43XH2PvKN7G9dQjfr3afSBxnprxlh1OD/WTCaeb8slz1fsaq3b4quaDerZBQAAAAAAZB6fBIs9jWwpVgsG1tETUUO17svuusQYuZksRCNadNT8drPt8WCyl9gFA1XniSgNXfelul+ZEwQAAAAA+BfxTssUZCJ/tf3Poyq/ZoI+uhIju2Z7uzVh7E/K1+VJdSVIAQAAAABkAcKUq0GZAXqnj58mvzpFkXYR3CK/flkfhd+u4a82VAaerAwAAAAAQJrRzQdpkL27+QAAAAAAkJUIUwAAAAAAABygmw8AAAAAAIADhCkAAAAAAAAOEKYAAAAAAAA4QJgCAAAAAADgAGEKAAAAAACAA4QpAAAAAAAADhCmAAAAAAAAOECYAgAAAAAA4ABhCgAAAAAAQJpJ/w8GltI0iY2KWQAAAABJRU5ErkJggg==)"
      ],
      "metadata": {
        "id": "c-3z8gxFAJ7q"
      }
    },
    {
      "cell_type": "markdown",
      "source": [
        "![Modulo 3 - Pregunta 5.png](data:image/png;base64,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)"
      ],
      "metadata": {
        "id": "Q0WnQunJALwg"
      }
    }
  ],
  "metadata": {
    "kernelspec": {
      "display_name": "Python 3.10.8 64-bit (microsoft store)",
      "language": "python",
      "name": "python3"
    },
    "language_info": {
      "codemirror_mode": {
        "name": "ipython",
        "version": 3
      },
      "file_extension": ".py",
      "mimetype": "text/x-python",
      "name": "python",
      "nbconvert_exporter": "python",
      "pygments_lexer": "ipython3",
      "version": "3.10.8"
    },
    "orig_nbformat": 4,
    "vscode": {
      "interpreter": {
        "hash": "fc52375c3051f8bbc0a735b7da33f92cf3a9b2e994f8cd2368999e1c94828124"
      }
    },
    "colab": {
      "provenance": []
    }
  },
  "nbformat": 4,
  "nbformat_minor": 0
}